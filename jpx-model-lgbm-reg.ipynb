{
 "cells": [
  {
   "cell_type": "markdown",
   "id": "07ff5f7e",
   "metadata": {
    "papermill": {
     "duration": 0.033655,
     "end_time": "2022-06-25T17:14:07.215321",
     "exception": false,
     "start_time": "2022-06-25T17:14:07.181666",
     "status": "completed"
    },
    "tags": []
   },
   "source": [
    "# Version description\n",
    "- Features & HP from ver 6\n",
    "- Multiple seeds\n",
    "- Cluster demean\n",
    "- Volatility penalty"
   ]
  },
  {
   "cell_type": "code",
   "execution_count": 1,
   "id": "acfeb17c",
   "metadata": {
    "_cell_guid": "951f04b1-5acc-4336-aa05-ec2ddaf21e51",
    "_kg_hide-input": true,
    "_uuid": "16d6d48d-59d7-47d9-afff-641e8323e11e",
    "collapsed": false,
    "execution": {
     "iopub.execute_input": "2022-06-25T17:14:07.299995Z",
     "iopub.status.busy": "2022-06-25T17:14:07.299309Z",
     "iopub.status.idle": "2022-06-25T17:14:24.138206Z",
     "shell.execute_reply": "2022-06-25T17:14:24.137461Z",
     "shell.execute_reply.started": "2022-06-25T16:42:22.490648Z"
    },
    "jupyter": {
     "outputs_hidden": false
    },
    "papermill": {
     "duration": 16.889776,
     "end_time": "2022-06-25T17:14:24.138408",
     "exception": false,
     "start_time": "2022-06-25T17:14:07.248632",
     "status": "completed"
    },
    "tags": []
   },
   "outputs": [
    {
     "data": {
      "text/html": [
       "<style type='text/css'>\n",
       ".datatable table.frame { margin-bottom: 0; }\n",
       ".datatable table.frame thead { border-bottom: none; }\n",
       ".datatable table.frame tr.coltypes td {  color: #FFFFFF;  line-height: 6px;  padding: 0 0.5em;}\n",
       ".datatable .bool    { background: #DDDD99; }\n",
       ".datatable .object  { background: #565656; }\n",
       ".datatable .int     { background: #5D9E5D; }\n",
       ".datatable .float   { background: #4040CC; }\n",
       ".datatable .str     { background: #CC4040; }\n",
       ".datatable .time    { background: #40CC40; }\n",
       ".datatable .row_index {  background: var(--jp-border-color3);  border-right: 1px solid var(--jp-border-color0);  color: var(--jp-ui-font-color3);  font-size: 9px;}\n",
       ".datatable .frame tbody td { text-align: left; }\n",
       ".datatable .frame tr.coltypes .row_index {  background: var(--jp-border-color0);}\n",
       ".datatable th:nth-child(2) { padding-left: 12px; }\n",
       ".datatable .hellipsis {  color: var(--jp-cell-editor-border-color);}\n",
       ".datatable .vellipsis {  background: var(--jp-layout-color0);  color: var(--jp-cell-editor-border-color);}\n",
       ".datatable .na {  color: var(--jp-cell-editor-border-color);  font-size: 80%;}\n",
       ".datatable .sp {  opacity: 0.25;}\n",
       ".datatable .footer { font-size: 9px; }\n",
       ".datatable .frame_dimensions {  background: var(--jp-border-color3);  border-top: 1px solid var(--jp-border-color0);  color: var(--jp-ui-font-color3);  display: inline-block;  opacity: 0.6;  padding: 1px 10px 1px 5px;}\n",
       "</style>\n"
      ],
      "text/plain": [
       "<IPython.core.display.HTML object>"
      ]
     },
     "metadata": {},
     "output_type": "display_data"
    },
    {
     "name": "stdout",
     "output_type": "stream",
     "text": [
      "Collecting cvxpy\r\n",
      "  Downloading cvxpy-1.2.1-cp37-cp37m-manylinux_2_24_x86_64.whl (2.8 MB)\r\n",
      "     |████████████████████████████████| 2.8 MB 887 kB/s            \r\n",
      "\u001b[?25hRequirement already satisfied: ecos>=2 in /opt/conda/lib/python3.7/site-packages (from cvxpy) (2.0.10)\r\n",
      "Collecting osqp>=0.4.1\r\n",
      "  Downloading osqp-0.6.2.post5-cp37-cp37m-manylinux_2_5_x86_64.manylinux1_x86_64.manylinux_2_17_x86_64.manylinux2014_x86_64.whl (295 kB)\r\n",
      "     |████████████████████████████████| 295 kB 63.1 MB/s            \r\n",
      "\u001b[?25hCollecting scs>=1.1.6\r\n",
      "  Downloading scs-3.2.0-cp37-cp37m-manylinux_2_17_x86_64.manylinux2014_x86_64.whl (10.7 MB)\r\n",
      "     |████████████████████████████████| 10.7 MB 58.4 MB/s            \r\n",
      "\u001b[?25hRequirement already satisfied: numpy>=1.15 in /opt/conda/lib/python3.7/site-packages (from cvxpy) (1.20.3)\r\n",
      "Requirement already satisfied: scipy>=1.1.0 in /opt/conda/lib/python3.7/site-packages (from cvxpy) (1.7.3)\r\n",
      "Collecting qdldl\r\n",
      "  Downloading qdldl-0.1.5.post2-cp37-cp37m-manylinux_2_17_x86_64.manylinux2014_x86_64.whl (1.1 MB)\r\n",
      "     |████████████████████████████████| 1.1 MB 43.8 MB/s            \r\n",
      "\u001b[?25hInstalling collected packages: qdldl, scs, osqp, cvxpy\r\n",
      "Successfully installed cvxpy-1.2.1 osqp-0.6.2.post5 qdldl-0.1.5.post2 scs-3.2.0\r\n",
      "\u001b[33mWARNING: Running pip as the 'root' user can result in broken permissions and conflicting behaviour with the system package manager. It is recommended to use a virtual environment instead: https://pip.pypa.io/warnings/venv\u001b[0m\r\n"
     ]
    }
   ],
   "source": [
    "# import libraries\n",
    "import warnings\n",
    "warnings.filterwarnings(\"ignore\")\n",
    "warnings.simplefilter(action='ignore', category=FutureWarning)\n",
    "import os\n",
    "from os.path import isfile, isdir, join\n",
    "import numpy as np\n",
    "import pandas as pd\n",
    "from datetime import datetime, date\n",
    "from dateutil.relativedelta import relativedelta\n",
    "import re\n",
    "from IPython.display import display\n",
    "from zipfile import ZipFile\n",
    "import pickle\n",
    "import unicodedata\n",
    "import pytz\n",
    "from joblib import Parallel, delayed\n",
    "import shutil\n",
    "import difflib\n",
    "import random\n",
    "import math\n",
    "from shutil import copyfile\n",
    "import itertools\n",
    "import time\n",
    "from tqdm import tqdm\n",
    "import collections\n",
    "from collections import deque\n",
    "import gc\n",
    "import seaborn as sns\n",
    "import scipy.cluster.hierarchy as spc\n",
    "\n",
    "from sklearn.decomposition import PCA\n",
    "from sklearn.linear_model import LinearRegression\n",
    "from sklearn.preprocessing import StandardScaler, MinMaxScaler, QuantileTransformer\n",
    "from sklearn.metrics import ndcg_score, accuracy_score, mean_squared_error\n",
    "\n",
    "import lightgbm as lgbm\n",
    "import optuna\n",
    "from optuna import Trial, visualization\n",
    "\n",
    "import matplotlib as mpl\n",
    "from matplotlib import pyplot as plt\n",
    "\n",
    "import jpx_tokyo_market_prediction\n",
    "\n",
    "from utility_script import *\n",
    "# from utility_script_jpx import *\n",
    "\n",
    "!pip install cvxpy\n",
    "import cvxpy as cp\n",
    "\n",
    "pd.set_option('display.max_columns', None)\n",
    "pd.set_option('display.max_colwidth', None)"
   ]
  },
  {
   "cell_type": "code",
   "execution_count": 2,
   "id": "c347e322",
   "metadata": {
    "_cell_guid": "5f898435-79c2-4539-88cd-a0bb87b68f60",
    "_uuid": "52554abd-62a0-45ab-baf2-b8249732bbea",
    "collapsed": false,
    "execution": {
     "iopub.execute_input": "2022-06-25T17:14:24.244655Z",
     "iopub.status.busy": "2022-06-25T17:14:24.243913Z",
     "iopub.status.idle": "2022-06-25T17:14:24.248505Z",
     "shell.execute_reply": "2022-06-25T17:14:24.247854Z",
     "shell.execute_reply.started": "2022-06-25T16:42:41.633439Z"
    },
    "jupyter": {
     "outputs_hidden": false
    },
    "papermill": {
     "duration": 0.06468,
     "end_time": "2022-06-25T17:14:24.248653",
     "exception": false,
     "start_time": "2022-06-25T17:14:24.183973",
     "status": "completed"
    },
    "tags": []
   },
   "outputs": [],
   "source": [
    "'''\n",
    "Notebook Parameters\n",
    "'''\n",
    "# basic\n",
    "SEED = 0\n",
    "SEEDS = [1,2,3,4,5]\n",
    "JPX_PATH = '../input/jpx-tokyo-stock-exchange-prediction'\n",
    "\n",
    "# data sacling\n",
    "SCALER = StandardScaler()\n",
    "SCALE_DAILY = False\n",
    "\n",
    "# drop market features\n",
    "DROP_MARKET_FEATS = True\n",
    "\n",
    "# PCA\n",
    "RUN_PCA = False\n",
    "PCA_SPLIT = True\n",
    "N_COMP = 0.9\n",
    "\n",
    "# target definition\n",
    "RANK_ASCENDING = False # set this to False if model prediction is same direction of Target\n",
    "TARGET_POW = 0\n",
    "\n",
    "# data split\n",
    "N_FOLD = 5\n",
    "TRN_SIZE = 240\n",
    "VAL_SIZE = 60\n",
    "TRN_VAL_GAP = 14\n",
    "SPLIT_METHOD = 'trn_val_split_late_val'\n",
    "\n",
    "# model fixed params\n",
    "DEVICE_TYPE = 'CPU'\n",
    "EVAL_METRIC = f'rmse'\n",
    "LGBM_VAR_PARAMS = dict(\n",
    "    max_depth = 32,\n",
    "    num_leaves = 32,\n",
    "    learning_rate = 0.01,\n",
    "    min_child_weight = 0.1,\n",
    "    min_child_samples = 1,\n",
    "    subsample = 0.65,\n",
    "    subsample_freq = 1,\n",
    "    colsample_bytree = 0.6,\n",
    "    reg_alpha = 1.5,\n",
    "    reg_lambda = 1.5,\n",
    "    max_bin = 255,\n",
    ")\n",
    "LGBM_FIXED_PARAMS = dict(\n",
    "    boosting_type = 'gbdt',\n",
    "    objective = 'rmse',\n",
    "    n_estimators = 5000,\n",
    "    n_jobs = -1,\n",
    "    random_state = SEED,\n",
    "    device_type = DEVICE_TYPE,\n",
    ")\n",
    "\n",
    "# feature importance\n",
    "RUN_IMP = False\n",
    "N_SHUFFLE = 12\n",
    "N_FEATS_IMP_TEST = 10\n",
    "N_ESTIMATORS_IMP = 50\n",
    "EARLY_STOPPING_ROUNDS_IMP = 9999\n",
    "FEAT_GROUPS = None # fixed output if not running IMP\n",
    "\n",
    "# forward selection\n",
    "RUN_FS = False\n",
    "FS_SPLIT = {'n_stock_feats': 20, 'n_market_feats': 10}\n",
    "SELECTED_STOCK_FEATS = None\n",
    "N_ESTIMATORS_FS = 5000\n",
    "EARLY_STOPPING_ROUNDS_FS = 20\n",
    "N_FEATS_FS = 20 # top N features considered for FS based on importance\n",
    "N_FEATS_FINAL = None # top N features if skipping FS based on importance\n",
    "SELECTED_FEATS = 'days_since_last_div, price_standard_dist_6m, EarningToPriceRatio_raw, volume_standard_dist_3m, dollar_standard_dist_1w, price_standard_dist_3m, volume_ma_pctg_ch_3d, dollar_standard_dist_1m, price_standard_dist_12m'.split(', ') # fixed features if skipping both IMP and FS\n",
    "\n",
    "# hyperparameters tuning\n",
    "RUN_HP = False\n",
    "N_ESTIMATORS_HP = 5000\n",
    "EARLY_STOPPING_ROUNDS_HP = 30\n",
    "HP_OPT_HRS = 4\n",
    "BEST_PARAMS = {'max_depth': 4, 'num_leaves': 60, 'learning_rate': 0.10836981641152349, 'min_child_weight': 0.026495586939931506, 'subsample': 0.9993944531687461, 'subsample_freq': 1, 'colsample_bytree': 0.9499913085428526, 'reg_alpha': 15.72405866194218, 'reg_lambda': 0.6905339527116803, 'max_bin': 129}\n",
    "\n",
    "# re-fit\n",
    "N_ESTIMATORS_REFIT = 5000\n",
    "EARLY_STOPPING_ROUNDS_REFIT = 30\n",
    "\n",
    "# optimization\n",
    "CLUSTER_DEMEAN = True\n",
    "CLUST_N_DAY = 60\n",
    "VOL_PENALTY = True\n",
    "VOL_N_DAY = 60\n",
    "VOL_POW = 1"
   ]
  },
  {
   "cell_type": "markdown",
   "id": "3f3f0bb3",
   "metadata": {
    "papermill": {
     "duration": 0.044776,
     "end_time": "2022-06-25T17:14:24.337724",
     "exception": false,
     "start_time": "2022-06-25T17:14:24.292948",
     "status": "completed"
    },
    "tags": []
   },
   "source": [
    "# Data preprocessing"
   ]
  },
  {
   "cell_type": "code",
   "execution_count": 3,
   "id": "f8c0e28d",
   "metadata": {
    "execution": {
     "iopub.execute_input": "2022-06-25T17:14:24.447842Z",
     "iopub.status.busy": "2022-06-25T17:14:24.446717Z",
     "iopub.status.idle": "2022-06-25T17:14:24.449645Z",
     "shell.execute_reply": "2022-06-25T17:14:24.449015Z",
     "shell.execute_reply.started": "2022-06-25T16:42:41.653416Z"
    },
    "papermill": {
     "duration": 0.066674,
     "end_time": "2022-06-25T17:14:24.449786",
     "exception": false,
     "start_time": "2022-06-25T17:14:24.383112",
     "status": "completed"
    },
    "tags": []
   },
   "outputs": [],
   "source": [
    "'''\n",
    "Train-Val split where validation periods are right after train period\n",
    "'''\n",
    "def trn_val_split_even_val(features, val_to_end):\n",
    "    # define start date of each fold\n",
    "    fold_dates = features.Date.drop_duplicates().reset_index(drop=True)\n",
    "    fold_dates = fold_dates.shift(TRN_SIZE + TRN_VAL_GAP + VAL_SIZE).loc[lambda x: x.notnull()].reset_index(drop=True)\n",
    "    fold_dates = fold_dates.loc[np.linspace(0, fold_dates.shape[0]-1, N_FOLD).astype(int)].reset_index(drop=True)\n",
    "\n",
    "    # create and append train + val data\n",
    "    full_dates = features.Date.drop_duplicates().reset_index(drop=True)\n",
    "    full_data = []\n",
    "    for i, date in enumerate(fold_dates):\n",
    "        dates_trn = full_dates.loc[lambda x: x>=date].head(TRN_SIZE)\n",
    "        if val_to_end==False:\n",
    "            dates_val = full_dates.loc[lambda x: x>=date].shift(-TRN_SIZE).shift(-TRN_VAL_GAP).head(VAL_SIZE)\n",
    "        else:\n",
    "            dates_val = full_dates.loc[lambda x: x>=date].shift(-TRN_SIZE).shift(-TRN_VAL_GAP).loc[lambda x: x.notnull()]\n",
    "        full_data.append(features.loc[lambda x: x.Date.isin(dates_trn)].assign(fold=i, trn_val='trn'))\n",
    "        full_data.append(features.loc[lambda x: x.Date.isin(dates_val)].assign(fold=i, trn_val='val'))\n",
    "    full_data = pd.concat(full_data).reset_index(drop=True)\n",
    "    return full_data\n",
    "\n",
    "\n",
    "'''\n",
    "Train-Val split where validation periods are farthest in future\n",
    "'''\n",
    "def trn_val_split_late_val(features, val_to_end):\n",
    "    # define start date of each fold\n",
    "    fold_dates = features.Date.drop_duplicates().reset_index(drop=True)\n",
    "    fold_dates = fold_dates.shift(TRN_SIZE + TRN_VAL_GAP + VAL_SIZE).loc[lambda x: x.notnull()].reset_index(drop=True)\n",
    "    fold_dates = fold_dates.loc[np.linspace(0, fold_dates.shape[0]-1, N_FOLD).astype(int)].reset_index(drop=True)\n",
    "\n",
    "    # create and append train + val data\n",
    "    full_dates = features.Date.drop_duplicates().reset_index(drop=True)\n",
    "    val_dates_list = full_dates.tail(VAL_SIZE * N_FOLD).values.reshape(N_FOLD, -1)\n",
    "    full_data = []\n",
    "    for i, date in enumerate(fold_dates):\n",
    "        dates_trn = full_dates.loc[lambda x: x>=date].head(TRN_SIZE)\n",
    "        if val_to_end==False:\n",
    "            dates_val = val_dates_list[i]\n",
    "        else:\n",
    "            dates_val = np.concatenate(val_dates_list[i:])\n",
    "        full_data.append(features.loc[lambda x: x.Date.isin(dates_trn)].assign(fold=i, trn_val='trn'))\n",
    "        full_data.append(features.loc[lambda x: x.Date.isin(dates_val)].assign(fold=i, trn_val='val'))\n",
    "    full_data = pd.concat(full_data).reset_index(drop=True)\n",
    "    return full_data"
   ]
  },
  {
   "cell_type": "code",
   "execution_count": 4,
   "id": "95a93781",
   "metadata": {
    "execution": {
     "iopub.execute_input": "2022-06-25T17:14:24.556621Z",
     "iopub.status.busy": "2022-06-25T17:14:24.555707Z",
     "iopub.status.idle": "2022-06-25T17:14:24.558399Z",
     "shell.execute_reply": "2022-06-25T17:14:24.557497Z",
     "shell.execute_reply.started": "2022-06-25T16:42:41.672716Z"
    },
    "papermill": {
     "duration": 0.062716,
     "end_time": "2022-06-25T17:14:24.558583",
     "exception": false,
     "start_time": "2022-06-25T17:14:24.495867",
     "status": "completed"
    },
    "tags": []
   },
   "outputs": [],
   "source": [
    "'''\n",
    "Function to scale the features\n",
    "'''\n",
    "def jpx_data_scaling(full_data, scaler, daily):\n",
    "    feats = time_features + stock_features\n",
    "    \n",
    "    if daily==False:\n",
    "        data_scaled = []\n",
    "        for fold in range(N_FOLD):\n",
    "            # locate train and val datasets\n",
    "            data_trn = full_data.loc[lambda x: (x.fold==fold) & (x.trn_val=='trn')]\n",
    "            data_val = full_data.loc[lambda x: (x.fold==fold) & (x.trn_val=='val')]\n",
    "            # fit scaler\n",
    "            scaler = scaler.fit(data_trn[feats])\n",
    "            save_pkl(scaler, f'scaler{fold}')\n",
    "            # transform data\n",
    "            data_trn[feats] = scaler.transform(data_trn[feats]).astype(np.float32)\n",
    "            data_val[feats] = scaler.transform(data_val[feats]).astype(np.float32)\n",
    "            # store transformed data\n",
    "            data_scaled.append(data_trn)\n",
    "            data_scaled.append(data_val)\n",
    "        data_scaled = pd.concat(data_scaled).reset_index(drop=True)\n",
    "            \n",
    "    elif daily==True:\n",
    "        # scale stock features for each day\n",
    "        def transform_data(df, scaler, feats):\n",
    "            df[feats] = scaler.fit_transform(df[feats]).astype(np.float32)\n",
    "            return df\n",
    "        full_data = full_data.groupby(['fold','trn_val','Date']).apply(lambda df: transform_data(df, scaler, stock_features))\n",
    "        # then scale time features across days\n",
    "        data_scaled = []\n",
    "        for fold in range(N_FOLD):\n",
    "            # locate train and val datasets\n",
    "            data_trn = full_data.loc[lambda x: (x.fold==fold) & (x.trn_val=='trn')]\n",
    "            data_val = full_data.loc[lambda x: (x.fold==fold) & (x.trn_val=='val')]\n",
    "            # fit scaler\n",
    "            scaler = scaler.fit(data_trn[time_features])\n",
    "            save_pkl(scaler, f'scaler{fold}')\n",
    "            # transform data\n",
    "            data_trn[time_features] = scaler.transform(data_trn[time_features]).astype(np.float32)\n",
    "            data_val[time_features] = scaler.transform(data_val[time_features]).astype(np.float32)\n",
    "            # store transformed data\n",
    "            data_scaled.append(data_trn)\n",
    "            data_scaled.append(data_val)\n",
    "        data_scaled = pd.concat(data_scaled).reset_index(drop=True)\n",
    "        \n",
    "    return data_scaled"
   ]
  },
  {
   "cell_type": "code",
   "execution_count": 5,
   "id": "4556b467",
   "metadata": {
    "execution": {
     "iopub.execute_input": "2022-06-25T17:14:24.670786Z",
     "iopub.status.busy": "2022-06-25T17:14:24.670027Z",
     "iopub.status.idle": "2022-06-25T17:14:24.672267Z",
     "shell.execute_reply": "2022-06-25T17:14:24.671601Z",
     "shell.execute_reply.started": "2022-06-25T16:42:41.694273Z"
    },
    "papermill": {
     "duration": 0.068782,
     "end_time": "2022-06-25T17:14:24.672410",
     "exception": false,
     "start_time": "2022-06-25T17:14:24.603628",
     "status": "completed"
    },
    "tags": []
   },
   "outputs": [],
   "source": [
    "'''\n",
    "PCA Compression\n",
    "'''\n",
    "def pca_compress(full_data):\n",
    "    \n",
    "    if PCA_SPLIT==False:\n",
    "        # fit with one fold of traiing data\n",
    "        pca = PCA(n_components=N_COMP, random_state=SEED)\n",
    "        pca.fit(full_data.loc[lambda x: (x.fold==0) & (x.trn_val=='trn'), all_features])\n",
    "        save_pkl(pca, 'pca')\n",
    "        log(f'PCA shape of components: {pca.components_.shape}')\n",
    "        \n",
    "        # tranform the full dataset\n",
    "        cols = [f'pc{x}' for x in range(pca.components_.shape[0])]\n",
    "        compressed_data = []\n",
    "        for fold in range(N_FOLD):\n",
    "            for trn_val in ['trn','val']:\n",
    "                X = pd.DataFrame(pca.transform(full_data.loc[lambda x: (x.fold==fold) & (x.trn_val==trn_val), all_features]), columns=cols)\n",
    "                header = full_data.loc[lambda x: (x.fold==fold) & (x.trn_val==trn_val), [c for c in full_data.columns if c not in all_features]].reset_index(drop=True)\n",
    "                new_df = pd.concat([header, X], axis=1)\n",
    "                compressed_data.append(new_df)\n",
    "        compressed_data = pd.concat(compressed_data, axis=0).reset_index(drop=True)\n",
    "        col_def = {'all_features': cols,\n",
    "                   'stock_features': None,\n",
    "                   'time_features': None}\n",
    "        \n",
    "    elif PCA_SPLIT==True:\n",
    "        # fit with one fold of traiing data\n",
    "        stock_feats = [c for c in all_features if c not in time_features]\n",
    "        market_feats = [c for c in all_features if c in time_features]\n",
    "        pca_stock = PCA(n_components=N_COMP, random_state=SEED)\n",
    "        pca_market = PCA(n_components=N_COMP, random_state=SEED)\n",
    "        pca_stock.fit(full_data.loc[lambda x: (x.fold==0) & (x.trn_val=='trn'), stock_feats])\n",
    "        pca_market.fit(full_data.loc[lambda x: (x.fold==0) & (x.trn_val=='trn'), market_feats])\n",
    "        save_pkl(pca_stock, 'pca_stock')\n",
    "        save_pkl(pca_market, 'pca_market')\n",
    "        log(f'Stock PCA shape of components: {pca_stock.components_.shape}')\n",
    "        log(f'Market PCA shape of components: {pca_market.components_.shape}')\n",
    "    \n",
    "        # tranform the full dataset\n",
    "        cols_stock = [f'pc_stock{x}' for x in range(pca_stock.components_.shape[0])]\n",
    "        cols_market = [f'pc_market{x}' for x in range(pca_market.components_.shape[0])]\n",
    "        compressed_data = []\n",
    "        for fold in range(N_FOLD):\n",
    "            for trn_val in ['trn','val']:\n",
    "                X_stock = pd.DataFrame(pca_stock.transform(full_data.loc[lambda x: (x.fold==fold) & (x.trn_val==trn_val), stock_feats]), columns=cols_stock)\n",
    "                X_market = pd.DataFrame(pca_market.transform(full_data.loc[lambda x: (x.fold==fold) & (x.trn_val==trn_val), market_feats]), columns=cols_market)\n",
    "                header = full_data.loc[lambda x: (x.fold==fold) & (x.trn_val==trn_val), [c for c in full_data.columns if c not in all_features]].reset_index(drop=True)\n",
    "                new_df = pd.concat([header, X_stock, X_market], axis=1)\n",
    "                compressed_data.append(new_df)\n",
    "        compressed_data = pd.concat(compressed_data, axis=0).reset_index(drop=True)\n",
    "        col_def = {'all_features': cols_stock + cols_market,\n",
    "                   'stock_features': cols_stock,\n",
    "                   'time_features': cols_market}\n",
    "    return compressed_data, col_def"
   ]
  },
  {
   "cell_type": "markdown",
   "id": "c364976f",
   "metadata": {
    "papermill": {
     "duration": 0.044447,
     "end_time": "2022-06-25T17:14:24.761417",
     "exception": false,
     "start_time": "2022-06-25T17:14:24.716970",
     "status": "completed"
    },
    "tags": []
   },
   "source": [
    "# Model Training Functions"
   ]
  },
  {
   "cell_type": "code",
   "execution_count": 6,
   "id": "9bc7663c",
   "metadata": {
    "execution": {
     "iopub.execute_input": "2022-06-25T17:14:24.856737Z",
     "iopub.status.busy": "2022-06-25T17:14:24.855970Z",
     "iopub.status.idle": "2022-06-25T17:14:24.877868Z",
     "shell.execute_reply": "2022-06-25T17:14:24.878396Z",
     "shell.execute_reply.started": "2022-06-25T16:42:41.716072Z"
    },
    "papermill": {
     "duration": 0.072139,
     "end_time": "2022-06-25T17:14:24.878588",
     "exception": false,
     "start_time": "2022-06-25T17:14:24.806449",
     "status": "completed"
    },
    "tags": []
   },
   "outputs": [],
   "source": [
    "'''\n",
    "Function to get sub-columns from table for model fitting\n",
    "'''\n",
    "def get_dataset(df, selected_feats, trn_val):\n",
    "    if trn_val=='val':\n",
    "        df = df.groupby('Date').sample(frac=1.0, random_state=SEED)\n",
    "    df = df.reset_index(drop=True)\n",
    "    grp = df.groupby('Date').size().tolist()\n",
    "    qid = df['Date']\n",
    "    X = df[selected_feats]\n",
    "    y = df['target_train']\n",
    "    target = df['Target']\n",
    "    header = df[id_cols]\n",
    "    return X, y, grp, qid, header, target\n",
    "\n",
    "'''\n",
    "Function to predict scores within groups\n",
    "'''\n",
    "def pred_score(model, X):\n",
    "    return pd.Series(model.predict(X))\n",
    "\n",
    "'''\n",
    "Function to predict rankings within groups\n",
    "'''\n",
    "def pred_rank(model, X, qid):\n",
    "    X_ = X.assign(Date=qid)\n",
    "    rnk = []\n",
    "    for date in X_.Date.unique():\n",
    "        rnk += pd.Series(model.predict(X_.loc[lambda x: x.Date==date].drop('Date',axis=1))).rank(method='first').tolist()\n",
    "    return pd.Series(rnk)\n",
    "\n",
    "'''\n",
    "Function to transform model output to rank prediction table\n",
    "'''\n",
    "def get_pred_df(header, pred_model, y_true_train, y_true, rank_ascending):\n",
    "    df_pred = pd.concat([header[['RowId','Date','SecuritiesCode']].assign(Date=lambda x: x.Date.dt.strftime('%Y-%m-%d'), SecuritiesCode=lambda x: x.SecuritiesCode.astype(int)).reset_index(drop=True),\n",
    "                        pd.Series(pred_model).rename('pred_model').reset_index(drop=True),\n",
    "                        y_true_train.reset_index(drop=True),\n",
    "                        y_true.reset_index(drop=True)\n",
    "                        ], axis=1)\n",
    "    df_pred['Rank'] = df_pred.groupby('Date').pred_model.rank(method='first', ascending=rank_ascending).astype(int) - 1\n",
    "    return df_pred\n",
    "\n",
    "'''\n",
    "Official function to calculate Sharpe Ratio given a prediction\n",
    "'''\n",
    "def _calc_spread_return_per_day(df, portfolio_size, toprank_weight_ratio):\n",
    "    assert df['Rank'].min() == 0\n",
    "    assert df['Rank'].max() == len(df['Rank']) - 1\n",
    "    weights = np.linspace(start=toprank_weight_ratio, stop=1, num=portfolio_size)\n",
    "    purchase = (df.sort_values(by='Rank')['Target'][:portfolio_size] * weights).sum() / weights.mean()\n",
    "    short = (df.sort_values(by='Rank', ascending=False)['Target'][:portfolio_size] * weights).sum() / weights.mean()\n",
    "    return purchase - short\n",
    "\n",
    "def my_calc_spread_return_per_day(df, portfolio_size, toprank_weight_ratio):\n",
    "    assert df['Rank'].min() == 0\n",
    "    assert df['Rank'].max() == len(df['Rank']) - 1\n",
    "    weights = np.linspace(start=toprank_weight_ratio, stop=1, num=portfolio_size)\n",
    "    purchase = (df.sort_values(by='Rank')['Target'][:portfolio_size] * weights).sum() / weights.mean()\n",
    "    short = (df.sort_values(by='Rank', ascending=False)['Target'][:portfolio_size] * weights).sum() / weights.mean()\n",
    "    return pd.DataFrame({'long':[purchase],'short':[short],'net':[purchase - short]})\n",
    "\n",
    "def calc_spread_return_sharpe(df: pd.DataFrame, portfolio_size: int = 200, toprank_weight_ratio: float = 2) -> float:\n",
    "    buf = df.groupby('Date').apply(_calc_spread_return_per_day, portfolio_size, toprank_weight_ratio)\n",
    "    sharpe_ratio = buf.mean() / buf.std()\n",
    "    return sharpe_ratio"
   ]
  },
  {
   "cell_type": "code",
   "execution_count": 7,
   "id": "569753fc",
   "metadata": {
    "_cell_guid": "b4032fcf-3380-4782-8a11-7617c962a5d2",
    "_uuid": "23cc1ed3-aa0f-4e49-9749-dcf53ada723c",
    "collapsed": false,
    "execution": {
     "iopub.execute_input": "2022-06-25T17:14:24.992010Z",
     "iopub.status.busy": "2022-06-25T17:14:24.977293Z",
     "iopub.status.idle": "2022-06-25T17:14:24.993746Z",
     "shell.execute_reply": "2022-06-25T17:14:24.994263Z",
     "shell.execute_reply.started": "2022-06-25T16:42:41.738131Z"
    },
    "jupyter": {
     "outputs_hidden": false
    },
    "papermill": {
     "duration": 0.070236,
     "end_time": "2022-06-25T17:14:24.994442",
     "exception": false,
     "start_time": "2022-06-25T17:14:24.924206",
     "status": "completed"
    },
    "tags": []
   },
   "outputs": [],
   "source": [
    "'''\n",
    "Training function\n",
    "'''\n",
    "def train_model(fold, params, mode):\n",
    "    # unpack model params\n",
    "    selected_feats = params['selected_feats']\n",
    "    lgbm_var_params = params['lgbm_var_params']\n",
    "    lgbm_fixed_params = params['lgbm_fixed_params']\n",
    "    lgbm_fixed_params['n_estimators'] = params['n_estimators']\n",
    "    early_stopping_rounds = params['early_stopping_rounds']\n",
    "    \n",
    "    # define dataset\n",
    "    data_trn = full_data.loc[lambda x: (x.fold==fold) & (x.trn_val=='trn')]\n",
    "    data_val = full_data.loc[lambda x: (x.fold==fold) & (x.trn_val=='val')]\n",
    "    X_trn, y_trn, grp_trn, qid_trn, header_trn, target_trn = get_dataset(data_trn, selected_feats, 'trn')\n",
    "    X_val, y_val, grp_val, qid_val, header_val, target_val = get_dataset(data_val, selected_feats, 'val')\n",
    "    # model fit\n",
    "    model = lgbm.LGBMRegressor(**lgbm_fixed_params, **lgbm_var_params)\n",
    "    model.fit(\n",
    "        X = X_trn,\n",
    "        y = y_trn,\n",
    "        eval_set = [(X_val, y_val)],\n",
    "        eval_names = ['Validation'],\n",
    "        verbose = False,\n",
    "        eval_metric = EVAL_METRIC,\n",
    "        early_stopping_rounds = early_stopping_rounds\n",
    "    )\n",
    "\n",
    "    # output\n",
    "    if mode == 'val_score_only':\n",
    "        output = model.best_score_['Validation'][EVAL_METRIC] # this score is for minimization problem\n",
    "        \n",
    "    if mode == 'val_sharpe_only':\n",
    "        pred_val = pred_score(model, X_val)\n",
    "        df_pred_val = get_pred_df(header_val, pred_val, y_val, target_val, RANK_ASCENDING)\n",
    "        sharpe_val = calc_spread_return_sharpe(df_pred_val)\n",
    "        output = sharpe_val * -1 # this score is for minimization problem\n",
    "        \n",
    "    if mode == 'feat_imp':\n",
    "        model.set_params(importance_type='gain')\n",
    "        imp_gain = model.feature_importances_\n",
    "        model.set_params(importance_type='split')\n",
    "        imp_split = model.feature_importances_\n",
    "        output = pd.concat([\n",
    "            pd.DataFrame({'feat':model.feature_name_, 'imp':imp_gain}).assign(imp_type='gain', imp=lambda x: x.imp.rank()),\n",
    "            pd.DataFrame({'feat':model.feature_name_, 'imp':imp_split}).assign(imp_type='split', imp=lambda x: x.imp.rank())\n",
    "        ], axis=0).assign(fold=fold)\n",
    "    \n",
    "    if mode == 'normal':\n",
    "        # save model\n",
    "        save_pkl(model, f\"model{fold}_seed{SEED}\")\n",
    "        # number of distinct predicted values\n",
    "        n_uniq_trn = pd.concat([pred_score(model, X_trn).rename('score'), header_trn], axis=1).groupby('Date').score.nunique().mean()\n",
    "        n_uniq_val = pd.concat([pred_score(model, X_val).rename('score'), header_val], axis=1).groupby('Date').score.nunique().mean()\n",
    "        # prediction\n",
    "        pred_trn = pred_score(model, X_trn)\n",
    "        pred_val = pred_score(model, X_val)\n",
    "        # prediction df\n",
    "        df_pred_trn = get_pred_df(header_trn, pred_trn, y_trn, target_trn, RANK_ASCENDING)\n",
    "        df_pred_val = get_pred_df(header_val, pred_val, y_val, target_val, RANK_ASCENDING)\n",
    "        # sharpe\n",
    "        sharpe_trn = calc_spread_return_sharpe(df_pred_trn)\n",
    "        sharpe_val = calc_spread_return_sharpe(df_pred_val)\n",
    "        # output dict\n",
    "        output = dict(\n",
    "            fold = fold,\n",
    "            params = params,\n",
    "            best_iteration_ = model.best_iteration_,\n",
    "            best_score_ = model.best_score_['Validation'][EVAL_METRIC],\n",
    "            sharpe = {'trn': sharpe_trn, 'val': sharpe_val},\n",
    "            ann_sharpe = {'trn': sharpe_trn * np.sqrt(240), 'val': sharpe_val * np.sqrt(240)},\n",
    "            evals_result_ = model.evals_result_['Validation'][EVAL_METRIC],\n",
    "            feat_imp = pd.DataFrame(list(zip(model.feature_name_, model.feature_importances_)), columns=['feat','imp']),\n",
    "            df_pred_val = df_pred_val,\n",
    "            n_uniq_trn = n_uniq_trn,\n",
    "            n_uniq_val = n_uniq_val,\n",
    "        )\n",
    "    return output "
   ]
  },
  {
   "cell_type": "markdown",
   "id": "553e6f5a",
   "metadata": {
    "papermill": {
     "duration": 0.043987,
     "end_time": "2022-06-25T17:14:25.082801",
     "exception": false,
     "start_time": "2022-06-25T17:14:25.038814",
     "status": "completed"
    },
    "tags": []
   },
   "source": [
    "# Feature Importance"
   ]
  },
  {
   "cell_type": "code",
   "execution_count": 8,
   "id": "25df3c63",
   "metadata": {
    "execution": {
     "iopub.execute_input": "2022-06-25T17:14:25.175024Z",
     "iopub.status.busy": "2022-06-25T17:14:25.174368Z",
     "iopub.status.idle": "2022-06-25T17:14:25.184394Z",
     "shell.execute_reply": "2022-06-25T17:14:25.184975Z",
     "shell.execute_reply.started": "2022-06-25T16:42:41.760173Z"
    },
    "papermill": {
     "duration": 0.05748,
     "end_time": "2022-06-25T17:14:25.185167",
     "exception": false,
     "start_time": "2022-06-25T17:14:25.127687",
     "status": "completed"
    },
    "tags": []
   },
   "outputs": [],
   "source": [
    "def run_feature_importance():\n",
    "    # random sampling of features\n",
    "    all_feats = all_features.copy()\n",
    "    feat_groups = []\n",
    "    for i in range(N_SHUFFLE):\n",
    "        random.shuffle(all_feats)\n",
    "        n_groups = math.floor(len(all_feats)/N_FEATS_IMP_TEST)\n",
    "        feat_groups += np.array(all_feats[:N_FEATS_IMP_TEST*n_groups]).reshape(-1,N_FEATS_IMP_TEST).tolist()\n",
    "    log(f'Total number of run: {len(feat_groups)}')\n",
    "    \n",
    "    # calculate feature importance\n",
    "    df_imp = []\n",
    "    for i, group in enumerate(feat_groups):\n",
    "        for fold in range(N_FOLD):\n",
    "            params = {'selected_feats': group, \n",
    "                      'lgbm_var_params': LGBM_VAR_PARAMS,\n",
    "                      'lgbm_fixed_params': LGBM_FIXED_PARAMS, \n",
    "                      'n_estimators': N_ESTIMATORS_IMP,\n",
    "                      'early_stopping_rounds': EARLY_STOPPING_ROUNDS_IMP}\n",
    "            df_imp.append(train_model(fold, params, 'feat_imp'))\n",
    "        log(f'Completed running feature group {i}') if i%10==0 else None\n",
    "    df_imp = pd.concat(df_imp)\n",
    "    df_imp_agg = df_imp.groupby('feat').imp.mean().sort_values(ascending=False).reset_index()\n",
    "    df_imp_agg.to_csv('df_imp_agg.csv', index=False)\n",
    "    display(df_imp_agg.head(10))\n",
    "\n",
    "    # plotting feature importance\n",
    "    df_imp_agg.sort_values('imp', ascending=True).set_index('feat').plot.barh(figsize=(20, 20))\n",
    "    return df_imp_agg"
   ]
  },
  {
   "cell_type": "markdown",
   "id": "743b319c",
   "metadata": {
    "papermill": {
     "duration": 0.043797,
     "end_time": "2022-06-25T17:14:25.273083",
     "exception": false,
     "start_time": "2022-06-25T17:14:25.229286",
     "status": "completed"
    },
    "tags": []
   },
   "source": [
    "# Forward Selection"
   ]
  },
  {
   "cell_type": "code",
   "execution_count": 9,
   "id": "e22a0959",
   "metadata": {
    "execution": {
     "iopub.execute_input": "2022-06-25T17:14:25.364577Z",
     "iopub.status.busy": "2022-06-25T17:14:25.363828Z",
     "iopub.status.idle": "2022-06-25T17:14:25.373849Z",
     "shell.execute_reply": "2022-06-25T17:14:25.373159Z",
     "shell.execute_reply.started": "2022-06-25T16:42:41.779228Z"
    },
    "papermill": {
     "duration": 0.056743,
     "end_time": "2022-06-25T17:14:25.373995",
     "exception": false,
     "start_time": "2022-06-25T17:14:25.317252",
     "status": "completed"
    },
    "tags": []
   },
   "outputs": [],
   "source": [
    "'''\n",
    "Forward Selection function\n",
    "'''\n",
    "def forward_selection(base_feats, feat_groups, name):\n",
    "    if base_feats==None:\n",
    "        base_feats = []\n",
    "    hist = []\n",
    "    while len(feat_groups) > 0:\n",
    "        scores = []\n",
    "        for feats in feat_groups:\n",
    "            # calculate CV score\n",
    "            params = {'selected_feats': base_feats + feats, \n",
    "                      'lgbm_var_params': LGBM_VAR_PARAMS, \n",
    "                      'lgbm_fixed_params': LGBM_FIXED_PARAMS, \n",
    "                      'n_estimators': N_ESTIMATORS_FS, \n",
    "                      'early_stopping_rounds': EARLY_STOPPING_ROUNDS_FS}\n",
    "            mean_score = np.mean([train_model(fold, params, 'val_sharpe_only') for fold in range(N_FOLD)])\n",
    "            scores.append(mean_score)\n",
    "            hist.append((mean_score,\n",
    "                         len(base_feats + feats),\n",
    "                         ', '.join(base_feats + feats)\n",
    "                         ))\n",
    "            log(f'Score: {mean_score}; Num features: {len(base_feats + feats)}; Features: {\", \".join(base_feats + feats)}')\n",
    "        # add the new feature (group) which gives minimum score\n",
    "        base_feats += feat_groups[np.argmin(scores)]\n",
    "        # remove the added feature (group) from remaining candidate pool\n",
    "        del feat_groups[np.argmin(scores)]\n",
    "    hist = pd.DataFrame(hist, columns=['score','len_feats','total_feats'])\n",
    "    hist.to_csv(f'fs_hist_{name}.csv', index=False)\n",
    "    return hist"
   ]
  },
  {
   "cell_type": "markdown",
   "id": "aaf64eb5",
   "metadata": {
    "papermill": {
     "duration": 0.044376,
     "end_time": "2022-06-25T17:14:25.462651",
     "exception": false,
     "start_time": "2022-06-25T17:14:25.418275",
     "status": "completed"
    },
    "tags": []
   },
   "source": [
    "# Hyperparameter Tuning"
   ]
  },
  {
   "cell_type": "code",
   "execution_count": 10,
   "id": "7eeedc79",
   "metadata": {
    "execution": {
     "iopub.execute_input": "2022-06-25T17:14:25.555165Z",
     "iopub.status.busy": "2022-06-25T17:14:25.554402Z",
     "iopub.status.idle": "2022-06-25T17:14:25.567944Z",
     "shell.execute_reply": "2022-06-25T17:14:25.568477Z",
     "shell.execute_reply.started": "2022-06-25T16:42:41.798386Z"
    },
    "papermill": {
     "duration": 0.061667,
     "end_time": "2022-06-25T17:14:25.568671",
     "exception": false,
     "start_time": "2022-06-25T17:14:25.507004",
     "status": "completed"
    },
    "tags": []
   },
   "outputs": [],
   "source": [
    "'''\n",
    "Hyperparameter Optimization function\n",
    "'''\n",
    "def Objective(trial):\n",
    "    lgbm_var_params = dict(\n",
    "        max_depth = trial.suggest_int('max_depth', 2, 32, log=True),\n",
    "        num_leaves = trial.suggest_int('num_leaves', 16, 64, log=True),\n",
    "        learning_rate = trial.suggest_float(\"learning_rate\", 0.005, 0.2),\n",
    "        min_child_weight = trial.suggest_float(\"min_child_weight\", 1e-3, 4, log=True),\n",
    "        subsample = trial.suggest_float(\"subsample\", 0.5, 1),\n",
    "        subsample_freq = trial.suggest_categorical(\"subsample_freq\", [1,2,4,6,8]),\n",
    "        colsample_bytree = trial.suggest_float(\"colsample_bytree\", 0.5, 1),\n",
    "        reg_alpha = trial.suggest_float(\"reg_alpha\", 1e-2, 16, log=True),\n",
    "        reg_lambda = trial.suggest_float(\"reg_lambda\", 1e-2, 16, log=True),\n",
    "        max_bin = trial.suggest_int('max_bin', 50, 500),\n",
    "    )\n",
    "    \n",
    "    # pack all params\n",
    "    params = {'selected_feats': selected_feats, \n",
    "              'lgbm_var_params': lgbm_var_params, \n",
    "              'lgbm_fixed_params': LGBM_FIXED_PARAMS, \n",
    "              'n_estimators': N_ESTIMATORS_HP, \n",
    "              'early_stopping_rounds': EARLY_STOPPING_ROUNDS_HP}\n",
    "    # return average CV score\n",
    "    cv_score = np.mean([train_model(fold, params, 'val_sharpe_only') for fold in range(N_FOLD)])\n",
    "    return cv_score\n",
    "\n",
    "\n",
    "def optimize_hp():\n",
    "    # run optimization\n",
    "    study = optuna.create_study(direction=\"minimize\", study_name='LGBM optimization')\n",
    "    study.optimize(Objective, timeout=HP_OPT_HRS*60*60)\n",
    "    \n",
    "    # save results\n",
    "    best_params = study.best_params\n",
    "    best_score = study.best_value\n",
    "    log(best_params)\n",
    "    log(f'Best score is {best_score}')\n",
    "    trials = study.trials_dataframe()\n",
    "    trials.to_csv(f'trials.csv', index=False)\n",
    "    save_pkl(best_params, f'best_params')\n",
    "    save_pkl(study, f'study')\n",
    "    \n",
    "    # visualise relationship between parameter and CV score\n",
    "    for c in trials.columns:\n",
    "        if c[:7]=='params_':\n",
    "            new_plot()\n",
    "            trials.plot.scatter(c, 'value')\n",
    "            plt.grid()\n",
    "            plt.title(c)\n",
    "            plt.show()\n",
    "    return best_params"
   ]
  },
  {
   "cell_type": "markdown",
   "id": "b2484914",
   "metadata": {
    "papermill": {
     "duration": 0.043408,
     "end_time": "2022-06-25T17:14:25.656413",
     "exception": false,
     "start_time": "2022-06-25T17:14:25.613005",
     "status": "completed"
    },
    "tags": []
   },
   "source": [
    "# Signal Analysis"
   ]
  },
  {
   "cell_type": "code",
   "execution_count": 11,
   "id": "35c5babd",
   "metadata": {
    "execution": {
     "iopub.execute_input": "2022-06-25T17:14:25.752817Z",
     "iopub.status.busy": "2022-06-25T17:14:25.752075Z",
     "iopub.status.idle": "2022-06-25T17:14:25.765312Z",
     "shell.execute_reply": "2022-06-25T17:14:25.765810Z",
     "shell.execute_reply.started": "2022-06-25T16:42:41.817926Z"
    },
    "papermill": {
     "duration": 0.065568,
     "end_time": "2022-06-25T17:14:25.766004",
     "exception": false,
     "start_time": "2022-06-25T17:14:25.700436",
     "status": "completed"
    },
    "tags": []
   },
   "outputs": [],
   "source": [
    "def analyze_signal(df):\n",
    "    # preprocess\n",
    "    df.Date = pd.to_datetime(df.Date)\n",
    "    df['rank_pred'] = df.groupby('Date').pred_model.rank(method='first',ascending=True)\n",
    "    df['rank_true'] = df.groupby('Date').target_train.rank(method='first',ascending=True)\n",
    "\n",
    "    # distribution of model prediction\n",
    "    new_plot()\n",
    "    df.pred_model.hist(bins=100)\n",
    "    plt.grid()\n",
    "    plt.title('Distribution of model prediction')\n",
    "\n",
    "    # percentage in correct region\n",
    "    new_plot()\n",
    "    n = 200\n",
    "    top = df.groupby('Date').apply(lambda df: df.loc[lambda x: (x.rank_true>=2000-n) & (x.rank_pred>=2000-n)].shape[0]).divide(n)\n",
    "    bottom = df.groupby('Date').apply(lambda df: df.loc[lambda x: (x.rank_true<=n) & (x.rank_pred<=n)].shape[0]).divide(n)\n",
    "    top.rolling(20).mean().plot(label='top')\n",
    "    bottom.rolling(20).mean().plot(label='bottom')\n",
    "    plt.legend(bbox_to_anchor=(1.1, 1.05))\n",
    "    plt.grid()\n",
    "    plt.title('% in correct region')\n",
    "    log(f'Average % in top 200: {top.mean()}')\n",
    "    log(f'Average % in bottom 200: {bottom.mean()}')\n",
    "\n",
    "    # portfolio return analysis\n",
    "    ret = df.groupby('Date').apply(my_calc_spread_return_per_day, 200, 2)\n",
    "    ret = ret.reset_index().set_index('Date') \\\n",
    "        .assign(short = lambda x: -1 * x.short)\n",
    "\n",
    "    # cumulative returns\n",
    "    new_plot()\n",
    "    ret.long.cumsum().plot(label='long')\n",
    "    ret.short.cumsum().plot(label='short')\n",
    "    ret.net.cumsum().plot(label='net')\n",
    "    plt.legend(bbox_to_anchor=(1.1, 1.05))\n",
    "    plt.grid()\n",
    "    plt.title('Cumulative Returns')\n",
    "    log(f'Mean long returns: {ret.long.mean()}')\n",
    "    log(f'Mean short returns: {ret.short.mean()}')\n",
    "    log(f'Mean net returns: {ret.net.mean()}')\n",
    "\n",
    "    # rolling sharpes\n",
    "    new_plot()\n",
    "    ret.long.rolling(60).apply(lambda s: s.mean()/s.std()).plot(label='long')\n",
    "    ret.short.rolling(60).apply(lambda s: s.mean()/s.std()).plot(label='short')\n",
    "    ret.net.rolling(60).apply(lambda s: s.mean()/s.std()).plot(label='net')\n",
    "    plt.legend(bbox_to_anchor=(1.1, 1.05))\n",
    "    plt.grid()\n",
    "    plt.title('Rolling Sharpes')\n",
    "    log(f'Sharpe of long: {ret.long.mean() / ret.long.std()}')\n",
    "    log(f'Sharpe of short: {ret.short.mean() / ret.short.std()}')\n",
    "    log(f'Sharpe of net: {ret.net.mean() / ret.net.std()}')"
   ]
  },
  {
   "cell_type": "markdown",
   "id": "f04ea56c",
   "metadata": {
    "papermill": {
     "duration": 0.04484,
     "end_time": "2022-06-25T17:14:25.855645",
     "exception": false,
     "start_time": "2022-06-25T17:14:25.810805",
     "status": "completed"
    },
    "tags": []
   },
   "source": [
    "# Execution"
   ]
  },
  {
   "cell_type": "code",
   "execution_count": 12,
   "id": "164cce21",
   "metadata": {
    "execution": {
     "iopub.execute_input": "2022-06-25T17:14:25.953964Z",
     "iopub.status.busy": "2022-06-25T17:14:25.948076Z",
     "iopub.status.idle": "2022-06-25T17:15:12.475622Z",
     "shell.execute_reply": "2022-06-25T17:15:12.476416Z",
     "shell.execute_reply.started": "2022-06-25T16:42:41.837480Z"
    },
    "papermill": {
     "duration": 46.575407,
     "end_time": "2022-06-25T17:15:12.476652",
     "exception": false,
     "start_time": "2022-06-25T17:14:25.901245",
     "status": "completed"
    },
    "tags": []
   },
   "outputs": [
    {
     "data": {
      "text/html": [
       "<div>\n",
       "<style scoped>\n",
       "    .dataframe tbody tr th:only-of-type {\n",
       "        vertical-align: middle;\n",
       "    }\n",
       "\n",
       "    .dataframe tbody tr th {\n",
       "        vertical-align: top;\n",
       "    }\n",
       "\n",
       "    .dataframe thead tr th {\n",
       "        text-align: left;\n",
       "    }\n",
       "\n",
       "    .dataframe thead tr:last-of-type th {\n",
       "        text-align: right;\n",
       "    }\n",
       "</style>\n",
       "<table border=\"1\" class=\"dataframe\">\n",
       "  <thead>\n",
       "    <tr>\n",
       "      <th></th>\n",
       "      <th></th>\n",
       "      <th colspan=\"3\" halign=\"left\">Date</th>\n",
       "    </tr>\n",
       "    <tr>\n",
       "      <th></th>\n",
       "      <th></th>\n",
       "      <th>min</th>\n",
       "      <th>max</th>\n",
       "      <th>nunique</th>\n",
       "    </tr>\n",
       "    <tr>\n",
       "      <th>fold</th>\n",
       "      <th>trn_val</th>\n",
       "      <th></th>\n",
       "      <th></th>\n",
       "      <th></th>\n",
       "    </tr>\n",
       "  </thead>\n",
       "  <tbody>\n",
       "    <tr>\n",
       "      <th rowspan=\"2\" valign=\"top\">0</th>\n",
       "      <th>trn</th>\n",
       "      <td>2019-01-16</td>\n",
       "      <td>2020-01-14</td>\n",
       "      <td>240</td>\n",
       "    </tr>\n",
       "    <tr>\n",
       "      <th>val</th>\n",
       "      <td>2021-03-05</td>\n",
       "      <td>2021-06-02</td>\n",
       "      <td>60</td>\n",
       "    </tr>\n",
       "    <tr>\n",
       "      <th rowspan=\"2\" valign=\"top\">1</th>\n",
       "      <th>trn</th>\n",
       "      <td>2019-07-23</td>\n",
       "      <td>2020-07-16</td>\n",
       "      <td>240</td>\n",
       "    </tr>\n",
       "    <tr>\n",
       "      <th>val</th>\n",
       "      <td>2021-06-03</td>\n",
       "      <td>2021-08-30</td>\n",
       "      <td>60</td>\n",
       "    </tr>\n",
       "    <tr>\n",
       "      <th rowspan=\"2\" valign=\"top\">2</th>\n",
       "      <th>trn</th>\n",
       "      <td>2020-01-30</td>\n",
       "      <td>2021-01-22</td>\n",
       "      <td>240</td>\n",
       "    </tr>\n",
       "    <tr>\n",
       "      <th>val</th>\n",
       "      <td>2021-08-31</td>\n",
       "      <td>2021-11-26</td>\n",
       "      <td>60</td>\n",
       "    </tr>\n",
       "    <tr>\n",
       "      <th rowspan=\"2\" valign=\"top\">3</th>\n",
       "      <th>trn</th>\n",
       "      <td>2020-08-06</td>\n",
       "      <td>2021-07-29</td>\n",
       "      <td>240</td>\n",
       "    </tr>\n",
       "    <tr>\n",
       "      <th>val</th>\n",
       "      <td>2021-11-29</td>\n",
       "      <td>2022-02-25</td>\n",
       "      <td>60</td>\n",
       "    </tr>\n",
       "    <tr>\n",
       "      <th rowspan=\"2\" valign=\"top\">4</th>\n",
       "      <th>trn</th>\n",
       "      <td>2021-02-10</td>\n",
       "      <td>2022-02-02</td>\n",
       "      <td>240</td>\n",
       "    </tr>\n",
       "    <tr>\n",
       "      <th>val</th>\n",
       "      <td>2022-02-28</td>\n",
       "      <td>2022-05-27</td>\n",
       "      <td>60</td>\n",
       "    </tr>\n",
       "  </tbody>\n",
       "</table>\n",
       "</div>"
      ],
      "text/plain": [
       "                   Date                   \n",
       "                    min        max nunique\n",
       "fold trn_val                              \n",
       "0    trn     2019-01-16 2020-01-14     240\n",
       "     val     2021-03-05 2021-06-02      60\n",
       "1    trn     2019-07-23 2020-07-16     240\n",
       "     val     2021-06-03 2021-08-30      60\n",
       "2    trn     2020-01-30 2021-01-22     240\n",
       "     val     2021-08-31 2021-11-26      60\n",
       "3    trn     2020-08-06 2021-07-29     240\n",
       "     val     2021-11-29 2022-02-25      60\n",
       "4    trn     2021-02-10 2022-02-02     240\n",
       "     val     2022-02-28 2022-05-27      60"
      ]
     },
     "metadata": {},
     "output_type": "display_data"
    },
    {
     "name": "stdout",
     "output_type": "stream",
     "text": [
      "CPU times: user 35.2 s, sys: 5.79 s, total: 41 s\n",
      "Wall time: 46.5 s\n"
     ]
    }
   ],
   "source": [
    "%%time\n",
    "'''\n",
    "Preprocessing\n",
    "'''\n",
    "# load features\n",
    "path = '../input/jpx-feature-engineering/features'\n",
    "features = pd.concat([pd.concat(load_pkl(f'{path}/{filename}')) for filename in os.listdir(path)]).sort_values('RowId').reset_index(drop=True)\n",
    "\n",
    "# train-val split\n",
    "if SPLIT_METHOD == 'trn_val_split_late_val':\n",
    "    full_data = trn_val_split_late_val(features, val_to_end=False)\n",
    "elif SPLIT_METHOD == 'trn_val_split_even_val':\n",
    "    full_data = trn_val_split_even_val(features, val_to_end=False)\n",
    "display(full_data.groupby(['fold','trn_val']).agg({'Date':['min','max','nunique']}))\n",
    "\n",
    "# add targets\n",
    "targets = pd.concat([pd.read_csv(f'{JPX_PATH}/{folder}/stock_prices.csv', parse_dates=['Date']) for folder in ['train_files', 'supplemental_files']]) \\\n",
    "    .loc[:,['RowId','Target']] \\\n",
    "    .loc[lambda x: x.Target.notnull()] \\\n",
    "    .drop_duplicates() \\\n",
    "    .reset_index(drop=True)\n",
    "full_data = full_data.merge(targets, how='inner', on='RowId')\n",
    "\n",
    "# remove irregular data\n",
    "full_data = full_data.loc[lambda x: x.volatility_1w!=0].reset_index(drop=True)\n",
    "\n",
    "# derive training target\n",
    "full_data['target_train'] = full_data.groupby(['fold','trn_val','Date']).Target.apply(lambda s: (s - s.mean()) / s.std())\n",
    "\n",
    "# # release memory\n",
    "# del features\n",
    "# gc.collect()\n",
    "\n",
    "# define column types\n",
    "id_cols = ['RowId','Date','SecuritiesCode','fold','trn_val']\n",
    "all_features = [c for c in list(full_data) if c not in id_cols and c not in ['target_train','Target']]\n",
    "cat_features = ['AdjustmentFactor','first_div']\n",
    "time_features = [c for c in all_features if '_mkt' in c] + \\\n",
    "                [c for c in all_features if c[:4]=='sec_'] + \\\n",
    "                [c for c in all_features if c[-4:] in ['_sin','_cos']]\n",
    "stock_features = [c for c in all_features if c not in cat_features + time_features]\n",
    "\n",
    "# scaling\n",
    "full_data = jpx_data_scaling(full_data=full_data, scaler=SCALER, daily=SCALE_DAILY)\n",
    "\n",
    "# drop market features\n",
    "if DROP_MARKET_FEATS:\n",
    "    full_data = full_data.drop(time_features, axis=1)\n",
    "    all_features = [c for c in all_features if c not in time_features]\n",
    "\n",
    "# PCA compression\n",
    "if RUN_PCA:\n",
    "    full_data, col_def = pca_compress(full_data)\n",
    "    all_features = col_def['all_features']\n",
    "    stock_features = col_def['stock_features']\n",
    "    time_features = col_def['time_features']"
   ]
  },
  {
   "cell_type": "code",
   "execution_count": 13,
   "id": "32a8493b",
   "metadata": {
    "execution": {
     "iopub.execute_input": "2022-06-25T17:15:12.569905Z",
     "iopub.status.busy": "2022-06-25T17:15:12.569315Z",
     "iopub.status.idle": "2022-06-25T17:15:12.573914Z",
     "shell.execute_reply": "2022-06-25T17:15:12.574621Z",
     "shell.execute_reply.started": "2022-06-25T16:43:25.984561Z"
    },
    "papermill": {
     "duration": 0.052621,
     "end_time": "2022-06-25T17:15:12.574841",
     "exception": false,
     "start_time": "2022-06-25T17:15:12.522220",
     "status": "completed"
    },
    "tags": []
   },
   "outputs": [
    {
     "name": "stdout",
     "output_type": "stream",
     "text": [
      "CPU times: user 4 µs, sys: 0 ns, total: 4 µs\n",
      "Wall time: 7.39 µs\n"
     ]
    }
   ],
   "source": [
    "%%time\n",
    "'''\n",
    "Feature importance\n",
    "'''\n",
    "if RUN_IMP:\n",
    "    df_imp_agg = run_feature_importance()"
   ]
  },
  {
   "cell_type": "code",
   "execution_count": 14,
   "id": "8a91d25e",
   "metadata": {
    "execution": {
     "iopub.execute_input": "2022-06-25T17:15:12.670956Z",
     "iopub.status.busy": "2022-06-25T17:15:12.670206Z",
     "iopub.status.idle": "2022-06-25T17:15:12.678958Z",
     "shell.execute_reply": "2022-06-25T17:15:12.679696Z",
     "shell.execute_reply.started": "2022-06-25T16:43:25.993268Z"
    },
    "papermill": {
     "duration": 0.057905,
     "end_time": "2022-06-25T17:15:12.679920",
     "exception": false,
     "start_time": "2022-06-25T17:15:12.622015",
     "status": "completed"
    },
    "tags": []
   },
   "outputs": [
    {
     "name": "stdout",
     "output_type": "stream",
     "text": [
      "CPU times: user 6 µs, sys: 0 ns, total: 6 µs\n",
      "Wall time: 10 µs\n"
     ]
    }
   ],
   "source": [
    "%%time\n",
    "'''\n",
    "Forward Selection\n",
    "'''\n",
    "if RUN_FS:\n",
    "    \n",
    "    # normal run\n",
    "    if FS_SPLIT == None:\n",
    "        feat_groups = [[x] for x in df_imp_agg.head(N_FEATS_FS).feat]\n",
    "        fs_hist = forward_selection(base_feats=None, feat_groups=feat_groups, name='')\n",
    "    \n",
    "    # FS with splitting stock & market features\n",
    "    elif FS_SPLIT != None:\n",
    "        # running both stock & market feats\n",
    "        if SELECTED_STOCK_FEATS == None:\n",
    "            # FS for stock features\n",
    "            feat_groups = [[x] for x in df_imp_agg.loc[lambda x: ~x.feat.isin(time_features)].head(FS_SPLIT['n_stock_feats']).feat]\n",
    "            fs_hist_stock = forward_selection(base_feats=None, feat_groups=feat_groups, name='stock')\n",
    "            base_feats = fs_hist_stock.sort_values('score', ascending=True).total_feats.iloc[0].split(', ')\n",
    "        \n",
    "        # fixed stock feats and run market feats\n",
    "        else:\n",
    "            base_feats = SELECTED_STOCK_FEATS.copy()\n",
    "        # FS for market features\n",
    "        feat_groups = [[x] for x in df_imp_agg.loc[lambda x: x.feat.isin(time_features)].head(FS_SPLIT['n_market_feats']).feat]\n",
    "        fs_hist = forward_selection(base_feats=base_feats, feat_groups=feat_groups, name='market')\n",
    "        \n",
    "    # output selected features\n",
    "    display(fs_hist.sort_values('score', ascending=True).head(1))\n",
    "    selected_feats = fs_hist.sort_values('score', ascending=True).total_feats.iloc[0].split(', ')\n",
    "\n",
    "else:\n",
    "    # if not running both IMP and FS, output pre-set selected_feats\n",
    "    if not RUN_IMP:\n",
    "        selected_feats = SELECTED_FEATS\n",
    "    # if ran IMP but not FS, output first N important features where N is pre-set\n",
    "    elif RUN_IMP:\n",
    "        selected_feats = [x[0] for x in feat_groups][:N_FEATS_FINAL]"
   ]
  },
  {
   "cell_type": "code",
   "execution_count": 15,
   "id": "ebe818a2",
   "metadata": {
    "execution": {
     "iopub.execute_input": "2022-06-25T17:15:12.775821Z",
     "iopub.status.busy": "2022-06-25T17:15:12.775184Z",
     "iopub.status.idle": "2022-06-25T17:15:12.780302Z",
     "shell.execute_reply": "2022-06-25T17:15:12.781010Z",
     "shell.execute_reply.started": "2022-06-25T16:43:26.011786Z"
    },
    "papermill": {
     "duration": 0.054227,
     "end_time": "2022-06-25T17:15:12.781249",
     "exception": false,
     "start_time": "2022-06-25T17:15:12.727022",
     "status": "completed"
    },
    "tags": []
   },
   "outputs": [
    {
     "name": "stdout",
     "output_type": "stream",
     "text": [
      "CPU times: user 8 µs, sys: 0 ns, total: 8 µs\n",
      "Wall time: 11.9 µs\n"
     ]
    }
   ],
   "source": [
    "%%time\n",
    "'''\n",
    "Hyperparameter tuning\n",
    "'''\n",
    "if RUN_HP:\n",
    "    # run optimization\n",
    "    best_params = optimize_hp()\n",
    "    \n",
    "else:\n",
    "    # if not running HP, use pre-set best parameters\n",
    "    best_params = BEST_PARAMS"
   ]
  },
  {
   "cell_type": "code",
   "execution_count": 16,
   "id": "89bf76f3",
   "metadata": {
    "execution": {
     "iopub.execute_input": "2022-06-25T17:15:12.879329Z",
     "iopub.status.busy": "2022-06-25T17:15:12.878624Z",
     "iopub.status.idle": "2022-06-25T17:19:09.036680Z",
     "shell.execute_reply": "2022-06-25T17:19:09.037454Z",
     "shell.execute_reply.started": "2022-06-25T16:43:26.029367Z"
    },
    "papermill": {
     "duration": 236.208148,
     "end_time": "2022-06-25T17:19:09.037696",
     "exception": false,
     "start_time": "2022-06-25T17:15:12.829548",
     "status": "completed"
    },
    "tags": []
   },
   "outputs": [
    {
     "name": "stdout",
     "output_type": "stream",
     "text": [
      "[2022-06-26 01:19:08] Folds best iterations: [38, 13, 7, 15, 16, 60, 9, 8, 18, 17, 25, 17, 9, 18, 22, 45, 16, 10, 19, 21, 67, 22, 8, 19, 21]\n",
      "[2022-06-26 01:19:08] Folds average num unique values in train: [1464.8083333333334, 542.2166666666667, 79.38333333333334, 285.8, 704.1083333333333, 1796.8291666666667, 222.64583333333334, 95.62083333333334, 343.71666666666664, 686.9375, 904.7916666666666, 758.2375, 125.91666666666667, 309.7083333333333, 1096.9541666666667, 1549.0375, 767.5375, 284.15, 445.1666666666667, 885.6041666666666, 1813.0708333333334, 901.9041666666667, 106.49166666666666, 352.09166666666664, 1050.4666666666667]\n",
      "[2022-06-26 01:19:08] Folds average num unique values in validation: [1513.65, 616.7833333333333, 92.81666666666666, 245.1, 599.8166666666667, 1872.0833333333333, 230.96666666666667, 117.06666666666666, 332.26666666666665, 617.4166666666666, 903.4666666666667, 827.9166666666666, 154.06666666666666, 286.1166666666667, 1014.1833333333333, 1641.4333333333334, 883.45, 329.9, 408.0833333333333, 788.3666666666667, 1895.8333333333333, 984.9166666666666, 129.21666666666667, 338.5, 948.0333333333333]\n",
      "[2022-06-26 01:19:08] Folds scores: [0.9989368608033877, 0.9995208113097224, 0.9995550879616891, 0.999256994653382, 0.9986964618466943, 0.9989502410094322, 0.9995597436417103, 0.9995870422015476, 0.9992483296369722, 0.998767074465836, 0.9989782501041646, 0.9995400528335228, 0.9995737879207673, 0.9992658929752251, 0.9986586238544027, 0.9989947485082472, 0.9995088380268026, 0.9995321986011999, 0.9992411678906554, 0.9987644894857346, 0.9988749266092954, 0.9995576643560429, 0.9995415041457931, 0.9992229093598933, 0.9986970644950236]\n",
      "[2022-06-26 01:19:08] Folds sharpes: [0.38669112227139324, 0.3219958485007863, 0.22136535598012594, 0.219110501070296, 0.22451090919766223, 0.4724175080793711, 0.21986392141830813, 0.21976450456082047, 0.23220526156382826, 0.20181561714647783, 0.41105853944586473, 0.2429641175366322, 0.20329647451968108, 0.23899983740809536, 0.1931340239323085, 0.38435931952844854, 0.3792773263539401, 0.22421770647151887, 0.29074364398015207, 0.17461867670167386, 0.4398629629699738, 0.22986958700421728, 0.20852611488344514, 0.3034558677831343, 0.19493585999334284]\n",
      "[2022-06-26 01:19:08] CV score: 0.9992012306678858\n",
      "[2022-06-26 01:19:08] CV sharpe: 0.2735624243320599\n"
     ]
    }
   ],
   "source": [
    "'''\n",
    "Re-fit best model\n",
    "'''\n",
    "params = {'selected_feats': selected_feats, \n",
    "          'lgbm_var_params': best_params.copy(), \n",
    "          'lgbm_fixed_params': LGBM_FIXED_PARAMS, \n",
    "          'n_estimators': N_ESTIMATORS_REFIT, \n",
    "          'early_stopping_rounds': EARLY_STOPPING_ROUNDS_REFIT}\n",
    "\n",
    "outputs = []\n",
    "for seed in SEEDS:\n",
    "    SEED = int(seed)\n",
    "    full_data = full_data.groupby(['fold','trn_val']).sample(frac=1.0, random_state=SEED)\n",
    "    for fold in range(N_FOLD):\n",
    "        outputs.append(train_model(fold, params, 'normal'))\n",
    "    \n",
    "cv_score = np.mean([x['best_score_'] for x in outputs])\n",
    "cv_sharpe = np.mean([x['sharpe']['val'] for x in outputs])\n",
    "log(f\"Folds best iterations: {[x['best_iteration_'] for x in outputs]}\")\n",
    "log(f\"Folds average num unique values in train: {[x['n_uniq_trn'] for x in outputs]}\")\n",
    "log(f\"Folds average num unique values in validation: {[x['n_uniq_val'] for x in outputs]}\")\n",
    "log(f\"Folds scores: {[x['best_score_'] for x in outputs]}\")\n",
    "log(f\"Folds sharpes: {[x['sharpe']['val'] for x in outputs]}\")\n",
    "log(f'CV score: {cv_score}')\n",
    "log(f'CV sharpe: {cv_sharpe}')"
   ]
  },
  {
   "cell_type": "code",
   "execution_count": 17,
   "id": "2562556e",
   "metadata": {
    "execution": {
     "iopub.execute_input": "2022-06-25T17:19:09.137574Z",
     "iopub.status.busy": "2022-06-25T17:19:09.136549Z",
     "iopub.status.idle": "2022-06-25T17:19:15.917787Z",
     "shell.execute_reply": "2022-06-25T17:19:15.918355Z",
     "shell.execute_reply.started": "2022-06-25T16:46:28.443701Z"
    },
    "papermill": {
     "duration": 6.832152,
     "end_time": "2022-06-25T17:19:15.918538",
     "exception": false,
     "start_time": "2022-06-25T17:19:09.086386",
     "status": "completed"
    },
    "tags": []
   },
   "outputs": [
    {
     "name": "stdout",
     "output_type": "stream",
     "text": [
      "[2022-06-26 01:19:13] Average % in top 200: 0.11795\n",
      "[2022-06-26 01:19:13] Average % in bottom 200: 0.12525000000000006\n",
      "[2022-06-26 01:19:14] Mean long returns: 0.13295454799511844\n",
      "[2022-06-26 01:19:14] Mean short returns: 0.1854788351316637\n",
      "[2022-06-26 01:19:14] Mean net returns: 0.3184333831267822\n",
      "[2022-06-26 01:19:14] Sharpe of long: 0.06207408526240946\n",
      "[2022-06-26 01:19:14] Sharpe of short: 0.0756967354238458\n",
      "[2022-06-26 01:19:14] Sharpe of net: 0.23760330972642107\n"
     ]
    },
    {
     "data": {
      "image/png": "[encoded data removed]",
      "text/plain": [
       "<Figure size 432x288 with 1 Axes>"
      ]
     },
     "metadata": {
      "needs_background": "light"
     },
     "output_type": "display_data"
    },
    {
     "data": {
      "image/png": "[encoded data removed]",
      "text/plain": [
       "<Figure size 432x288 with 1 Axes>"
      ]
     },
     "metadata": {
      "needs_background": "light"
     },
     "output_type": "display_data"
    },
    {
     "data": {
      "image/png": "[encoded data removed]",
      "text/plain": [
       "<Figure size 432x288 with 1 Axes>"
      ]
     },
     "metadata": {
      "needs_background": "light"
     },
     "output_type": "display_data"
    },
    {
     "data": {
      "image/png": "[encoded data removed]",
      "text/plain": [
       "<Figure size 432x288 with 1 Axes>"
      ]
     },
     "metadata": {
      "needs_background": "light"
     },
     "output_type": "display_data"
    }
   ],
   "source": [
    "'''\n",
    "Signal Analysis (before optimization)\n",
    "'''\n",
    "df_pred_val = pd.concat([x['df_pred_val'] for x in outputs]).reset_index(drop=True)\n",
    "df_pred_val = df_pred_val.groupby(['RowId','Date','SecuritiesCode']).mean().reset_index()\n",
    "df_pred_val['Rank'] = df_pred_val.groupby('Date').pred_model.rank(method='first', ascending=False).astype(int) - 1\n",
    "analyze_signal(df_pred_val)"
   ]
  },
  {
   "cell_type": "code",
   "execution_count": 18,
   "id": "463a7be0",
   "metadata": {
    "execution": {
     "iopub.execute_input": "2022-06-25T17:19:16.037347Z",
     "iopub.status.busy": "2022-06-25T17:19:16.036503Z",
     "iopub.status.idle": "2022-06-25T18:23:35.430922Z",
     "shell.execute_reply": "2022-06-25T18:23:35.429779Z"
    },
    "papermill": {
     "duration": 3859.456836,
     "end_time": "2022-06-25T18:23:35.431322",
     "exception": false,
     "start_time": "2022-06-25T17:19:15.974486",
     "status": "completed"
    },
    "tags": []
   },
   "outputs": [
    {
     "data": {
      "text/html": [
       "<div>\n",
       "<style scoped>\n",
       "    .dataframe tbody tr th:only-of-type {\n",
       "        vertical-align: middle;\n",
       "    }\n",
       "\n",
       "    .dataframe tbody tr th {\n",
       "        vertical-align: top;\n",
       "    }\n",
       "\n",
       "    .dataframe thead th {\n",
       "        text-align: right;\n",
       "    }\n",
       "</style>\n",
       "<table border=\"1\" class=\"dataframe\">\n",
       "  <thead>\n",
       "    <tr style=\"text-align: right;\">\n",
       "      <th></th>\n",
       "      <th>p</th>\n",
       "      <th>sharpe</th>\n",
       "    </tr>\n",
       "  </thead>\n",
       "  <tbody>\n",
       "    <tr>\n",
       "      <th>0</th>\n",
       "      <td>0.000000</td>\n",
       "      <td>0.231560</td>\n",
       "    </tr>\n",
       "    <tr>\n",
       "      <th>1</th>\n",
       "      <td>0.157895</td>\n",
       "      <td>0.235707</td>\n",
       "    </tr>\n",
       "    <tr>\n",
       "      <th>2</th>\n",
       "      <td>0.315789</td>\n",
       "      <td>0.241554</td>\n",
       "    </tr>\n",
       "    <tr>\n",
       "      <th>3</th>\n",
       "      <td>0.473684</td>\n",
       "      <td>0.251441</td>\n",
       "    </tr>\n",
       "    <tr>\n",
       "      <th>4</th>\n",
       "      <td>0.631579</td>\n",
       "      <td>0.248103</td>\n",
       "    </tr>\n",
       "    <tr>\n",
       "      <th>5</th>\n",
       "      <td>0.789474</td>\n",
       "      <td>0.246861</td>\n",
       "    </tr>\n",
       "    <tr>\n",
       "      <th>6</th>\n",
       "      <td>0.947368</td>\n",
       "      <td>0.245856</td>\n",
       "    </tr>\n",
       "    <tr>\n",
       "      <th>7</th>\n",
       "      <td>1.105263</td>\n",
       "      <td>0.239524</td>\n",
       "    </tr>\n",
       "    <tr>\n",
       "      <th>8</th>\n",
       "      <td>1.263158</td>\n",
       "      <td>0.235748</td>\n",
       "    </tr>\n",
       "    <tr>\n",
       "      <th>9</th>\n",
       "      <td>1.421053</td>\n",
       "      <td>0.218986</td>\n",
       "    </tr>\n",
       "    <tr>\n",
       "      <th>10</th>\n",
       "      <td>1.578947</td>\n",
       "      <td>0.214748</td>\n",
       "    </tr>\n",
       "    <tr>\n",
       "      <th>11</th>\n",
       "      <td>1.736842</td>\n",
       "      <td>0.208899</td>\n",
       "    </tr>\n",
       "    <tr>\n",
       "      <th>12</th>\n",
       "      <td>1.894737</td>\n",
       "      <td>0.205206</td>\n",
       "    </tr>\n",
       "    <tr>\n",
       "      <th>13</th>\n",
       "      <td>2.052632</td>\n",
       "      <td>0.199627</td>\n",
       "    </tr>\n",
       "    <tr>\n",
       "      <th>14</th>\n",
       "      <td>2.210526</td>\n",
       "      <td>0.201010</td>\n",
       "    </tr>\n",
       "    <tr>\n",
       "      <th>15</th>\n",
       "      <td>2.368421</td>\n",
       "      <td>0.199110</td>\n",
       "    </tr>\n",
       "    <tr>\n",
       "      <th>16</th>\n",
       "      <td>2.526316</td>\n",
       "      <td>0.193743</td>\n",
       "    </tr>\n",
       "    <tr>\n",
       "      <th>17</th>\n",
       "      <td>2.684211</td>\n",
       "      <td>0.194930</td>\n",
       "    </tr>\n",
       "    <tr>\n",
       "      <th>18</th>\n",
       "      <td>2.842105</td>\n",
       "      <td>0.193487</td>\n",
       "    </tr>\n",
       "    <tr>\n",
       "      <th>19</th>\n",
       "      <td>3.000000</td>\n",
       "      <td>0.185956</td>\n",
       "    </tr>\n",
       "  </tbody>\n",
       "</table>\n",
       "</div>"
      ],
      "text/plain": [
       "           p    sharpe\n",
       "0   0.000000  0.231560\n",
       "1   0.157895  0.235707\n",
       "2   0.315789  0.241554\n",
       "3   0.473684  0.251441\n",
       "4   0.631579  0.248103\n",
       "5   0.789474  0.246861\n",
       "6   0.947368  0.245856\n",
       "7   1.105263  0.239524\n",
       "8   1.263158  0.235748\n",
       "9   1.421053  0.218986\n",
       "10  1.578947  0.214748\n",
       "11  1.736842  0.208899\n",
       "12  1.894737  0.205206\n",
       "13  2.052632  0.199627\n",
       "14  2.210526  0.201010\n",
       "15  2.368421  0.199110\n",
       "16  2.526316  0.193743\n",
       "17  2.684211  0.194930\n",
       "18  2.842105  0.193487\n",
       "19  3.000000  0.185956"
      ]
     },
     "metadata": {},
     "output_type": "display_data"
    }
   ],
   "source": [
    "# signal demean\n",
    "ret = pd.concat([pd.read_csv(f'{JPX_PATH}/train_files/stock_prices.csv'),\n",
    "                 pd.read_csv(f'{JPX_PATH}/supplemental_files/stock_prices.csv')]) \\\n",
    "    .sort_values(['Date','SecuritiesCode']) \\\n",
    "    .assign(ret = lambda x: x.groupby('SecuritiesCode').Close.pct_change()) \\\n",
    "    .loc[:, ['Date','SecuritiesCode','ret']] \\\n",
    "    .dropna() \\\n",
    "    .reset_index(drop=True)\n",
    "\n",
    "def get_stock_clust(ret, date, n_day, stock_list):\n",
    "    # raw correlation table\n",
    "    corr = ret.loc[lambda x: pd.to_datetime(x.Date)<=date].pivot(index='Date', columns='SecuritiesCode', values='ret').tail(n_day).corr()\n",
    "    corr = corr.reindex(index=stock_list, columns=stock_list)\n",
    "    cols = [c for c in corr if corr[c].notnull().sum()==0]\n",
    "    corr = corr.drop(cols, axis=0).drop(cols, axis=1)\n",
    "    stocks = corr.columns.tolist()\n",
    "\n",
    "    # clustering\n",
    "    pdist = spc.distance.pdist(corr.values)\n",
    "    linkage = spc.linkage(pdist, method='complete')\n",
    "    idx = spc.fcluster(linkage, 0.5 * pdist.max(), 'distance')\n",
    "    stock_corr_clust = pd.DataFrame({'SecuritiesCode':stocks, 'clust':idx}).assign(Date=date).sort_values('clust').reset_index(drop=True)\n",
    "#     clust_map = stock_corr_clust.assign(val=1).pivot('stocks','clust','val').fillna(0).astype(int)\n",
    "    return stock_corr_clust\n",
    "\n",
    "if CLUSTER_DEMEAN:\n",
    "    df_clust = []\n",
    "    for date in df_pred_val.Date.unique():\n",
    "        stock_list = df_pred_val.loc[lambda x: x.Date==date].SecuritiesCode.tolist()\n",
    "        df_clust.append(get_stock_clust(ret, date, CLUST_N_DAY, stock_list))\n",
    "    df_clust = pd.concat(df_clust)\n",
    "    df_pred_val = df_pred_val.merge(df_clust, how='inner', on=['Date','SecuritiesCode'])\n",
    "    clust_mean = df_pred_val.groupby(['Date','clust']).pred_model.mean().reset_index().rename(columns={'pred_model':'pred_model_mean'})\n",
    "    df_pred_val = df_pred_val.merge(clust_mean, how='inner', on=['Date','clust'])\n",
    "    df_pred_val.pred_model = df_pred_val.pred_model - df_pred_val.pred_model_mean\n",
    "\n",
    "# volatility penalty\n",
    "if VOL_PENALTY:\n",
    "    std = ret.pivot(index='Date', columns='SecuritiesCode', values='ret') \\\n",
    "        .rolling(VOL_N_DAY).std() \\\n",
    "        .stack().reset_index() \\\n",
    "        .dropna() \\\n",
    "        .rename(columns={0:'std'}) \\\n",
    "        .assign(Date = lambda x: pd.to_datetime(x.Date))\n",
    "    df_pred_val = df_pred_val.merge(std, how='inner', on=['Date','SecuritiesCode'])\n",
    "    \n",
    "    p_result = []\n",
    "    for p in np.linspace(0,3,20):\n",
    "        df_pred_val['pred_model_new'] = df_pred_val.pred_model / df_pred_val['std'].pow(p)\n",
    "        df_pred_val['Rank'] = df_pred_val.groupby('Date').pred_model_new.rank(method='first', ascending=False).astype(int) - 1\n",
    "        p_result.append((p, calc_spread_return_sharpe(df_pred_val)))\n",
    "    p_result = pd.DataFrame(p_result, columns=['p','sharpe'])\n",
    "    display(p_result)\n",
    "    # identify best power and apply\n",
    "    best_p = p_result.sort_values('sharpe', ascending=False).p.iloc[0]\n",
    "    df_pred_val.pred_model = df_pred_val.pred_model / df_pred_val['std'].pow(best_p)\n",
    "    df_pred_val['Rank'] = df_pred_val.groupby('Date').pred_model.rank(method='first', ascending=False).astype(int) - 1"
   ]
  },
  {
   "cell_type": "code",
   "execution_count": 19,
   "id": "4e203c05",
   "metadata": {
    "execution": {
     "iopub.execute_input": "2022-06-25T18:23:35.557844Z",
     "iopub.status.busy": "2022-06-25T18:23:35.556802Z",
     "iopub.status.idle": "2022-06-25T18:23:38.905770Z",
     "shell.execute_reply": "2022-06-25T18:23:38.906299Z",
     "shell.execute_reply.started": "2022-06-25T17:09:42.434678Z"
    },
    "papermill": {
     "duration": 3.408121,
     "end_time": "2022-06-25T18:23:38.906469",
     "exception": false,
     "start_time": "2022-06-25T18:23:35.498348",
     "status": "completed"
    },
    "tags": []
   },
   "outputs": [
    {
     "name": "stdout",
     "output_type": "stream",
     "text": [
      "[2022-06-26 02:23:36] Average % in top 200: 0.09529999999999998\n",
      "[2022-06-26 02:23:36] Average % in bottom 200: 0.10120000000000001\n",
      "[2022-06-26 02:23:37] Mean long returns: 0.09912204605679029\n",
      "[2022-06-26 02:23:37] Mean short returns: 0.12762112161401834\n",
      "[2022-06-26 02:23:37] Mean net returns: 0.2267431676708087\n",
      "[2022-06-26 02:23:37] Sharpe of long: 0.052206645776935276\n",
      "[2022-06-26 02:23:37] Sharpe of short: 0.06381746347732825\n",
      "[2022-06-26 02:23:37] Sharpe of net: 0.2514410055452348\n"
     ]
    },
    {
     "data": {
      "image/png": "[encoded data removed]",
      "text/plain": [
       "<Figure size 432x288 with 1 Axes>"
      ]
     },
     "metadata": {
      "needs_background": "light"
     },
     "output_type": "display_data"
    },
    {
     "data": {
      "image/png": "[encoded data removed]",
      "text/plain": [
       "<Figure size 432x288 with 1 Axes>"
      ]
     },
     "metadata": {
      "needs_background": "light"
     },
     "output_type": "display_data"
    },
    {
     "data": {
      "image/png": "[encoded data removed]",
      "text/plain": [
       "<Figure size 432x288 with 1 Axes>"
      ]
     },
     "metadata": {
      "needs_background": "light"
     },
     "output_type": "display_data"
    },
    {
     "data": {
      "image/png": "[encoded data removed]",
      "text/plain": [
       "<Figure size 432x288 with 1 Axes>"
      ]
     },
     "metadata": {
      "needs_background": "light"
     },
     "output_type": "display_data"
    }
   ],
   "source": [
    "'''\n",
    "Signal Analysis (after optimization)\n",
    "'''\n",
    "analyze_signal(df_pred_val)"
   ]
  },
  {
   "cell_type": "code",
   "execution_count": 20,
   "id": "acbd3da6",
   "metadata": {
    "execution": {
     "iopub.execute_input": "2022-06-25T18:23:39.034082Z",
     "iopub.status.busy": "2022-06-25T18:23:39.033464Z",
     "iopub.status.idle": "2022-06-25T18:23:39.237438Z",
     "shell.execute_reply": "2022-06-25T18:23:39.237987Z",
     "shell.execute_reply.started": "2022-06-25T16:55:03.054154Z"
    },
    "papermill": {
     "duration": 0.269185,
     "end_time": "2022-06-25T18:23:39.238175",
     "exception": false,
     "start_time": "2022-06-25T18:23:38.968990",
     "status": "completed"
    },
    "tags": []
   },
   "outputs": [],
   "source": [
    "# export validation df\n",
    "df_pred_val.to_feather('df_pred_val')"
   ]
  },
  {
   "cell_type": "markdown",
   "id": "93c9a35e",
   "metadata": {
    "papermill": {
     "duration": 0.061242,
     "end_time": "2022-06-25T18:23:39.361139",
     "exception": false,
     "start_time": "2022-06-25T18:23:39.299897",
     "status": "completed"
    },
    "tags": []
   },
   "source": [
    "# Debug"
   ]
  },
  {
   "cell_type": "code",
   "execution_count": 21,
   "id": "55273f89",
   "metadata": {
    "execution": {
     "iopub.execute_input": "2022-06-25T18:23:39.487531Z",
     "iopub.status.busy": "2022-06-25T18:23:39.486900Z",
     "iopub.status.idle": "2022-06-25T18:23:39.491479Z",
     "shell.execute_reply": "2022-06-25T18:23:39.492055Z",
     "shell.execute_reply.started": "2022-06-25T16:46:41.018688Z"
    },
    "papermill": {
     "duration": 0.06939,
     "end_time": "2022-06-25T18:23:39.492247",
     "exception": false,
     "start_time": "2022-06-25T18:23:39.422857",
     "status": "completed"
    },
    "tags": []
   },
   "outputs": [],
   "source": [
    "# '''\n",
    "# Risk Model calculation\n",
    "# '''\n",
    "# def cal_sigma_pca(df, n_comp, n_day_pca, n_day_beta, stock_list):\n",
    "#     # transform data to Date X Stock\n",
    "#     df = df.pivot(index='Date', columns='SecuritiesCode', values='ret').fillna(0).tail(n_day_pca)[stock_list]\n",
    "#     # find the first k PCs\n",
    "#     pca = PCA(n_components=n_comp).fit(df)\n",
    "#     pc = pca.transform(df)\n",
    "#     # calculate factor loadings\n",
    "#     pc = pc[-n_day_beta:]\n",
    "#     df = df.tail(n_day_beta)\n",
    "#     def cal_beta(X, y):\n",
    "#         return np.linalg.inv(X.T @ X) @ X.T @ y\n",
    "#     B = Parallel(n_jobs=-1)(delayed(cal_beta)(pc, df.iloc[:,i]) for i in range(df.shape[1]))\n",
    "#     B = np.concatenate(B).reshape(-1, n_comp)\n",
    "#     # calculate factor covariance\n",
    "#     Omega = np.cov(pc, rowvar=False)\n",
    "#     # calculate final covariance matrix\n",
    "#     sigma_pca = B @ Omega @ B.T\n",
    "#     # reduce size\n",
    "# #     sigma_pca = sigma_pca.astype(np.float32)\n",
    "#     return sigma_pca\n",
    "\n",
    "# def cal_sigma_basic(df, weight_smooth, n_day_hist, stock_list):\n",
    "#     df = df.pivot(index='Date', columns='SecuritiesCode', values='ret').fillna(0).tail(n_day_hist)[stock_list]\n",
    "#     vol_s = df.std()\n",
    "#     var_s_avg = vol_s.mean()**2\n",
    "#     var_s = vol_s**2\n",
    "#     sigma_basic = weight_smooth * var_s_avg * np.diag(np.ones(df.shape[1])) + (1 - weight_smooth) * np.diag(var_s)\n",
    "#     # reduce size\n",
    "# #     sigma_basic = sigma_basic.astype(np.float32)\n",
    "#     return sigma_basic\n",
    "\n",
    "# def get_cov_matrix(data):\n",
    "#     df_prices, _, _, _, _ = tuple(data.values())\n",
    "#     df_prices['ret'] = df_prices.groupby('SecuritiesCode').Close.pct_change()\n",
    "#     sigma_pca = cal_sigma_pca(df_prices, N_COMP, N_DAY_PCA, N_DAY_BETA)\n",
    "#     sigma_basic = cal_sigma_basic(df_prices, WEIGHT_SMOOTH, N_DAY_BETA)\n",
    "#     return {'sigma_pca':sigma_pca, 'sigma_basic':sigma_basic}"
   ]
  },
  {
   "cell_type": "code",
   "execution_count": 22,
   "id": "b473467c",
   "metadata": {
    "execution": {
     "iopub.execute_input": "2022-06-25T18:23:39.618340Z",
     "iopub.status.busy": "2022-06-25T18:23:39.617661Z",
     "iopub.status.idle": "2022-06-25T18:23:39.620447Z",
     "shell.execute_reply": "2022-06-25T18:23:39.621026Z",
     "shell.execute_reply.started": "2022-06-25T16:46:41.020041Z"
    },
    "papermill": {
     "duration": 0.067087,
     "end_time": "2022-06-25T18:23:39.621215",
     "exception": false,
     "start_time": "2022-06-25T18:23:39.554128",
     "status": "completed"
    },
    "tags": []
   },
   "outputs": [],
   "source": [
    "# weights_raw = df_pred_val.pivot(index='Date',columns='SecuritiesCode',values='pred_model').fillna(0)\n",
    "# weights_raw = weights_raw.rank(axis=1) - 1 / 2\n",
    "# weights_raw = 2 * weights_raw.divide(weights_raw.count(axis=1), axis=0) - 1"
   ]
  },
  {
   "cell_type": "code",
   "execution_count": 23,
   "id": "4c97dd88",
   "metadata": {
    "execution": {
     "iopub.execute_input": "2022-06-25T18:23:39.749915Z",
     "iopub.status.busy": "2022-06-25T18:23:39.749088Z",
     "iopub.status.idle": "2022-06-25T18:23:39.751656Z",
     "shell.execute_reply": "2022-06-25T18:23:39.751128Z",
     "shell.execute_reply.started": "2022-06-25T16:46:41.021687Z"
    },
    "papermill": {
     "duration": 0.068647,
     "end_time": "2022-06-25T18:23:39.751788",
     "exception": false,
     "start_time": "2022-06-25T18:23:39.683141",
     "status": "completed"
    },
    "tags": []
   },
   "outputs": [],
   "source": [
    "# def get_stock_clust(ret, date, n_day, stock_list):\n",
    "#     # raw correlation table\n",
    "#     corr = ret.loc[lambda x: x.Date<=date].pivot(index='Date', columns='SecuritiesCode', values='ret').tail(n_day).corr()\n",
    "#     corr = corr.reindex(index=stock_list, columns=stock_list)\n",
    "#     cols = [c for c in corr if corr[c].notnull().sum()==0]\n",
    "#     corr = corr.drop(cols, axis=0).drop(cols, axis=1)\n",
    "#     stocks = corr.columns.tolist()\n",
    "\n",
    "#     # clustering\n",
    "#     pdist = spc.distance.pdist(corr.values)\n",
    "#     linkage = spc.linkage(pdist, method='complete')\n",
    "#     idx = spc.fcluster(linkage, 0.5 * pdist.max(), 'distance')\n",
    "#     stock_corr_clust = pd.DataFrame({'stocks':stocks, 'clust':idx}).sort_values('clust').reset_index(drop=True)\n",
    "#     clust_map = stock_corr_clust.assign(val=1).pivot('stocks','clust','val').fillna(0).astype(int)\n",
    "#     return clust_map"
   ]
  },
  {
   "cell_type": "code",
   "execution_count": 24,
   "id": "1f3b4708",
   "metadata": {
    "execution": {
     "iopub.execute_input": "2022-06-25T18:23:39.878943Z",
     "iopub.status.busy": "2022-06-25T18:23:39.878246Z",
     "iopub.status.idle": "2022-06-25T18:23:39.884059Z",
     "shell.execute_reply": "2022-06-25T18:23:39.884630Z",
     "shell.execute_reply.started": "2022-06-25T16:46:41.023281Z"
    },
    "papermill": {
     "duration": 0.071137,
     "end_time": "2022-06-25T18:23:39.884792",
     "exception": false,
     "start_time": "2022-06-25T18:23:39.813655",
     "status": "completed"
    },
    "tags": []
   },
   "outputs": [],
   "source": [
    "# '''\n",
    "# Optimize weight for 1 day\n",
    "# '''\n",
    "# # def get_opt_weight(date, weights_raw, opt_gamma, sector_neutral, cov_params, cov_model):\n",
    "# # weights_raw = \n",
    "# # prepare input values\n",
    "\n",
    "# # params\n",
    "# date = '2022-05-27'\n",
    "# cov_model = 'sigma_pca'\n",
    "# opt_gamma = 1000000\n",
    "\n",
    "# # ordered stock list\n",
    "# stock_list = df_pred_val.loc[lambda x: x.Date==date].SecuritiesCode.sort_values().tolist()\n",
    "# n_stock_opt = len(stock_list)\n",
    "\n",
    "# # COV matrix\n",
    "# if cov_model=='sigma_pca':\n",
    "#     sigma = cal_sigma_pca(ret.loc[lambda x: x.Date<=date], n_comp=3, n_day_pca=120, n_day_beta=60, stock_list=stock_list)\n",
    "# elif cov_model=='sigma_basic':\n",
    "#     sigma = cal_sigma_basic(ret.loc[lambda x: x.Date<=date], weight_smooth=0.5, n_day_hist=60, stock_list=stock_list)\n",
    "    \n",
    "# # stock cluster\n",
    "# clust_map = get_stock_clust(ret=ret, date=date, n_day=60, stock_list=stock_list)\n",
    "\n",
    "# # raw weight\n",
    "# weights_raw = df_pred_val.loc[lambda x: x.Date==date].set_index('SecuritiesCode').loc[stock_list, 'pred_model']\n",
    "# weights_raw = weights_raw.rank() - 1 / 2\n",
    "# weights_raw = 2 * weights_raw / weights_raw.shape[0] - 1\n",
    "\n",
    "# # solve by optimizer\n",
    "# mu = weights_raw.values.reshape(1,-1)\n",
    "# w = cp.Variable(n_stock_opt)\n",
    "# gamma = cp.Parameter(nonneg=True)\n",
    "# ret_ = mu @ w \n",
    "# risk = cp.quad_form(w, sigma)\n",
    "# basic_constraints = [cp.sum(w) == 0, cp.abs(w) <= 0.03, cp.norm(w, 1) <= 5]\n",
    "# # basic_constraints = [cp.sum(w) == 0, cp.abs(w) <= 2, cp.norm(w, 1) <= 300]\n",
    "# # basic_constraints = [cp.sum(w) == 0]\n",
    "# clust_constraints = [pd.Series(stock_list).map(clust_map[i]).values.reshape(1,-1) @ w == 0 for i in clust_map]\n",
    "# constraints = basic_constraints + clust_constraints\n",
    "# # constraints = clust_constraints\n",
    "# prob = cp.Problem(cp.Maximize(ret_ - gamma*risk), constraints)\n",
    "# gamma.value = 1e5\n",
    "# prob.solve()\n",
    "\n",
    "# # output optimized weight\n",
    "# w_opt = dict(zip(stock_list, w.value))\n",
    "# w_opt = weights_raw.index.map(w_opt)\n",
    "# w_opt = pd.Series(w_opt, index=weights_raw.index).rename(date)\n",
    "# display(w_opt.hist(bins=30))\n",
    "# #     return w_opt"
   ]
  }
 ],
 "metadata": {
  "kernelspec": {
   "display_name": "Python 3",
   "language": "python",
   "name": "python3"
  },
  "language_info": {
   "codemirror_mode": {
    "name": "ipython",
    "version": 3
   },
   "file_extension": ".py",
   "mimetype": "text/x-python",
   "name": "python",
   "nbconvert_exporter": "python",
   "pygments_lexer": "ipython3",
   "version": "3.7.12"
  },
  "papermill": {
   "default_parameters": {},
   "duration": 4184.354579,
   "end_time": "2022-06-25T18:23:41.572061",
   "environment_variables": {},
   "exception": null,
   "input_path": "__notebook__.ipynb",
   "output_path": "__notebook__.ipynb",
   "parameters": {},
   "start_time": "2022-06-25T17:13:57.217482",
   "version": "2.3.3"
  }
 },
 "nbformat": 4,
 "nbformat_minor": 5
}
