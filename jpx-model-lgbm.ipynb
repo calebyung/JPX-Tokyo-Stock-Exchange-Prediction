{
 "cells": [
  {
   "cell_type": "markdown",
   "id": "5546794c",
   "metadata": {
    "_cell_guid": "b15222f2-a9a1-4475-86cd-d51222fb626d",
    "_uuid": "ea20140c-4b3a-46d0-bbf9-af3fc304651c",
    "papermill": {
     "duration": 0.032612,
     "end_time": "2022-07-01T11:26:43.969863",
     "exception": false,
     "start_time": "2022-07-01T11:26:43.937251",
     "status": "completed"
    },
    "tags": []
   },
   "source": [
    "# Version description\n",
    "- Regression\n",
    "- Only run optimization\n",
    "- PCA feats"
   ]
  },
  {
   "cell_type": "code",
   "execution_count": 1,
   "id": "ba1cd049",
   "metadata": {
    "_cell_guid": "b005a459-e075-4ad5-bbf2-5a82e497b659",
    "_kg_hide-input": true,
    "_uuid": "9ba4aaf5-8cdf-4545-a32c-a102e2c50510",
    "collapsed": false,
    "execution": {
     "iopub.execute_input": "2022-07-01T11:26:44.037282Z",
     "iopub.status.busy": "2022-07-01T11:26:44.036151Z",
     "iopub.status.idle": "2022-07-01T11:26:47.724400Z",
     "shell.execute_reply": "2022-07-01T11:26:47.723562Z",
     "shell.execute_reply.started": "2022-07-01T09:18:59.820549Z"
    },
    "jupyter": {
     "outputs_hidden": false
    },
    "papermill": {
     "duration": 3.723818,
     "end_time": "2022-07-01T11:26:47.724574",
     "exception": false,
     "start_time": "2022-07-01T11:26:44.000756",
     "status": "completed"
    },
    "tags": []
   },
   "outputs": [
    {
     "data": {
      "text/html": [
       "<style type='text/css'>\n",
       ".datatable table.frame { margin-bottom: 0; }\n",
       ".datatable table.frame thead { border-bottom: none; }\n",
       ".datatable table.frame tr.coltypes td {  color: #FFFFFF;  line-height: 6px;  padding: 0 0.5em;}\n",
       ".datatable .bool    { background: #DDDD99; }\n",
       ".datatable .object  { background: #565656; }\n",
       ".datatable .int     { background: #5D9E5D; }\n",
       ".datatable .float   { background: #4040CC; }\n",
       ".datatable .str     { background: #CC4040; }\n",
       ".datatable .time    { background: #40CC40; }\n",
       ".datatable .row_index {  background: var(--jp-border-color3);  border-right: 1px solid var(--jp-border-color0);  color: var(--jp-ui-font-color3);  font-size: 9px;}\n",
       ".datatable .frame tbody td { text-align: left; }\n",
       ".datatable .frame tr.coltypes .row_index {  background: var(--jp-border-color0);}\n",
       ".datatable th:nth-child(2) { padding-left: 12px; }\n",
       ".datatable .hellipsis {  color: var(--jp-cell-editor-border-color);}\n",
       ".datatable .vellipsis {  background: var(--jp-layout-color0);  color: var(--jp-cell-editor-border-color);}\n",
       ".datatable .na {  color: var(--jp-cell-editor-border-color);  font-size: 80%;}\n",
       ".datatable .sp {  opacity: 0.25;}\n",
       ".datatable .footer { font-size: 9px; }\n",
       ".datatable .frame_dimensions {  background: var(--jp-border-color3);  border-top: 1px solid var(--jp-border-color0);  color: var(--jp-ui-font-color3);  display: inline-block;  opacity: 0.6;  padding: 1px 10px 1px 5px;}\n",
       "</style>\n"
      ],
      "text/plain": [
       "<IPython.core.display.HTML object>"
      ]
     },
     "metadata": {},
     "output_type": "display_data"
    }
   ],
   "source": [
    "# import libraries\n",
    "import warnings\n",
    "warnings.filterwarnings(\"ignore\")\n",
    "warnings.simplefilter(action='ignore', category=FutureWarning)\n",
    "import os\n",
    "from os.path import isfile, isdir, join\n",
    "import numpy as np\n",
    "import pandas as pd\n",
    "from datetime import datetime, date\n",
    "from dateutil.relativedelta import relativedelta\n",
    "import re\n",
    "from IPython.display import display\n",
    "from zipfile import ZipFile\n",
    "import pickle\n",
    "import unicodedata\n",
    "import pytz\n",
    "from joblib import Parallel, delayed\n",
    "import shutil \n",
    "import difflib\n",
    "import random\n",
    "import math\n",
    "from shutil import copyfile\n",
    "import itertools\n",
    "import time\n",
    "from tqdm import tqdm\n",
    "import collections\n",
    "from collections import deque\n",
    "import gc\n",
    "import seaborn as sns\n",
    "import scipy.cluster.hierarchy as spc\n",
    "\n",
    "from sklearn.decomposition import PCA\n",
    "from sklearn.linear_model import LinearRegression\n",
    "from sklearn.preprocessing import StandardScaler, MinMaxScaler, QuantileTransformer\n",
    "from sklearn.metrics import ndcg_score, accuracy_score, mean_squared_error\n",
    "\n",
    "import lightgbm as lgbm\n",
    "import optuna\n",
    "from optuna import Trial, visualization\n",
    "\n",
    "import matplotlib as mpl\n",
    "from matplotlib import pyplot as plt\n",
    "\n",
    "import jpx_tokyo_market_prediction\n",
    "\n",
    "from utility_script import *\n",
    "\n",
    "pd.set_option('display.max_columns', None)\n",
    "pd.set_option('display.max_colwidth', None)"
   ]
  },
  {
   "cell_type": "code",
   "execution_count": 2,
   "id": "0d362a30",
   "metadata": {
    "_cell_guid": "3b63e952-3c95-4a28-b5a7-ac6c2f6721d0",
    "_uuid": "03af41cb-1e87-4e26-a419-c820562e705f",
    "collapsed": false,
    "execution": {
     "iopub.execute_input": "2022-07-01T11:26:47.791454Z",
     "iopub.status.busy": "2022-07-01T11:26:47.790743Z",
     "iopub.status.idle": "2022-07-01T11:26:47.807827Z",
     "shell.execute_reply": "2022-07-01T11:26:47.808338Z",
     "shell.execute_reply.started": "2022-07-01T02:11:26.298786Z"
    },
    "jupyter": {
     "outputs_hidden": false
    },
    "papermill": {
     "duration": 0.052721,
     "end_time": "2022-07-01T11:26:47.808537",
     "exception": false,
     "start_time": "2022-07-01T11:26:47.755816",
     "status": "completed"
    },
    "tags": []
   },
   "outputs": [],
   "source": [
    "'''\n",
    "Notebook Parameters\n",
    "'''\n",
    "# basic\n",
    "MODEL = 'reg'\n",
    "FE_PATH = '../input/jpx-feature-engineering-v15/features'\n",
    "SEED = 0\n",
    "SEEDS = [1,2,3,4,5]\n",
    "JPX_PATH = '../input/jpx-tokyo-stock-exchange-prediction'\n",
    "EXTRA_VAL_DATE_START = '2022-05-28'\n",
    "\n",
    "# data sacling\n",
    "SCALER = StandardScaler()\n",
    "SCALE_DAILY = False\n",
    "\n",
    "# drop market features\n",
    "DROP_MARKET_FEATS = False\n",
    "\n",
    "# PCA\n",
    "RUN_PCA = True\n",
    "PCA_SPLIT = False\n",
    "N_COMP = 0.9\n",
    "\n",
    "# target definition\n",
    "RANK_ASCENDING = False # set this to False if model prediction is same direction of Target\n",
    "\n",
    "# data split\n",
    "N_FOLD = 5\n",
    "TRN_SIZE = 240\n",
    "VAL_SIZE = 60\n",
    "TRN_VAL_GAP = 14\n",
    "SPLIT_METHOD = 'trn_val_split_late_val'\n",
    "\n",
    "# model fixed params\n",
    "DEVICE_TYPE = 'CPU'\n",
    "if MODEL=='reg':\n",
    "    EVAL_METRIC, OBJECTIVE = 'rmse', 'rmse'\n",
    "elif MODEL=='clf':\n",
    "    EVAL_METRIC, OBJECTIVE = 'binary_logloss', 'binary'\n",
    "elif MODEL=='clf3':\n",
    "    EVAL_METRIC, OBJECTIVE = 'multi_logloss', 'multiclass'\n",
    "LGBM_VAR_PARAMS = dict(\n",
    "    max_depth = 32,\n",
    "    num_leaves = 32,\n",
    "    learning_rate = 0.05,\n",
    "    min_child_weight = 0.1,\n",
    "    min_child_samples = 1,\n",
    "    subsample = 0.65,\n",
    "    subsample_freq = 1,\n",
    "    colsample_bytree = 0.6,\n",
    "    reg_alpha = 1.5,\n",
    "    reg_lambda = 1.5,\n",
    "    max_bin = 255,\n",
    ")\n",
    "LGBM_FIXED_PARAMS = dict(\n",
    "    boosting_type = 'gbdt',\n",
    "    objective = OBJECTIVE,\n",
    "    n_estimators = 5000,\n",
    "    n_jobs = -1,\n",
    "    random_state = SEED,\n",
    "    device_type = DEVICE_TYPE,\n",
    ")\n",
    "\n",
    "# feature importance\n",
    "RUN_IMP = False\n",
    "N_SHUFFLE = 5\n",
    "N_FEATS_IMP_TEST = 10\n",
    "N_ESTIMATORS_IMP = 50\n",
    "EARLY_STOPPING_ROUNDS_IMP = 9999\n",
    "FEAT_GROUPS = None # fixed output if not running IMP\n",
    "\n",
    "# forward selection\n",
    "RUN_FS = False\n",
    "FS_SPLIT = {'n_stock_feats': 14, 'n_market_feats': 5}\n",
    "SELECTED_STOCK_FEATS = None\n",
    "N_ESTIMATORS_FS = 5000\n",
    "EARLY_STOPPING_ROUNDS_FS = 20\n",
    "N_FEATS_FS = None # top N features considered for FS based on importance\n",
    "N_FEATS_FINAL = None # top N features if skipping FS based on importance\n",
    "SELECTED_FEATS = 'pc27, pc29, pc4, pc28, pc38, pc22, pc34, pc32, pc1, pc23'.split(', ') # fixed features if skipping both IMP and FS\n",
    "\n",
    "# hyperparameters tuning\n",
    "RUN_HP = False\n",
    "N_ESTIMATORS_HP = 5000\n",
    "EARLY_STOPPING_ROUNDS_HP = 30\n",
    "HP_OPT_HRS = 4\n",
    "BEST_PARAMS = {'max_depth': 25, 'num_leaves': 53, 'learning_rate': 0.04824790524229314, 'min_child_weight': 3.0947696539277625, 'subsample': 0.8311377559459633, 'subsample_freq': 4, 'colsample_bytree': 0.5083836000369072, 'reg_alpha': 1.135314309910827, 'reg_lambda': 0.029554415302943275, 'max_bin': 96}\n",
    "\n",
    "# re-fit\n",
    "N_ESTIMATORS_REFIT = 5000\n",
    "EARLY_STOPPING_ROUNDS_REFIT = 30\n",
    "\n",
    "# optimization\n",
    "USE_VAL_FULL = True\n",
    "CLUSTER_DEMEAN = True\n",
    "CLUST_N_DAY = 60\n",
    "VOL_PENALTY = True\n",
    "VOL_N_DAY = 60\n",
    "VOL_POW = 1"
   ]
  },
  {
   "cell_type": "markdown",
   "id": "e5f11af1",
   "metadata": {
    "_cell_guid": "2e724b92-4590-459e-8aca-bdbca426505f",
    "_uuid": "0c18aa6b-9a2c-408a-b1f0-c00a6b832d14",
    "papermill": {
     "duration": 0.031455,
     "end_time": "2022-07-01T11:26:47.870794",
     "exception": false,
     "start_time": "2022-07-01T11:26:47.839339",
     "status": "completed"
    },
    "tags": []
   },
   "source": [
    "# Data preprocessing"
   ]
  },
  {
   "cell_type": "code",
   "execution_count": 3,
   "id": "95929665",
   "metadata": {
    "_cell_guid": "57bb51be-b97c-452e-8ddd-cfc9aa2eb50f",
    "_uuid": "dd91dff6-9ea4-4e6d-b005-8dde1d541a37",
    "collapsed": false,
    "execution": {
     "iopub.execute_input": "2022-07-01T11:26:47.945478Z",
     "iopub.status.busy": "2022-07-01T11:26:47.944681Z",
     "iopub.status.idle": "2022-07-01T11:26:47.962676Z",
     "shell.execute_reply": "2022-07-01T11:26:47.963300Z",
     "shell.execute_reply.started": "2022-07-01T02:11:26.317009Z"
    },
    "jupyter": {
     "outputs_hidden": false
    },
    "papermill": {
     "duration": 0.060186,
     "end_time": "2022-07-01T11:26:47.963539",
     "exception": false,
     "start_time": "2022-07-01T11:26:47.903353",
     "status": "completed"
    },
    "tags": []
   },
   "outputs": [],
   "source": [
    "'''\n",
    "Train-Val split where validation periods are right after train period\n",
    "'''\n",
    "def trn_val_split_even_val(features, val_to_end):\n",
    "    # separate normal and extra data\n",
    "    if EXTRA_VAL_DATE_START!=None:\n",
    "        features, features_extra = features.loc[lambda x: x.Date<EXTRA_VAL_DATE_START].reset_index(drop=True), features.loc[lambda x: x.Date>=EXTRA_VAL_DATE_START].reset_index(drop=True)\n",
    "    \n",
    "    # define start date of each fold\n",
    "    fold_dates = features.Date.drop_duplicates().reset_index(drop=True)\n",
    "    fold_dates = fold_dates.shift(TRN_SIZE + TRN_VAL_GAP + VAL_SIZE).loc[lambda x: x.notnull()].reset_index(drop=True)\n",
    "    fold_dates = fold_dates.loc[np.linspace(0, fold_dates.shape[0]-1, N_FOLD).astype(int)].reset_index(drop=True)\n",
    "\n",
    "    # create and append train + val data\n",
    "    full_dates = features.Date.drop_duplicates().reset_index(drop=True)\n",
    "    full_data = []\n",
    "    for i, date in enumerate(fold_dates):\n",
    "        dates_trn = full_dates.loc[lambda x: x>=date].head(TRN_SIZE)\n",
    "        if val_to_end==False:\n",
    "            dates_val = full_dates.loc[lambda x: x>=date].shift(-TRN_SIZE).shift(-TRN_VAL_GAP).head(VAL_SIZE)\n",
    "        else:\n",
    "            dates_val = full_dates.loc[lambda x: x>=date].shift(-TRN_SIZE).shift(-TRN_VAL_GAP).loc[lambda x: x.notnull()]\n",
    "        full_data.append(features.loc[lambda x: x.Date.isin(dates_trn)].assign(fold=i, trn_val='trn'))\n",
    "        full_data.append(features.loc[lambda x: x.Date.isin(dates_val)].assign(fold=i, trn_val='val'))\n",
    "    \n",
    "    # add back extra data\n",
    "    if EXTRA_VAL_DATE_START!=None:\n",
    "        full_data.append(features_extra.assign(fold=N_FOLD, trn_val='val'))\n",
    "    full_data = pd.concat(full_data).reset_index(drop=True)\n",
    "    return full_data\n",
    "\n",
    "\n",
    "'''\n",
    "Train-Val split where validation periods are farthest in future\n",
    "'''\n",
    "def trn_val_split_late_val(features, val_to_end):\n",
    "    # separate normal and extra data\n",
    "    if EXTRA_VAL_DATE_START!=None:\n",
    "        features, features_extra = features.loc[lambda x: x.Date<EXTRA_VAL_DATE_START].reset_index(drop=True), features.loc[lambda x: x.Date>=EXTRA_VAL_DATE_START].reset_index(drop=True)\n",
    "    \n",
    "    # define start date of each fold\n",
    "    fold_dates = features.Date.drop_duplicates().reset_index(drop=True)\n",
    "    fold_dates = fold_dates.shift(TRN_SIZE + TRN_VAL_GAP + VAL_SIZE).loc[lambda x: x.notnull()].reset_index(drop=True)\n",
    "    fold_dates = fold_dates.loc[np.linspace(0, fold_dates.shape[0]-1, N_FOLD).astype(int)].reset_index(drop=True)\n",
    "\n",
    "    # create and append train + val data\n",
    "    full_dates = features.Date.drop_duplicates().reset_index(drop=True)\n",
    "    val_dates_list = full_dates.tail(VAL_SIZE * N_FOLD).values.reshape(N_FOLD, -1)\n",
    "    full_data = []\n",
    "    for i, date in enumerate(fold_dates):\n",
    "        dates_trn = full_dates.loc[lambda x: x>=date].head(TRN_SIZE)\n",
    "        if val_to_end==False:\n",
    "            dates_val = val_dates_list[i]\n",
    "        else:\n",
    "            dates_val = np.concatenate(val_dates_list[i:])\n",
    "        full_data.append(features.loc[lambda x: x.Date.isin(dates_trn)].assign(fold=i, trn_val='trn'))\n",
    "        full_data.append(features.loc[lambda x: x.Date.isin(dates_val)].assign(fold=i, trn_val='val'))\n",
    "        \n",
    "    # add back extra data\n",
    "    if EXTRA_VAL_DATE_START!=None:\n",
    "        full_data.append(features_extra.assign(fold=N_FOLD, trn_val='val'))\n",
    "    full_data = pd.concat(full_data).reset_index(drop=True)\n",
    "    return full_data"
   ]
  },
  {
   "cell_type": "code",
   "execution_count": 4,
   "id": "f089dea0",
   "metadata": {
    "_cell_guid": "032d60c2-ebe2-48fb-b2e6-db216ffc493a",
    "_uuid": "016285f2-a935-4b9a-a18a-b1f4ca4c33f0",
    "collapsed": false,
    "execution": {
     "iopub.execute_input": "2022-07-01T11:26:48.031590Z",
     "iopub.status.busy": "2022-07-01T11:26:48.030486Z",
     "iopub.status.idle": "2022-07-01T11:26:48.049067Z",
     "shell.execute_reply": "2022-07-01T11:26:48.049612Z",
     "shell.execute_reply.started": "2022-07-01T02:11:26.344079Z"
    },
    "jupyter": {
     "outputs_hidden": false
    },
    "papermill": {
     "duration": 0.054608,
     "end_time": "2022-07-01T11:26:48.049833",
     "exception": false,
     "start_time": "2022-07-01T11:26:47.995225",
     "status": "completed"
    },
    "tags": []
   },
   "outputs": [],
   "source": [
    "'''\n",
    "Function to scale the features\n",
    "'''\n",
    "def jpx_data_scaling(full_data, scaler, daily):\n",
    "    feats = time_features + stock_features\n",
    "    \n",
    "    if daily==False:\n",
    "        data_scaled = []\n",
    "        for fold in range(N_FOLD):\n",
    "            # locate train and val datasets\n",
    "            data_trn = full_data.loc[lambda x: (x.fold==fold) & (x.trn_val=='trn')]\n",
    "            data_val = full_data.loc[lambda x: (x.fold==fold) & (x.trn_val=='val')]\n",
    "            # fit scaler\n",
    "            scaler = scaler.fit(data_trn[feats])\n",
    "            save_pkl(scaler, f'scaler{fold}')\n",
    "            # transform data\n",
    "            data_trn[feats] = scaler.transform(data_trn[feats]).astype(np.float32)\n",
    "            data_val[feats] = scaler.transform(data_val[feats]).astype(np.float32)\n",
    "            # store transformed data\n",
    "            data_scaled.append(data_trn)\n",
    "            data_scaled.append(data_val)\n",
    "        # also transform the extra data, using last fold scaler\n",
    "        if EXTRA_VAL_DATE_START!=None:\n",
    "            data_val = full_data.loc[lambda x: (x.fold==N_FOLD) & (x.trn_val=='val')]\n",
    "            data_val[feats] = scaler.transform(data_val[feats]).astype(np.float32)\n",
    "            data_scaled.append(data_val)\n",
    "        data_scaled = pd.concat(data_scaled).reset_index(drop=True)\n",
    "            \n",
    "    elif daily==True:\n",
    "        # scale stock features for each day\n",
    "        def transform_data(df, scaler, feats):\n",
    "            df[feats] = scaler.fit_transform(df[feats]).astype(np.float32)\n",
    "            return df\n",
    "        full_data = full_data.groupby(['fold','trn_val','Date']).apply(lambda df: transform_data(df, scaler, stock_features))\n",
    "        # then scale time features across days\n",
    "        data_scaled = []\n",
    "        for fold in range(N_FOLD):\n",
    "            # locate train and val datasets\n",
    "            data_trn = full_data.loc[lambda x: (x.fold==fold) & (x.trn_val=='trn')]\n",
    "            data_val = full_data.loc[lambda x: (x.fold==fold) & (x.trn_val=='val')]\n",
    "            # fit scaler\n",
    "            scaler = scaler.fit(data_trn[time_features])\n",
    "            save_pkl(scaler, f'scaler{fold}')\n",
    "            # transform data\n",
    "            data_trn[time_features] = scaler.transform(data_trn[time_features]).astype(np.float32)\n",
    "            data_val[time_features] = scaler.transform(data_val[time_features]).astype(np.float32)\n",
    "            # store transformed data\n",
    "            data_scaled.append(data_trn)\n",
    "            data_scaled.append(data_val)\n",
    "        # also transform the extra data, using last fold scaler\n",
    "        if EXTRA_VAL_DATE_START!=None:\n",
    "            data_val = full_data.loc[lambda x: (x.fold==N_FOLD) & (x.trn_val=='val')]\n",
    "            data_val[feats] = scaler.transform(data_val[feats]).astype(np.float32)\n",
    "            data_scaled.append(data_val)\n",
    "        data_scaled = pd.concat(data_scaled).reset_index(drop=True)\n",
    "        \n",
    "    return data_scaled"
   ]
  },
  {
   "cell_type": "code",
   "execution_count": 5,
   "id": "fa2c6814",
   "metadata": {
    "_cell_guid": "840bc2e3-3a4d-45dc-a68b-ebd8b45e59a2",
    "_uuid": "9fc06ab6-170b-4421-8a2b-c974499d7276",
    "collapsed": false,
    "execution": {
     "iopub.execute_input": "2022-07-01T11:26:48.117608Z",
     "iopub.status.busy": "2022-07-01T11:26:48.116450Z",
     "iopub.status.idle": "2022-07-01T11:26:48.140938Z",
     "shell.execute_reply": "2022-07-01T11:26:48.141517Z",
     "shell.execute_reply.started": "2022-07-01T02:11:26.362817Z"
    },
    "jupyter": {
     "outputs_hidden": false
    },
    "papermill": {
     "duration": 0.059897,
     "end_time": "2022-07-01T11:26:48.141728",
     "exception": false,
     "start_time": "2022-07-01T11:26:48.081831",
     "status": "completed"
    },
    "tags": []
   },
   "outputs": [],
   "source": [
    "'''\n",
    "PCA Compression\n",
    "'''\n",
    "def pca_compress(full_data):\n",
    "    \n",
    "    if PCA_SPLIT==False:\n",
    "        # fit with one fold of traiing data\n",
    "        pca = PCA(n_components=N_COMP, random_state=SEED)\n",
    "        pca.fit(full_data.loc[lambda x: (x.fold==0) & (x.trn_val=='trn'), all_features])\n",
    "        save_pkl(pca, 'pca')\n",
    "        log(f'PCA shape of components: {pca.components_.shape}')\n",
    "        \n",
    "        # tranform the full dataset\n",
    "        cols = [f'pc{x}' for x in range(pca.components_.shape[0])]\n",
    "        compressed_data = []\n",
    "        if EXTRA_VAL_DATE_START!=None:\n",
    "            iter_list = list(itertools.product(range(N_FOLD), ['trn','val'])) + [(N_FOLD, 'val')]\n",
    "        else:\n",
    "            iter_list = list(itertools.product(range(N_FOLD), ['trn','val']))\n",
    "        for fold, trn_val in iter_list:\n",
    "            X = pd.DataFrame(pca.transform(full_data.loc[lambda x: (x.fold==fold) & (x.trn_val==trn_val), all_features]), columns=cols)\n",
    "            header = full_data.loc[lambda x: (x.fold==fold) & (x.trn_val==trn_val), [c for c in full_data.columns if c not in all_features]].reset_index(drop=True)\n",
    "            new_df = pd.concat([header, X], axis=1)\n",
    "            compressed_data.append(new_df)\n",
    "        compressed_data = pd.concat(compressed_data, axis=0).reset_index(drop=True)\n",
    "        col_def = {'all_features': cols,\n",
    "                   'stock_features': None,\n",
    "                   'time_features': None}\n",
    "        \n",
    "    elif PCA_SPLIT==True:\n",
    "        # fit with one fold of traiing data\n",
    "        stock_feats = [c for c in all_features if c not in time_features]\n",
    "        market_feats = [c for c in all_features if c in time_features]\n",
    "        pca_stock = PCA(n_components=N_COMP, random_state=SEED)\n",
    "        pca_market = PCA(n_components=N_COMP, random_state=SEED)\n",
    "        pca_stock.fit(full_data.loc[lambda x: (x.fold==0) & (x.trn_val=='trn'), stock_feats])\n",
    "        pca_market.fit(full_data.loc[lambda x: (x.fold==0) & (x.trn_val=='trn'), market_feats])\n",
    "        save_pkl(pca_stock, 'pca_stock')\n",
    "        save_pkl(pca_market, 'pca_market')\n",
    "        log(f'Stock PCA shape of components: {pca_stock.components_.shape}')\n",
    "        log(f'Market PCA shape of components: {pca_market.components_.shape}')\n",
    "    \n",
    "        # tranform the full dataset\n",
    "        cols_stock = [f'pc_stock{x}' for x in range(pca_stock.components_.shape[0])]\n",
    "        cols_market = [f'pc_market{x}' for x in range(pca_market.components_.shape[0])]\n",
    "        compressed_data = []\n",
    "        if EXTRA_VAL_DATE_START!=None:\n",
    "            iter_list = list(itertools.product(range(N_FOLD), ['trn','val'])) + [(N_FOLD, 'val')]\n",
    "        else:\n",
    "            iter_list = list(itertools.product(range(N_FOLD), ['trn','val']))\n",
    "        for fold, trn_val in iter_list:\n",
    "            X_stock = pd.DataFrame(pca_stock.transform(full_data.loc[lambda x: (x.fold==fold) & (x.trn_val==trn_val), stock_feats]), columns=cols_stock)\n",
    "            X_market = pd.DataFrame(pca_market.transform(full_data.loc[lambda x: (x.fold==fold) & (x.trn_val==trn_val), market_feats]), columns=cols_market)\n",
    "            header = full_data.loc[lambda x: (x.fold==fold) & (x.trn_val==trn_val), [c for c in full_data.columns if c not in all_features]].reset_index(drop=True)\n",
    "            new_df = pd.concat([header, X_stock, X_market], axis=1)\n",
    "            compressed_data.append(new_df)\n",
    "        compressed_data = pd.concat(compressed_data, axis=0).reset_index(drop=True)\n",
    "        col_def = {'all_features': cols_stock + cols_market,\n",
    "                   'stock_features': cols_stock,\n",
    "                   'time_features': cols_market}\n",
    "    return compressed_data, col_def"
   ]
  },
  {
   "cell_type": "markdown",
   "id": "5d78fad8",
   "metadata": {
    "_cell_guid": "d5eb1455-945c-4bba-ab62-251951ac3ce6",
    "_uuid": "f5b1f6c6-71c4-4aad-8293-3f31026c3d72",
    "papermill": {
     "duration": 0.030817,
     "end_time": "2022-07-01T11:26:48.206699",
     "exception": false,
     "start_time": "2022-07-01T11:26:48.175882",
     "status": "completed"
    },
    "tags": []
   },
   "source": [
    "# Model Training Functions"
   ]
  },
  {
   "cell_type": "code",
   "execution_count": 6,
   "id": "26794c2a",
   "metadata": {
    "_cell_guid": "61284cc1-db18-4711-9896-de13e0c1941c",
    "_uuid": "2a2400f6-7114-428b-8886-c2cc630a8c9b",
    "collapsed": false,
    "execution": {
     "iopub.execute_input": "2022-07-01T11:26:48.273275Z",
     "iopub.status.busy": "2022-07-01T11:26:48.272233Z",
     "iopub.status.idle": "2022-07-01T11:26:48.294866Z",
     "shell.execute_reply": "2022-07-01T11:26:48.295401Z",
     "shell.execute_reply.started": "2022-07-01T02:11:26.387266Z"
    },
    "jupyter": {
     "outputs_hidden": false
    },
    "papermill": {
     "duration": 0.057933,
     "end_time": "2022-07-01T11:26:48.295613",
     "exception": false,
     "start_time": "2022-07-01T11:26:48.237680",
     "status": "completed"
    },
    "tags": []
   },
   "outputs": [],
   "source": [
    "'''\n",
    "Function to get sub-columns from table for model fitting\n",
    "'''\n",
    "def get_dataset(df, selected_feats, trn_val):\n",
    "    if trn_val=='val':\n",
    "        df = df.groupby('Date').sample(frac=1.0, random_state=SEED)\n",
    "    df = df.reset_index(drop=True)\n",
    "    grp = df.groupby('Date').size().tolist()\n",
    "    qid = df['Date']\n",
    "    X = df[selected_feats]\n",
    "    y = df['target_train']\n",
    "    target = df['Target']\n",
    "    header = df[id_cols]\n",
    "    return X, y, grp, qid, header, target\n",
    "\n",
    "'''\n",
    "Function to predict scores within groups\n",
    "'''\n",
    "def pred_score(model, X):\n",
    "    if MODEL=='reg':\n",
    "        return pd.Series(model.predict(X))\n",
    "    elif MODEL=='clf':\n",
    "        return pd.Series(model.predict_proba(X)[:,1])\n",
    "    elif MODEL=='clf3':\n",
    "        return pd.Series((model.predict_proba(X) * [-1,0,1]).sum(axis=1))\n",
    "\n",
    "\n",
    "'''\n",
    "Function to transform model output to rank prediction table\n",
    "'''\n",
    "def get_pred_df(header, pred_model, y_true_train, y_true, rank_ascending):\n",
    "    df_pred = pd.concat([header[['RowId','Date','SecuritiesCode']].assign(Date=lambda x: x.Date.dt.strftime('%Y-%m-%d'), SecuritiesCode=lambda x: x.SecuritiesCode.astype(int)).reset_index(drop=True),\n",
    "                        pd.Series(pred_model).rename('pred_model').reset_index(drop=True),\n",
    "                        y_true_train.reset_index(drop=True),\n",
    "                        y_true.reset_index(drop=True)\n",
    "                        ], axis=1)\n",
    "    df_pred['Rank'] = df_pred.groupby('Date').pred_model.rank(method='first', ascending=rank_ascending).astype(int) - 1\n",
    "    return df_pred\n",
    "\n",
    "'''\n",
    "Official function to calculate Sharpe Ratio given a prediction\n",
    "'''\n",
    "def _calc_spread_return_per_day(df, portfolio_size, toprank_weight_ratio):\n",
    "    assert df['Rank'].min() == 0\n",
    "    assert df['Rank'].max() == len(df['Rank']) - 1\n",
    "    weights = np.linspace(start=toprank_weight_ratio, stop=1, num=portfolio_size)\n",
    "    purchase = (df.sort_values(by='Rank')['Target'][:portfolio_size] * weights).sum() / weights.mean()\n",
    "    short = (df.sort_values(by='Rank', ascending=False)['Target'][:portfolio_size] * weights).sum() / weights.mean()\n",
    "    return purchase - short\n",
    "\n",
    "def my_calc_spread_return_per_day(df, portfolio_size, toprank_weight_ratio):\n",
    "    assert df['Rank'].min() == 0\n",
    "    assert df['Rank'].max() == len(df['Rank']) - 1\n",
    "    weights = np.linspace(start=toprank_weight_ratio, stop=1, num=portfolio_size)\n",
    "    purchase = (df.sort_values(by='Rank')['Target'][:portfolio_size] * weights).sum() / weights.mean()\n",
    "    short = (df.sort_values(by='Rank', ascending=False)['Target'][:portfolio_size] * weights).sum() / weights.mean()\n",
    "    return pd.DataFrame({'long':[purchase],'short':[short],'net':[purchase - short]})\n",
    "\n",
    "def calc_spread_return_sharpe(df: pd.DataFrame, portfolio_size: int = 200, toprank_weight_ratio: float = 2) -> float:\n",
    "    buf = df.groupby('Date').apply(_calc_spread_return_per_day, portfolio_size, toprank_weight_ratio)\n",
    "    sharpe_ratio = buf.mean() / buf.std()\n",
    "    return sharpe_ratio"
   ]
  },
  {
   "cell_type": "code",
   "execution_count": 7,
   "id": "14f6421d",
   "metadata": {
    "_cell_guid": "ee0d582a-9c6d-4444-9fda-a0c75b0b4d1b",
    "_uuid": "05e39821-b366-434e-b4f2-206e27fcf90c",
    "collapsed": false,
    "execution": {
     "iopub.execute_input": "2022-07-01T11:26:48.361972Z",
     "iopub.status.busy": "2022-07-01T11:26:48.360951Z",
     "iopub.status.idle": "2022-07-01T11:26:48.386951Z",
     "shell.execute_reply": "2022-07-01T11:26:48.387501Z",
     "shell.execute_reply.started": "2022-07-01T02:11:26.408633Z"
    },
    "jupyter": {
     "outputs_hidden": false
    },
    "papermill": {
     "duration": 0.061012,
     "end_time": "2022-07-01T11:26:48.387712",
     "exception": false,
     "start_time": "2022-07-01T11:26:48.326700",
     "status": "completed"
    },
    "tags": []
   },
   "outputs": [],
   "source": [
    "'''\n",
    "Training function\n",
    "'''\n",
    "def train_model(fold, params, mode):\n",
    "    # unpack model params\n",
    "    selected_feats = params['selected_feats']\n",
    "    lgbm_var_params = params['lgbm_var_params']\n",
    "    lgbm_fixed_params = params['lgbm_fixed_params']\n",
    "    lgbm_fixed_params['n_estimators'] = params['n_estimators']\n",
    "    early_stopping_rounds = params['early_stopping_rounds']\n",
    "    \n",
    "    # define dataset\n",
    "    data_trn = full_data.loc[lambda x: (x.fold==fold) & (x.trn_val=='trn')]\n",
    "    data_val = full_data.loc[lambda x: (x.fold==fold) & (x.trn_val=='val')]\n",
    "    data_val_full = full_data.loc[lambda x: (x.fold>=fold) & (x.trn_val=='val')]\n",
    "    X_trn, y_trn, grp_trn, qid_trn, header_trn, target_trn = get_dataset(data_trn, selected_feats, 'trn')\n",
    "    X_val, y_val, grp_val, qid_val, header_val, target_val = get_dataset(data_val, selected_feats, 'val')\n",
    "    X_val_full, y_val_full, grp_val_full, qid_val_full, header_val_full, target_val_full = get_dataset(data_val_full, selected_feats, 'val')\n",
    "    # model fit\n",
    "    if MODEL=='reg':\n",
    "        model = lgbm.LGBMRegressor(**lgbm_fixed_params, **lgbm_var_params)\n",
    "    elif MODEL=='clf':\n",
    "        model = lgbm.LGBMClassifier(**lgbm_fixed_params, **lgbm_var_params)\n",
    "    elif MODEL=='clf3':\n",
    "        model = lgbm.LGBMClassifier(**lgbm_fixed_params, **lgbm_var_params)\n",
    "    model.fit(\n",
    "        X = X_trn,\n",
    "        y = y_trn,\n",
    "        eval_set = [(X_val, y_val)],\n",
    "        eval_names = ['Validation'],\n",
    "        verbose = False,\n",
    "        eval_metric = EVAL_METRIC,\n",
    "        early_stopping_rounds = early_stopping_rounds\n",
    "    )\n",
    "\n",
    "    # output\n",
    "    if mode == 'val_score_only':\n",
    "        output = model.best_score_['Validation'][EVAL_METRIC] # this score is for minimization problem\n",
    "        \n",
    "    if mode == 'val_sharpe_only':\n",
    "        pred_val = pred_score(model, X_val)\n",
    "        df_pred_val = get_pred_df(header_val, pred_val, y_val, target_val, RANK_ASCENDING)\n",
    "        sharpe_val = calc_spread_return_sharpe(df_pred_val)\n",
    "        output = sharpe_val * -1 # this score is for minimization problem\n",
    "        \n",
    "    if mode == 'feat_imp':\n",
    "        model.set_params(importance_type='gain')\n",
    "        imp_gain = model.feature_importances_\n",
    "        model.set_params(importance_type='split')\n",
    "        imp_split = model.feature_importances_\n",
    "        output = pd.concat([\n",
    "            pd.DataFrame({'feat':model.feature_name_, 'imp':imp_gain}).assign(imp_type='gain', imp=lambda x: x.imp.rank()),\n",
    "            pd.DataFrame({'feat':model.feature_name_, 'imp':imp_split}).assign(imp_type='split', imp=lambda x: x.imp.rank())\n",
    "        ], axis=0).assign(fold=fold)\n",
    "    \n",
    "    if mode == 'normal':\n",
    "        # save model\n",
    "        save_pkl(model, f\"model{fold}_seed{SEED}\")\n",
    "        # number of distinct predicted values\n",
    "        n_uniq_trn = pd.concat([pred_score(model, X_trn).rename('score'), header_trn], axis=1).groupby('Date').score.nunique().mean()\n",
    "        n_uniq_val = pd.concat([pred_score(model, X_val).rename('score'), header_val], axis=1).groupby('Date').score.nunique().mean()\n",
    "        # prediction\n",
    "        pred_trn = pred_score(model, X_trn)\n",
    "        pred_val = pred_score(model, X_val)\n",
    "        pred_val_full = pred_score(model, X_val_full)\n",
    "        # prediction df\n",
    "        df_pred_trn = get_pred_df(header_trn, pred_trn, y_trn, target_trn, RANK_ASCENDING)\n",
    "        df_pred_val = get_pred_df(header_val, pred_val, y_val, target_val, RANK_ASCENDING)\n",
    "        df_pred_val_full = get_pred_df(header_val_full, pred_val_full, y_val_full, target_val_full, RANK_ASCENDING)\n",
    "        # sharpe\n",
    "        sharpe_trn = calc_spread_return_sharpe(df_pred_trn)\n",
    "        sharpe_val = calc_spread_return_sharpe(df_pred_val)\n",
    "        sharpe_val_full = calc_spread_return_sharpe(df_pred_val_full)\n",
    "        # output dict\n",
    "        output = dict(\n",
    "            fold = fold,\n",
    "            params = params,\n",
    "            best_iteration_ = model.best_iteration_,\n",
    "            best_score_ = model.best_score_['Validation'][EVAL_METRIC],\n",
    "            sharpe = {'trn': sharpe_trn, 'val': sharpe_val},\n",
    "            ann_sharpe = {'trn': sharpe_trn * np.sqrt(240), 'val': sharpe_val * np.sqrt(240)},\n",
    "            evals_result_ = model.evals_result_['Validation'][EVAL_METRIC],\n",
    "            feat_imp = pd.DataFrame(list(zip(model.feature_name_, model.feature_importances_)), columns=['feat','imp']),\n",
    "            df_pred_val = df_pred_val,\n",
    "            df_pred_val_full = df_pred_val_full,\n",
    "            n_uniq_trn = n_uniq_trn,\n",
    "            n_uniq_val = n_uniq_val,\n",
    "        )\n",
    "    return output"
   ]
  },
  {
   "cell_type": "markdown",
   "id": "996d10cb",
   "metadata": {
    "_cell_guid": "4ae5c053-cde2-408f-8434-08f72e7fbe43",
    "_uuid": "c0665788-ec0d-4565-a218-b14eb139cccb",
    "papermill": {
     "duration": 0.031095,
     "end_time": "2022-07-01T11:26:48.449829",
     "exception": false,
     "start_time": "2022-07-01T11:26:48.418734",
     "status": "completed"
    },
    "tags": []
   },
   "source": [
    "# Feature Importance"
   ]
  },
  {
   "cell_type": "code",
   "execution_count": 8,
   "id": "c0b17f06",
   "metadata": {
    "_cell_guid": "e35920eb-c5d0-410c-957a-a27061b45999",
    "_uuid": "4bfaf43b-c7ad-4a72-8510-21da85095d9c",
    "collapsed": false,
    "execution": {
     "iopub.execute_input": "2022-07-01T11:26:48.522068Z",
     "iopub.status.busy": "2022-07-01T11:26:48.521013Z",
     "iopub.status.idle": "2022-07-01T11:26:48.525594Z",
     "shell.execute_reply": "2022-07-01T11:26:48.526200Z",
     "shell.execute_reply.started": "2022-07-01T02:11:26.434306Z"
    },
    "jupyter": {
     "outputs_hidden": false
    },
    "papermill": {
     "duration": 0.04585,
     "end_time": "2022-07-01T11:26:48.526427",
     "exception": false,
     "start_time": "2022-07-01T11:26:48.480577",
     "status": "completed"
    },
    "tags": []
   },
   "outputs": [],
   "source": [
    "def run_feature_importance():\n",
    "    # random sampling of features\n",
    "    all_feats = all_features.copy()\n",
    "    feat_groups = []\n",
    "    for i in range(N_SHUFFLE):\n",
    "        random.shuffle(all_feats)\n",
    "        n_groups = math.floor(len(all_feats)/N_FEATS_IMP_TEST)\n",
    "        feat_groups += np.array(all_feats[:N_FEATS_IMP_TEST*n_groups]).reshape(-1,N_FEATS_IMP_TEST).tolist()\n",
    "    log(f'Total number of run: {len(feat_groups)}')\n",
    "    \n",
    "    # calculate feature importance\n",
    "    df_imp = []\n",
    "    for i, group in enumerate(feat_groups):\n",
    "        for fold in range(N_FOLD):\n",
    "            params = {'selected_feats': group, \n",
    "                      'lgbm_var_params': LGBM_VAR_PARAMS,\n",
    "                      'lgbm_fixed_params': LGBM_FIXED_PARAMS, \n",
    "                      'n_estimators': N_ESTIMATORS_IMP,\n",
    "                      'early_stopping_rounds': EARLY_STOPPING_ROUNDS_IMP}\n",
    "            df_imp.append(train_model(fold, params, 'feat_imp'))\n",
    "        log(f'Completed running feature group {i}') if i%10==0 else None\n",
    "    df_imp = pd.concat(df_imp)\n",
    "    df_imp_agg = df_imp.groupby('feat').imp.mean().sort_values(ascending=False).reset_index()\n",
    "    df_imp_agg.to_csv('df_imp_agg.csv', index=False)\n",
    "    display(df_imp_agg.head(10))\n",
    "\n",
    "    # plotting feature importance\n",
    "    df_imp_agg.sort_values('imp', ascending=True).set_index('feat').plot.barh(figsize=(20, 20))\n",
    "    return df_imp_agg"
   ]
  },
  {
   "cell_type": "markdown",
   "id": "2e8445ce",
   "metadata": {
    "_cell_guid": "c9088e40-e6a2-48c7-aa56-7ebebfdbb6b0",
    "_uuid": "4ded5e7c-ce6a-4f9b-914e-89a81dbdd9a5",
    "papermill": {
     "duration": 0.030858,
     "end_time": "2022-07-01T11:26:48.588353",
     "exception": false,
     "start_time": "2022-07-01T11:26:48.557495",
     "status": "completed"
    },
    "tags": []
   },
   "source": [
    "# Forward Selection"
   ]
  },
  {
   "cell_type": "code",
   "execution_count": 9,
   "id": "ea3db5ed",
   "metadata": {
    "_cell_guid": "0cff38e7-5f57-4bb2-8f07-153243c19031",
    "_uuid": "f89b874b-7214-4f23-8abf-98f13bfe9d92",
    "collapsed": false,
    "execution": {
     "iopub.execute_input": "2022-07-01T11:26:48.663069Z",
     "iopub.status.busy": "2022-07-01T11:26:48.661870Z",
     "iopub.status.idle": "2022-07-01T11:26:48.666645Z",
     "shell.execute_reply": "2022-07-01T11:26:48.667167Z",
     "shell.execute_reply.started": "2022-07-01T02:11:26.449334Z"
    },
    "jupyter": {
     "outputs_hidden": false
    },
    "papermill": {
     "duration": 0.046264,
     "end_time": "2022-07-01T11:26:48.667375",
     "exception": false,
     "start_time": "2022-07-01T11:26:48.621111",
     "status": "completed"
    },
    "tags": []
   },
   "outputs": [],
   "source": [
    "'''\n",
    "Forward Selection function\n",
    "'''\n",
    "def forward_selection(base_feats, feat_groups, name):\n",
    "    if base_feats==None:\n",
    "        base_feats = []\n",
    "    hist = []\n",
    "    while len(feat_groups) > 0:\n",
    "        scores = []\n",
    "        for feats in feat_groups:\n",
    "            # calculate CV score\n",
    "            params = {'selected_feats': base_feats + feats, \n",
    "                      'lgbm_var_params': LGBM_VAR_PARAMS, \n",
    "                      'lgbm_fixed_params': LGBM_FIXED_PARAMS, \n",
    "                      'n_estimators': N_ESTIMATORS_FS, \n",
    "                      'early_stopping_rounds': EARLY_STOPPING_ROUNDS_FS}\n",
    "            mean_score = np.mean([train_model(fold, params, 'val_sharpe_only') for fold in range(N_FOLD)])\n",
    "            scores.append(mean_score)\n",
    "            hist.append((mean_score,\n",
    "                         len(base_feats + feats),\n",
    "                         ', '.join(base_feats + feats)\n",
    "                         ))\n",
    "            log(f'Score: {mean_score}; Num features: {len(base_feats + feats)}; Features: {\", \".join(base_feats + feats)}')\n",
    "        # add the new feature (group) which gives minimum score\n",
    "        base_feats += feat_groups[np.argmin(scores)]\n",
    "        # remove the added feature (group) from remaining candidate pool\n",
    "        del feat_groups[np.argmin(scores)]\n",
    "    hist = pd.DataFrame(hist, columns=['score','len_feats','total_feats'])\n",
    "    hist.to_csv(f'fs_hist_{name}.csv', index=False)\n",
    "    return hist"
   ]
  },
  {
   "cell_type": "markdown",
   "id": "6450d99f",
   "metadata": {
    "_cell_guid": "95270dd6-5047-439b-8bc6-756f97933ae7",
    "_uuid": "b2b3b79f-9466-4f3d-961d-65efc21ac438",
    "papermill": {
     "duration": 0.031508,
     "end_time": "2022-07-01T11:26:48.731060",
     "exception": false,
     "start_time": "2022-07-01T11:26:48.699552",
     "status": "completed"
    },
    "tags": []
   },
   "source": [
    "# Hyperparameter Tuning"
   ]
  },
  {
   "cell_type": "code",
   "execution_count": 10,
   "id": "04360d37",
   "metadata": {
    "_cell_guid": "9e5d5d2c-606f-4ae1-bf25-f828a1fb34cd",
    "_uuid": "001f907d-18db-4a36-83d6-ef8e39e9d590",
    "collapsed": false,
    "execution": {
     "iopub.execute_input": "2022-07-01T11:26:48.807821Z",
     "iopub.status.busy": "2022-07-01T11:26:48.802332Z",
     "iopub.status.idle": "2022-07-01T11:26:48.811079Z",
     "shell.execute_reply": "2022-07-01T11:26:48.811596Z",
     "shell.execute_reply.started": "2022-07-01T02:11:26.464066Z"
    },
    "jupyter": {
     "outputs_hidden": false
    },
    "papermill": {
     "duration": 0.048682,
     "end_time": "2022-07-01T11:26:48.811768",
     "exception": false,
     "start_time": "2022-07-01T11:26:48.763086",
     "status": "completed"
    },
    "tags": []
   },
   "outputs": [],
   "source": [
    "'''\n",
    "Hyperparameter Optimization function\n",
    "'''\n",
    "def Objective(trial):\n",
    "    lgbm_var_params = dict(\n",
    "        max_depth = trial.suggest_int('max_depth', 2, 32, log=True),\n",
    "        num_leaves = trial.suggest_int('num_leaves', 16, 64, log=True),\n",
    "        learning_rate = trial.suggest_float(\"learning_rate\", 0.005, 0.2),\n",
    "        min_child_weight = trial.suggest_float(\"min_child_weight\", 1e-3, 4, log=True),\n",
    "        subsample = trial.suggest_float(\"subsample\", 0.5, 1),\n",
    "        subsample_freq = trial.suggest_categorical(\"subsample_freq\", [1,2,4,6,8]),\n",
    "        colsample_bytree = trial.suggest_float(\"colsample_bytree\", 0.5, 1),\n",
    "        reg_alpha = trial.suggest_float(\"reg_alpha\", 1e-2, 16, log=True),\n",
    "        reg_lambda = trial.suggest_float(\"reg_lambda\", 1e-2, 16, log=True),\n",
    "        max_bin = trial.suggest_int('max_bin', 50, 500),\n",
    "    )\n",
    "    \n",
    "    # pack all params\n",
    "    params = {'selected_feats': selected_feats, \n",
    "              'lgbm_var_params': lgbm_var_params, \n",
    "              'lgbm_fixed_params': LGBM_FIXED_PARAMS, \n",
    "              'n_estimators': N_ESTIMATORS_HP, \n",
    "              'early_stopping_rounds': EARLY_STOPPING_ROUNDS_HP}\n",
    "    # return average CV score\n",
    "    cv_score = np.mean([train_model(fold, params, 'val_sharpe_only') for fold in range(N_FOLD)])\n",
    "    return cv_score\n",
    "\n",
    "\n",
    "def optimize_hp():\n",
    "    # run optimization\n",
    "    study = optuna.create_study(direction=\"minimize\", study_name='LGBM optimization')\n",
    "    study.optimize(Objective, timeout=HP_OPT_HRS*60*60)\n",
    "    \n",
    "    # save results\n",
    "    best_params = study.best_params\n",
    "    best_score = study.best_value\n",
    "    log(best_params)\n",
    "    log(f'Best score is {best_score}')\n",
    "    trials = study.trials_dataframe()\n",
    "    trials.to_csv(f'trials.csv', index=False)\n",
    "    save_pkl(best_params, f'best_params')\n",
    "    save_pkl(study, f'study')\n",
    "    \n",
    "    # visualise relationship between parameter and CV score\n",
    "    for c in trials.columns:\n",
    "        if c[:7]=='params_':\n",
    "            new_plot()\n",
    "            trials.plot.scatter(c, 'value')\n",
    "            plt.grid()\n",
    "            plt.title(c)\n",
    "            plt.show()\n",
    "    return best_params"
   ]
  },
  {
   "cell_type": "markdown",
   "id": "8ba4dccf",
   "metadata": {
    "_cell_guid": "1cee35c2-f082-47a1-bc75-95253aac4c9d",
    "_uuid": "15dc82b1-e14c-45ce-af57-5ddfd91f413a",
    "papermill": {
     "duration": 0.030326,
     "end_time": "2022-07-01T11:26:48.872749",
     "exception": false,
     "start_time": "2022-07-01T11:26:48.842423",
     "status": "completed"
    },
    "tags": []
   },
   "source": [
    "# Signal Analysis"
   ]
  },
  {
   "cell_type": "code",
   "execution_count": 11,
   "id": "89a6afc1",
   "metadata": {
    "_cell_guid": "caf45d20-3cc4-4010-9f6b-8e5c26c35007",
    "_uuid": "c4665fbd-0828-4d88-9fc0-ae8e596eebc6",
    "collapsed": false,
    "execution": {
     "iopub.execute_input": "2022-07-01T11:26:48.939232Z",
     "iopub.status.busy": "2022-07-01T11:26:48.938526Z",
     "iopub.status.idle": "2022-07-01T11:26:48.959236Z",
     "shell.execute_reply": "2022-07-01T11:26:48.959771Z",
     "shell.execute_reply.started": "2022-07-01T02:11:26.479989Z"
    },
    "jupyter": {
     "outputs_hidden": false
    },
    "papermill": {
     "duration": 0.056268,
     "end_time": "2022-07-01T11:26:48.959965",
     "exception": false,
     "start_time": "2022-07-01T11:26:48.903697",
     "status": "completed"
    },
    "tags": []
   },
   "outputs": [],
   "source": [
    "def analyze_signal(df):\n",
    "    # preprocess\n",
    "    df.Date = pd.to_datetime(df.Date)\n",
    "    df['rank_pred'] = df.groupby('Date').pred_model.rank(method='first',ascending=True)\n",
    "    df['rank_true'] = df.groupby('Date').target_train.rank(method='first',ascending=True)\n",
    "\n",
    "    # distribution of model prediction\n",
    "    new_plot()\n",
    "    df.pred_model.hist(bins=100)\n",
    "    plt.grid()\n",
    "    plt.title('Distribution of model prediction')\n",
    "\n",
    "    # percentage in correct region\n",
    "    new_plot()\n",
    "    n = 200\n",
    "    top = df.groupby('Date').apply(lambda df: df.loc[lambda x: (x.rank_true>=2000-n) & (x.rank_pred>=2000-n)].shape[0]).divide(n)\n",
    "    bottom = df.groupby('Date').apply(lambda df: df.loc[lambda x: (x.rank_true<=n) & (x.rank_pred<=n)].shape[0]).divide(n)\n",
    "    top.rolling(20).mean().plot(label='top')\n",
    "    bottom.rolling(20).mean().plot(label='bottom')\n",
    "    plt.legend(bbox_to_anchor=(1.1, 1.05))\n",
    "    plt.grid()\n",
    "    plt.title('% in correct region')\n",
    "    log(f'Average % in top 200: {top.mean()}')\n",
    "    log(f'Average % in bottom 200: {bottom.mean()}')\n",
    "\n",
    "    # portfolio return analysis\n",
    "    ret = df.groupby('Date').apply(my_calc_spread_return_per_day, 200, 2)\n",
    "    ret = ret.reset_index().set_index('Date') \\\n",
    "        .assign(short = lambda x: -1 * x.short)\n",
    "\n",
    "    # cumulative returns\n",
    "    new_plot()\n",
    "    ret.long.cumsum().plot(label='long')\n",
    "    ret.short.cumsum().plot(label='short')\n",
    "    ret.net.cumsum().plot(label='net')\n",
    "    plt.legend(bbox_to_anchor=(1.1, 1.05))\n",
    "    plt.grid()\n",
    "    plt.title('Cumulative Returns')\n",
    "    log(f'Mean long returns: {ret.long.mean()}')\n",
    "    log(f'Mean short returns: {ret.short.mean()}')\n",
    "    log(f'Mean net returns: {ret.net.mean()}')\n",
    "\n",
    "    # rolling sharpes\n",
    "    new_plot()\n",
    "    ret.long.rolling(60).apply(lambda s: s.mean()/s.std()).plot(label='long')\n",
    "    ret.short.rolling(60).apply(lambda s: s.mean()/s.std()).plot(label='short')\n",
    "    ret.net.rolling(60).apply(lambda s: s.mean()/s.std()).plot(label='net')\n",
    "    plt.legend(bbox_to_anchor=(1.1, 1.05))\n",
    "    plt.grid()\n",
    "    plt.title('Rolling Sharpes')\n",
    "    log(f'Sharpe of long: {ret.long.mean() / ret.long.std()}')\n",
    "    log(f'Sharpe of short: {ret.short.mean() / ret.short.std()}')\n",
    "    log(f'Sharpe of net: {ret.net.mean() / ret.net.std()}')\n",
    "    \n",
    "    # overall sharpe\n",
    "    overall_sharpe = calc_spread_return_sharpe(df)\n",
    "    last_6m_sharpe = calc_spread_return_sharpe(df.loc[lambda x: x.Date.isin(df.Date.drop_duplicates().tail(120))])\n",
    "    last_3m_sharpe = calc_spread_return_sharpe(df.loc[lambda x: x.Date.isin(df.Date.drop_duplicates().tail(60))])\n",
    "    log(f'Overall sharpe: {overall_sharpe}')\n",
    "    log(f'Last 6m sharpe: {last_6m_sharpe}')\n",
    "    log(f'Last 3m sharpe: {last_3m_sharpe}')"
   ]
  },
  {
   "cell_type": "markdown",
   "id": "3f322001",
   "metadata": {
    "_cell_guid": "2f1e1fcb-6dbf-4fcf-a2fe-fb8aae8ee950",
    "_uuid": "9e0a7959-d1ef-48ec-a32b-05bb5c78b944",
    "papermill": {
     "duration": 0.030702,
     "end_time": "2022-07-01T11:26:49.022562",
     "exception": false,
     "start_time": "2022-07-01T11:26:48.991860",
     "status": "completed"
    },
    "tags": []
   },
   "source": [
    "# Execution"
   ]
  },
  {
   "cell_type": "code",
   "execution_count": 12,
   "id": "03089a36",
   "metadata": {
    "_cell_guid": "5bfd2cc3-8990-4f77-a4b8-635342b015c6",
    "_uuid": "bd3d15df-7149-417e-8260-58d4615ed06f",
    "collapsed": false,
    "execution": {
     "iopub.execute_input": "2022-07-01T11:26:49.088481Z",
     "iopub.status.busy": "2022-07-01T11:26:49.087772Z",
     "iopub.status.idle": "2022-07-01T11:28:07.924178Z",
     "shell.execute_reply": "2022-07-01T11:28:07.925143Z",
     "shell.execute_reply.started": "2022-07-01T02:11:26.503287Z"
    },
    "jupyter": {
     "outputs_hidden": false
    },
    "papermill": {
     "duration": 78.871699,
     "end_time": "2022-07-01T11:28:07.925651",
     "exception": false,
     "start_time": "2022-07-01T11:26:49.053952",
     "status": "completed"
    },
    "tags": []
   },
   "outputs": [
    {
     "data": {
      "text/html": [
       "<div>\n",
       "<style scoped>\n",
       "    .dataframe tbody tr th:only-of-type {\n",
       "        vertical-align: middle;\n",
       "    }\n",
       "\n",
       "    .dataframe tbody tr th {\n",
       "        vertical-align: top;\n",
       "    }\n",
       "\n",
       "    .dataframe thead tr th {\n",
       "        text-align: left;\n",
       "    }\n",
       "\n",
       "    .dataframe thead tr:last-of-type th {\n",
       "        text-align: right;\n",
       "    }\n",
       "</style>\n",
       "<table border=\"1\" class=\"dataframe\">\n",
       "  <thead>\n",
       "    <tr>\n",
       "      <th></th>\n",
       "      <th></th>\n",
       "      <th colspan=\"3\" halign=\"left\">Date</th>\n",
       "    </tr>\n",
       "    <tr>\n",
       "      <th></th>\n",
       "      <th></th>\n",
       "      <th>min</th>\n",
       "      <th>max</th>\n",
       "      <th>nunique</th>\n",
       "    </tr>\n",
       "    <tr>\n",
       "      <th>fold</th>\n",
       "      <th>trn_val</th>\n",
       "      <th></th>\n",
       "      <th></th>\n",
       "      <th></th>\n",
       "    </tr>\n",
       "  </thead>\n",
       "  <tbody>\n",
       "    <tr>\n",
       "      <th rowspan=\"2\" valign=\"top\">0</th>\n",
       "      <th>trn</th>\n",
       "      <td>2019-01-16</td>\n",
       "      <td>2020-01-14</td>\n",
       "      <td>240</td>\n",
       "    </tr>\n",
       "    <tr>\n",
       "      <th>val</th>\n",
       "      <td>2021-03-05</td>\n",
       "      <td>2021-06-02</td>\n",
       "      <td>60</td>\n",
       "    </tr>\n",
       "    <tr>\n",
       "      <th rowspan=\"2\" valign=\"top\">1</th>\n",
       "      <th>trn</th>\n",
       "      <td>2019-07-23</td>\n",
       "      <td>2020-07-16</td>\n",
       "      <td>240</td>\n",
       "    </tr>\n",
       "    <tr>\n",
       "      <th>val</th>\n",
       "      <td>2021-06-03</td>\n",
       "      <td>2021-08-30</td>\n",
       "      <td>60</td>\n",
       "    </tr>\n",
       "    <tr>\n",
       "      <th rowspan=\"2\" valign=\"top\">2</th>\n",
       "      <th>trn</th>\n",
       "      <td>2020-01-30</td>\n",
       "      <td>2021-01-22</td>\n",
       "      <td>240</td>\n",
       "    </tr>\n",
       "    <tr>\n",
       "      <th>val</th>\n",
       "      <td>2021-08-31</td>\n",
       "      <td>2021-11-26</td>\n",
       "      <td>60</td>\n",
       "    </tr>\n",
       "    <tr>\n",
       "      <th rowspan=\"2\" valign=\"top\">3</th>\n",
       "      <th>trn</th>\n",
       "      <td>2020-08-06</td>\n",
       "      <td>2021-07-29</td>\n",
       "      <td>240</td>\n",
       "    </tr>\n",
       "    <tr>\n",
       "      <th>val</th>\n",
       "      <td>2021-11-29</td>\n",
       "      <td>2022-02-25</td>\n",
       "      <td>60</td>\n",
       "    </tr>\n",
       "    <tr>\n",
       "      <th rowspan=\"2\" valign=\"top\">4</th>\n",
       "      <th>trn</th>\n",
       "      <td>2021-02-10</td>\n",
       "      <td>2022-02-02</td>\n",
       "      <td>240</td>\n",
       "    </tr>\n",
       "    <tr>\n",
       "      <th>val</th>\n",
       "      <td>2022-02-28</td>\n",
       "      <td>2022-05-27</td>\n",
       "      <td>60</td>\n",
       "    </tr>\n",
       "    <tr>\n",
       "      <th>5</th>\n",
       "      <th>val</th>\n",
       "      <td>2022-05-30</td>\n",
       "      <td>2022-06-24</td>\n",
       "      <td>20</td>\n",
       "    </tr>\n",
       "  </tbody>\n",
       "</table>\n",
       "</div>"
      ],
      "text/plain": [
       "                   Date                   \n",
       "                    min        max nunique\n",
       "fold trn_val                              \n",
       "0    trn     2019-01-16 2020-01-14     240\n",
       "     val     2021-03-05 2021-06-02      60\n",
       "1    trn     2019-07-23 2020-07-16     240\n",
       "     val     2021-06-03 2021-08-30      60\n",
       "2    trn     2020-01-30 2021-01-22     240\n",
       "     val     2021-08-31 2021-11-26      60\n",
       "3    trn     2020-08-06 2021-07-29     240\n",
       "     val     2021-11-29 2022-02-25      60\n",
       "4    trn     2021-02-10 2022-02-02     240\n",
       "     val     2022-02-28 2022-05-27      60\n",
       "5    val     2022-05-30 2022-06-24      20"
      ]
     },
     "metadata": {},
     "output_type": "display_data"
    },
    {
     "name": "stdout",
     "output_type": "stream",
     "text": [
      "[2022-07-01 19:27:51] PCA shape of components: (41, 85)\n",
      "CPU times: user 1min 8s, sys: 15.4 s, total: 1min 23s\n",
      "Wall time: 1min 18s\n"
     ]
    }
   ],
   "source": [
    "%%time\n",
    "'''\n",
    "Preprocessing\n",
    "'''\n",
    "# load features\n",
    "features = pd.concat([pd.concat(load_pkl(f'{FE_PATH}/{filename}')) for filename in os.listdir(FE_PATH)]).sort_values('RowId').reset_index(drop=True)\n",
    "\n",
    "# train-val split\n",
    "if SPLIT_METHOD == 'trn_val_split_late_val':\n",
    "    full_data = trn_val_split_late_val(features, val_to_end=False)\n",
    "elif SPLIT_METHOD == 'trn_val_split_even_val':\n",
    "    full_data = trn_val_split_even_val(features, val_to_end=False)\n",
    "display(full_data.groupby(['fold','trn_val']).agg({'Date':['min','max','nunique']}))\n",
    "\n",
    "# add targets\n",
    "targets = pd.concat([pd.read_csv(f'{JPX_PATH}/{folder}/stock_prices.csv', parse_dates=['Date']) for folder in ['train_files', 'supplemental_files']]) \\\n",
    "    .loc[:,['RowId','Target']] \\\n",
    "    .loc[lambda x: x.Target.notnull()] \\\n",
    "    .drop_duplicates() \\\n",
    "    .reset_index(drop=True)\n",
    "full_data = full_data.merge(targets, how='inner', on='RowId')\n",
    "\n",
    "# remove irregular data\n",
    "full_data = full_data.loc[lambda x: x.volatility_1w!=0].reset_index(drop=True)\n",
    "\n",
    "# derive training target\n",
    "if MODEL=='reg':\n",
    "    full_data['target_train'] = full_data.groupby(['fold','trn_val','Date']).Target.apply(lambda s: (s - s.mean()) / s.std())\n",
    "elif MODEL=='clf':\n",
    "    full_data['target_train'] = full_data.groupby(['fold','trn_val','Date']).Target.apply(lambda s: (s >= s.quantile(0.5)).astype(int))\n",
    "elif MODEL=='clf3':\n",
    "    full_data['target_q66'] = full_data.groupby(['fold','trn_val','Date']).Target.apply(lambda s: s*0 + s.quantile(0.6667))\n",
    "    full_data['target_q33'] = full_data.groupby(['fold','trn_val','Date']).Target.apply(lambda s: s*0 + s.quantile(0.3333))\n",
    "    full_data['target_train'] = np.select([(full_data.Target >= full_data.target_q66),\n",
    "                                           (full_data.Target >= full_data.target_q33),\n",
    "                                           True],\n",
    "                                          [2,1,0])\n",
    "    full_data = full_data.drop(['target_q66','target_q33'], axis=1)\n",
    "    \n",
    "\n",
    "# # release memory\n",
    "# del features\n",
    "# gc.collect()\n",
    "\n",
    "# define column types\n",
    "id_cols = ['RowId','Date','SecuritiesCode','fold','trn_val']\n",
    "all_features = [c for c in list(full_data) if c not in id_cols and c not in ['target_train','Target']]\n",
    "cat_features = ['AdjustmentFactor','first_div']\n",
    "time_features = [c for c in all_features if '_mkt' in c] + \\\n",
    "                [c for c in all_features if c[:4]=='sec_'] + \\\n",
    "                [c for c in all_features if c[-4:] in ['_sin','_cos']]\n",
    "stock_features = [c for c in all_features if c not in cat_features + time_features]\n",
    "\n",
    "# scaling\n",
    "full_data = jpx_data_scaling(full_data=full_data, scaler=SCALER, daily=SCALE_DAILY)\n",
    "\n",
    "# drop market features\n",
    "if DROP_MARKET_FEATS:\n",
    "    full_data = full_data.drop(time_features, axis=1)\n",
    "    all_features = [c for c in all_features if c not in time_features]\n",
    "\n",
    "# PCA compression\n",
    "if RUN_PCA:\n",
    "    full_data, col_def = pca_compress(full_data)\n",
    "    all_features = col_def['all_features']\n",
    "    stock_features = col_def['stock_features']\n",
    "    time_features = col_def['time_features']"
   ]
  },
  {
   "cell_type": "code",
   "execution_count": 13,
   "id": "023ae63b",
   "metadata": {
    "_cell_guid": "7e7b64eb-5dbd-478c-a104-476f682dfb94",
    "_uuid": "4b807155-f013-40fa-b456-963a0c062417",
    "collapsed": false,
    "execution": {
     "iopub.execute_input": "2022-07-01T11:28:07.997589Z",
     "iopub.status.busy": "2022-07-01T11:28:07.996853Z",
     "iopub.status.idle": "2022-07-01T11:28:08.002572Z",
     "shell.execute_reply": "2022-07-01T11:28:08.003491Z",
     "shell.execute_reply.started": "2022-07-01T02:12:39.263126Z"
    },
    "jupyter": {
     "outputs_hidden": false
    },
    "papermill": {
     "duration": 0.044715,
     "end_time": "2022-07-01T11:28:08.003742",
     "exception": false,
     "start_time": "2022-07-01T11:28:07.959027",
     "status": "completed"
    },
    "tags": []
   },
   "outputs": [
    {
     "name": "stdout",
     "output_type": "stream",
     "text": [
      "CPU times: user 4 µs, sys: 1 µs, total: 5 µs\n",
      "Wall time: 9.06 µs\n"
     ]
    }
   ],
   "source": [
    "%%time\n",
    "'''\n",
    "Feature importance\n",
    "'''\n",
    "if RUN_IMP:\n",
    "    df_imp_agg = run_feature_importance()"
   ]
  },
  {
   "cell_type": "code",
   "execution_count": 14,
   "id": "7aa0525e",
   "metadata": {
    "_cell_guid": "47b8d595-8e5e-427e-a2b5-5ef6e87cbb1e",
    "_uuid": "19ee56b4-875a-46b9-9db0-36abcffb705c",
    "collapsed": false,
    "execution": {
     "iopub.execute_input": "2022-07-01T11:28:08.076884Z",
     "iopub.status.busy": "2022-07-01T11:28:08.076173Z",
     "iopub.status.idle": "2022-07-01T11:28:08.088559Z",
     "shell.execute_reply": "2022-07-01T11:28:08.089125Z",
     "shell.execute_reply.started": "2022-07-01T02:12:39.271808Z"
    },
    "jupyter": {
     "outputs_hidden": false
    },
    "papermill": {
     "duration": 0.051075,
     "end_time": "2022-07-01T11:28:08.089333",
     "exception": false,
     "start_time": "2022-07-01T11:28:08.038258",
     "status": "completed"
    },
    "tags": []
   },
   "outputs": [
    {
     "name": "stdout",
     "output_type": "stream",
     "text": [
      "CPU times: user 6 µs, sys: 1 µs, total: 7 µs\n",
      "Wall time: 11.9 µs\n"
     ]
    }
   ],
   "source": [
    "%%time\n",
    "'''\n",
    "Forward Selection\n",
    "'''\n",
    "if RUN_FS:\n",
    "    \n",
    "    # normal run\n",
    "    if FS_SPLIT == None:\n",
    "        # FS for all features\n",
    "        feat_groups = [[x] for x in df_imp_agg.head(N_FEATS_FS).feat]\n",
    "        fs_hist = forward_selection(base_feats=None, feat_groups=feat_groups, name='')\n",
    "        # output selected features\n",
    "        display(fs_hist.sort_values('score', ascending=True).head(1))\n",
    "        selected_feats = fs_hist.sort_values('score', ascending=True).total_feats.iloc[0].split(', ')\n",
    "    \n",
    "    # FS with splitting stock & market features\n",
    "    elif FS_SPLIT != None:\n",
    "        # FS for stock features\n",
    "        feat_groups = [[x] for x in df_imp_agg.loc[lambda x: ~x.feat.isin(time_features)].head(FS_SPLIT['n_stock_feats']).feat]\n",
    "        fs_hist_stock = forward_selection(base_feats=None, feat_groups=feat_groups, name='stock')\n",
    "        base_feats = fs_hist_stock.sort_values('score', ascending=True).total_feats.iloc[0].split(', ')\n",
    "        display(fs_hist_stock.sort_values('score', ascending=True).head(1))\n",
    "        # FS for market features\n",
    "        feat_groups = [[x] for x in df_imp_agg.loc[lambda x: x.feat.isin(time_features)].head(FS_SPLIT['n_market_feats']).feat]\n",
    "        fs_hist = forward_selection(base_feats=base_feats, feat_groups=feat_groups, name='market')\n",
    "        # output selected features\n",
    "        fs_hist = pd.concat([fs_hist_stock, fs_hist]).reset_index(drop=True)\n",
    "        display(fs_hist.sort_values('score', ascending=True).head(1))\n",
    "        selected_feats = fs_hist.sort_values('score', ascending=True).total_feats.iloc[0].split(', ')\n",
    "\n",
    "else:\n",
    "    # if not running both IMP and FS, output pre-set selected_feats\n",
    "    if not RUN_IMP:\n",
    "        selected_feats = SELECTED_FEATS\n",
    "    # if ran IMP but not FS, output first N important features where N is pre-set\n",
    "    elif RUN_IMP:\n",
    "        selected_feats = [x[0] for x in feat_groups][:N_FEATS_FINAL]"
   ]
  },
  {
   "cell_type": "code",
   "execution_count": 15,
   "id": "586dfdac",
   "metadata": {
    "_cell_guid": "14081193-bbf2-45bf-956b-c50c52f618c5",
    "_uuid": "4ad361a8-6631-4c8b-becc-9cd89d5c7488",
    "collapsed": false,
    "execution": {
     "iopub.execute_input": "2022-07-01T11:28:08.164883Z",
     "iopub.status.busy": "2022-07-01T11:28:08.164129Z",
     "iopub.status.idle": "2022-07-01T11:28:08.168109Z",
     "shell.execute_reply": "2022-07-01T11:28:08.167573Z",
     "shell.execute_reply.started": "2022-07-01T02:12:39.285908Z"
    },
    "jupyter": {
     "outputs_hidden": false
    },
    "papermill": {
     "duration": 0.044817,
     "end_time": "2022-07-01T11:28:08.168260",
     "exception": false,
     "start_time": "2022-07-01T11:28:08.123443",
     "status": "completed"
    },
    "tags": []
   },
   "outputs": [
    {
     "name": "stdout",
     "output_type": "stream",
     "text": [
      "CPU times: user 0 ns, sys: 6 µs, total: 6 µs\n",
      "Wall time: 9.78 µs\n"
     ]
    }
   ],
   "source": [
    "%%time\n",
    "'''\n",
    "Hyperparameter tuning\n",
    "'''\n",
    "if RUN_HP:\n",
    "    # run optimization\n",
    "    best_params = optimize_hp()\n",
    "    \n",
    "else:\n",
    "    # if not running HP, use pre-set best parameters\n",
    "    best_params = BEST_PARAMS"
   ]
  },
  {
   "cell_type": "code",
   "execution_count": 16,
   "id": "a2720a8a",
   "metadata": {
    "_cell_guid": "9aa802ae-81a2-4ceb-a3dd-ab51124751b0",
    "_uuid": "36edead7-f082-42d6-85c0-1d29db89a6f6",
    "collapsed": false,
    "execution": {
     "iopub.execute_input": "2022-07-01T11:28:08.248991Z",
     "iopub.status.busy": "2022-07-01T11:28:08.248236Z",
     "iopub.status.idle": "2022-07-01T11:34:54.229740Z",
     "shell.execute_reply": "2022-07-01T11:34:54.230296Z",
     "shell.execute_reply.started": "2022-07-01T02:12:39.301156Z"
    },
    "jupyter": {
     "outputs_hidden": false
    },
    "papermill": {
     "duration": 406.028298,
     "end_time": "2022-07-01T11:34:54.230602",
     "exception": false,
     "start_time": "2022-07-01T11:28:08.202304",
     "status": "completed"
    },
    "tags": []
   },
   "outputs": [
    {
     "name": "stdout",
     "output_type": "stream",
     "text": [
      "[2022-07-01 19:34:54] Folds best iterations: [24, 65, 26, 73, 19, 24, 56, 37, 33, 18, 17, 32, 29, 33, 18, 39, 48, 31, 63, 19, 24, 52, 22, 45, 17]\n",
      "[2022-07-01 19:34:54] Folds average num unique values in train: 1563.7118333333335\n",
      "[2022-07-01 19:34:54] Folds average num unique values in validation: 1599.3893333333335\n",
      "[2022-07-01 19:34:54] Folds scores: [0.9991013436432398, 0.9992717452432018, 0.9988029619658642, 0.9987902080105882, 0.9983975880558892, 0.9990944256842993, 0.9991919526446083, 0.9987703789062842, 0.9987133438585726, 0.9983682541840401, 0.9991496396293029, 0.9993079465306525, 0.998844918441408, 0.9989139758387251, 0.9982951608941893, 0.9990062371176373, 0.9993049438419009, 0.9988958067899446, 0.9987873142944501, 0.9984480906273276, 0.9990764889626097, 0.9992384272225306, 0.9988494617143142, 0.998869149634565, 0.9983299957755696]\n",
      "[2022-07-01 19:34:54] Folds sharpes: [0.11439024371750356, 0.38838823405302236, 0.2606167904718152, 0.3320345117894015, 0.2090491400905254, 0.1063417034344236, 0.35693962417119673, 0.26967679012597745, 0.4517832748658428, 0.17983641780829168, 0.07888621599874807, 0.3034506222384956, 0.2485209751621679, 0.3082257835297222, 0.24898904444593337, 0.12409072330373458, 0.39640076062554247, 0.1922616542133101, 0.30911686961650225, 0.11220750176165632, 0.0632888442392536, 0.4847095065953877, 0.3003200808531548, 0.22457820775707485, 0.12873729533076886]\n",
      "[2022-07-01 19:34:54] Selected Features: pc27, pc29, pc4, pc28, pc38, pc22, pc34, pc32, pc1, pc23\n",
      "[2022-07-01 19:34:54] Best params: {'max_depth': 25, 'num_leaves': 53, 'learning_rate': 0.04824790524229314, 'min_child_weight': 3.0947696539277625, 'subsample': 0.8311377559459633, 'subsample_freq': 4, 'colsample_bytree': 0.5083836000369072, 'reg_alpha': 1.135314309910827, 'reg_lambda': 0.029554415302943275, 'max_bin': 96}\n",
      "[2022-07-01 19:34:54] CV score: 0.9988727903804687\n",
      "[2022-07-01 19:34:54] CV sharpe: 0.24771363264797813\n"
     ]
    }
   ],
   "source": [
    "'''\n",
    "Re-fit best model\n",
    "'''\n",
    "params = {'selected_feats': selected_feats, \n",
    "          'lgbm_var_params': best_params.copy(), \n",
    "          'lgbm_fixed_params': LGBM_FIXED_PARAMS, \n",
    "          'n_estimators': N_ESTIMATORS_REFIT, \n",
    "          'early_stopping_rounds': EARLY_STOPPING_ROUNDS_REFIT}\n",
    "\n",
    "outputs = []\n",
    "for seed in SEEDS:\n",
    "    SEED = int(seed)\n",
    "    full_data = full_data.groupby(['fold','trn_val']).sample(frac=1.0, random_state=SEED)\n",
    "    for fold in range(N_FOLD):\n",
    "        outputs.append(train_model(fold, params, 'normal'))\n",
    "    \n",
    "cv_score = np.mean([x['best_score_'] for x in outputs])\n",
    "cv_sharpe = np.mean([x['sharpe']['val'] for x in outputs])\n",
    "log(f\"Folds best iterations: {[x['best_iteration_'] for x in outputs]}\")\n",
    "log(f\"Folds average num unique values in train: {np.mean([x['n_uniq_trn'] for x in outputs])}\")\n",
    "log(f\"Folds average num unique values in validation: {np.mean([x['n_uniq_val'] for x in outputs])}\")\n",
    "log(f\"Folds scores: {[x['best_score_'] for x in outputs]}\")\n",
    "log(f\"Folds sharpes: {[x['sharpe']['val'] for x in outputs]}\")\n",
    "log(f'Selected Features: {\", \".join(selected_feats)}')\n",
    "log(f'Best params: {str(best_params)}')\n",
    "log(f'CV score: {cv_score}')\n",
    "log(f'CV sharpe: {cv_sharpe}')"
   ]
  },
  {
   "cell_type": "code",
   "execution_count": 17,
   "id": "48234fba",
   "metadata": {
    "_cell_guid": "889ed1d5-ffa7-40cf-92d2-fd474dbc6da1",
    "_uuid": "3800bb85-9a54-4e89-9c4f-ff820f8f2635",
    "collapsed": false,
    "execution": {
     "iopub.execute_input": "2022-07-01T11:34:54.303001Z",
     "iopub.status.busy": "2022-07-01T11:34:54.302014Z",
     "iopub.status.idle": "2022-07-01T11:35:08.636423Z",
     "shell.execute_reply": "2022-07-01T11:35:08.636954Z",
     "shell.execute_reply.started": "2022-07-01T02:19:56.731492Z"
    },
    "jupyter": {
     "outputs_hidden": false
    },
    "papermill": {
     "duration": 14.372521,
     "end_time": "2022-07-01T11:35:08.637136",
     "exception": false,
     "start_time": "2022-07-01T11:34:54.264615",
     "status": "completed"
    },
    "tags": []
   },
   "outputs": [
    {
     "name": "stdout",
     "output_type": "stream",
     "text": [
      "[2022-07-01 19:35:04] Average % in top 200: 0.12989062499999998\n",
      "[2022-07-01 19:35:04] Average % in bottom 200: 0.12560937500000005\n",
      "[2022-07-01 19:35:05] Mean long returns: 0.12185055968534035\n",
      "[2022-07-01 19:35:05] Mean short returns: 0.09966321330671117\n",
      "[2022-07-01 19:35:05] Mean net returns: 0.22151377299205172\n",
      "[2022-07-01 19:35:06] Sharpe of long: 0.0472879101138775\n",
      "[2022-07-01 19:35:06] Sharpe of short: 0.0436951438934666\n",
      "[2022-07-01 19:35:06] Sharpe of net: 0.1614994010178063\n",
      "[2022-07-01 19:35:07] Overall sharpe: 0.1614994010178063\n",
      "[2022-07-01 19:35:07] Last 6m sharpe: 0.11675503956157492\n",
      "[2022-07-01 19:35:07] Last 3m sharpe: 0.0067303838257376765\n"
     ]
    },
    {
     "data": {
      "image/png": "[encoded data removed]",
      "text/plain": [
       "<Figure size 432x288 with 1 Axes>"
      ]
     },
     "metadata": {
      "needs_background": "light"
     },
     "output_type": "display_data"
    },
    {
     "data": {
      "image/png": "[encoded data removed]",
      "text/plain": [
       "<Figure size 432x288 with 1 Axes>"
      ]
     },
     "metadata": {
      "needs_background": "light"
     },
     "output_type": "display_data"
    },
    {
     "data": {
      "image/png": "[encoded data removed]",
      "text/plain": [
       "<Figure size 432x288 with 1 Axes>"
      ]
     },
     "metadata": {
      "needs_background": "light"
     },
     "output_type": "display_data"
    },
    {
     "data": {
      "image/png": "[encoded data removed]",
      "text/plain": [
       "<Figure size 432x288 with 1 Axes>"
      ]
     },
     "metadata": {
      "needs_background": "light"
     },
     "output_type": "display_data"
    }
   ],
   "source": [
    "'''\n",
    "Signal Analysis (before optimization)\n",
    "'''\n",
    "if USE_VAL_FULL:\n",
    "    df_pred_val = pd.concat([x['df_pred_val_full'] for x in outputs]).reset_index(drop=True)\n",
    "else:\n",
    "    df_pred_val = pd.concat([x['df_pred_val'] for x in outputs]).reset_index(drop=True)\n",
    "df_pred_val = df_pred_val.groupby(['RowId','Date','SecuritiesCode']).mean().reset_index()\n",
    "df_pred_val['Rank'] = df_pred_val.groupby('Date').pred_model.rank(method='first', ascending=False).astype(int) - 1\n",
    "analyze_signal(df_pred_val)"
   ]
  },
  {
   "cell_type": "code",
   "execution_count": 18,
   "id": "744477b9",
   "metadata": {
    "_cell_guid": "546b065a-fd82-4f52-bc78-acd197c6ce36",
    "_uuid": "7d7f563b-d1ba-4ecc-be1e-26bd6aeec03b",
    "collapsed": false,
    "execution": {
     "iopub.execute_input": "2022-07-01T11:35:08.745457Z",
     "iopub.status.busy": "2022-07-01T11:35:08.744561Z",
     "iopub.status.idle": "2022-07-01T12:50:31.673925Z",
     "shell.execute_reply": "2022-07-01T12:50:31.672908Z",
     "shell.execute_reply.started": "2022-07-01T02:20:09.437141Z"
    },
    "jupyter": {
     "outputs_hidden": false
    },
    "papermill": {
     "duration": 4522.995541,
     "end_time": "2022-07-01T12:50:31.674291",
     "exception": false,
     "start_time": "2022-07-01T11:35:08.678750",
     "status": "completed"
    },
    "tags": []
   },
   "outputs": [
    {
     "name": "stdout",
     "output_type": "stream",
     "text": [
      "[2022-07-01 20:50:06] Sharpe after demean: 0.19191102047778202\n"
     ]
    },
    {
     "data": {
      "text/html": [
       "<div>\n",
       "<style scoped>\n",
       "    .dataframe tbody tr th:only-of-type {\n",
       "        vertical-align: middle;\n",
       "    }\n",
       "\n",
       "    .dataframe tbody tr th {\n",
       "        vertical-align: top;\n",
       "    }\n",
       "\n",
       "    .dataframe thead th {\n",
       "        text-align: right;\n",
       "    }\n",
       "</style>\n",
       "<table border=\"1\" class=\"dataframe\">\n",
       "  <thead>\n",
       "    <tr style=\"text-align: right;\">\n",
       "      <th></th>\n",
       "      <th>p</th>\n",
       "      <th>sharpe</th>\n",
       "    </tr>\n",
       "  </thead>\n",
       "  <tbody>\n",
       "    <tr>\n",
       "      <th>0</th>\n",
       "      <td>0.000000</td>\n",
       "      <td>0.191658</td>\n",
       "    </tr>\n",
       "    <tr>\n",
       "      <th>2</th>\n",
       "      <td>0.315789</td>\n",
       "      <td>0.175092</td>\n",
       "    </tr>\n",
       "    <tr>\n",
       "      <th>1</th>\n",
       "      <td>0.157895</td>\n",
       "      <td>0.174600</td>\n",
       "    </tr>\n",
       "    <tr>\n",
       "      <th>3</th>\n",
       "      <td>0.473684</td>\n",
       "      <td>0.169849</td>\n",
       "    </tr>\n",
       "    <tr>\n",
       "      <th>7</th>\n",
       "      <td>1.105263</td>\n",
       "      <td>0.168205</td>\n",
       "    </tr>\n",
       "    <tr>\n",
       "      <th>4</th>\n",
       "      <td>0.631579</td>\n",
       "      <td>0.164820</td>\n",
       "    </tr>\n",
       "    <tr>\n",
       "      <th>8</th>\n",
       "      <td>1.263158</td>\n",
       "      <td>0.164671</td>\n",
       "    </tr>\n",
       "    <tr>\n",
       "      <th>6</th>\n",
       "      <td>0.947368</td>\n",
       "      <td>0.161942</td>\n",
       "    </tr>\n",
       "    <tr>\n",
       "      <th>9</th>\n",
       "      <td>1.421053</td>\n",
       "      <td>0.158775</td>\n",
       "    </tr>\n",
       "    <tr>\n",
       "      <th>5</th>\n",
       "      <td>0.789474</td>\n",
       "      <td>0.156878</td>\n",
       "    </tr>\n",
       "    <tr>\n",
       "      <th>10</th>\n",
       "      <td>1.578947</td>\n",
       "      <td>0.147596</td>\n",
       "    </tr>\n",
       "    <tr>\n",
       "      <th>11</th>\n",
       "      <td>1.736842</td>\n",
       "      <td>0.146477</td>\n",
       "    </tr>\n",
       "    <tr>\n",
       "      <th>12</th>\n",
       "      <td>1.894737</td>\n",
       "      <td>0.144000</td>\n",
       "    </tr>\n",
       "    <tr>\n",
       "      <th>13</th>\n",
       "      <td>2.052632</td>\n",
       "      <td>0.140687</td>\n",
       "    </tr>\n",
       "    <tr>\n",
       "      <th>17</th>\n",
       "      <td>2.684211</td>\n",
       "      <td>0.138083</td>\n",
       "    </tr>\n",
       "    <tr>\n",
       "      <th>16</th>\n",
       "      <td>2.526316</td>\n",
       "      <td>0.137930</td>\n",
       "    </tr>\n",
       "    <tr>\n",
       "      <th>14</th>\n",
       "      <td>2.210526</td>\n",
       "      <td>0.137602</td>\n",
       "    </tr>\n",
       "    <tr>\n",
       "      <th>15</th>\n",
       "      <td>2.368421</td>\n",
       "      <td>0.133288</td>\n",
       "    </tr>\n",
       "    <tr>\n",
       "      <th>18</th>\n",
       "      <td>2.842105</td>\n",
       "      <td>0.132858</td>\n",
       "    </tr>\n",
       "    <tr>\n",
       "      <th>19</th>\n",
       "      <td>3.000000</td>\n",
       "      <td>0.128795</td>\n",
       "    </tr>\n",
       "  </tbody>\n",
       "</table>\n",
       "</div>"
      ],
      "text/plain": [
       "           p    sharpe\n",
       "0   0.000000  0.191658\n",
       "2   0.315789  0.175092\n",
       "1   0.157895  0.174600\n",
       "3   0.473684  0.169849\n",
       "7   1.105263  0.168205\n",
       "4   0.631579  0.164820\n",
       "8   1.263158  0.164671\n",
       "6   0.947368  0.161942\n",
       "9   1.421053  0.158775\n",
       "5   0.789474  0.156878\n",
       "10  1.578947  0.147596\n",
       "11  1.736842  0.146477\n",
       "12  1.894737  0.144000\n",
       "13  2.052632  0.140687\n",
       "17  2.684211  0.138083\n",
       "16  2.526316  0.137930\n",
       "14  2.210526  0.137602\n",
       "15  2.368421  0.133288\n",
       "18  2.842105  0.132858\n",
       "19  3.000000  0.128795"
      ]
     },
     "metadata": {},
     "output_type": "display_data"
    },
    {
     "name": "stdout",
     "output_type": "stream",
     "text": [
      "[2022-07-01 20:50:30] Best volatility power: 0.0\n",
      "[2022-07-01 20:50:31] Sharpe after volatility penalty: 0.19165788310956078\n"
     ]
    }
   ],
   "source": [
    "# signal demean\n",
    "ret = pd.concat([pd.read_csv(f'{JPX_PATH}/train_files/stock_prices.csv'),\n",
    "                 pd.read_csv(f'{JPX_PATH}/supplemental_files/stock_prices.csv')]) \\\n",
    "    .sort_values(['Date','SecuritiesCode']) \\\n",
    "    .assign(ret = lambda x: x.groupby('SecuritiesCode').Close.pct_change()) \\\n",
    "    .loc[:, ['Date','SecuritiesCode','ret']] \\\n",
    "    .dropna() \\\n",
    "    .reset_index(drop=True)\n",
    "\n",
    "def get_stock_clust(ret, date, n_day, stock_list):\n",
    "    # raw correlation table\n",
    "    corr = ret.loc[lambda x: pd.to_datetime(x.Date)<=date].pivot(index='Date', columns='SecuritiesCode', values='ret').tail(n_day).corr()\n",
    "    corr = corr.reindex(index=stock_list, columns=stock_list)\n",
    "    cols = [c for c in corr if corr[c].notnull().sum()==0]\n",
    "    corr = corr.drop(cols, axis=0).drop(cols, axis=1)\n",
    "    stocks = corr.columns.tolist()\n",
    "\n",
    "    # clustering\n",
    "    pdist = spc.distance.pdist(corr.values)\n",
    "    linkage = spc.linkage(pdist, method='complete')\n",
    "    idx = spc.fcluster(linkage, 0.5 * pdist.max(), 'distance')\n",
    "    stock_corr_clust = pd.DataFrame({'SecuritiesCode':stocks, 'clust':idx}).assign(Date=date).sort_values('clust').reset_index(drop=True)\n",
    "    return stock_corr_clust\n",
    "\n",
    "if CLUSTER_DEMEAN:\n",
    "    df_clust = []\n",
    "    for date in df_pred_val.Date.unique():\n",
    "        stock_list = df_pred_val.loc[lambda x: x.Date==date].SecuritiesCode.tolist()\n",
    "        df_clust.append(get_stock_clust(ret, date, CLUST_N_DAY, stock_list))\n",
    "    df_clust = pd.concat(df_clust)\n",
    "    df_pred_val = df_pred_val.merge(df_clust, how='inner', on=['Date','SecuritiesCode'])\n",
    "    clust_mean = df_pred_val.groupby(['Date','clust']).pred_model.mean().reset_index().rename(columns={'pred_model':'pred_model_mean'})\n",
    "    df_pred_val = df_pred_val.merge(clust_mean, how='inner', on=['Date','clust'])\n",
    "    df_pred_val['pred_model_demean'] = df_pred_val.pred_model - df_pred_val.pred_model_mean\n",
    "    df_pred_val['Rank'] = df_pred_val.groupby('Date').pred_model_demean.rank(method='first', ascending=False).astype(int) - 1\n",
    "    log(f'Sharpe after demean: {calc_spread_return_sharpe(df_pred_val)}')\n",
    "\n",
    "# volatility penalty\n",
    "if VOL_PENALTY:\n",
    "    std = ret.pivot(index='Date', columns='SecuritiesCode', values='ret') \\\n",
    "        .rolling(VOL_N_DAY).std() \\\n",
    "        .stack().reset_index() \\\n",
    "        .dropna() \\\n",
    "        .rename(columns={0:'std'}) \\\n",
    "        .assign(Date = lambda x: pd.to_datetime(x.Date))\n",
    "    df_pred_val = df_pred_val.merge(std, how='inner', on=['Date','SecuritiesCode'])\n",
    "    \n",
    "    p_result = []\n",
    "    for p in np.linspace(0,3,20):\n",
    "        df_pred_val['pred_model_vol_penalty'] = df_pred_val.pred_model_demean / df_pred_val['std'].pow(p)\n",
    "        df_pred_val['Rank'] = df_pred_val.groupby('Date').pred_model_vol_penalty.rank(method='first', ascending=False).astype(int) - 1\n",
    "        p_result.append((p, calc_spread_return_sharpe(df_pred_val)))\n",
    "    p_result = pd.DataFrame(p_result, columns=['p','sharpe']).sort_values('sharpe', ascending=False)\n",
    "    display(p_result)\n",
    "    # identify best power and apply\n",
    "    best_p = p_result.sort_values('sharpe', ascending=False).p.iloc[0]\n",
    "    df_pred_val.pred_model_vol_penalty = df_pred_val.pred_model_demean / df_pred_val['std'].pow(best_p)\n",
    "    df_pred_val['Rank'] = df_pred_val.groupby('Date').pred_model_vol_penalty.rank(method='first', ascending=False).astype(int) - 1\n",
    "    log(f'Best volatility power: {best_p}')\n",
    "    log(f'Sharpe after volatility penalty: {calc_spread_return_sharpe(df_pred_val)}')"
   ]
  },
  {
   "cell_type": "code",
   "execution_count": 19,
   "id": "870d4920",
   "metadata": {
    "_cell_guid": "55bbf965-9d11-4c37-858a-5081bc187e17",
    "_uuid": "22dbbfef-be32-4d12-bd3b-a48ab5fbca86",
    "collapsed": false,
    "execution": {
     "iopub.execute_input": "2022-07-01T12:50:31.788197Z",
     "iopub.status.busy": "2022-07-01T12:50:31.772886Z",
     "iopub.status.idle": "2022-07-01T12:50:37.016461Z",
     "shell.execute_reply": "2022-07-01T12:50:37.016973Z",
     "shell.execute_reply.started": "2022-07-01T02:26:59.845298Z"
    },
    "jupyter": {
     "outputs_hidden": false
    },
    "papermill": {
     "duration": 5.29356,
     "end_time": "2022-07-01T12:50:37.017159",
     "exception": false,
     "start_time": "2022-07-01T12:50:31.723599",
     "status": "completed"
    },
    "tags": []
   },
   "outputs": [
    {
     "name": "stdout",
     "output_type": "stream",
     "text": [
      "[2022-07-01 20:50:33] Average % in top 200: 0.12964062499999998\n",
      "[2022-07-01 20:50:33] Average % in bottom 200: 0.12568750000000004\n",
      "[2022-07-01 20:50:34] Mean long returns: 0.10883648364637763\n",
      "[2022-07-01 20:50:34] Mean short returns: 0.10291059491843706\n",
      "[2022-07-01 20:50:34] Mean net returns: 0.21174707856481462\n",
      "[2022-07-01 20:50:34] Sharpe of long: 0.04324645497511553\n",
      "[2022-07-01 20:50:34] Sharpe of short: 0.04524975596845928\n",
      "[2022-07-01 20:50:34] Sharpe of net: 0.19165788310956078\n",
      "[2022-07-01 20:50:35] Overall sharpe: 0.19165788310956078\n",
      "[2022-07-01 20:50:35] Last 6m sharpe: 0.12907104421367055\n",
      "[2022-07-01 20:50:35] Last 3m sharpe: 0.03290324340883803\n"
     ]
    },
    {
     "data": {
      "image/png": "[encoded data removed]",
      "text/plain": [
       "<Figure size 432x288 with 1 Axes>"
      ]
     },
     "metadata": {
      "needs_background": "light"
     },
     "output_type": "display_data"
    },
    {
     "data": {
      "image/png": "[encoded data removed]",
      "text/plain": [
       "<Figure size 432x288 with 1 Axes>"
      ]
     },
     "metadata": {
      "needs_background": "light"
     },
     "output_type": "display_data"
    },
    {
     "data": {
      "image/png": "[encoded data removed]",
      "text/plain": [
       "<Figure size 432x288 with 1 Axes>"
      ]
     },
     "metadata": {
      "needs_background": "light"
     },
     "output_type": "display_data"
    },
    {
     "data": {
      "image/png": "[encoded data removed]",
      "text/plain": [
       "<Figure size 432x288 with 1 Axes>"
      ]
     },
     "metadata": {
      "needs_background": "light"
     },
     "output_type": "display_data"
    }
   ],
   "source": [
    "'''\n",
    "Signal Analysis (after optimization)\n",
    "'''\n",
    "analyze_signal(df_pred_val)"
   ]
  },
  {
   "cell_type": "code",
   "execution_count": 20,
   "id": "73c394f6",
   "metadata": {
    "_cell_guid": "76b9c853-21da-4ff7-b4fa-37f6eb8f7a6d",
    "_uuid": "c999d3aa-b94d-40e4-84c4-57e1c527ad7c",
    "collapsed": false,
    "execution": {
     "iopub.execute_input": "2022-07-01T12:50:37.124341Z",
     "iopub.status.busy": "2022-07-01T12:50:37.123529Z",
     "iopub.status.idle": "2022-07-01T12:50:37.343907Z",
     "shell.execute_reply": "2022-07-01T12:50:37.343282Z",
     "shell.execute_reply.started": "2022-07-01T02:26:59.847756Z"
    },
    "jupyter": {
     "outputs_hidden": false
    },
    "papermill": {
     "duration": 0.275098,
     "end_time": "2022-07-01T12:50:37.344050",
     "exception": false,
     "start_time": "2022-07-01T12:50:37.068952",
     "status": "completed"
    },
    "tags": []
   },
   "outputs": [],
   "source": [
    "# export validation df\n",
    "df_pred_val.to_feather('df_pred_val')"
   ]
  },
  {
   "cell_type": "markdown",
   "id": "00c3b166",
   "metadata": {
    "_cell_guid": "fe82d6c8-b34f-4537-8179-b2f3071bcf6c",
    "_uuid": "8c7664c3-6ed2-4e6e-8842-9ca22628f57f",
    "papermill": {
     "duration": 0.050588,
     "end_time": "2022-07-01T12:50:37.446405",
     "exception": false,
     "start_time": "2022-07-01T12:50:37.395817",
     "status": "completed"
    },
    "tags": []
   },
   "source": [
    "# Debug"
   ]
  }
 ],
 "metadata": {
  "kernelspec": {
   "display_name": "Python 3",
   "language": "python",
   "name": "python3"
  },
  "language_info": {
   "codemirror_mode": {
    "name": "ipython",
    "version": 3
   },
   "file_extension": ".py",
   "mimetype": "text/x-python",
   "name": "python",
   "nbconvert_exporter": "python",
   "pygments_lexer": "ipython3",
   "version": "3.7.12"
  },
  "papermill": {
   "default_parameters": {},
   "duration": 5046.5435,
   "end_time": "2022-07-01T12:50:39.625873",
   "environment_variables": {},
   "exception": null,
   "input_path": "__notebook__.ipynb",
   "output_path": "__notebook__.ipynb",
   "parameters": {},
   "start_time": "2022-07-01T11:26:33.082373",
   "version": "2.3.3"
  }
 },
 "nbformat": 4,
 "nbformat_minor": 5
}
