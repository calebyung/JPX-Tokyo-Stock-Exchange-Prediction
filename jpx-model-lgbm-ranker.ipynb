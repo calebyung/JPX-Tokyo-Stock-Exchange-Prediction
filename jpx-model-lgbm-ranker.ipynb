{
 "cells": [
  {
   "cell_type": "markdown",
   "id": "aef27984",
   "metadata": {
    "papermill": {
     "duration": 0.029362,
     "end_time": "2022-06-18T09:16:53.942573",
     "exception": false,
     "start_time": "2022-06-18T09:16:53.913211",
     "status": "completed"
    },
    "tags": []
   },
   "source": [
    "# Version description\n",
    "- Added DART as HP option\n",
    "- Rank Ascending = True\n",
    "- Use selected feautres in v25"
   ]
  },
  {
   "cell_type": "code",
   "execution_count": 1,
   "id": "0eb6fbe8",
   "metadata": {
    "_cell_guid": "951f04b1-5acc-4336-aa05-ec2ddaf21e51",
    "_kg_hide-input": true,
    "_uuid": "16d6d48d-59d7-47d9-afff-641e8323e11e",
    "collapsed": false,
    "execution": {
     "iopub.execute_input": "2022-06-18T09:16:54.003433Z",
     "iopub.status.busy": "2022-06-18T09:16:54.002233Z",
     "iopub.status.idle": "2022-06-18T09:16:57.582942Z",
     "shell.execute_reply": "2022-06-18T09:16:57.582211Z",
     "shell.execute_reply.started": "2022-06-17T16:44:04.523113Z"
    },
    "jupyter": {
     "outputs_hidden": false
    },
    "papermill": {
     "duration": 3.611466,
     "end_time": "2022-06-18T09:16:57.583140",
     "exception": false,
     "start_time": "2022-06-18T09:16:53.971674",
     "status": "completed"
    },
    "tags": []
   },
   "outputs": [
    {
     "data": {
      "text/html": [
       "<style type='text/css'>\n",
       ".datatable table.frame { margin-bottom: 0; }\n",
       ".datatable table.frame thead { border-bottom: none; }\n",
       ".datatable table.frame tr.coltypes td {  color: #FFFFFF;  line-height: 6px;  padding: 0 0.5em;}\n",
       ".datatable .bool    { background: #DDDD99; }\n",
       ".datatable .object  { background: #565656; }\n",
       ".datatable .int     { background: #5D9E5D; }\n",
       ".datatable .float   { background: #4040CC; }\n",
       ".datatable .str     { background: #CC4040; }\n",
       ".datatable .time    { background: #40CC40; }\n",
       ".datatable .row_index {  background: var(--jp-border-color3);  border-right: 1px solid var(--jp-border-color0);  color: var(--jp-ui-font-color3);  font-size: 9px;}\n",
       ".datatable .frame tbody td { text-align: left; }\n",
       ".datatable .frame tr.coltypes .row_index {  background: var(--jp-border-color0);}\n",
       ".datatable th:nth-child(2) { padding-left: 12px; }\n",
       ".datatable .hellipsis {  color: var(--jp-cell-editor-border-color);}\n",
       ".datatable .vellipsis {  background: var(--jp-layout-color0);  color: var(--jp-cell-editor-border-color);}\n",
       ".datatable .na {  color: var(--jp-cell-editor-border-color);  font-size: 80%;}\n",
       ".datatable .sp {  opacity: 0.25;}\n",
       ".datatable .footer { font-size: 9px; }\n",
       ".datatable .frame_dimensions {  background: var(--jp-border-color3);  border-top: 1px solid var(--jp-border-color0);  color: var(--jp-ui-font-color3);  display: inline-block;  opacity: 0.6;  padding: 1px 10px 1px 5px;}\n",
       "</style>\n"
      ],
      "text/plain": [
       "<IPython.core.display.HTML object>"
      ]
     },
     "metadata": {},
     "output_type": "display_data"
    }
   ],
   "source": [
    "# import libraries\n",
    "import warnings\n",
    "warnings.filterwarnings(\"ignore\")\n",
    "warnings.simplefilter(action='ignore', category=FutureWarning)\n",
    "import os\n",
    "from os.path import isfile, isdir, join\n",
    "import numpy as np\n",
    "import pandas as pd\n",
    "from datetime import datetime, date\n",
    "from dateutil.relativedelta import relativedelta\n",
    "import re\n",
    "from IPython.display import display\n",
    "from zipfile import ZipFile\n",
    "import pickle\n",
    "import unicodedata\n",
    "import pytz\n",
    "from joblib import Parallel, delayed\n",
    "import shutil\n",
    "import difflib\n",
    "import random\n",
    "import math\n",
    "from shutil import copyfile\n",
    "import itertools\n",
    "import time\n",
    "from tqdm import tqdm\n",
    "import collections\n",
    "from collections import deque\n",
    "import gc\n",
    "\n",
    "from sklearn.decomposition import PCA\n",
    "from sklearn.linear_model import LinearRegression\n",
    "from sklearn.preprocessing import StandardScaler, MinMaxScaler, QuantileTransformer\n",
    "from sklearn.metrics import ndcg_score, accuracy_score, mean_squared_error\n",
    "\n",
    "import lightgbm as lgbm\n",
    "import optuna\n",
    "from optuna import Trial, visualization\n",
    "\n",
    "import matplotlib as mpl\n",
    "from matplotlib import pyplot as plt\n",
    "\n",
    "import jpx_tokyo_market_prediction\n",
    "\n",
    "from utility_script import *\n",
    "# from utility_script_jpx import *\n",
    "\n",
    "pd.set_option('display.max_columns', None)\n",
    "pd.set_option('display.max_colwidth', None)"
   ]
  },
  {
   "cell_type": "code",
   "execution_count": 2,
   "id": "26a1f52c",
   "metadata": {
    "_cell_guid": "5f898435-79c2-4539-88cd-a0bb87b68f60",
    "_uuid": "52554abd-62a0-45ab-baf2-b8249732bbea",
    "collapsed": false,
    "execution": {
     "iopub.execute_input": "2022-06-18T09:16:57.655649Z",
     "iopub.status.busy": "2022-06-18T09:16:57.654887Z",
     "iopub.status.idle": "2022-06-18T09:16:57.657687Z",
     "shell.execute_reply": "2022-06-18T09:16:57.658149Z",
     "shell.execute_reply.started": "2022-06-17T16:44:07.959500Z"
    },
    "jupyter": {
     "outputs_hidden": false
    },
    "papermill": {
     "duration": 0.046233,
     "end_time": "2022-06-18T09:16:57.658343",
     "exception": false,
     "start_time": "2022-06-18T09:16:57.612110",
     "status": "completed"
    },
    "tags": []
   },
   "outputs": [],
   "source": [
    "'''\n",
    "Notebook Parameters\n",
    "'''\n",
    "# basic\n",
    "SEED = 0\n",
    "JPX_PATH = '../input/jpx-tokyo-stock-exchange-prediction'\n",
    "\n",
    "# data sacling\n",
    "SCALER = StandardScaler()\n",
    "SCALE_DAILY = False\n",
    "\n",
    "# PCA\n",
    "RUN_PCA = False\n",
    "N_COMP = 0.9\n",
    "\n",
    "# target definition\n",
    "RANK_ASCENDING = True # set this to False if model prediction is same direction of Target\n",
    "TARGET_POW = 0\n",
    "\n",
    "# data split\n",
    "N_FOLD = 5\n",
    "TRN_SIZE = 240\n",
    "VAL_SIZE = 60\n",
    "TRN_VAL_GAP = 14\n",
    "SPLIT_METHOD = 'trn_val_split_late_val'\n",
    "\n",
    "# model fixed params\n",
    "DEVICE_TYPE = 'CPU'\n",
    "EVAL_AT = 2000\n",
    "LABEL_GAIN = 1.01**np.arange(2000)\n",
    "EVAL_METRIC = f'ndcg@{EVAL_AT}'\n",
    "LGBM_VAR_PARAMS = dict(\n",
    "    boosting_type = 'gbdt',\n",
    "    max_depth = 32,\n",
    "    num_leaves = 32,\n",
    "    learning_rate = 0.01,\n",
    "    min_child_weight = 0.1,\n",
    "    min_child_samples = 1,\n",
    "    subsample = 0.65,\n",
    "    subsample_freq = 1,\n",
    "    colsample_bytree = 0.6,\n",
    "    reg_alpha = 1.5,\n",
    "    reg_lambda = 1.5,\n",
    "    max_bin = 255,\n",
    "    objective = 'lambdarank',\n",
    ")\n",
    "LGBM_FIXED_PARAMS = dict(\n",
    "    n_estimators = 5000,\n",
    "    label_gain = LABEL_GAIN,\n",
    "    n_jobs = -1,\n",
    "    random_state = SEED,\n",
    "    device_type = DEVICE_TYPE,\n",
    ")\n",
    "\n",
    "# feature importance\n",
    "RUN_IMP = False\n",
    "N_SHUFFLE = 12\n",
    "N_FEATS_IMP_TEST = 10\n",
    "N_ESTIMATORS_IMP = 50\n",
    "EARLY_STOPPING_ROUNDS_IMP = 9999\n",
    "FEAT_GROUPS = None # fixed output if not running IMP\n",
    "\n",
    "# forward selection\n",
    "RUN_FS = False\n",
    "N_ESTIMATORS_FS = 5000\n",
    "EARLY_STOPPING_ROUNDS_FS = 20\n",
    "N_FEATS_FS = 20 # top N features considered for FS based on importance\n",
    "N_FEATS_FINAL = None # top N features if skipping FS based on importance\n",
    "SELECTED_FEATS = 'EarningToPriceRatio_raw, sharpe_3m, price_standard_dist_1m'.split(', ') # fixed features if skipping both IMP and FS\n",
    "\n",
    "# hyperparameters tuning\n",
    "RUN_HP = True\n",
    "N_ESTIMATORS_HP = 5000\n",
    "EARLY_STOPPING_ROUNDS_HP = 30\n",
    "HP_OPT_HRS = 4\n",
    "BEST_PARAMS = None\n",
    "\n",
    "# re-fit\n",
    "N_ESTIMATORS_REFIT = 5000\n",
    "EARLY_STOPPING_ROUNDS_REFIT = 30"
   ]
  },
  {
   "cell_type": "markdown",
   "id": "56306ae2",
   "metadata": {
    "papermill": {
     "duration": 0.029399,
     "end_time": "2022-06-18T09:16:57.716185",
     "exception": false,
     "start_time": "2022-06-18T09:16:57.686786",
     "status": "completed"
    },
    "tags": []
   },
   "source": [
    "# Data preprocessing"
   ]
  },
  {
   "cell_type": "code",
   "execution_count": 3,
   "id": "d5f31ec2",
   "metadata": {
    "execution": {
     "iopub.execute_input": "2022-06-18T09:16:57.778401Z",
     "iopub.status.busy": "2022-06-18T09:16:57.777634Z",
     "iopub.status.idle": "2022-06-18T09:16:57.796187Z",
     "shell.execute_reply": "2022-06-18T09:16:57.797044Z",
     "shell.execute_reply.started": "2022-06-17T16:44:07.974773Z"
    },
    "papermill": {
     "duration": 0.052793,
     "end_time": "2022-06-18T09:16:57.797271",
     "exception": false,
     "start_time": "2022-06-18T09:16:57.744478",
     "status": "completed"
    },
    "tags": []
   },
   "outputs": [],
   "source": [
    "'''\n",
    "Train-Val split where validation periods are right after train period\n",
    "'''\n",
    "def trn_val_split_even_val(features, val_to_end):\n",
    "    # define start date of each fold\n",
    "    fold_dates = features.Date.drop_duplicates().reset_index(drop=True)\n",
    "    fold_dates = fold_dates.shift(TRN_SIZE + TRN_VAL_GAP + VAL_SIZE).loc[lambda x: x.notnull()].reset_index(drop=True)\n",
    "    fold_dates = fold_dates.loc[np.linspace(0, fold_dates.shape[0]-1, N_FOLD).astype(int)].reset_index(drop=True)\n",
    "\n",
    "    # create and append train + val data\n",
    "    full_dates = features.Date.drop_duplicates().reset_index(drop=True)\n",
    "    full_data = []\n",
    "    for i, date in enumerate(fold_dates):\n",
    "        dates_trn = full_dates.loc[lambda x: x>=date].head(TRN_SIZE)\n",
    "        if val_to_end==False:\n",
    "            dates_val = full_dates.loc[lambda x: x>=date].shift(-TRN_SIZE).shift(-TRN_VAL_GAP).head(VAL_SIZE)\n",
    "        else:\n",
    "            dates_val = full_dates.loc[lambda x: x>=date].shift(-TRN_SIZE).shift(-TRN_VAL_GAP).loc[lambda x: x.notnull()]\n",
    "        full_data.append(features.loc[lambda x: x.Date.isin(dates_trn)].assign(fold=i, trn_val='trn'))\n",
    "        full_data.append(features.loc[lambda x: x.Date.isin(dates_val)].assign(fold=i, trn_val='val'))\n",
    "    full_data = pd.concat(full_data).reset_index(drop=True)\n",
    "    return full_data\n",
    "\n",
    "\n",
    "'''\n",
    "Train-Val split where validation periods are farthest in future\n",
    "'''\n",
    "def trn_val_split_late_val(features, val_to_end):\n",
    "    # define start date of each fold\n",
    "    fold_dates = features.Date.drop_duplicates().reset_index(drop=True)\n",
    "    fold_dates = fold_dates.shift(TRN_SIZE + TRN_VAL_GAP + VAL_SIZE).loc[lambda x: x.notnull()].reset_index(drop=True)\n",
    "    fold_dates = fold_dates.loc[np.linspace(0, fold_dates.shape[0]-1, N_FOLD).astype(int)].reset_index(drop=True)\n",
    "\n",
    "    # create and append train + val data\n",
    "    full_dates = features.Date.drop_duplicates().reset_index(drop=True)\n",
    "    val_dates_list = full_dates.tail(VAL_SIZE * N_FOLD).values.reshape(N_FOLD, -1)\n",
    "    full_data = []\n",
    "    for i, date in enumerate(fold_dates):\n",
    "        dates_trn = full_dates.loc[lambda x: x>=date].head(TRN_SIZE)\n",
    "        if val_to_end==False:\n",
    "            dates_val = val_dates_list[i]\n",
    "        else:\n",
    "            dates_val = np.concatenate(val_dates_list[i:])\n",
    "        full_data.append(features.loc[lambda x: x.Date.isin(dates_trn)].assign(fold=i, trn_val='trn'))\n",
    "        full_data.append(features.loc[lambda x: x.Date.isin(dates_val)].assign(fold=i, trn_val='val'))\n",
    "    full_data = pd.concat(full_data).reset_index(drop=True)\n",
    "    return full_data"
   ]
  },
  {
   "cell_type": "code",
   "execution_count": 4,
   "id": "565889c7",
   "metadata": {
    "execution": {
     "iopub.execute_input": "2022-06-18T09:16:57.872919Z",
     "iopub.status.busy": "2022-06-18T09:16:57.859506Z",
     "iopub.status.idle": "2022-06-18T09:16:57.876511Z",
     "shell.execute_reply": "2022-06-18T09:16:57.875937Z",
     "shell.execute_reply.started": "2022-06-17T16:44:07.999339Z"
    },
    "papermill": {
     "duration": 0.050506,
     "end_time": "2022-06-18T09:16:57.876689",
     "exception": false,
     "start_time": "2022-06-18T09:16:57.826183",
     "status": "completed"
    },
    "tags": []
   },
   "outputs": [],
   "source": [
    "'''\n",
    "Function to scale the features\n",
    "'''\n",
    "def jpx_data_scaling(full_data, scaler, daily):\n",
    "    feats = time_features + stock_features\n",
    "    \n",
    "    if daily==False:\n",
    "        data_scaled = []\n",
    "        for fold in range(N_FOLD):\n",
    "            # locate train and val datasets\n",
    "            data_trn = full_data.loc[lambda x: (x.fold==fold) & (x.trn_val=='trn')]\n",
    "            data_val = full_data.loc[lambda x: (x.fold==fold) & (x.trn_val=='val')]\n",
    "            # fit scaler\n",
    "            scaler = scaler.fit(data_trn[feats])\n",
    "            save_pkl(scaler, f'scaler{fold}')\n",
    "            # transform data\n",
    "            data_trn[feats] = scaler.transform(data_trn[feats]).astype(np.float32)\n",
    "            data_val[feats] = scaler.transform(data_val[feats]).astype(np.float32)\n",
    "            # store transformed data\n",
    "            data_scaled.append(data_trn)\n",
    "            data_scaled.append(data_val)\n",
    "        data_scaled = pd.concat(data_scaled).reset_index(drop=True)\n",
    "            \n",
    "    elif daily==True:\n",
    "        # scale stock features for each day\n",
    "        def transform_data(df, scaler, feats):\n",
    "            df[feats] = scaler.fit_transform(df[feats]).astype(np.float32)\n",
    "            return df\n",
    "        full_data = full_data.groupby(['fold','trn_val','Date']).apply(lambda df: transform_data(df, scaler, stock_features))\n",
    "        # then scale time features across days\n",
    "        data_scaled = []\n",
    "        for fold in range(N_FOLD):\n",
    "            # locate train and val datasets\n",
    "            data_trn = full_data.loc[lambda x: (x.fold==fold) & (x.trn_val=='trn')]\n",
    "            data_val = full_data.loc[lambda x: (x.fold==fold) & (x.trn_val=='val')]\n",
    "            # fit scaler\n",
    "            scaler = scaler.fit(data_trn[time_features])\n",
    "            save_pkl(scaler, f'scaler{fold}')\n",
    "            # transform data\n",
    "            data_trn[time_features] = scaler.transform(data_trn[time_features]).astype(np.float32)\n",
    "            data_val[time_features] = scaler.transform(data_val[time_features]).astype(np.float32)\n",
    "            # store transformed data\n",
    "            data_scaled.append(data_trn)\n",
    "            data_scaled.append(data_val)\n",
    "        data_scaled = pd.concat(data_scaled).reset_index(drop=True)\n",
    "        \n",
    "    return data_scaled"
   ]
  },
  {
   "cell_type": "code",
   "execution_count": 5,
   "id": "e84344f1",
   "metadata": {
    "execution": {
     "iopub.execute_input": "2022-06-18T09:16:57.945029Z",
     "iopub.status.busy": "2022-06-18T09:16:57.944288Z",
     "iopub.status.idle": "2022-06-18T09:16:57.945748Z",
     "shell.execute_reply": "2022-06-18T09:16:57.946320Z",
     "shell.execute_reply.started": "2022-06-17T16:44:08.019913Z"
    },
    "papermill": {
     "duration": 0.041715,
     "end_time": "2022-06-18T09:16:57.946520",
     "exception": false,
     "start_time": "2022-06-18T09:16:57.904805",
     "status": "completed"
    },
    "tags": []
   },
   "outputs": [],
   "source": [
    "'''\n",
    "PCA Compression\n",
    "'''\n",
    "def pca_compress(full_data):\n",
    "    # fit with one fold of traiing data\n",
    "    pca = PCA(n_components=N_COMP, random_state=SEED)\n",
    "    pca.fit(full_data.loc[lambda x: (x.fold==0) & (x.trn_val=='trn'), all_features])\n",
    "    print(f'PCA shape of components: {pca.components_.shape}')\n",
    "    \n",
    "    # tranform the full dataset\n",
    "    cols = [f'pc{x}' for x in range(pca.components_.shape[0])]\n",
    "    compressed_data = []\n",
    "    for fold in range(N_FOLD):\n",
    "        for trn_val in ['trn','val']:\n",
    "            X = pd.DataFrame(pca.transform(full_data.loc[lambda x: (x.fold==fold) & (x.trn_val==trn_val), all_features]), columns=cols)\n",
    "            header = full_data.loc[lambda x: (x.fold==fold) & (x.trn_val==trn_val), [c for c in full_data.columns if c not in all_features]].reset_index(drop=True)\n",
    "            new_df = pd.concat([header, X], axis=1)\n",
    "            compressed_data.append(new_df)\n",
    "    compressed_data = pd.concat(compressed_data, axis=0).reset_index(drop=True)\n",
    "    return compressed_data, cols"
   ]
  },
  {
   "cell_type": "markdown",
   "id": "3a99315d",
   "metadata": {
    "papermill": {
     "duration": 0.028028,
     "end_time": "2022-06-18T09:16:58.004134",
     "exception": false,
     "start_time": "2022-06-18T09:16:57.976106",
     "status": "completed"
    },
    "tags": []
   },
   "source": [
    "# Model Training Functions"
   ]
  },
  {
   "cell_type": "code",
   "execution_count": 6,
   "id": "e1ea7f86",
   "metadata": {
    "execution": {
     "iopub.execute_input": "2022-06-18T09:16:58.090397Z",
     "iopub.status.busy": "2022-06-18T09:16:58.088847Z",
     "iopub.status.idle": "2022-06-18T09:16:58.092342Z",
     "shell.execute_reply": "2022-06-18T09:16:58.092974Z",
     "shell.execute_reply.started": "2022-06-17T16:44:08.037396Z"
    },
    "papermill": {
     "duration": 0.0588,
     "end_time": "2022-06-18T09:16:58.093166",
     "exception": false,
     "start_time": "2022-06-18T09:16:58.034366",
     "status": "completed"
    },
    "tags": []
   },
   "outputs": [],
   "source": [
    "'''\n",
    "Function to get sub-columns from table for model fitting\n",
    "'''\n",
    "def get_dataset(df, selected_feats, trn_val):\n",
    "    if trn_val=='val':\n",
    "        df = df.groupby('Date').sample(frac=1.0, random_state=SEED)\n",
    "    df = df.reset_index(drop=True)\n",
    "    grp = df.groupby('Date').size().tolist()\n",
    "    qid = df['Date']\n",
    "    X = df[selected_feats]\n",
    "    y = df['target_train']\n",
    "    target = df['Target']\n",
    "    header = df[id_cols]\n",
    "    return X, y, grp, qid, header, target\n",
    "\n",
    "'''\n",
    "Function to predict scores within groups\n",
    "'''\n",
    "def pred_score(model, X, qid):\n",
    "    X_ = X.assign(Date=qid)\n",
    "    score = []\n",
    "    for date in X_.Date.unique():\n",
    "        score += pd.Series(model.predict(X_.loc[lambda x: x.Date==date].drop('Date',axis=1))).tolist()\n",
    "    return pd.Series(score)\n",
    "\n",
    "'''\n",
    "Function to predict rankings within groups\n",
    "'''\n",
    "def pred_rank(model, X, qid):\n",
    "    X_ = X.assign(Date=qid)\n",
    "    rnk = []\n",
    "    for date in X_.Date.unique():\n",
    "        rnk += pd.Series(model.predict(X_.loc[lambda x: x.Date==date].drop('Date',axis=1))).rank(method='first').tolist()\n",
    "    return pd.Series(rnk)\n",
    "\n",
    "'''\n",
    "Function to transform model output to rank prediction table\n",
    "'''\n",
    "def get_pred_df(header, pred_model, y_true_train, y_true, rank_ascending):\n",
    "    df_pred = pd.concat([header[['RowId','Date','SecuritiesCode']].assign(Date=lambda x: x.Date.dt.strftime('%Y-%m-%d'), SecuritiesCode=lambda x: x.SecuritiesCode.astype(int)).reset_index(drop=True),\n",
    "                        pd.Series(pred_model).rename('pred_model').reset_index(drop=True),\n",
    "                        y_true_train.reset_index(drop=True),\n",
    "                        y_true.reset_index(drop=True)\n",
    "                        ], axis=1)\n",
    "    df_pred['Rank'] = df_pred.groupby('Date').pred_model.rank(method='first', ascending=rank_ascending).astype(int) - 1\n",
    "    return df_pred\n",
    "\n",
    "'''\n",
    "Official function to calculate Sharpe Ratio given a prediction\n",
    "'''\n",
    "def _calc_spread_return_per_day(df, portfolio_size, toprank_weight_ratio):\n",
    "    assert df['Rank'].min() == 0\n",
    "    assert df['Rank'].max() == len(df['Rank']) - 1\n",
    "    weights = np.linspace(start=toprank_weight_ratio, stop=1, num=portfolio_size)\n",
    "    purchase = (df.sort_values(by='Rank')['Target'][:portfolio_size] * weights).sum() / weights.mean()\n",
    "    short = (df.sort_values(by='Rank', ascending=False)['Target'][:portfolio_size] * weights).sum() / weights.mean()\n",
    "    return purchase - short\n",
    "\n",
    "def my_calc_spread_return_per_day(df, portfolio_size, toprank_weight_ratio):\n",
    "    assert df['Rank'].min() == 0\n",
    "    assert df['Rank'].max() == len(df['Rank']) - 1\n",
    "    weights = np.linspace(start=toprank_weight_ratio, stop=1, num=portfolio_size)\n",
    "    purchase = (df.sort_values(by='Rank')['Target'][:portfolio_size] * weights).sum() / weights.mean()\n",
    "    short = (df.sort_values(by='Rank', ascending=False)['Target'][:portfolio_size] * weights).sum() / weights.mean()\n",
    "    return pd.DataFrame({'long':[purchase],'short':[short],'net':[purchase - short]})\n",
    "\n",
    "def calc_spread_return_sharpe(df: pd.DataFrame, portfolio_size: int = 200, toprank_weight_ratio: float = 2) -> float:\n",
    "    buf = df.groupby('Date').apply(_calc_spread_return_per_day, portfolio_size, toprank_weight_ratio)\n",
    "    sharpe_ratio = buf.mean() / buf.std()\n",
    "    return sharpe_ratio"
   ]
  },
  {
   "cell_type": "code",
   "execution_count": 7,
   "id": "7d066912",
   "metadata": {
    "_cell_guid": "b4032fcf-3380-4782-8a11-7617c962a5d2",
    "_uuid": "23cc1ed3-aa0f-4e49-9749-dcf53ada723c",
    "collapsed": false,
    "execution": {
     "iopub.execute_input": "2022-06-18T09:16:58.154248Z",
     "iopub.status.busy": "2022-06-18T09:16:58.153178Z",
     "iopub.status.idle": "2022-06-18T09:16:58.177237Z",
     "shell.execute_reply": "2022-06-18T09:16:58.176681Z",
     "shell.execute_reply.started": "2022-06-17T16:44:08.067154Z"
    },
    "jupyter": {
     "outputs_hidden": false
    },
    "papermill": {
     "duration": 0.055626,
     "end_time": "2022-06-18T09:16:58.177393",
     "exception": false,
     "start_time": "2022-06-18T09:16:58.121767",
     "status": "completed"
    },
    "tags": []
   },
   "outputs": [],
   "source": [
    "'''\n",
    "Training function\n",
    "'''\n",
    "def train_model(fold, params, mode):\n",
    "    # unpack model params\n",
    "    selected_feats = params['selected_feats']\n",
    "    lgbm_var_params = params['lgbm_var_params']\n",
    "    lgbm_fixed_params = params['lgbm_fixed_params']\n",
    "    lgbm_fixed_params['n_estimators'] = params['n_estimators']\n",
    "    early_stopping_rounds = params['early_stopping_rounds']\n",
    "\n",
    "    # define dataset\n",
    "    data_trn = full_data.loc[lambda x: (x.fold==fold) & (x.trn_val=='trn')]\n",
    "    data_val = full_data.loc[lambda x: (x.fold==fold) & (x.trn_val=='val')]\n",
    "    X_trn, y_trn, grp_trn, qid_trn, header_trn, target_trn = get_dataset(data_trn, selected_feats, 'trn')\n",
    "    X_val, y_val, grp_val, qid_val, header_val, target_val = get_dataset(data_val, selected_feats, 'val')\n",
    "    # model fit\n",
    "    model = lgbm.LGBMRanker(**lgbm_fixed_params, **lgbm_var_params)\n",
    "    model.fit(\n",
    "        X = X_trn,\n",
    "        y = y_trn,\n",
    "        group = grp_trn,\n",
    "        eval_set = [(X_val, y_val)],\n",
    "        eval_group = [grp_val],\n",
    "        eval_names = ['Validation'],\n",
    "        eval_at = EVAL_AT,\n",
    "        verbose = False,\n",
    "        eval_metric = EVAL_METRIC,\n",
    "        early_stopping_rounds = early_stopping_rounds\n",
    "    )\n",
    "\n",
    "    # output\n",
    "    if mode == 'val_score_only':\n",
    "        output = model.best_score_['Validation'][EVAL_METRIC] * -1 # this score is for minimization problem\n",
    "        \n",
    "    if mode == 'val_sharpe_only':\n",
    "        pred_val = pred_rank(model, X_val, qid_val)\n",
    "        df_pred_val = get_pred_df(header_val, pred_val, y_val, target_val, RANK_ASCENDING)\n",
    "        sharpe_val = calc_spread_return_sharpe(df_pred_val)\n",
    "        output = sharpe_val * -1 # this score is for minimization problem\n",
    "        \n",
    "    if mode == 'feat_imp':\n",
    "        model.set_params(importance_type='gain')\n",
    "        imp_gain = model.feature_importances_\n",
    "        model.set_params(importance_type='split')\n",
    "        imp_split = model.feature_importances_\n",
    "        output = pd.concat([\n",
    "            pd.DataFrame({'feat':model.feature_name_, 'imp':imp_gain}).assign(imp_type='gain', imp=lambda x: x.imp.rank()),\n",
    "            pd.DataFrame({'feat':model.feature_name_, 'imp':imp_split}).assign(imp_type='split', imp=lambda x: x.imp.rank())\n",
    "        ], axis=0).assign(fold=fold)\n",
    "    \n",
    "    if mode == 'normal':\n",
    "        # save model\n",
    "        save_pkl(model, f\"model{fold}\")\n",
    "        # number of distinct predicted values\n",
    "#         n_uniq = pd.Series(model.predict(X_trn)).nunique()\n",
    "        n_uniq_trn = pd.concat([pred_score(model, X_trn, qid_trn).rename('score'), header_trn], axis=1).groupby('Date').score.nunique().mean()\n",
    "        n_uniq_val = pd.concat([pred_score(model, X_val, qid_val).rename('score'), header_val], axis=1).groupby('Date').score.nunique().mean()\n",
    "        # prediction\n",
    "        pred_trn = pred_rank(model, X_trn, qid_trn)\n",
    "        pred_val = pred_rank(model, X_val, qid_val)\n",
    "        # prediction df\n",
    "        df_pred_trn = get_pred_df(header_trn, pred_trn, y_trn, target_trn, RANK_ASCENDING)\n",
    "        df_pred_val = get_pred_df(header_val, pred_val, y_val, target_val, RANK_ASCENDING)\n",
    "        # sharpe\n",
    "        sharpe_trn = calc_spread_return_sharpe(df_pred_trn)\n",
    "        sharpe_val = calc_spread_return_sharpe(df_pred_val)\n",
    "        # output dict\n",
    "        output = dict(\n",
    "            fold = fold,\n",
    "            params = params,\n",
    "            best_iteration_ = model.best_iteration_,\n",
    "            best_score_ = model.best_score_['Validation'][EVAL_METRIC],\n",
    "            sharpe = {'trn': sharpe_trn, 'val': sharpe_val},\n",
    "            ann_sharpe = {'trn': sharpe_trn * np.sqrt(240), 'val': sharpe_val * np.sqrt(240)},\n",
    "            evals_result_ = model.evals_result_['Validation'][EVAL_METRIC],\n",
    "            feat_imp = pd.DataFrame(list(zip(model.feature_name_, model.feature_importances_)), columns=['feat','imp']),\n",
    "            df_pred_val = df_pred_val,\n",
    "            n_uniq_trn = n_uniq_trn,\n",
    "            n_uniq_val = n_uniq_val,\n",
    "        )\n",
    "    return output "
   ]
  },
  {
   "cell_type": "markdown",
   "id": "1d064783",
   "metadata": {
    "papermill": {
     "duration": 0.027664,
     "end_time": "2022-06-18T09:16:58.234020",
     "exception": false,
     "start_time": "2022-06-18T09:16:58.206356",
     "status": "completed"
    },
    "tags": []
   },
   "source": [
    "# Feature Importance"
   ]
  },
  {
   "cell_type": "code",
   "execution_count": 8,
   "id": "cf099264",
   "metadata": {
    "execution": {
     "iopub.execute_input": "2022-06-18T09:16:58.295671Z",
     "iopub.status.busy": "2022-06-18T09:16:58.294623Z",
     "iopub.status.idle": "2022-06-18T09:16:58.306638Z",
     "shell.execute_reply": "2022-06-18T09:16:58.307185Z",
     "shell.execute_reply.started": "2022-06-17T16:44:08.094071Z"
    },
    "papermill": {
     "duration": 0.044576,
     "end_time": "2022-06-18T09:16:58.307378",
     "exception": false,
     "start_time": "2022-06-18T09:16:58.262802",
     "status": "completed"
    },
    "tags": []
   },
   "outputs": [],
   "source": [
    "def run_feature_importance():\n",
    "    # random sampling of features\n",
    "    all_feats = all_features.copy()\n",
    "    feat_groups = []\n",
    "    for i in range(N_SHUFFLE):\n",
    "        random.shuffle(all_feats)\n",
    "        n_groups = math.floor(len(all_feats)/N_FEATS_IMP_TEST)\n",
    "        feat_groups += np.array(all_feats[:N_FEATS_IMP_TEST*n_groups]).reshape(-1,N_FEATS_IMP_TEST).tolist()\n",
    "    log(f'Total number of run: {len(feat_groups)}')\n",
    "    \n",
    "    # calculate feature importance\n",
    "    df_imp = []\n",
    "    for i, group in enumerate(feat_groups):\n",
    "        for fold in range(N_FOLD):\n",
    "            params = {'selected_feats': group, \n",
    "                      'lgbm_var_params': LGBM_VAR_PARAMS,\n",
    "                      'lgbm_fixed_params': LGBM_FIXED_PARAMS, \n",
    "                      'n_estimators': N_ESTIMATORS_IMP,\n",
    "                      'early_stopping_rounds': EARLY_STOPPING_ROUNDS_IMP}\n",
    "            df_imp.append(train_model(fold, params, 'feat_imp'))\n",
    "        log(f'Completed running feature group {i}') if i%10==0 else None\n",
    "    df_imp = pd.concat(df_imp)\n",
    "    df_imp_agg = df_imp.groupby('feat').imp.mean().sort_values(ascending=False).reset_index()\n",
    "    df_imp_agg.to_csv('df_imp_agg.csv', index=False)\n",
    "    display(df_imp_agg.head(10))\n",
    "\n",
    "    # plotting feature importance\n",
    "    df_imp_agg.sort_values('imp', ascending=True).set_index('feat').plot.barh(figsize=(20, 20))\n",
    "    \n",
    "    # prepare feature list for forward selection\n",
    "    feat_groups = df_imp_agg.head(N_FEATS_FS)\n",
    "    feat_groups = [[x] for x in feat_groups.feat]\n",
    "    return feat_groups"
   ]
  },
  {
   "cell_type": "markdown",
   "id": "5f23466a",
   "metadata": {
    "papermill": {
     "duration": 0.027632,
     "end_time": "2022-06-18T09:16:58.363028",
     "exception": false,
     "start_time": "2022-06-18T09:16:58.335396",
     "status": "completed"
    },
    "tags": []
   },
   "source": [
    "# Forward Selection"
   ]
  },
  {
   "cell_type": "code",
   "execution_count": 9,
   "id": "ed3b0315",
   "metadata": {
    "execution": {
     "iopub.execute_input": "2022-06-18T09:16:58.423273Z",
     "iopub.status.busy": "2022-06-18T09:16:58.422236Z",
     "iopub.status.idle": "2022-06-18T09:16:58.431786Z",
     "shell.execute_reply": "2022-06-18T09:16:58.432313Z",
     "shell.execute_reply.started": "2022-06-17T16:44:08.112325Z"
    },
    "papermill": {
     "duration": 0.041645,
     "end_time": "2022-06-18T09:16:58.432504",
     "exception": false,
     "start_time": "2022-06-18T09:16:58.390859",
     "status": "completed"
    },
    "tags": []
   },
   "outputs": [],
   "source": [
    "'''\n",
    "Forward Selection function\n",
    "'''\n",
    "def forward_selection(feat_groups):\n",
    "    base_feats = []\n",
    "    hist = []\n",
    "    while len(feat_groups) > 0:\n",
    "        scores = []\n",
    "        for feats in feat_groups:\n",
    "            # calculate CV score\n",
    "            params = {'selected_feats': base_feats + feats, \n",
    "                      'lgbm_var_params': LGBM_VAR_PARAMS, \n",
    "                      'lgbm_fixed_params': LGBM_FIXED_PARAMS, \n",
    "                      'n_estimators': N_ESTIMATORS_FS, \n",
    "                      'early_stopping_rounds': EARLY_STOPPING_ROUNDS_FS}\n",
    "            mean_score = np.mean([train_model(fold, params, 'val_sharpe_only') for fold in range(N_FOLD)])\n",
    "            scores.append(mean_score)\n",
    "            hist.append((mean_score,\n",
    "                         len(base_feats + feats),\n",
    "                         ', '.join(base_feats + feats)\n",
    "                         ))\n",
    "            log(f'Score: {mean_score}; Num features: {len(base_feats + feats)}; Features: {\", \".join(base_feats + feats)}')\n",
    "        # add the new feature (group) which gives minimum score\n",
    "        base_feats += feat_groups[np.argmin(scores)]\n",
    "        # remove the added feature (group) from remaining candidate pool\n",
    "        del feat_groups[np.argmin(scores)]\n",
    "    hist = pd.DataFrame(hist, columns=['score','len_feats','total_feats'])\n",
    "    hist.to_csv('fs_hist.csv', index=False)\n",
    "    return hist"
   ]
  },
  {
   "cell_type": "markdown",
   "id": "62ae459b",
   "metadata": {
    "papermill": {
     "duration": 0.027495,
     "end_time": "2022-06-18T09:16:58.487854",
     "exception": false,
     "start_time": "2022-06-18T09:16:58.460359",
     "status": "completed"
    },
    "tags": []
   },
   "source": [
    "# Hyperparameter Tuning"
   ]
  },
  {
   "cell_type": "code",
   "execution_count": 10,
   "id": "5763301e",
   "metadata": {
    "execution": {
     "iopub.execute_input": "2022-06-18T09:16:58.547921Z",
     "iopub.status.busy": "2022-06-18T09:16:58.546852Z",
     "iopub.status.idle": "2022-06-18T09:16:58.561987Z",
     "shell.execute_reply": "2022-06-18T09:16:58.562524Z",
     "shell.execute_reply.started": "2022-06-17T16:44:08.133197Z"
    },
    "papermill": {
     "duration": 0.046975,
     "end_time": "2022-06-18T09:16:58.562736",
     "exception": false,
     "start_time": "2022-06-18T09:16:58.515761",
     "status": "completed"
    },
    "tags": []
   },
   "outputs": [],
   "source": [
    "'''\n",
    "Hyperparameter Optimization function\n",
    "'''\n",
    "def Objective(trial):\n",
    "    lgbm_var_params = dict(\n",
    "        boosting_type = trial.suggest_categorical(\"boosting_type\", ['gbdt','dart']),\n",
    "        max_depth = trial.suggest_int('max_depth', 2, 32, log=True),\n",
    "        num_leaves = trial.suggest_int('num_leaves', 16, 64, log=True),\n",
    "        learning_rate = trial.suggest_float(\"learning_rate\", 0.001, 0.2),\n",
    "        min_child_weight = trial.suggest_float(\"min_child_weight\", 1e-3, 4, log=True),\n",
    "        subsample = trial.suggest_float(\"subsample\", 0.5, 1),\n",
    "        subsample_freq = trial.suggest_categorical(\"subsample_freq\", [1,2,4,6,8]),\n",
    "        colsample_bytree = trial.suggest_float(\"colsample_bytree\", 0.5, 1),\n",
    "        reg_alpha = trial.suggest_float(\"reg_alpha\", 1e-2, 16, log=True),\n",
    "        reg_lambda = trial.suggest_float(\"reg_lambda\", 1e-2, 16, log=True),\n",
    "        objective = trial.suggest_categorical(\"objective\", ['rank_xendcg','lambdarank']),\n",
    "        max_bin = trial.suggest_int('max_bin', 50, 500),\n",
    "    )\n",
    "    \n",
    "    # pack all params\n",
    "    params = {'selected_feats': selected_feats, \n",
    "              'lgbm_var_params': lgbm_var_params, \n",
    "              'lgbm_fixed_params': LGBM_FIXED_PARAMS, \n",
    "              'n_estimators': N_ESTIMATORS_HP, \n",
    "              'early_stopping_rounds': EARLY_STOPPING_ROUNDS_HP}\n",
    "    # return average CV score\n",
    "    cv_score = np.mean([train_model(fold, params, 'val_sharpe_only') for fold in range(N_FOLD)])\n",
    "    return cv_score\n",
    "\n",
    "\n",
    "def optimize_hp():\n",
    "    # run optimization\n",
    "    study = optuna.create_study(direction=\"minimize\", study_name='LGBM optimization')\n",
    "    study.optimize(Objective, timeout=HP_OPT_HRS*60*60)\n",
    "    \n",
    "    # save results\n",
    "    best_params = study.best_params\n",
    "    best_score = study.best_value\n",
    "    log(best_params)\n",
    "    log(f'Best score is {best_score}')\n",
    "    trials = study.trials_dataframe()\n",
    "    trials.to_csv(f'trials.csv', index=False)\n",
    "    save_pkl(best_params, f'best_params')\n",
    "    save_pkl(study, f'study')\n",
    "    \n",
    "    # visualise relationship between parameter and CV score\n",
    "    for c in trials.columns:\n",
    "        if c[:7]=='params_':\n",
    "            new_plot()\n",
    "            trials.plot.scatter(c, 'value')\n",
    "            plt.grid()\n",
    "            plt.title(c)\n",
    "            plt.show()\n",
    "    return best_params"
   ]
  },
  {
   "cell_type": "markdown",
   "id": "1b5ab30a",
   "metadata": {
    "papermill": {
     "duration": 0.027438,
     "end_time": "2022-06-18T09:16:58.618005",
     "exception": false,
     "start_time": "2022-06-18T09:16:58.590567",
     "status": "completed"
    },
    "tags": []
   },
   "source": [
    "# Signal Analysis"
   ]
  },
  {
   "cell_type": "code",
   "execution_count": 11,
   "id": "7cfd31fe",
   "metadata": {
    "execution": {
     "iopub.execute_input": "2022-06-18T09:16:58.678704Z",
     "iopub.status.busy": "2022-06-18T09:16:58.677712Z",
     "iopub.status.idle": "2022-06-18T09:16:58.696661Z",
     "shell.execute_reply": "2022-06-18T09:16:58.697204Z",
     "shell.execute_reply.started": "2022-06-17T16:44:08.151306Z"
    },
    "papermill": {
     "duration": 0.050928,
     "end_time": "2022-06-18T09:16:58.697406",
     "exception": false,
     "start_time": "2022-06-18T09:16:58.646478",
     "status": "completed"
    },
    "tags": []
   },
   "outputs": [],
   "source": [
    "def analyze_signal(outputs):\n",
    "    df = pd.concat([x['df_pred_val'] for x in outputs])\n",
    "    df.Date = pd.to_datetime(df.Date)\n",
    "    df['rank_pred'] = df.groupby('Date').pred_model.rank(method='first',ascending=False)\n",
    "    df['rank_true'] = df.groupby('Date').target_train.rank(method='first',ascending=True)\n",
    "\n",
    "    # distribution of model prediction\n",
    "    new_plot()\n",
    "    df.pred_model.hist(bins=100)\n",
    "    plt.grid()\n",
    "    plt.title('Distribution of model prediction')\n",
    "\n",
    "    # percentage in correct region\n",
    "    new_plot()\n",
    "    n = 200\n",
    "    top = df.groupby('Date').apply(lambda df: df.loc[lambda x: (x.rank_true>=2000-n) & (x.rank_pred>=2000-n)].shape[0]).divide(n)\n",
    "    bottom = df.groupby('Date').apply(lambda df: df.loc[lambda x: (x.rank_true<=n) & (x.rank_pred<=n)].shape[0]).divide(n)\n",
    "    top.rolling(20).mean().plot(label='top')\n",
    "    bottom.rolling(20).mean().plot(label='bottom')\n",
    "    plt.legend(bbox_to_anchor=(1.1, 1.05))\n",
    "    plt.grid()\n",
    "    plt.title('% in correct region')\n",
    "    log(f'Average % in top 200: {top.mean()}')\n",
    "    log(f'Average % in bottom 200: {bottom.mean()}')\n",
    "\n",
    "    # portfolio return analysis\n",
    "    ret = df.groupby('Date').apply(my_calc_spread_return_per_day, 200, 2)\n",
    "    ret = ret.reset_index().set_index('Date') \\\n",
    "        .assign(short = lambda x: -1 * x.short)\n",
    "\n",
    "    # cumulative returns\n",
    "    new_plot()\n",
    "    ret.long.cumsum().plot(label='long')\n",
    "    ret.short.cumsum().plot(label='short')\n",
    "    ret.net.cumsum().plot(label='net')\n",
    "    plt.legend(bbox_to_anchor=(1.1, 1.05))\n",
    "    plt.grid()\n",
    "    plt.title('Cumulative Returns')\n",
    "    log(f'Mean long returns: {ret.long.mean()}')\n",
    "    log(f'Mean short returns: {ret.short.mean()}')\n",
    "    log(f'Mean net returns: {ret.net.mean()}')\n",
    "\n",
    "    # rolling sharpes\n",
    "    new_plot()\n",
    "    ret.long.rolling(60).apply(lambda s: s.mean()/s.std()).plot(label='long')\n",
    "    ret.short.rolling(60).apply(lambda s: s.mean()/s.std()).plot(label='short')\n",
    "    ret.net.rolling(60).apply(lambda s: s.mean()/s.std()).plot(label='net')\n",
    "    plt.legend(bbox_to_anchor=(1.1, 1.05))\n",
    "    plt.grid()\n",
    "    plt.title('Rolling Sharpes')\n",
    "    log(f'Sharpe of long: {ret.long.mean() / ret.long.std()}')\n",
    "    log(f'Sharpe of short: {ret.short.mean() / ret.short.std()}')\n",
    "    log(f'Sharpe of net: {ret.net.mean() / ret.net.std()}')"
   ]
  },
  {
   "cell_type": "markdown",
   "id": "0c2d0a07",
   "metadata": {
    "papermill": {
     "duration": 0.027512,
     "end_time": "2022-06-18T09:16:58.753457",
     "exception": false,
     "start_time": "2022-06-18T09:16:58.725945",
     "status": "completed"
    },
    "tags": []
   },
   "source": [
    "# Execution"
   ]
  },
  {
   "cell_type": "code",
   "execution_count": 12,
   "id": "934347cd",
   "metadata": {
    "execution": {
     "iopub.execute_input": "2022-06-18T09:16:58.813142Z",
     "iopub.status.busy": "2022-06-18T09:16:58.812064Z",
     "iopub.status.idle": "2022-06-18T09:17:52.806068Z",
     "shell.execute_reply": "2022-06-18T09:17:52.806936Z",
     "shell.execute_reply.started": "2022-06-17T16:44:08.173539Z"
    },
    "papermill": {
     "duration": 54.026192,
     "end_time": "2022-06-18T09:17:52.807221",
     "exception": false,
     "start_time": "2022-06-18T09:16:58.781029",
     "status": "completed"
    },
    "tags": []
   },
   "outputs": [
    {
     "data": {
      "text/html": [
       "<div>\n",
       "<style scoped>\n",
       "    .dataframe tbody tr th:only-of-type {\n",
       "        vertical-align: middle;\n",
       "    }\n",
       "\n",
       "    .dataframe tbody tr th {\n",
       "        vertical-align: top;\n",
       "    }\n",
       "\n",
       "    .dataframe thead tr th {\n",
       "        text-align: left;\n",
       "    }\n",
       "\n",
       "    .dataframe thead tr:last-of-type th {\n",
       "        text-align: right;\n",
       "    }\n",
       "</style>\n",
       "<table border=\"1\" class=\"dataframe\">\n",
       "  <thead>\n",
       "    <tr>\n",
       "      <th></th>\n",
       "      <th></th>\n",
       "      <th colspan=\"3\" halign=\"left\">Date</th>\n",
       "    </tr>\n",
       "    <tr>\n",
       "      <th></th>\n",
       "      <th></th>\n",
       "      <th>min</th>\n",
       "      <th>max</th>\n",
       "      <th>nunique</th>\n",
       "    </tr>\n",
       "    <tr>\n",
       "      <th>fold</th>\n",
       "      <th>trn_val</th>\n",
       "      <th></th>\n",
       "      <th></th>\n",
       "      <th></th>\n",
       "    </tr>\n",
       "  </thead>\n",
       "  <tbody>\n",
       "    <tr>\n",
       "      <th rowspan=\"2\" valign=\"top\">0</th>\n",
       "      <th>trn</th>\n",
       "      <td>2019-01-16</td>\n",
       "      <td>2020-01-14</td>\n",
       "      <td>240</td>\n",
       "    </tr>\n",
       "    <tr>\n",
       "      <th>val</th>\n",
       "      <td>2021-03-05</td>\n",
       "      <td>2021-06-02</td>\n",
       "      <td>60</td>\n",
       "    </tr>\n",
       "    <tr>\n",
       "      <th rowspan=\"2\" valign=\"top\">1</th>\n",
       "      <th>trn</th>\n",
       "      <td>2019-07-23</td>\n",
       "      <td>2020-07-16</td>\n",
       "      <td>240</td>\n",
       "    </tr>\n",
       "    <tr>\n",
       "      <th>val</th>\n",
       "      <td>2021-06-03</td>\n",
       "      <td>2021-08-30</td>\n",
       "      <td>60</td>\n",
       "    </tr>\n",
       "    <tr>\n",
       "      <th rowspan=\"2\" valign=\"top\">2</th>\n",
       "      <th>trn</th>\n",
       "      <td>2020-01-30</td>\n",
       "      <td>2021-01-22</td>\n",
       "      <td>240</td>\n",
       "    </tr>\n",
       "    <tr>\n",
       "      <th>val</th>\n",
       "      <td>2021-08-31</td>\n",
       "      <td>2021-11-26</td>\n",
       "      <td>60</td>\n",
       "    </tr>\n",
       "    <tr>\n",
       "      <th rowspan=\"2\" valign=\"top\">3</th>\n",
       "      <th>trn</th>\n",
       "      <td>2020-08-06</td>\n",
       "      <td>2021-07-29</td>\n",
       "      <td>240</td>\n",
       "    </tr>\n",
       "    <tr>\n",
       "      <th>val</th>\n",
       "      <td>2021-11-29</td>\n",
       "      <td>2022-02-25</td>\n",
       "      <td>60</td>\n",
       "    </tr>\n",
       "    <tr>\n",
       "      <th rowspan=\"2\" valign=\"top\">4</th>\n",
       "      <th>trn</th>\n",
       "      <td>2021-02-10</td>\n",
       "      <td>2022-02-02</td>\n",
       "      <td>240</td>\n",
       "    </tr>\n",
       "    <tr>\n",
       "      <th>val</th>\n",
       "      <td>2022-02-28</td>\n",
       "      <td>2022-05-27</td>\n",
       "      <td>60</td>\n",
       "    </tr>\n",
       "  </tbody>\n",
       "</table>\n",
       "</div>"
      ],
      "text/plain": [
       "                   Date                   \n",
       "                    min        max nunique\n",
       "fold trn_val                              \n",
       "0    trn     2019-01-16 2020-01-14     240\n",
       "     val     2021-03-05 2021-06-02      60\n",
       "1    trn     2019-07-23 2020-07-16     240\n",
       "     val     2021-06-03 2021-08-30      60\n",
       "2    trn     2020-01-30 2021-01-22     240\n",
       "     val     2021-08-31 2021-11-26      60\n",
       "3    trn     2020-08-06 2021-07-29     240\n",
       "     val     2021-11-29 2022-02-25      60\n",
       "4    trn     2021-02-10 2022-02-02     240\n",
       "     val     2022-02-28 2022-05-27      60"
      ]
     },
     "metadata": {},
     "output_type": "display_data"
    },
    {
     "name": "stdout",
     "output_type": "stream",
     "text": [
      "CPU times: user 39.1 s, sys: 8.67 s, total: 47.8 s\n",
      "Wall time: 53.9 s\n"
     ]
    }
   ],
   "source": [
    "%%time\n",
    "'''\n",
    "Preprocessing\n",
    "'''\n",
    "# load features\n",
    "path = '../input/jpx-feature-engineering/features'\n",
    "features = pd.concat([pd.concat(load_pkl(f'{path}/{filename}')) for filename in os.listdir(path)]).sort_values('RowId').reset_index(drop=True)\n",
    "\n",
    "# train-val split\n",
    "if SPLIT_METHOD == 'trn_val_split_late_val':\n",
    "    full_data = trn_val_split_late_val(features, val_to_end=False)\n",
    "elif SPLIT_METHOD == 'trn_val_split_even_val':\n",
    "    full_data = trn_val_split_even_val(features, val_to_end=False)\n",
    "display(full_data.groupby(['fold','trn_val']).agg({'Date':['min','max','nunique']}))\n",
    "\n",
    "# add targets\n",
    "targets = pd.concat([pd.read_csv(f'{JPX_PATH}/{folder}/stock_prices.csv', parse_dates=['Date']) for folder in ['train_files', 'supplemental_files']]) \\\n",
    "    .loc[:,['RowId','Target']] \\\n",
    "    .loc[lambda x: x.Target.notnull()] \\\n",
    "    .drop_duplicates() \\\n",
    "    .reset_index(drop=True)\n",
    "full_data = full_data.merge(targets, how='inner', on='RowId')\n",
    "\n",
    "# remove irregular data\n",
    "full_data = full_data.loc[lambda x: x.volatility_1w!=0].reset_index(drop=True)\n",
    "\n",
    "# derive training target\n",
    "full_data['target_train'] = full_data.Target.divide(full_data.volatility_1m.pow(TARGET_POW))\n",
    "full_data['target_train'] = (full_data.groupby(['Date','fold','trn_val']).target_train.rank(method='first', ascending=not(RANK_ASCENDING)) - 1).astype(int)\n",
    "\n",
    "# release memory\n",
    "del features\n",
    "gc.collect()\n",
    "\n",
    "# define column types\n",
    "id_cols = ['RowId','Date','SecuritiesCode','fold','trn_val']\n",
    "all_features = [c for c in list(full_data) if c not in id_cols and c not in ['target_train','Target']]\n",
    "cat_features = ['AdjustmentFactor','first_div']\n",
    "time_features = [c for c in all_features if '_mkt' in c] + \\\n",
    "                [c for c in all_features if c[:4]=='sec_'] + \\\n",
    "                [c for c in all_features if c[-4:] in ['_sin','_cos']]\n",
    "stock_features = [c for c in all_features if c not in cat_features + time_features]\n",
    "\n",
    "# scaling\n",
    "full_data = jpx_data_scaling(full_data=full_data, scaler=SCALER, daily=SCALE_DAILY)\n",
    "\n",
    "# PCA compression\n",
    "if RUN_PCA:\n",
    "    full_data, all_features = pca_compress(full_data)"
   ]
  },
  {
   "cell_type": "code",
   "execution_count": 13,
   "id": "95ca18d2",
   "metadata": {
    "execution": {
     "iopub.execute_input": "2022-06-18T09:17:52.870801Z",
     "iopub.status.busy": "2022-06-18T09:17:52.869625Z",
     "iopub.status.idle": "2022-06-18T09:17:52.876108Z",
     "shell.execute_reply": "2022-06-18T09:17:52.876637Z",
     "shell.execute_reply.started": "2022-06-17T16:45:12.838560Z"
    },
    "papermill": {
     "duration": 0.039693,
     "end_time": "2022-06-18T09:17:52.876829",
     "exception": false,
     "start_time": "2022-06-18T09:17:52.837136",
     "status": "completed"
    },
    "tags": []
   },
   "outputs": [
    {
     "name": "stdout",
     "output_type": "stream",
     "text": [
      "CPU times: user 5 µs, sys: 1e+03 ns, total: 6 µs\n",
      "Wall time: 9.78 µs\n"
     ]
    }
   ],
   "source": [
    "%%time\n",
    "'''\n",
    "Feature importance\n",
    "'''\n",
    "if RUN_IMP:\n",
    "    feat_groups = run_feature_importance()\n",
    "else:\n",
    "    # if not running feature importance, use pre-set FEAT_GROUPS for forward selection\n",
    "    feat_groups = FEAT_GROUPS"
   ]
  },
  {
   "cell_type": "code",
   "execution_count": 14,
   "id": "f4150b09",
   "metadata": {
    "execution": {
     "iopub.execute_input": "2022-06-18T09:17:52.944939Z",
     "iopub.status.busy": "2022-06-18T09:17:52.943966Z",
     "iopub.status.idle": "2022-06-18T09:17:52.947530Z",
     "shell.execute_reply": "2022-06-18T09:17:52.948070Z",
     "shell.execute_reply.started": "2022-06-17T16:47:52.774281Z"
    },
    "papermill": {
     "duration": 0.042037,
     "end_time": "2022-06-18T09:17:52.948282",
     "exception": false,
     "start_time": "2022-06-18T09:17:52.906245",
     "status": "completed"
    },
    "tags": []
   },
   "outputs": [
    {
     "name": "stdout",
     "output_type": "stream",
     "text": [
      "CPU times: user 8 µs, sys: 0 ns, total: 8 µs\n",
      "Wall time: 12.6 µs\n"
     ]
    }
   ],
   "source": [
    "%%time\n",
    "'''\n",
    "Forward Selection\n",
    "'''\n",
    "if RUN_FS:\n",
    "    # run FS\n",
    "    fs_hist = forward_selection(feat_groups)\n",
    "    display(fs_hist.sort_values('score', ascending=True).head(1))\n",
    "    # output selected features\n",
    "    selected_feats = fs_hist.sort_values('score', ascending=True).total_feats.iloc[0].split(', ')\n",
    "\n",
    "else:\n",
    "    # if not running both IMP and FS, output pre-set selected_feats\n",
    "    if not RUN_IMP:\n",
    "        selected_feats = SELECTED_FEATS\n",
    "    # if ran IMP but not FS, output first N important features where N is pre-set\n",
    "    elif RUN_IMP:\n",
    "        selected_feats = [x[0] for x in feat_groups][:N_FEATS_FINAL]"
   ]
  },
  {
   "cell_type": "code",
   "execution_count": 15,
   "id": "0c4ed069",
   "metadata": {
    "execution": {
     "iopub.execute_input": "2022-06-18T09:17:53.014060Z",
     "iopub.status.busy": "2022-06-18T09:17:53.013373Z",
     "iopub.status.idle": "2022-06-18T17:25:37.977917Z",
     "shell.execute_reply": "2022-06-18T17:25:37.979452Z",
     "shell.execute_reply.started": "2022-06-17T16:53:35.022550Z"
    },
    "papermill": {
     "duration": 29265.001411,
     "end_time": "2022-06-18T17:25:37.980723",
     "exception": false,
     "start_time": "2022-06-18T09:17:52.979312",
     "status": "completed"
    },
    "tags": []
   },
   "outputs": [
    {
     "name": "stderr",
     "output_type": "stream",
     "text": [
      "\u001b[32m[I 2022-06-18 09:17:53,014]\u001b[0m A new study created in memory with name: LGBM optimization\u001b[0m\n",
      "\u001b[32m[I 2022-06-18 09:18:54,982]\u001b[0m Trial 0 finished with value: -0.10904370204069154 and parameters: {'boosting_type': 'gbdt', 'max_depth': 13, 'num_leaves': 63, 'learning_rate': 0.008222247773613403, 'min_child_weight': 0.2275420503027625, 'subsample': 0.8135633790762028, 'subsample_freq': 8, 'colsample_bytree': 0.5471788673009604, 'reg_alpha': 14.596758673756852, 'reg_lambda': 0.04595808848970367, 'objective': 'lambdarank', 'max_bin': 163}. Best is trial 0 with value: -0.10904370204069154.\u001b[0m\n",
      "\u001b[32m[I 2022-06-18 09:19:37,911]\u001b[0m Trial 1 finished with value: -0.10691574841349478 and parameters: {'boosting_type': 'gbdt', 'max_depth': 13, 'num_leaves': 45, 'learning_rate': 0.1937049035548374, 'min_child_weight': 0.0014752346768292703, 'subsample': 0.8709229784835623, 'subsample_freq': 8, 'colsample_bytree': 0.7350619729148328, 'reg_alpha': 0.01839401404361744, 'reg_lambda': 2.3451719449697492, 'objective': 'lambdarank', 'max_bin': 187}. Best is trial 0 with value: -0.10904370204069154.\u001b[0m\n",
      "\u001b[32m[I 2022-06-18 09:20:01,229]\u001b[0m Trial 2 finished with value: -0.11122618032908363 and parameters: {'boosting_type': 'gbdt', 'max_depth': 32, 'num_leaves': 21, 'learning_rate': 0.022909211841613823, 'min_child_weight': 0.5461348345702799, 'subsample': 0.6346270476838933, 'subsample_freq': 1, 'colsample_bytree': 0.7924816932332198, 'reg_alpha': 0.024718132684165894, 'reg_lambda': 1.2849620232385186, 'objective': 'rank_xendcg', 'max_bin': 307}. Best is trial 2 with value: -0.11122618032908363.\u001b[0m\n",
      "\u001b[32m[I 2022-06-18 09:20:28,112]\u001b[0m Trial 3 finished with value: -0.029267196652550016 and parameters: {'boosting_type': 'gbdt', 'max_depth': 21, 'num_leaves': 64, 'learning_rate': 0.03697162882260647, 'min_child_weight': 0.00926836467748647, 'subsample': 0.5107392925752889, 'subsample_freq': 6, 'colsample_bytree': 0.8902141902551484, 'reg_alpha': 0.1219666625163745, 'reg_lambda': 0.0785166434356318, 'objective': 'rank_xendcg', 'max_bin': 303}. Best is trial 2 with value: -0.11122618032908363.\u001b[0m\n",
      "\u001b[32m[I 2022-06-18 13:15:28,884]\u001b[0m Trial 4 finished with value: -0.08090672481188546 and parameters: {'boosting_type': 'dart', 'max_depth': 4, 'num_leaves': 37, 'learning_rate': 0.06136380559878115, 'min_child_weight': 0.046951297828195473, 'subsample': 0.7248904185229392, 'subsample_freq': 2, 'colsample_bytree': 0.95928290323314, 'reg_alpha': 0.0999238061826541, 'reg_lambda': 0.015803389231730573, 'objective': 'lambdarank', 'max_bin': 196}. Best is trial 2 with value: -0.11122618032908363.\u001b[0m\n",
      "\u001b[32m[I 2022-06-18 13:16:21,157]\u001b[0m Trial 5 finished with value: -0.11558604517480717 and parameters: {'boosting_type': 'gbdt', 'max_depth': 21, 'num_leaves': 29, 'learning_rate': 0.13088478105301277, 'min_child_weight': 0.14639128960544467, 'subsample': 0.8627704858377568, 'subsample_freq': 4, 'colsample_bytree': 0.6217355275779246, 'reg_alpha': 0.09718038182177662, 'reg_lambda': 0.8649277152916389, 'objective': 'lambdarank', 'max_bin': 349}. Best is trial 5 with value: -0.11558604517480717.\u001b[0m\n",
      "\u001b[32m[I 2022-06-18 17:25:34,686]\u001b[0m Trial 6 finished with value: -0.05615302883990923 and parameters: {'boosting_type': 'dart', 'max_depth': 7, 'num_leaves': 38, 'learning_rate': 0.08422249189577372, 'min_child_weight': 0.01931380405862378, 'subsample': 0.5188854686099382, 'subsample_freq': 4, 'colsample_bytree': 0.8767247964379343, 'reg_alpha': 0.02932557292304328, 'reg_lambda': 0.035548750615019574, 'objective': 'lambdarank', 'max_bin': 333}. Best is trial 5 with value: -0.11558604517480717.\u001b[0m\n"
     ]
    },
    {
     "name": "stdout",
     "output_type": "stream",
     "text": [
      "[2022-06-19 01:25:34] {'boosting_type': 'gbdt', 'max_depth': 21, 'num_leaves': 29, 'learning_rate': 0.13088478105301277, 'min_child_weight': 0.14639128960544467, 'subsample': 0.8627704858377568, 'subsample_freq': 4, 'colsample_bytree': 0.6217355275779246, 'reg_alpha': 0.09718038182177662, 'reg_lambda': 0.8649277152916389, 'objective': 'lambdarank', 'max_bin': 349}\n",
      "[2022-06-19 01:25:34] Best score is -0.11558604517480717\n"
     ]
    },
    {
     "data": {
      "text/plain": [
       "<Figure size 432x288 with 0 Axes>"
      ]
     },
     "metadata": {},
     "output_type": "display_data"
    },
    {
     "data": {
      "image/png": "[encoded data removed]",
      "text/plain": [
       "<Figure size 432x288 with 1 Axes>"
      ]
     },
     "metadata": {
      "needs_background": "light"
     },
     "output_type": "display_data"
    },
    {
     "data": {
      "text/plain": [
       "<Figure size 432x288 with 0 Axes>"
      ]
     },
     "metadata": {},
     "output_type": "display_data"
    },
    {
     "data": {
      "image/png": "[encoded data removed]",
      "text/plain": [
       "<Figure size 432x288 with 1 Axes>"
      ]
     },
     "metadata": {
      "needs_background": "light"
     },
     "output_type": "display_data"
    },
    {
     "data": {
      "text/plain": [
       "<Figure size 432x288 with 0 Axes>"
      ]
     },
     "metadata": {},
     "output_type": "display_data"
    },
    {
     "data": {
      "image/png": "[encoded data removed]",
      "text/plain": [
       "<Figure size 432x288 with 1 Axes>"
      ]
     },
     "metadata": {
      "needs_background": "light"
     },
     "output_type": "display_data"
    },
    {
     "data": {
      "text/plain": [
       "<Figure size 432x288 with 0 Axes>"
      ]
     },
     "metadata": {},
     "output_type": "display_data"
    },
    {
     "data": {
      "image/png": "[encoded data removed]",
      "text/plain": [
       "<Figure size 432x288 with 1 Axes>"
      ]
     },
     "metadata": {
      "needs_background": "light"
     },
     "output_type": "display_data"
    },
    {
     "data": {
      "text/plain": [
       "<Figure size 432x288 with 0 Axes>"
      ]
     },
     "metadata": {},
     "output_type": "display_data"
    },
    {
     "data": {
      "image/png": "[encoded data removed]",
      "text/plain": [
       "<Figure size 432x288 with 1 Axes>"
      ]
     },
     "metadata": {
      "needs_background": "light"
     },
     "output_type": "display_data"
    },
    {
     "data": {
      "text/plain": [
       "<Figure size 432x288 with 0 Axes>"
      ]
     },
     "metadata": {},
     "output_type": "display_data"
    },
    {
     "data": {
      "image/png": "[encoded data removed]",
      "text/plain": [
       "<Figure size 432x288 with 1 Axes>"
      ]
     },
     "metadata": {
      "needs_background": "light"
     },
     "output_type": "display_data"
    },
    {
     "data": {
      "text/plain": [
       "<Figure size 432x288 with 0 Axes>"
      ]
     },
     "metadata": {},
     "output_type": "display_data"
    },
    {
     "data": {
      "image/png": "[encoded data removed]",
      "text/plain": [
       "<Figure size 432x288 with 1 Axes>"
      ]
     },
     "metadata": {
      "needs_background": "light"
     },
     "output_type": "display_data"
    },
    {
     "data": {
      "text/plain": [
       "<Figure size 432x288 with 0 Axes>"
      ]
     },
     "metadata": {},
     "output_type": "display_data"
    },
    {
     "data": {
      "image/png": "[encoded data removed]",
      "text/plain": [
       "<Figure size 432x288 with 1 Axes>"
      ]
     },
     "metadata": {
      "needs_background": "light"
     },
     "output_type": "display_data"
    },
    {
     "data": {
      "text/plain": [
       "<Figure size 432x288 with 0 Axes>"
      ]
     },
     "metadata": {},
     "output_type": "display_data"
    },
    {
     "data": {
      "image/png": "[encoded data removed]",
      "text/plain": [
       "<Figure size 432x288 with 1 Axes>"
      ]
     },
     "metadata": {
      "needs_background": "light"
     },
     "output_type": "display_data"
    },
    {
     "data": {
      "text/plain": [
       "<Figure size 432x288 with 0 Axes>"
      ]
     },
     "metadata": {},
     "output_type": "display_data"
    },
    {
     "data": {
      "image/png": "[encoded data removed]",
      "text/plain": [
       "<Figure size 432x288 with 1 Axes>"
      ]
     },
     "metadata": {
      "needs_background": "light"
     },
     "output_type": "display_data"
    },
    {
     "data": {
      "text/plain": [
       "<Figure size 432x288 with 0 Axes>"
      ]
     },
     "metadata": {},
     "output_type": "display_data"
    },
    {
     "data": {
      "image/png": "[encoded data removed]",
      "text/plain": [
       "<Figure size 432x288 with 1 Axes>"
      ]
     },
     "metadata": {
      "needs_background": "light"
     },
     "output_type": "display_data"
    },
    {
     "data": {
      "text/plain": [
       "<Figure size 432x288 with 0 Axes>"
      ]
     },
     "metadata": {},
     "output_type": "display_data"
    },
    {
     "data": {
      "image/png": "[encoded data removed]",
      "text/plain": [
       "<Figure size 432x288 with 1 Axes>"
      ]
     },
     "metadata": {
      "needs_background": "light"
     },
     "output_type": "display_data"
    },
    {
     "name": "stdout",
     "output_type": "stream",
     "text": [
      "CPU times: user 1d 7h 52min 44s, sys: 2min 10s, total: 1d 7h 54min 54s\n",
      "Wall time: 8h 7min 44s\n"
     ]
    }
   ],
   "source": [
    "%%time\n",
    "'''\n",
    "Hyperparameter tuning\n",
    "'''\n",
    "if RUN_HP:\n",
    "    # run optimization\n",
    "    best_params = optimize_hp()\n",
    "    \n",
    "else:\n",
    "    # if not running HP, use pre-set best parameters\n",
    "    best_params = BEST_PARAMS"
   ]
  },
  {
   "cell_type": "code",
   "execution_count": 16,
   "id": "8f195380",
   "metadata": {
    "execution": {
     "iopub.execute_input": "2022-06-18T17:25:38.106636Z",
     "iopub.status.busy": "2022-06-18T17:25:38.102691Z",
     "iopub.status.idle": "2022-06-18T17:27:13.206617Z",
     "shell.execute_reply": "2022-06-18T17:27:13.207207Z",
     "shell.execute_reply.started": "2022-06-17T16:55:13.972071Z"
    },
    "papermill": {
     "duration": 95.167356,
     "end_time": "2022-06-18T17:27:13.207482",
     "exception": false,
     "start_time": "2022-06-18T17:25:38.040126",
     "status": "completed"
    },
    "tags": []
   },
   "outputs": [
    {
     "name": "stdout",
     "output_type": "stream",
     "text": [
      "[2022-06-19 01:27:13] Folds best iterations: [62, 26, 25, 2, 14]\n",
      "[2022-06-19 01:27:13] Folds average num unique values in train: [1538.9833333333333, 1239.5, 1095.3416666666667, 67.28333333333333, 679.6291666666667]\n",
      "[2022-06-19 01:27:13] Folds average num unique values in validation: [1602.2333333333333, 1385.4833333333333, 1188.35, 57.233333333333334, 471.45]\n",
      "[2022-06-19 01:27:13] Folds scores: [0.597117253045426, 0.6122743513662078, 0.6081883077021284, 0.6108213594176771, 0.6142459115436811]\n",
      "[2022-06-19 01:27:13] Folds sharpes: [0.02811765881833939, 0.04549227989355816, -0.04456075374332721, 0.4544312406586078, 0.09444980024685769]\n",
      "[2022-06-19 01:27:13] CV score: 0.608529436615024\n",
      "[2022-06-19 01:27:13] CV sharpe: 0.11558604517480717\n"
     ]
    }
   ],
   "source": [
    "'''\n",
    "Re-fit best model\n",
    "'''\n",
    "params = {'selected_feats': selected_feats, \n",
    "          'lgbm_var_params': best_params.copy(), \n",
    "          'lgbm_fixed_params': LGBM_FIXED_PARAMS, \n",
    "          'n_estimators': N_ESTIMATORS_REFIT, \n",
    "          'early_stopping_rounds': EARLY_STOPPING_ROUNDS_REFIT}\n",
    "\n",
    "outputs = []\n",
    "for fold in range(N_FOLD):\n",
    "    outputs.append(train_model(fold, params, 'normal'))\n",
    "    \n",
    "cv_score = np.mean([x['best_score_'] for x in outputs])\n",
    "cv_sharpe = np.mean([x['sharpe']['val'] for x in outputs])\n",
    "log(f\"Folds best iterations: {[x['best_iteration_'] for x in outputs]}\")\n",
    "log(f\"Folds average num unique values in train: {[x['n_uniq_trn'] for x in outputs]}\")\n",
    "log(f\"Folds average num unique values in validation: {[x['n_uniq_val'] for x in outputs]}\")\n",
    "log(f\"Folds scores: {[x['best_score_'] for x in outputs]}\")\n",
    "log(f\"Folds sharpes: {[x['sharpe']['val'] for x in outputs]}\")\n",
    "log(f'CV score: {cv_score}')\n",
    "log(f'CV sharpe: {cv_sharpe}')"
   ]
  },
  {
   "cell_type": "code",
   "execution_count": 17,
   "id": "091ed26b",
   "metadata": {
    "execution": {
     "iopub.execute_input": "2022-06-18T17:27:13.311556Z",
     "iopub.status.busy": "2022-06-18T17:27:13.310892Z",
     "iopub.status.idle": "2022-06-18T17:27:17.115554Z",
     "shell.execute_reply": "2022-06-18T17:27:17.116339Z",
     "shell.execute_reply.started": "2022-06-17T16:56:29.399841Z"
    },
    "papermill": {
     "duration": 3.859348,
     "end_time": "2022-06-18T17:27:17.116635",
     "exception": false,
     "start_time": "2022-06-18T17:27:13.257287",
     "status": "completed"
    },
    "tags": []
   },
   "outputs": [
    {
     "name": "stdout",
     "output_type": "stream",
     "text": [
      "[2022-06-19 01:27:14] Average % in top 200: 0.06566666666666668\n",
      "[2022-06-19 01:27:14] Average % in bottom 200: 0.1438166666666666\n",
      "[2022-06-19 01:27:15] Mean long returns: 0.05797197003494299\n",
      "[2022-06-19 01:27:15] Mean short returns: 0.09306258217390345\n",
      "[2022-06-19 01:27:15] Mean net returns: 0.1510345522088465\n",
      "[2022-06-19 01:27:15] Sharpe of long: 0.027464129941520407\n",
      "[2022-06-19 01:27:15] Sharpe of short: 0.03795971582377816\n",
      "[2022-06-19 01:27:15] Sharpe of net: 0.11395681227554268\n"
     ]
    },
    {
     "data": {
      "image/png": "[encoded data removed]",
      "text/plain": [
       "<Figure size 432x288 with 1 Axes>"
      ]
     },
     "metadata": {
      "needs_background": "light"
     },
     "output_type": "display_data"
    },
    {
     "data": {
      "image/png": "[encoded data removed]",
      "text/plain": [
       "<Figure size 432x288 with 1 Axes>"
      ]
     },
     "metadata": {
      "needs_background": "light"
     },
     "output_type": "display_data"
    },
    {
     "data": {
      "image/png": "[encoded data removed]",
      "text/plain": [
       "<Figure size 432x288 with 1 Axes>"
      ]
     },
     "metadata": {
      "needs_background": "light"
     },
     "output_type": "display_data"
    },
    {
     "data": {
      "image/png": "[encoded data removed]",
      "text/plain": [
       "<Figure size 432x288 with 1 Axes>"
      ]
     },
     "metadata": {
      "needs_background": "light"
     },
     "output_type": "display_data"
    }
   ],
   "source": [
    "'''\n",
    "Signal Analysis\n",
    "'''\n",
    "analyze_signal(outputs)"
   ]
  },
  {
   "cell_type": "markdown",
   "id": "b3e5f7ce",
   "metadata": {
    "papermill": {
     "duration": 0.05817,
     "end_time": "2022-06-18T17:27:17.236951",
     "exception": false,
     "start_time": "2022-06-18T17:27:17.178781",
     "status": "completed"
    },
    "tags": []
   },
   "source": [
    "# Debug"
   ]
  },
  {
   "cell_type": "code",
   "execution_count": null,
   "id": "89a0394b",
   "metadata": {
    "papermill": {
     "duration": 0.057329,
     "end_time": "2022-06-18T17:27:17.352291",
     "exception": false,
     "start_time": "2022-06-18T17:27:17.294962",
     "status": "completed"
    },
    "tags": []
   },
   "outputs": [],
   "source": []
  },
  {
   "cell_type": "code",
   "execution_count": null,
   "id": "fbdf4162",
   "metadata": {
    "papermill": {
     "duration": 0.058694,
     "end_time": "2022-06-18T17:27:17.468832",
     "exception": false,
     "start_time": "2022-06-18T17:27:17.410138",
     "status": "completed"
    },
    "tags": []
   },
   "outputs": [],
   "source": []
  },
  {
   "cell_type": "code",
   "execution_count": null,
   "id": "20785eba",
   "metadata": {
    "papermill": {
     "duration": 0.057328,
     "end_time": "2022-06-18T17:27:17.586039",
     "exception": false,
     "start_time": "2022-06-18T17:27:17.528711",
     "status": "completed"
    },
    "tags": []
   },
   "outputs": [],
   "source": []
  }
 ],
 "metadata": {
  "kernelspec": {
   "display_name": "Python 3",
   "language": "python",
   "name": "python3"
  },
  "language_info": {
   "codemirror_mode": {
    "name": "ipython",
    "version": 3
   },
   "file_extension": ".py",
   "mimetype": "text/x-python",
   "name": "python",
   "nbconvert_exporter": "python",
   "pygments_lexer": "ipython3",
   "version": "3.7.12"
  },
  "papermill": {
   "default_parameters": {},
   "duration": 29437.699735,
   "end_time": "2022-06-18T17:27:20.575605",
   "environment_variables": {},
   "exception": null,
   "input_path": "__notebook__.ipynb",
   "output_path": "__notebook__.ipynb",
   "parameters": {},
   "start_time": "2022-06-18T09:16:42.875870",
   "version": "2.3.3"
  }
 },
 "nbformat": 4,
 "nbformat_minor": 5
}
