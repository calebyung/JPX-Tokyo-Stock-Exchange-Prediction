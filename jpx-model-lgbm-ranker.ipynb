{
 "cells": [
  {
   "cell_type": "markdown",
   "id": "357ab510",
   "metadata": {
    "papermill": {
     "duration": 0.029281,
     "end_time": "2022-06-18T09:18:41.357878",
     "exception": false,
     "start_time": "2022-06-18T09:18:41.328597",
     "status": "completed"
    },
    "tags": []
   },
   "source": [
    "# Version description\n",
    "- Added DART as HP option\n",
    "- Use PCA features\n",
    "- Rank Ascending = True\n",
    "- Full Run"
   ]
  },
  {
   "cell_type": "code",
   "execution_count": 1,
   "id": "8297b51a",
   "metadata": {
    "_cell_guid": "951f04b1-5acc-4336-aa05-ec2ddaf21e51",
    "_kg_hide-input": true,
    "_uuid": "16d6d48d-59d7-47d9-afff-641e8323e11e",
    "collapsed": false,
    "execution": {
     "iopub.execute_input": "2022-06-18T09:18:41.429952Z",
     "iopub.status.busy": "2022-06-18T09:18:41.428834Z",
     "iopub.status.idle": "2022-06-18T09:18:44.660739Z",
     "shell.execute_reply": "2022-06-18T09:18:44.661284Z",
     "shell.execute_reply.started": "2022-06-17T16:44:04.523113Z"
    },
    "jupyter": {
     "outputs_hidden": false
    },
    "papermill": {
     "duration": 3.274881,
     "end_time": "2022-06-18T09:18:44.661611",
     "exception": false,
     "start_time": "2022-06-18T09:18:41.386730",
     "status": "completed"
    },
    "tags": []
   },
   "outputs": [
    {
     "data": {
      "text/html": [
       "<style type='text/css'>\n",
       ".datatable table.frame { margin-bottom: 0; }\n",
       ".datatable table.frame thead { border-bottom: none; }\n",
       ".datatable table.frame tr.coltypes td {  color: #FFFFFF;  line-height: 6px;  padding: 0 0.5em;}\n",
       ".datatable .bool    { background: #DDDD99; }\n",
       ".datatable .object  { background: #565656; }\n",
       ".datatable .int     { background: #5D9E5D; }\n",
       ".datatable .float   { background: #4040CC; }\n",
       ".datatable .str     { background: #CC4040; }\n",
       ".datatable .time    { background: #40CC40; }\n",
       ".datatable .row_index {  background: var(--jp-border-color3);  border-right: 1px solid var(--jp-border-color0);  color: var(--jp-ui-font-color3);  font-size: 9px;}\n",
       ".datatable .frame tbody td { text-align: left; }\n",
       ".datatable .frame tr.coltypes .row_index {  background: var(--jp-border-color0);}\n",
       ".datatable th:nth-child(2) { padding-left: 12px; }\n",
       ".datatable .hellipsis {  color: var(--jp-cell-editor-border-color);}\n",
       ".datatable .vellipsis {  background: var(--jp-layout-color0);  color: var(--jp-cell-editor-border-color);}\n",
       ".datatable .na {  color: var(--jp-cell-editor-border-color);  font-size: 80%;}\n",
       ".datatable .sp {  opacity: 0.25;}\n",
       ".datatable .footer { font-size: 9px; }\n",
       ".datatable .frame_dimensions {  background: var(--jp-border-color3);  border-top: 1px solid var(--jp-border-color0);  color: var(--jp-ui-font-color3);  display: inline-block;  opacity: 0.6;  padding: 1px 10px 1px 5px;}\n",
       "</style>\n"
      ],
      "text/plain": [
       "<IPython.core.display.HTML object>"
      ]
     },
     "metadata": {},
     "output_type": "display_data"
    }
   ],
   "source": [
    "# import libraries\n",
    "import warnings\n",
    "warnings.filterwarnings(\"ignore\")\n",
    "warnings.simplefilter(action='ignore', category=FutureWarning)\n",
    "import os\n",
    "from os.path import isfile, isdir, join\n",
    "import numpy as np\n",
    "import pandas as pd\n",
    "from datetime import datetime, date\n",
    "from dateutil.relativedelta import relativedelta\n",
    "import re\n",
    "from IPython.display import display\n",
    "from zipfile import ZipFile\n",
    "import pickle\n",
    "import unicodedata\n",
    "import pytz\n",
    "from joblib import Parallel, delayed\n",
    "import shutil\n",
    "import difflib\n",
    "import random\n",
    "import math\n",
    "from shutil import copyfile\n",
    "import itertools\n",
    "import time\n",
    "from tqdm import tqdm\n",
    "import collections\n",
    "from collections import deque\n",
    "import gc\n",
    "\n",
    "from sklearn.decomposition import PCA\n",
    "from sklearn.linear_model import LinearRegression\n",
    "from sklearn.preprocessing import StandardScaler, MinMaxScaler, QuantileTransformer\n",
    "from sklearn.metrics import ndcg_score, accuracy_score, mean_squared_error\n",
    "\n",
    "import lightgbm as lgbm\n",
    "import optuna\n",
    "from optuna import Trial, visualization\n",
    "\n",
    "import matplotlib as mpl\n",
    "from matplotlib import pyplot as plt\n",
    "\n",
    "import jpx_tokyo_market_prediction\n",
    "\n",
    "from utility_script import *\n",
    "# from utility_script_jpx import *\n",
    "\n",
    "pd.set_option('display.max_columns', None)\n",
    "pd.set_option('display.max_colwidth', None)"
   ]
  },
  {
   "cell_type": "code",
   "execution_count": 2,
   "id": "a4ffd0bb",
   "metadata": {
    "_cell_guid": "5f898435-79c2-4539-88cd-a0bb87b68f60",
    "_uuid": "52554abd-62a0-45ab-baf2-b8249732bbea",
    "collapsed": false,
    "execution": {
     "iopub.execute_input": "2022-06-18T09:18:44.731522Z",
     "iopub.status.busy": "2022-06-18T09:18:44.730709Z",
     "iopub.status.idle": "2022-06-18T09:18:44.734537Z",
     "shell.execute_reply": "2022-06-18T09:18:44.734002Z",
     "shell.execute_reply.started": "2022-06-17T16:44:07.959500Z"
    },
    "jupyter": {
     "outputs_hidden": false
    },
    "papermill": {
     "duration": 0.044416,
     "end_time": "2022-06-18T09:18:44.734677",
     "exception": false,
     "start_time": "2022-06-18T09:18:44.690261",
     "status": "completed"
    },
    "tags": []
   },
   "outputs": [],
   "source": [
    "'''\n",
    "Notebook Parameters\n",
    "'''\n",
    "# basic\n",
    "SEED = 0\n",
    "JPX_PATH = '../input/jpx-tokyo-stock-exchange-prediction'\n",
    "\n",
    "# data sacling\n",
    "SCALER = StandardScaler()\n",
    "SCALE_DAILY = False\n",
    "\n",
    "# PCA\n",
    "RUN_PCA = True\n",
    "N_COMP = 0.9\n",
    "\n",
    "# target definition\n",
    "RANK_ASCENDING = True # set this to False if model prediction is same direction of Target\n",
    "TARGET_POW = 0\n",
    "\n",
    "# data split\n",
    "N_FOLD = 5\n",
    "TRN_SIZE = 240\n",
    "VAL_SIZE = 60\n",
    "TRN_VAL_GAP = 14\n",
    "SPLIT_METHOD = 'trn_val_split_late_val'\n",
    "\n",
    "# model fixed params\n",
    "DEVICE_TYPE = 'CPU'\n",
    "EVAL_AT = 2000\n",
    "LABEL_GAIN = 1.01**np.arange(2000)\n",
    "EVAL_METRIC = f'ndcg@{EVAL_AT}'\n",
    "LGBM_VAR_PARAMS = dict(\n",
    "    boosting_type = 'gbdt',\n",
    "    max_depth = 32,\n",
    "    num_leaves = 32,\n",
    "    learning_rate = 0.01,\n",
    "    min_child_weight = 0.1,\n",
    "    min_child_samples = 1,\n",
    "    subsample = 0.65,\n",
    "    subsample_freq = 1,\n",
    "    colsample_bytree = 0.6,\n",
    "    reg_alpha = 1.5,\n",
    "    reg_lambda = 1.5,\n",
    "    max_bin = 255,\n",
    "    objective = 'lambdarank',\n",
    ")\n",
    "LGBM_FIXED_PARAMS = dict(\n",
    "    n_estimators = 5000,\n",
    "    label_gain = LABEL_GAIN,\n",
    "    n_jobs = -1,\n",
    "    random_state = SEED,\n",
    "    device_type = DEVICE_TYPE,\n",
    ")\n",
    "\n",
    "# feature importance\n",
    "RUN_IMP = True\n",
    "N_SHUFFLE = 12\n",
    "N_FEATS_IMP_TEST = 10\n",
    "N_ESTIMATORS_IMP = 50\n",
    "EARLY_STOPPING_ROUNDS_IMP = 9999\n",
    "FEAT_GROUPS = None # fixed output if not running IMP\n",
    "\n",
    "# forward selection\n",
    "RUN_FS = True\n",
    "N_ESTIMATORS_FS = 5000\n",
    "EARLY_STOPPING_ROUNDS_FS = 20\n",
    "N_FEATS_FS = 20 # top N features considered for FS based on importance\n",
    "N_FEATS_FINAL = None # top N features if skipping FS based on importance\n",
    "SELECTED_FEATS = 'EarningToPriceRatio_raw, sharpe_3m, price_standard_dist_1m'.split(', ') # fixed features if skipping both IMP and FS\n",
    "\n",
    "# hyperparameters tuning\n",
    "RUN_HP = True\n",
    "N_ESTIMATORS_HP = 5000\n",
    "EARLY_STOPPING_ROUNDS_HP = 30\n",
    "HP_OPT_HRS = 4\n",
    "BEST_PARAMS = None\n",
    "\n",
    "# re-fit\n",
    "N_ESTIMATORS_REFIT = 5000\n",
    "EARLY_STOPPING_ROUNDS_REFIT = 30"
   ]
  },
  {
   "cell_type": "markdown",
   "id": "612c988a",
   "metadata": {
    "papermill": {
     "duration": 0.02729,
     "end_time": "2022-06-18T09:18:44.790379",
     "exception": false,
     "start_time": "2022-06-18T09:18:44.763089",
     "status": "completed"
    },
    "tags": []
   },
   "source": [
    "# Data preprocessing"
   ]
  },
  {
   "cell_type": "code",
   "execution_count": 3,
   "id": "ed8a0427",
   "metadata": {
    "execution": {
     "iopub.execute_input": "2022-06-18T09:18:44.855501Z",
     "iopub.status.busy": "2022-06-18T09:18:44.854666Z",
     "iopub.status.idle": "2022-06-18T09:18:44.868462Z",
     "shell.execute_reply": "2022-06-18T09:18:44.867762Z",
     "shell.execute_reply.started": "2022-06-17T16:44:07.974773Z"
    },
    "papermill": {
     "duration": 0.049769,
     "end_time": "2022-06-18T09:18:44.868601",
     "exception": false,
     "start_time": "2022-06-18T09:18:44.818832",
     "status": "completed"
    },
    "tags": []
   },
   "outputs": [],
   "source": [
    "'''\n",
    "Train-Val split where validation periods are right after train period\n",
    "'''\n",
    "def trn_val_split_even_val(features, val_to_end):\n",
    "    # define start date of each fold\n",
    "    fold_dates = features.Date.drop_duplicates().reset_index(drop=True)\n",
    "    fold_dates = fold_dates.shift(TRN_SIZE + TRN_VAL_GAP + VAL_SIZE).loc[lambda x: x.notnull()].reset_index(drop=True)\n",
    "    fold_dates = fold_dates.loc[np.linspace(0, fold_dates.shape[0]-1, N_FOLD).astype(int)].reset_index(drop=True)\n",
    "\n",
    "    # create and append train + val data\n",
    "    full_dates = features.Date.drop_duplicates().reset_index(drop=True)\n",
    "    full_data = []\n",
    "    for i, date in enumerate(fold_dates):\n",
    "        dates_trn = full_dates.loc[lambda x: x>=date].head(TRN_SIZE)\n",
    "        if val_to_end==False:\n",
    "            dates_val = full_dates.loc[lambda x: x>=date].shift(-TRN_SIZE).shift(-TRN_VAL_GAP).head(VAL_SIZE)\n",
    "        else:\n",
    "            dates_val = full_dates.loc[lambda x: x>=date].shift(-TRN_SIZE).shift(-TRN_VAL_GAP).loc[lambda x: x.notnull()]\n",
    "        full_data.append(features.loc[lambda x: x.Date.isin(dates_trn)].assign(fold=i, trn_val='trn'))\n",
    "        full_data.append(features.loc[lambda x: x.Date.isin(dates_val)].assign(fold=i, trn_val='val'))\n",
    "    full_data = pd.concat(full_data).reset_index(drop=True)\n",
    "    return full_data\n",
    "\n",
    "\n",
    "'''\n",
    "Train-Val split where validation periods are farthest in future\n",
    "'''\n",
    "def trn_val_split_late_val(features, val_to_end):\n",
    "    # define start date of each fold\n",
    "    fold_dates = features.Date.drop_duplicates().reset_index(drop=True)\n",
    "    fold_dates = fold_dates.shift(TRN_SIZE + TRN_VAL_GAP + VAL_SIZE).loc[lambda x: x.notnull()].reset_index(drop=True)\n",
    "    fold_dates = fold_dates.loc[np.linspace(0, fold_dates.shape[0]-1, N_FOLD).astype(int)].reset_index(drop=True)\n",
    "\n",
    "    # create and append train + val data\n",
    "    full_dates = features.Date.drop_duplicates().reset_index(drop=True)\n",
    "    val_dates_list = full_dates.tail(VAL_SIZE * N_FOLD).values.reshape(N_FOLD, -1)\n",
    "    full_data = []\n",
    "    for i, date in enumerate(fold_dates):\n",
    "        dates_trn = full_dates.loc[lambda x: x>=date].head(TRN_SIZE)\n",
    "        if val_to_end==False:\n",
    "            dates_val = val_dates_list[i]\n",
    "        else:\n",
    "            dates_val = np.concatenate(val_dates_list[i:])\n",
    "        full_data.append(features.loc[lambda x: x.Date.isin(dates_trn)].assign(fold=i, trn_val='trn'))\n",
    "        full_data.append(features.loc[lambda x: x.Date.isin(dates_val)].assign(fold=i, trn_val='val'))\n",
    "    full_data = pd.concat(full_data).reset_index(drop=True)\n",
    "    return full_data"
   ]
  },
  {
   "cell_type": "code",
   "execution_count": 4,
   "id": "097342a9",
   "metadata": {
    "execution": {
     "iopub.execute_input": "2022-06-18T09:18:44.934281Z",
     "iopub.status.busy": "2022-06-18T09:18:44.933547Z",
     "iopub.status.idle": "2022-06-18T09:18:44.943767Z",
     "shell.execute_reply": "2022-06-18T09:18:44.943186Z",
     "shell.execute_reply.started": "2022-06-17T16:44:07.999339Z"
    },
    "papermill": {
     "duration": 0.046193,
     "end_time": "2022-06-18T09:18:44.943920",
     "exception": false,
     "start_time": "2022-06-18T09:18:44.897727",
     "status": "completed"
    },
    "tags": []
   },
   "outputs": [],
   "source": [
    "'''\n",
    "Function to scale the features\n",
    "'''\n",
    "def jpx_data_scaling(full_data, scaler, daily):\n",
    "    feats = time_features + stock_features\n",
    "    \n",
    "    if daily==False:\n",
    "        data_scaled = []\n",
    "        for fold in range(N_FOLD):\n",
    "            # locate train and val datasets\n",
    "            data_trn = full_data.loc[lambda x: (x.fold==fold) & (x.trn_val=='trn')]\n",
    "            data_val = full_data.loc[lambda x: (x.fold==fold) & (x.trn_val=='val')]\n",
    "            # fit scaler\n",
    "            scaler = scaler.fit(data_trn[feats])\n",
    "            save_pkl(scaler, f'scaler{fold}')\n",
    "            # transform data\n",
    "            data_trn[feats] = scaler.transform(data_trn[feats]).astype(np.float32)\n",
    "            data_val[feats] = scaler.transform(data_val[feats]).astype(np.float32)\n",
    "            # store transformed data\n",
    "            data_scaled.append(data_trn)\n",
    "            data_scaled.append(data_val)\n",
    "        data_scaled = pd.concat(data_scaled).reset_index(drop=True)\n",
    "            \n",
    "    elif daily==True:\n",
    "        # scale stock features for each day\n",
    "        def transform_data(df, scaler, feats):\n",
    "            df[feats] = scaler.fit_transform(df[feats]).astype(np.float32)\n",
    "            return df\n",
    "        full_data = full_data.groupby(['fold','trn_val','Date']).apply(lambda df: transform_data(df, scaler, stock_features))\n",
    "        # then scale time features across days\n",
    "        data_scaled = []\n",
    "        for fold in range(N_FOLD):\n",
    "            # locate train and val datasets\n",
    "            data_trn = full_data.loc[lambda x: (x.fold==fold) & (x.trn_val=='trn')]\n",
    "            data_val = full_data.loc[lambda x: (x.fold==fold) & (x.trn_val=='val')]\n",
    "            # fit scaler\n",
    "            scaler = scaler.fit(data_trn[time_features])\n",
    "            save_pkl(scaler, f'scaler{fold}')\n",
    "            # transform data\n",
    "            data_trn[time_features] = scaler.transform(data_trn[time_features]).astype(np.float32)\n",
    "            data_val[time_features] = scaler.transform(data_val[time_features]).astype(np.float32)\n",
    "            # store transformed data\n",
    "            data_scaled.append(data_trn)\n",
    "            data_scaled.append(data_val)\n",
    "        data_scaled = pd.concat(data_scaled).reset_index(drop=True)\n",
    "        \n",
    "    return data_scaled"
   ]
  },
  {
   "cell_type": "code",
   "execution_count": 5,
   "id": "47df70a0",
   "metadata": {
    "execution": {
     "iopub.execute_input": "2022-06-18T09:18:45.003304Z",
     "iopub.status.busy": "2022-06-18T09:18:45.002563Z",
     "iopub.status.idle": "2022-06-18T09:18:45.012150Z",
     "shell.execute_reply": "2022-06-18T09:18:45.012692Z",
     "shell.execute_reply.started": "2022-06-17T16:44:08.019913Z"
    },
    "papermill": {
     "duration": 0.040656,
     "end_time": "2022-06-18T09:18:45.012879",
     "exception": false,
     "start_time": "2022-06-18T09:18:44.972223",
     "status": "completed"
    },
    "tags": []
   },
   "outputs": [],
   "source": [
    "'''\n",
    "PCA Compression\n",
    "'''\n",
    "def pca_compress(full_data):\n",
    "    # fit with one fold of traiing data\n",
    "    pca = PCA(n_components=N_COMP, random_state=SEED)\n",
    "    pca.fit(full_data.loc[lambda x: (x.fold==0) & (x.trn_val=='trn'), all_features])\n",
    "    print(f'PCA shape of components: {pca.components_.shape}')\n",
    "    \n",
    "    # tranform the full dataset\n",
    "    cols = [f'pc{x}' for x in range(pca.components_.shape[0])]\n",
    "    compressed_data = []\n",
    "    for fold in range(N_FOLD):\n",
    "        for trn_val in ['trn','val']:\n",
    "            X = pd.DataFrame(pca.transform(full_data.loc[lambda x: (x.fold==fold) & (x.trn_val==trn_val), all_features]), columns=cols)\n",
    "            header = full_data.loc[lambda x: (x.fold==fold) & (x.trn_val==trn_val), [c for c in full_data.columns if c not in all_features]].reset_index(drop=True)\n",
    "            new_df = pd.concat([header, X], axis=1)\n",
    "            compressed_data.append(new_df)\n",
    "    compressed_data = pd.concat(compressed_data, axis=0).reset_index(drop=True)\n",
    "    return compressed_data, cols"
   ]
  },
  {
   "cell_type": "markdown",
   "id": "7ee5eb19",
   "metadata": {
    "papermill": {
     "duration": 0.027378,
     "end_time": "2022-06-18T09:18:45.068139",
     "exception": false,
     "start_time": "2022-06-18T09:18:45.040761",
     "status": "completed"
    },
    "tags": []
   },
   "source": [
    "# Model Training Functions"
   ]
  },
  {
   "cell_type": "code",
   "execution_count": 6,
   "id": "b1ef0c6e",
   "metadata": {
    "execution": {
     "iopub.execute_input": "2022-06-18T09:18:45.134720Z",
     "iopub.status.busy": "2022-06-18T09:18:45.134024Z",
     "iopub.status.idle": "2022-06-18T09:18:45.152903Z",
     "shell.execute_reply": "2022-06-18T09:18:45.153638Z",
     "shell.execute_reply.started": "2022-06-17T16:44:08.037396Z"
    },
    "papermill": {
     "duration": 0.055825,
     "end_time": "2022-06-18T09:18:45.153831",
     "exception": false,
     "start_time": "2022-06-18T09:18:45.098006",
     "status": "completed"
    },
    "tags": []
   },
   "outputs": [],
   "source": [
    "'''\n",
    "Function to get sub-columns from table for model fitting\n",
    "'''\n",
    "def get_dataset(df, selected_feats, trn_val):\n",
    "    if trn_val=='val':\n",
    "        df = df.groupby('Date').sample(frac=1.0, random_state=SEED)\n",
    "    df = df.reset_index(drop=True)\n",
    "    grp = df.groupby('Date').size().tolist()\n",
    "    qid = df['Date']\n",
    "    X = df[selected_feats]\n",
    "    y = df['target_train']\n",
    "    target = df['Target']\n",
    "    header = df[id_cols]\n",
    "    return X, y, grp, qid, header, target\n",
    "\n",
    "'''\n",
    "Function to predict scores within groups\n",
    "'''\n",
    "def pred_score(model, X, qid):\n",
    "    X_ = X.assign(Date=qid)\n",
    "    score = []\n",
    "    for date in X_.Date.unique():\n",
    "        score += pd.Series(model.predict(X_.loc[lambda x: x.Date==date].drop('Date',axis=1))).tolist()\n",
    "    return pd.Series(score)\n",
    "\n",
    "'''\n",
    "Function to predict rankings within groups\n",
    "'''\n",
    "def pred_rank(model, X, qid):\n",
    "    X_ = X.assign(Date=qid)\n",
    "    rnk = []\n",
    "    for date in X_.Date.unique():\n",
    "        rnk += pd.Series(model.predict(X_.loc[lambda x: x.Date==date].drop('Date',axis=1))).rank(method='first').tolist()\n",
    "    return pd.Series(rnk)\n",
    "\n",
    "'''\n",
    "Function to transform model output to rank prediction table\n",
    "'''\n",
    "def get_pred_df(header, pred_model, y_true_train, y_true, rank_ascending):\n",
    "    df_pred = pd.concat([header[['RowId','Date','SecuritiesCode']].assign(Date=lambda x: x.Date.dt.strftime('%Y-%m-%d'), SecuritiesCode=lambda x: x.SecuritiesCode.astype(int)).reset_index(drop=True),\n",
    "                        pd.Series(pred_model).rename('pred_model').reset_index(drop=True),\n",
    "                        y_true_train.reset_index(drop=True),\n",
    "                        y_true.reset_index(drop=True)\n",
    "                        ], axis=1)\n",
    "    df_pred['Rank'] = df_pred.groupby('Date').pred_model.rank(method='first', ascending=rank_ascending).astype(int) - 1\n",
    "    return df_pred\n",
    "\n",
    "'''\n",
    "Official function to calculate Sharpe Ratio given a prediction\n",
    "'''\n",
    "def _calc_spread_return_per_day(df, portfolio_size, toprank_weight_ratio):\n",
    "    assert df['Rank'].min() == 0\n",
    "    assert df['Rank'].max() == len(df['Rank']) - 1\n",
    "    weights = np.linspace(start=toprank_weight_ratio, stop=1, num=portfolio_size)\n",
    "    purchase = (df.sort_values(by='Rank')['Target'][:portfolio_size] * weights).sum() / weights.mean()\n",
    "    short = (df.sort_values(by='Rank', ascending=False)['Target'][:portfolio_size] * weights).sum() / weights.mean()\n",
    "    return purchase - short\n",
    "\n",
    "def my_calc_spread_return_per_day(df, portfolio_size, toprank_weight_ratio):\n",
    "    assert df['Rank'].min() == 0\n",
    "    assert df['Rank'].max() == len(df['Rank']) - 1\n",
    "    weights = np.linspace(start=toprank_weight_ratio, stop=1, num=portfolio_size)\n",
    "    purchase = (df.sort_values(by='Rank')['Target'][:portfolio_size] * weights).sum() / weights.mean()\n",
    "    short = (df.sort_values(by='Rank', ascending=False)['Target'][:portfolio_size] * weights).sum() / weights.mean()\n",
    "    return pd.DataFrame({'long':[purchase],'short':[short],'net':[purchase - short]})\n",
    "\n",
    "def calc_spread_return_sharpe(df: pd.DataFrame, portfolio_size: int = 200, toprank_weight_ratio: float = 2) -> float:\n",
    "    buf = df.groupby('Date').apply(_calc_spread_return_per_day, portfolio_size, toprank_weight_ratio)\n",
    "    sharpe_ratio = buf.mean() / buf.std()\n",
    "    return sharpe_ratio"
   ]
  },
  {
   "cell_type": "code",
   "execution_count": 7,
   "id": "03cab5a4",
   "metadata": {
    "_cell_guid": "b4032fcf-3380-4782-8a11-7617c962a5d2",
    "_uuid": "23cc1ed3-aa0f-4e49-9749-dcf53ada723c",
    "collapsed": false,
    "execution": {
     "iopub.execute_input": "2022-06-18T09:18:45.214293Z",
     "iopub.status.busy": "2022-06-18T09:18:45.213584Z",
     "iopub.status.idle": "2022-06-18T09:18:45.236037Z",
     "shell.execute_reply": "2022-06-18T09:18:45.236576Z",
     "shell.execute_reply.started": "2022-06-17T16:44:08.067154Z"
    },
    "jupyter": {
     "outputs_hidden": false
    },
    "papermill": {
     "duration": 0.054087,
     "end_time": "2022-06-18T09:18:45.236748",
     "exception": false,
     "start_time": "2022-06-18T09:18:45.182661",
     "status": "completed"
    },
    "tags": []
   },
   "outputs": [],
   "source": [
    "'''\n",
    "Training function\n",
    "'''\n",
    "def train_model(fold, params, mode):\n",
    "    # unpack model params\n",
    "    selected_feats = params['selected_feats']\n",
    "    lgbm_var_params = params['lgbm_var_params']\n",
    "    lgbm_fixed_params = params['lgbm_fixed_params']\n",
    "    lgbm_fixed_params['n_estimators'] = params['n_estimators']\n",
    "    early_stopping_rounds = params['early_stopping_rounds']\n",
    "\n",
    "    # define dataset\n",
    "    data_trn = full_data.loc[lambda x: (x.fold==fold) & (x.trn_val=='trn')]\n",
    "    data_val = full_data.loc[lambda x: (x.fold==fold) & (x.trn_val=='val')]\n",
    "    X_trn, y_trn, grp_trn, qid_trn, header_trn, target_trn = get_dataset(data_trn, selected_feats, 'trn')\n",
    "    X_val, y_val, grp_val, qid_val, header_val, target_val = get_dataset(data_val, selected_feats, 'val')\n",
    "    # model fit\n",
    "    model = lgbm.LGBMRanker(**lgbm_fixed_params, **lgbm_var_params)\n",
    "    model.fit(\n",
    "        X = X_trn,\n",
    "        y = y_trn,\n",
    "        group = grp_trn,\n",
    "        eval_set = [(X_val, y_val)],\n",
    "        eval_group = [grp_val],\n",
    "        eval_names = ['Validation'],\n",
    "        eval_at = EVAL_AT,\n",
    "        verbose = False,\n",
    "        eval_metric = EVAL_METRIC,\n",
    "        early_stopping_rounds = early_stopping_rounds\n",
    "    )\n",
    "\n",
    "    # output\n",
    "    if mode == 'val_score_only':\n",
    "        output = model.best_score_['Validation'][EVAL_METRIC] * -1 # this score is for minimization problem\n",
    "        \n",
    "    if mode == 'val_sharpe_only':\n",
    "        pred_val = pred_rank(model, X_val, qid_val)\n",
    "        df_pred_val = get_pred_df(header_val, pred_val, y_val, target_val, RANK_ASCENDING)\n",
    "        sharpe_val = calc_spread_return_sharpe(df_pred_val)\n",
    "        output = sharpe_val * -1 # this score is for minimization problem\n",
    "        \n",
    "    if mode == 'feat_imp':\n",
    "        model.set_params(importance_type='gain')\n",
    "        imp_gain = model.feature_importances_\n",
    "        model.set_params(importance_type='split')\n",
    "        imp_split = model.feature_importances_\n",
    "        output = pd.concat([\n",
    "            pd.DataFrame({'feat':model.feature_name_, 'imp':imp_gain}).assign(imp_type='gain', imp=lambda x: x.imp.rank()),\n",
    "            pd.DataFrame({'feat':model.feature_name_, 'imp':imp_split}).assign(imp_type='split', imp=lambda x: x.imp.rank())\n",
    "        ], axis=0).assign(fold=fold)\n",
    "    \n",
    "    if mode == 'normal':\n",
    "        # save model\n",
    "        save_pkl(model, f\"model{fold}\")\n",
    "        # number of distinct predicted values\n",
    "#         n_uniq = pd.Series(model.predict(X_trn)).nunique()\n",
    "        n_uniq_trn = pd.concat([pred_score(model, X_trn, qid_trn).rename('score'), header_trn], axis=1).groupby('Date').score.nunique().mean()\n",
    "        n_uniq_val = pd.concat([pred_score(model, X_val, qid_val).rename('score'), header_val], axis=1).groupby('Date').score.nunique().mean()\n",
    "        # prediction\n",
    "        pred_trn = pred_rank(model, X_trn, qid_trn)\n",
    "        pred_val = pred_rank(model, X_val, qid_val)\n",
    "        # prediction df\n",
    "        df_pred_trn = get_pred_df(header_trn, pred_trn, y_trn, target_trn, RANK_ASCENDING)\n",
    "        df_pred_val = get_pred_df(header_val, pred_val, y_val, target_val, RANK_ASCENDING)\n",
    "        # sharpe\n",
    "        sharpe_trn = calc_spread_return_sharpe(df_pred_trn)\n",
    "        sharpe_val = calc_spread_return_sharpe(df_pred_val)\n",
    "        # output dict\n",
    "        output = dict(\n",
    "            fold = fold,\n",
    "            params = params,\n",
    "            best_iteration_ = model.best_iteration_,\n",
    "            best_score_ = model.best_score_['Validation'][EVAL_METRIC],\n",
    "            sharpe = {'trn': sharpe_trn, 'val': sharpe_val},\n",
    "            ann_sharpe = {'trn': sharpe_trn * np.sqrt(240), 'val': sharpe_val * np.sqrt(240)},\n",
    "            evals_result_ = model.evals_result_['Validation'][EVAL_METRIC],\n",
    "            feat_imp = pd.DataFrame(list(zip(model.feature_name_, model.feature_importances_)), columns=['feat','imp']),\n",
    "            df_pred_val = df_pred_val,\n",
    "            n_uniq_trn = n_uniq_trn,\n",
    "            n_uniq_val = n_uniq_val,\n",
    "        )\n",
    "    return output "
   ]
  },
  {
   "cell_type": "markdown",
   "id": "36826e8b",
   "metadata": {
    "papermill": {
     "duration": 0.027833,
     "end_time": "2022-06-18T09:18:45.292317",
     "exception": false,
     "start_time": "2022-06-18T09:18:45.264484",
     "status": "completed"
    },
    "tags": []
   },
   "source": [
    "# Feature Importance"
   ]
  },
  {
   "cell_type": "code",
   "execution_count": 8,
   "id": "2761c7c6",
   "metadata": {
    "execution": {
     "iopub.execute_input": "2022-06-18T09:18:45.350913Z",
     "iopub.status.busy": "2022-06-18T09:18:45.350100Z",
     "iopub.status.idle": "2022-06-18T09:18:45.360839Z",
     "shell.execute_reply": "2022-06-18T09:18:45.361350Z",
     "shell.execute_reply.started": "2022-06-17T16:44:08.094071Z"
    },
    "papermill": {
     "duration": 0.041529,
     "end_time": "2022-06-18T09:18:45.361528",
     "exception": false,
     "start_time": "2022-06-18T09:18:45.319999",
     "status": "completed"
    },
    "tags": []
   },
   "outputs": [],
   "source": [
    "def run_feature_importance():\n",
    "    # random sampling of features\n",
    "    all_feats = all_features.copy()\n",
    "    feat_groups = []\n",
    "    for i in range(N_SHUFFLE):\n",
    "        random.shuffle(all_feats)\n",
    "        n_groups = math.floor(len(all_feats)/N_FEATS_IMP_TEST)\n",
    "        feat_groups += np.array(all_feats[:N_FEATS_IMP_TEST*n_groups]).reshape(-1,N_FEATS_IMP_TEST).tolist()\n",
    "    log(f'Total number of run: {len(feat_groups)}')\n",
    "    \n",
    "    # calculate feature importance\n",
    "    df_imp = []\n",
    "    for i, group in enumerate(feat_groups):\n",
    "        for fold in range(N_FOLD):\n",
    "            params = {'selected_feats': group, \n",
    "                      'lgbm_var_params': LGBM_VAR_PARAMS,\n",
    "                      'lgbm_fixed_params': LGBM_FIXED_PARAMS, \n",
    "                      'n_estimators': N_ESTIMATORS_IMP,\n",
    "                      'early_stopping_rounds': EARLY_STOPPING_ROUNDS_IMP}\n",
    "            df_imp.append(train_model(fold, params, 'feat_imp'))\n",
    "        log(f'Completed running feature group {i}') if i%10==0 else None\n",
    "    df_imp = pd.concat(df_imp)\n",
    "    df_imp_agg = df_imp.groupby('feat').imp.mean().sort_values(ascending=False).reset_index()\n",
    "    df_imp_agg.to_csv('df_imp_agg.csv', index=False)\n",
    "    display(df_imp_agg.head(10))\n",
    "\n",
    "    # plotting feature importance\n",
    "    df_imp_agg.sort_values('imp', ascending=True).set_index('feat').plot.barh(figsize=(20, 20))\n",
    "    \n",
    "    # prepare feature list for forward selection\n",
    "    feat_groups = df_imp_agg.head(N_FEATS_FS)\n",
    "    feat_groups = [[x] for x in feat_groups.feat]\n",
    "    return feat_groups"
   ]
  },
  {
   "cell_type": "markdown",
   "id": "fa86f77f",
   "metadata": {
    "papermill": {
     "duration": 0.027522,
     "end_time": "2022-06-18T09:18:45.416725",
     "exception": false,
     "start_time": "2022-06-18T09:18:45.389203",
     "status": "completed"
    },
    "tags": []
   },
   "source": [
    "# Forward Selection"
   ]
  },
  {
   "cell_type": "code",
   "execution_count": 9,
   "id": "9dee278d",
   "metadata": {
    "execution": {
     "iopub.execute_input": "2022-06-18T09:18:45.481420Z",
     "iopub.status.busy": "2022-06-18T09:18:45.480701Z",
     "iopub.status.idle": "2022-06-18T09:18:45.483943Z",
     "shell.execute_reply": "2022-06-18T09:18:45.484505Z",
     "shell.execute_reply.started": "2022-06-17T16:44:08.112325Z"
    },
    "papermill": {
     "duration": 0.040181,
     "end_time": "2022-06-18T09:18:45.484680",
     "exception": false,
     "start_time": "2022-06-18T09:18:45.444499",
     "status": "completed"
    },
    "tags": []
   },
   "outputs": [],
   "source": [
    "'''\n",
    "Forward Selection function\n",
    "'''\n",
    "def forward_selection(feat_groups):\n",
    "    base_feats = []\n",
    "    hist = []\n",
    "    while len(feat_groups) > 0:\n",
    "        scores = []\n",
    "        for feats in feat_groups:\n",
    "            # calculate CV score\n",
    "            params = {'selected_feats': base_feats + feats, \n",
    "                      'lgbm_var_params': LGBM_VAR_PARAMS, \n",
    "                      'lgbm_fixed_params': LGBM_FIXED_PARAMS, \n",
    "                      'n_estimators': N_ESTIMATORS_FS, \n",
    "                      'early_stopping_rounds': EARLY_STOPPING_ROUNDS_FS}\n",
    "            mean_score = np.mean([train_model(fold, params, 'val_sharpe_only') for fold in range(N_FOLD)])\n",
    "            scores.append(mean_score)\n",
    "            hist.append((mean_score,\n",
    "                         len(base_feats + feats),\n",
    "                         ', '.join(base_feats + feats)\n",
    "                         ))\n",
    "            log(f'Score: {mean_score}; Num features: {len(base_feats + feats)}; Features: {\", \".join(base_feats + feats)}')\n",
    "        # add the new feature (group) which gives minimum score\n",
    "        base_feats += feat_groups[np.argmin(scores)]\n",
    "        # remove the added feature (group) from remaining candidate pool\n",
    "        del feat_groups[np.argmin(scores)]\n",
    "    hist = pd.DataFrame(hist, columns=['score','len_feats','total_feats'])\n",
    "    hist.to_csv('fs_hist.csv', index=False)\n",
    "    return hist"
   ]
  },
  {
   "cell_type": "markdown",
   "id": "be1955ec",
   "metadata": {
    "papermill": {
     "duration": 0.027405,
     "end_time": "2022-06-18T09:18:45.539994",
     "exception": false,
     "start_time": "2022-06-18T09:18:45.512589",
     "status": "completed"
    },
    "tags": []
   },
   "source": [
    "# Hyperparameter Tuning"
   ]
  },
  {
   "cell_type": "code",
   "execution_count": 10,
   "id": "51d5db2e",
   "metadata": {
    "execution": {
     "iopub.execute_input": "2022-06-18T09:18:45.600285Z",
     "iopub.status.busy": "2022-06-18T09:18:45.599595Z",
     "iopub.status.idle": "2022-06-18T09:18:45.614172Z",
     "shell.execute_reply": "2022-06-18T09:18:45.614698Z",
     "shell.execute_reply.started": "2022-06-17T16:44:08.133197Z"
    },
    "papermill": {
     "duration": 0.046995,
     "end_time": "2022-06-18T09:18:45.614884",
     "exception": false,
     "start_time": "2022-06-18T09:18:45.567889",
     "status": "completed"
    },
    "tags": []
   },
   "outputs": [],
   "source": [
    "'''\n",
    "Hyperparameter Optimization function\n",
    "'''\n",
    "def Objective(trial):\n",
    "    lgbm_var_params = dict(\n",
    "        boosting_type = trial.suggest_categorical(\"boosting_type\", ['gbdt','dart']),\n",
    "        max_depth = trial.suggest_int('max_depth', 2, 32, log=True),\n",
    "        num_leaves = trial.suggest_int('num_leaves', 16, 64, log=True),\n",
    "        learning_rate = trial.suggest_float(\"learning_rate\", 0.001, 0.2),\n",
    "        min_child_weight = trial.suggest_float(\"min_child_weight\", 1e-3, 4, log=True),\n",
    "        subsample = trial.suggest_float(\"subsample\", 0.5, 1),\n",
    "        subsample_freq = trial.suggest_categorical(\"subsample_freq\", [1,2,4,6,8]),\n",
    "        colsample_bytree = trial.suggest_float(\"colsample_bytree\", 0.5, 1),\n",
    "        reg_alpha = trial.suggest_float(\"reg_alpha\", 1e-2, 16, log=True),\n",
    "        reg_lambda = trial.suggest_float(\"reg_lambda\", 1e-2, 16, log=True),\n",
    "        objective = trial.suggest_categorical(\"objective\", ['rank_xendcg','lambdarank']),\n",
    "        max_bin = trial.suggest_int('max_bin', 50, 500),\n",
    "    )\n",
    "    \n",
    "    # pack all params\n",
    "    params = {'selected_feats': selected_feats, \n",
    "              'lgbm_var_params': lgbm_var_params, \n",
    "              'lgbm_fixed_params': LGBM_FIXED_PARAMS, \n",
    "              'n_estimators': N_ESTIMATORS_HP, \n",
    "              'early_stopping_rounds': EARLY_STOPPING_ROUNDS_HP}\n",
    "    # return average CV score\n",
    "    cv_score = np.mean([train_model(fold, params, 'val_sharpe_only') for fold in range(N_FOLD)])\n",
    "    return cv_score\n",
    "\n",
    "\n",
    "def optimize_hp():\n",
    "    # run optimization\n",
    "    study = optuna.create_study(direction=\"minimize\", study_name='LGBM optimization')\n",
    "    study.optimize(Objective, timeout=HP_OPT_HRS*60*60)\n",
    "    \n",
    "    # save results\n",
    "    best_params = study.best_params\n",
    "    best_score = study.best_value\n",
    "    log(best_params)\n",
    "    log(f'Best score is {best_score}')\n",
    "    trials = study.trials_dataframe()\n",
    "    trials.to_csv(f'trials.csv', index=False)\n",
    "    save_pkl(best_params, f'best_params')\n",
    "    save_pkl(study, f'study')\n",
    "    \n",
    "    # visualise relationship between parameter and CV score\n",
    "    for c in trials.columns:\n",
    "        if c[:7]=='params_':\n",
    "            new_plot()\n",
    "            trials.plot.scatter(c, 'value')\n",
    "            plt.grid()\n",
    "            plt.title(c)\n",
    "            plt.show()\n",
    "    return best_params"
   ]
  },
  {
   "cell_type": "markdown",
   "id": "12c5f3d5",
   "metadata": {
    "papermill": {
     "duration": 0.027581,
     "end_time": "2022-06-18T09:18:45.671144",
     "exception": false,
     "start_time": "2022-06-18T09:18:45.643563",
     "status": "completed"
    },
    "tags": []
   },
   "source": [
    "# Signal Analysis"
   ]
  },
  {
   "cell_type": "code",
   "execution_count": 11,
   "id": "1f200b3a",
   "metadata": {
    "execution": {
     "iopub.execute_input": "2022-06-18T09:18:45.730200Z",
     "iopub.status.busy": "2022-06-18T09:18:45.729517Z",
     "iopub.status.idle": "2022-06-18T09:18:45.747633Z",
     "shell.execute_reply": "2022-06-18T09:18:45.748181Z",
     "shell.execute_reply.started": "2022-06-17T16:44:08.151306Z"
    },
    "papermill": {
     "duration": 0.048994,
     "end_time": "2022-06-18T09:18:45.748355",
     "exception": false,
     "start_time": "2022-06-18T09:18:45.699361",
     "status": "completed"
    },
    "tags": []
   },
   "outputs": [],
   "source": [
    "def analyze_signal(outputs):\n",
    "    df = pd.concat([x['df_pred_val'] for x in outputs])\n",
    "    df.Date = pd.to_datetime(df.Date)\n",
    "    df['rank_pred'] = df.groupby('Date').pred_model.rank(method='first',ascending=False)\n",
    "    df['rank_true'] = df.groupby('Date').target_train.rank(method='first',ascending=True)\n",
    "\n",
    "    # distribution of model prediction\n",
    "    new_plot()\n",
    "    df.pred_model.hist(bins=100)\n",
    "    plt.grid()\n",
    "    plt.title('Distribution of model prediction')\n",
    "\n",
    "    # percentage in correct region\n",
    "    new_plot()\n",
    "    n = 200\n",
    "    top = df.groupby('Date').apply(lambda df: df.loc[lambda x: (x.rank_true>=2000-n) & (x.rank_pred>=2000-n)].shape[0]).divide(n)\n",
    "    bottom = df.groupby('Date').apply(lambda df: df.loc[lambda x: (x.rank_true<=n) & (x.rank_pred<=n)].shape[0]).divide(n)\n",
    "    top.rolling(20).mean().plot(label='top')\n",
    "    bottom.rolling(20).mean().plot(label='bottom')\n",
    "    plt.legend(bbox_to_anchor=(1.1, 1.05))\n",
    "    plt.grid()\n",
    "    plt.title('% in correct region')\n",
    "    log(f'Average % in top 200: {top.mean()}')\n",
    "    log(f'Average % in bottom 200: {bottom.mean()}')\n",
    "\n",
    "    # portfolio return analysis\n",
    "    ret = df.groupby('Date').apply(my_calc_spread_return_per_day, 200, 2)\n",
    "    ret = ret.reset_index().set_index('Date') \\\n",
    "        .assign(short = lambda x: -1 * x.short)\n",
    "\n",
    "    # cumulative returns\n",
    "    new_plot()\n",
    "    ret.long.cumsum().plot(label='long')\n",
    "    ret.short.cumsum().plot(label='short')\n",
    "    ret.net.cumsum().plot(label='net')\n",
    "    plt.legend(bbox_to_anchor=(1.1, 1.05))\n",
    "    plt.grid()\n",
    "    plt.title('Cumulative Returns')\n",
    "    log(f'Mean long returns: {ret.long.mean()}')\n",
    "    log(f'Mean short returns: {ret.short.mean()}')\n",
    "    log(f'Mean net returns: {ret.net.mean()}')\n",
    "\n",
    "    # rolling sharpes\n",
    "    new_plot()\n",
    "    ret.long.rolling(60).apply(lambda s: s.mean()/s.std()).plot(label='long')\n",
    "    ret.short.rolling(60).apply(lambda s: s.mean()/s.std()).plot(label='short')\n",
    "    ret.net.rolling(60).apply(lambda s: s.mean()/s.std()).plot(label='net')\n",
    "    plt.legend(bbox_to_anchor=(1.1, 1.05))\n",
    "    plt.grid()\n",
    "    plt.title('Rolling Sharpes')\n",
    "    log(f'Sharpe of long: {ret.long.mean() / ret.long.std()}')\n",
    "    log(f'Sharpe of short: {ret.short.mean() / ret.short.std()}')\n",
    "    log(f'Sharpe of net: {ret.net.mean() / ret.net.std()}')"
   ]
  },
  {
   "cell_type": "markdown",
   "id": "10912829",
   "metadata": {
    "papermill": {
     "duration": 0.027611,
     "end_time": "2022-06-18T09:18:45.803718",
     "exception": false,
     "start_time": "2022-06-18T09:18:45.776107",
     "status": "completed"
    },
    "tags": []
   },
   "source": [
    "# Execution"
   ]
  },
  {
   "cell_type": "code",
   "execution_count": 12,
   "id": "0e038581",
   "metadata": {
    "execution": {
     "iopub.execute_input": "2022-06-18T09:18:45.862770Z",
     "iopub.status.busy": "2022-06-18T09:18:45.862105Z",
     "iopub.status.idle": "2022-06-18T09:19:49.359128Z",
     "shell.execute_reply": "2022-06-18T09:19:49.360034Z",
     "shell.execute_reply.started": "2022-06-17T16:44:08.173539Z"
    },
    "papermill": {
     "duration": 63.528725,
     "end_time": "2022-06-18T09:19:49.360288",
     "exception": false,
     "start_time": "2022-06-18T09:18:45.831563",
     "status": "completed"
    },
    "tags": []
   },
   "outputs": [
    {
     "data": {
      "text/html": [
       "<div>\n",
       "<style scoped>\n",
       "    .dataframe tbody tr th:only-of-type {\n",
       "        vertical-align: middle;\n",
       "    }\n",
       "\n",
       "    .dataframe tbody tr th {\n",
       "        vertical-align: top;\n",
       "    }\n",
       "\n",
       "    .dataframe thead tr th {\n",
       "        text-align: left;\n",
       "    }\n",
       "\n",
       "    .dataframe thead tr:last-of-type th {\n",
       "        text-align: right;\n",
       "    }\n",
       "</style>\n",
       "<table border=\"1\" class=\"dataframe\">\n",
       "  <thead>\n",
       "    <tr>\n",
       "      <th></th>\n",
       "      <th></th>\n",
       "      <th colspan=\"3\" halign=\"left\">Date</th>\n",
       "    </tr>\n",
       "    <tr>\n",
       "      <th></th>\n",
       "      <th></th>\n",
       "      <th>min</th>\n",
       "      <th>max</th>\n",
       "      <th>nunique</th>\n",
       "    </tr>\n",
       "    <tr>\n",
       "      <th>fold</th>\n",
       "      <th>trn_val</th>\n",
       "      <th></th>\n",
       "      <th></th>\n",
       "      <th></th>\n",
       "    </tr>\n",
       "  </thead>\n",
       "  <tbody>\n",
       "    <tr>\n",
       "      <th rowspan=\"2\" valign=\"top\">0</th>\n",
       "      <th>trn</th>\n",
       "      <td>2019-01-16</td>\n",
       "      <td>2020-01-14</td>\n",
       "      <td>240</td>\n",
       "    </tr>\n",
       "    <tr>\n",
       "      <th>val</th>\n",
       "      <td>2021-03-05</td>\n",
       "      <td>2021-06-02</td>\n",
       "      <td>60</td>\n",
       "    </tr>\n",
       "    <tr>\n",
       "      <th rowspan=\"2\" valign=\"top\">1</th>\n",
       "      <th>trn</th>\n",
       "      <td>2019-07-23</td>\n",
       "      <td>2020-07-16</td>\n",
       "      <td>240</td>\n",
       "    </tr>\n",
       "    <tr>\n",
       "      <th>val</th>\n",
       "      <td>2021-06-03</td>\n",
       "      <td>2021-08-30</td>\n",
       "      <td>60</td>\n",
       "    </tr>\n",
       "    <tr>\n",
       "      <th rowspan=\"2\" valign=\"top\">2</th>\n",
       "      <th>trn</th>\n",
       "      <td>2020-01-30</td>\n",
       "      <td>2021-01-22</td>\n",
       "      <td>240</td>\n",
       "    </tr>\n",
       "    <tr>\n",
       "      <th>val</th>\n",
       "      <td>2021-08-31</td>\n",
       "      <td>2021-11-26</td>\n",
       "      <td>60</td>\n",
       "    </tr>\n",
       "    <tr>\n",
       "      <th rowspan=\"2\" valign=\"top\">3</th>\n",
       "      <th>trn</th>\n",
       "      <td>2020-08-06</td>\n",
       "      <td>2021-07-29</td>\n",
       "      <td>240</td>\n",
       "    </tr>\n",
       "    <tr>\n",
       "      <th>val</th>\n",
       "      <td>2021-11-29</td>\n",
       "      <td>2022-02-25</td>\n",
       "      <td>60</td>\n",
       "    </tr>\n",
       "    <tr>\n",
       "      <th rowspan=\"2\" valign=\"top\">4</th>\n",
       "      <th>trn</th>\n",
       "      <td>2021-02-10</td>\n",
       "      <td>2022-02-02</td>\n",
       "      <td>240</td>\n",
       "    </tr>\n",
       "    <tr>\n",
       "      <th>val</th>\n",
       "      <td>2022-02-28</td>\n",
       "      <td>2022-05-27</td>\n",
       "      <td>60</td>\n",
       "    </tr>\n",
       "  </tbody>\n",
       "</table>\n",
       "</div>"
      ],
      "text/plain": [
       "                   Date                   \n",
       "                    min        max nunique\n",
       "fold trn_val                              \n",
       "0    trn     2019-01-16 2020-01-14     240\n",
       "     val     2021-03-05 2021-06-02      60\n",
       "1    trn     2019-07-23 2020-07-16     240\n",
       "     val     2021-06-03 2021-08-30      60\n",
       "2    trn     2020-01-30 2021-01-22     240\n",
       "     val     2021-08-31 2021-11-26      60\n",
       "3    trn     2020-08-06 2021-07-29     240\n",
       "     val     2021-11-29 2022-02-25      60\n",
       "4    trn     2021-02-10 2022-02-02     240\n",
       "     val     2022-02-28 2022-05-27      60"
      ]
     },
     "metadata": {},
     "output_type": "display_data"
    },
    {
     "name": "stdout",
     "output_type": "stream",
     "text": [
      "PCA shape of components: (41, 85)\n",
      "CPU times: user 57.1 s, sys: 9.87 s, total: 1min 6s\n",
      "Wall time: 1min 3s\n"
     ]
    }
   ],
   "source": [
    "%%time\n",
    "'''\n",
    "Preprocessing\n",
    "'''\n",
    "# load features\n",
    "path = '../input/jpx-feature-engineering/features'\n",
    "features = pd.concat([pd.concat(load_pkl(f'{path}/{filename}')) for filename in os.listdir(path)]).sort_values('RowId').reset_index(drop=True)\n",
    "\n",
    "# train-val split\n",
    "if SPLIT_METHOD == 'trn_val_split_late_val':\n",
    "    full_data = trn_val_split_late_val(features, val_to_end=False)\n",
    "elif SPLIT_METHOD == 'trn_val_split_even_val':\n",
    "    full_data = trn_val_split_even_val(features, val_to_end=False)\n",
    "display(full_data.groupby(['fold','trn_val']).agg({'Date':['min','max','nunique']}))\n",
    "\n",
    "# add targets\n",
    "targets = pd.concat([pd.read_csv(f'{JPX_PATH}/{folder}/stock_prices.csv', parse_dates=['Date']) for folder in ['train_files', 'supplemental_files']]) \\\n",
    "    .loc[:,['RowId','Target']] \\\n",
    "    .loc[lambda x: x.Target.notnull()] \\\n",
    "    .drop_duplicates() \\\n",
    "    .reset_index(drop=True)\n",
    "full_data = full_data.merge(targets, how='inner', on='RowId')\n",
    "\n",
    "# remove irregular data\n",
    "full_data = full_data.loc[lambda x: x.volatility_1w!=0].reset_index(drop=True)\n",
    "\n",
    "# derive training target\n",
    "full_data['target_train'] = full_data.Target.divide(full_data.volatility_1m.pow(TARGET_POW))\n",
    "full_data['target_train'] = (full_data.groupby(['Date','fold','trn_val']).target_train.rank(method='first', ascending=not(RANK_ASCENDING)) - 1).astype(int)\n",
    "\n",
    "# release memory\n",
    "del features\n",
    "gc.collect()\n",
    "\n",
    "# define column types\n",
    "id_cols = ['RowId','Date','SecuritiesCode','fold','trn_val']\n",
    "all_features = [c for c in list(full_data) if c not in id_cols and c not in ['target_train','Target']]\n",
    "cat_features = ['AdjustmentFactor','first_div']\n",
    "time_features = [c for c in all_features if '_mkt' in c] + \\\n",
    "                [c for c in all_features if c[:4]=='sec_'] + \\\n",
    "                [c for c in all_features if c[-4:] in ['_sin','_cos']]\n",
    "stock_features = [c for c in all_features if c not in cat_features + time_features]\n",
    "\n",
    "# scaling\n",
    "full_data = jpx_data_scaling(full_data=full_data, scaler=SCALER, daily=SCALE_DAILY)\n",
    "\n",
    "# PCA compression\n",
    "if RUN_PCA:\n",
    "    full_data, all_features = pca_compress(full_data)"
   ]
  },
  {
   "cell_type": "code",
   "execution_count": 13,
   "id": "bfdc621c",
   "metadata": {
    "execution": {
     "iopub.execute_input": "2022-06-18T09:19:49.426640Z",
     "iopub.status.busy": "2022-06-18T09:19:49.425966Z",
     "iopub.status.idle": "2022-06-18T09:51:33.941285Z",
     "shell.execute_reply": "2022-06-18T09:51:33.941845Z",
     "shell.execute_reply.started": "2022-06-17T16:45:12.838560Z"
    },
    "papermill": {
     "duration": 1904.551662,
     "end_time": "2022-06-18T09:51:33.942232",
     "exception": false,
     "start_time": "2022-06-18T09:19:49.390570",
     "status": "completed"
    },
    "tags": []
   },
   "outputs": [
    {
     "name": "stdout",
     "output_type": "stream",
     "text": [
      "[2022-06-18 17:19:49] Total number of run: 48\n",
      "[2022-06-18 17:20:30] Completed running feature group 0\n",
      "[2022-06-18 17:27:09] Completed running feature group 10\n",
      "[2022-06-18 17:33:45] Completed running feature group 20\n",
      "[2022-06-18 17:40:18] Completed running feature group 30\n",
      "[2022-06-18 17:46:55] Completed running feature group 40\n"
     ]
    },
    {
     "data": {
      "text/html": [
       "<div>\n",
       "<style scoped>\n",
       "    .dataframe tbody tr th:only-of-type {\n",
       "        vertical-align: middle;\n",
       "    }\n",
       "\n",
       "    .dataframe tbody tr th {\n",
       "        vertical-align: top;\n",
       "    }\n",
       "\n",
       "    .dataframe thead th {\n",
       "        text-align: right;\n",
       "    }\n",
       "</style>\n",
       "<table border=\"1\" class=\"dataframe\">\n",
       "  <thead>\n",
       "    <tr style=\"text-align: right;\">\n",
       "      <th></th>\n",
       "      <th>feat</th>\n",
       "      <th>imp</th>\n",
       "    </tr>\n",
       "  </thead>\n",
       "  <tbody>\n",
       "    <tr>\n",
       "      <th>0</th>\n",
       "      <td>pc5</td>\n",
       "      <td>8.677273</td>\n",
       "    </tr>\n",
       "    <tr>\n",
       "      <th>1</th>\n",
       "      <td>pc3</td>\n",
       "      <td>8.233333</td>\n",
       "    </tr>\n",
       "    <tr>\n",
       "      <th>2</th>\n",
       "      <td>pc0</td>\n",
       "      <td>8.058333</td>\n",
       "    </tr>\n",
       "    <tr>\n",
       "      <th>3</th>\n",
       "      <td>pc2</td>\n",
       "      <td>7.833333</td>\n",
       "    </tr>\n",
       "    <tr>\n",
       "      <th>4</th>\n",
       "      <td>pc22</td>\n",
       "      <td>7.820833</td>\n",
       "    </tr>\n",
       "    <tr>\n",
       "      <th>5</th>\n",
       "      <td>pc16</td>\n",
       "      <td>7.818182</td>\n",
       "    </tr>\n",
       "    <tr>\n",
       "      <th>6</th>\n",
       "      <td>pc40</td>\n",
       "      <td>7.527273</td>\n",
       "    </tr>\n",
       "    <tr>\n",
       "      <th>7</th>\n",
       "      <td>pc39</td>\n",
       "      <td>7.283333</td>\n",
       "    </tr>\n",
       "    <tr>\n",
       "      <th>8</th>\n",
       "      <td>pc15</td>\n",
       "      <td>7.022727</td>\n",
       "    </tr>\n",
       "    <tr>\n",
       "      <th>9</th>\n",
       "      <td>pc13</td>\n",
       "      <td>7.012500</td>\n",
       "    </tr>\n",
       "  </tbody>\n",
       "</table>\n",
       "</div>"
      ],
      "text/plain": [
       "   feat       imp\n",
       "0   pc5  8.677273\n",
       "1   pc3  8.233333\n",
       "2   pc0  8.058333\n",
       "3   pc2  7.833333\n",
       "4  pc22  7.820833\n",
       "5  pc16  7.818182\n",
       "6  pc40  7.527273\n",
       "7  pc39  7.283333\n",
       "8  pc15  7.022727\n",
       "9  pc13  7.012500"
      ]
     },
     "metadata": {},
     "output_type": "display_data"
    },
    {
     "name": "stdout",
     "output_type": "stream",
     "text": [
      "CPU times: user 1h 50min 40s, sys: 7.37 s, total: 1h 50min 47s\n",
      "Wall time: 31min 44s\n"
     ]
    },
    {
     "data": {
      "image/png": "[encoded data removed]",
      "text/plain": [
       "<Figure size 1440x1440 with 1 Axes>"
      ]
     },
     "metadata": {
      "needs_background": "light"
     },
     "output_type": "display_data"
    }
   ],
   "source": [
    "%%time\n",
    "'''\n",
    "Feature importance\n",
    "'''\n",
    "if RUN_IMP:\n",
    "    feat_groups = run_feature_importance()\n",
    "else:\n",
    "    # if not running feature importance, use pre-set FEAT_GROUPS for forward selection\n",
    "    feat_groups = FEAT_GROUPS"
   ]
  },
  {
   "cell_type": "code",
   "execution_count": 14,
   "id": "d9688ad8",
   "metadata": {
    "execution": {
     "iopub.execute_input": "2022-06-18T09:51:34.018835Z",
     "iopub.status.busy": "2022-06-18T09:51:34.018073Z",
     "iopub.status.idle": "2022-06-18T14:20:09.374888Z",
     "shell.execute_reply": "2022-06-18T14:20:09.373337Z",
     "shell.execute_reply.started": "2022-06-17T16:47:52.774281Z"
    },
    "papermill": {
     "duration": 16115.398365,
     "end_time": "2022-06-18T14:20:09.375051",
     "exception": false,
     "start_time": "2022-06-18T09:51:33.976686",
     "status": "completed"
    },
    "tags": []
   },
   "outputs": [
    {
     "name": "stdout",
     "output_type": "stream",
     "text": [
      "[2022-06-18 17:52:13] Score: -0.02177161792415273; Num features: 1; Features: pc5\n",
      "[2022-06-18 17:53:14] Score: 0.03787301103287618; Num features: 1; Features: pc3\n",
      "[2022-06-18 17:54:13] Score: 0.0084541021798774; Num features: 1; Features: pc0\n",
      "[2022-06-18 17:55:19] Score: 0.033453044970109744; Num features: 1; Features: pc2\n",
      "[2022-06-18 17:56:43] Score: -0.07237953550994343; Num features: 1; Features: pc22\n",
      "[2022-06-18 17:57:34] Score: 0.005571002216281337; Num features: 1; Features: pc16\n",
      "[2022-06-18 17:58:22] Score: -0.027304573176027525; Num features: 1; Features: pc40\n",
      "[2022-06-18 17:59:00] Score: 0.000714860039026706; Num features: 1; Features: pc39\n",
      "[2022-06-18 17:59:45] Score: 0.03315858128679063; Num features: 1; Features: pc15\n",
      "[2022-06-18 18:00:43] Score: 0.0052452027362397975; Num features: 1; Features: pc13\n",
      "[2022-06-18 18:02:00] Score: -0.1344796426108647; Num features: 1; Features: pc21\n",
      "[2022-06-18 18:03:01] Score: -0.07047061529880534; Num features: 1; Features: pc20\n",
      "[2022-06-18 18:03:49] Score: -0.0003817898991205493; Num features: 1; Features: pc17\n",
      "[2022-06-18 18:04:23] Score: -0.05692176204781292; Num features: 1; Features: pc38\n",
      "[2022-06-18 18:05:20] Score: 0.08850944850240494; Num features: 1; Features: pc1\n",
      "[2022-06-18 18:06:39] Score: -0.0035550064841543922; Num features: 1; Features: pc11\n",
      "[2022-06-18 18:07:26] Score: -0.011351026625777505; Num features: 1; Features: pc24\n",
      "[2022-06-18 18:08:14] Score: -0.008561849427199; Num features: 1; Features: pc12\n",
      "[2022-06-18 18:08:47] Score: -0.07070905604831912; Num features: 1; Features: pc26\n",
      "[2022-06-18 18:09:39] Score: 0.04710643481960432; Num features: 1; Features: pc31\n",
      "[2022-06-18 18:10:31] Score: -0.05624545605509741; Num features: 2; Features: pc21, pc5\n",
      "[2022-06-18 18:11:07] Score: -0.004619125289393078; Num features: 2; Features: pc21, pc3\n",
      "[2022-06-18 18:11:42] Score: -0.016835870221565033; Num features: 2; Features: pc21, pc0\n",
      "[2022-06-18 18:13:11] Score: -0.023634514522791555; Num features: 2; Features: pc21, pc2\n",
      "[2022-06-18 18:13:45] Score: -0.0843760248392749; Num features: 2; Features: pc21, pc22\n",
      "[2022-06-18 18:14:32] Score: -0.019096939778328853; Num features: 2; Features: pc21, pc16\n",
      "[2022-06-18 18:16:29] Score: -0.04982677126708862; Num features: 2; Features: pc21, pc40\n",
      "[2022-06-18 18:17:34] Score: -0.03678768042599201; Num features: 2; Features: pc21, pc39\n",
      "[2022-06-18 18:18:05] Score: -0.045196780210072354; Num features: 2; Features: pc21, pc15\n",
      "[2022-06-18 18:19:17] Score: -0.006094923947789153; Num features: 2; Features: pc21, pc13\n",
      "[2022-06-18 18:20:32] Score: -0.11631676171614139; Num features: 2; Features: pc21, pc20\n",
      "[2022-06-18 18:21:30] Score: -0.11029842833225283; Num features: 2; Features: pc21, pc17\n",
      "[2022-06-18 18:22:07] Score: -0.08531414234146642; Num features: 2; Features: pc21, pc38\n",
      "[2022-06-18 18:23:03] Score: 0.013202650801782345; Num features: 2; Features: pc21, pc1\n",
      "[2022-06-18 18:23:36] Score: -0.025000245337273443; Num features: 2; Features: pc21, pc11\n",
      "[2022-06-18 18:24:23] Score: -0.07815980629697178; Num features: 2; Features: pc21, pc24\n",
      "[2022-06-18 18:24:56] Score: -0.10229558987607563; Num features: 2; Features: pc21, pc12\n",
      "[2022-06-18 18:26:21] Score: -0.08502983032516381; Num features: 2; Features: pc21, pc26\n",
      "[2022-06-18 18:27:03] Score: -0.035255360689058844; Num features: 2; Features: pc21, pc31\n",
      "[2022-06-18 18:28:34] Score: -0.08624662020111382; Num features: 3; Features: pc21, pc20, pc5\n",
      "[2022-06-18 18:30:40] Score: -0.07920068293075067; Num features: 3; Features: pc21, pc20, pc3\n",
      "[2022-06-18 18:32:26] Score: -0.06793691428143758; Num features: 3; Features: pc21, pc20, pc0\n",
      "[2022-06-18 18:34:28] Score: -0.13544768724338468; Num features: 3; Features: pc21, pc20, pc2\n",
      "[2022-06-18 18:36:49] Score: -0.0928071416662459; Num features: 3; Features: pc21, pc20, pc22\n",
      "[2022-06-18 18:38:50] Score: -0.08624790895048043; Num features: 3; Features: pc21, pc20, pc16\n",
      "[2022-06-18 18:39:32] Score: -0.11162650457944046; Num features: 3; Features: pc21, pc20, pc40\n",
      "[2022-06-18 18:41:12] Score: -0.09843570972001615; Num features: 3; Features: pc21, pc20, pc39\n",
      "[2022-06-18 18:41:54] Score: -0.124825779232637; Num features: 3; Features: pc21, pc20, pc15\n",
      "[2022-06-18 18:43:37] Score: -0.10890515198275745; Num features: 3; Features: pc21, pc20, pc13\n",
      "[2022-06-18 18:44:15] Score: -0.13969934663246186; Num features: 3; Features: pc21, pc20, pc17\n",
      "[2022-06-18 18:44:46] Score: -0.08944145334660296; Num features: 3; Features: pc21, pc20, pc38\n",
      "[2022-06-18 18:45:22] Score: -0.12381395661001622; Num features: 3; Features: pc21, pc20, pc1\n",
      "[2022-06-18 18:46:13] Score: -0.10348842576921631; Num features: 3; Features: pc21, pc20, pc11\n",
      "[2022-06-18 18:46:57] Score: -0.11600626453673213; Num features: 3; Features: pc21, pc20, pc24\n",
      "[2022-06-18 18:47:55] Score: -0.12735134697208644; Num features: 3; Features: pc21, pc20, pc12\n",
      "[2022-06-18 18:48:50] Score: -0.14227556822739806; Num features: 3; Features: pc21, pc20, pc26\n",
      "[2022-06-18 18:49:32] Score: -0.10078961159956638; Num features: 3; Features: pc21, pc20, pc31\n",
      "[2022-06-18 18:50:21] Score: -0.10216795863623496; Num features: 4; Features: pc21, pc20, pc26, pc5\n",
      "[2022-06-18 18:50:55] Score: -0.057446824109582406; Num features: 4; Features: pc21, pc20, pc26, pc3\n",
      "[2022-06-18 18:51:52] Score: -0.05866106041762202; Num features: 4; Features: pc21, pc20, pc26, pc0\n",
      "[2022-06-18 18:52:27] Score: -0.09501123504593177; Num features: 4; Features: pc21, pc20, pc26, pc2\n",
      "[2022-06-18 18:53:46] Score: -0.09434387763210082; Num features: 4; Features: pc21, pc20, pc26, pc22\n",
      "[2022-06-18 18:55:34] Score: -0.05741915578631794; Num features: 4; Features: pc21, pc20, pc26, pc16\n",
      "[2022-06-18 18:56:20] Score: -0.08086050875068677; Num features: 4; Features: pc21, pc20, pc26, pc40\n",
      "[2022-06-18 18:58:25] Score: -0.08778038724259432; Num features: 4; Features: pc21, pc20, pc26, pc39\n",
      "[2022-06-18 18:59:19] Score: -0.072732738662844; Num features: 4; Features: pc21, pc20, pc26, pc15\n",
      "[2022-06-18 19:00:28] Score: -0.034564156377492924; Num features: 4; Features: pc21, pc20, pc26, pc13\n",
      "[2022-06-18 19:02:14] Score: -0.08078501382303607; Num features: 4; Features: pc21, pc20, pc26, pc17\n",
      "[2022-06-18 19:03:36] Score: -0.11239367150889348; Num features: 4; Features: pc21, pc20, pc26, pc38\n",
      "[2022-06-18 19:04:26] Score: -0.02746152565859487; Num features: 4; Features: pc21, pc20, pc26, pc1\n",
      "[2022-06-18 19:05:38] Score: -0.09501812779892949; Num features: 4; Features: pc21, pc20, pc26, pc11\n",
      "[2022-06-18 19:06:25] Score: -0.08989606961674619; Num features: 4; Features: pc21, pc20, pc26, pc24\n",
      "[2022-06-18 19:07:43] Score: -0.11593209339480433; Num features: 4; Features: pc21, pc20, pc26, pc12\n",
      "[2022-06-18 19:09:40] Score: -0.07575472186430961; Num features: 4; Features: pc21, pc20, pc26, pc31\n",
      "[2022-06-18 19:10:28] Score: -0.0821766049631584; Num features: 5; Features: pc21, pc20, pc26, pc12, pc5\n",
      "[2022-06-18 19:13:21] Score: -0.06848815441571782; Num features: 5; Features: pc21, pc20, pc26, pc12, pc3\n",
      "[2022-06-18 19:14:56] Score: -0.0910295672456208; Num features: 5; Features: pc21, pc20, pc26, pc12, pc0\n",
      "[2022-06-18 19:17:01] Score: -0.0911986179912343; Num features: 5; Features: pc21, pc20, pc26, pc12, pc2\n",
      "[2022-06-18 19:18:29] Score: -0.10821866525955415; Num features: 5; Features: pc21, pc20, pc26, pc12, pc22\n",
      "[2022-06-18 19:19:33] Score: -0.08279773091564654; Num features: 5; Features: pc21, pc20, pc26, pc12, pc16\n",
      "[2022-06-18 19:22:18] Score: -0.09669004382322337; Num features: 5; Features: pc21, pc20, pc26, pc12, pc40\n",
      "[2022-06-18 19:23:15] Score: -0.09152361146995862; Num features: 5; Features: pc21, pc20, pc26, pc12, pc39\n",
      "[2022-06-18 19:24:12] Score: -0.11812124358843008; Num features: 5; Features: pc21, pc20, pc26, pc12, pc15\n",
      "[2022-06-18 19:25:09] Score: -0.07750223085920722; Num features: 5; Features: pc21, pc20, pc26, pc12, pc13\n",
      "[2022-06-18 19:26:50] Score: -0.09928940091465158; Num features: 5; Features: pc21, pc20, pc26, pc12, pc17\n",
      "[2022-06-18 19:28:03] Score: -0.1007012603397984; Num features: 5; Features: pc21, pc20, pc26, pc12, pc38\n",
      "[2022-06-18 19:29:24] Score: -0.06466543866198143; Num features: 5; Features: pc21, pc20, pc26, pc12, pc1\n",
      "[2022-06-18 19:30:22] Score: -0.10420846655327749; Num features: 5; Features: pc21, pc20, pc26, pc12, pc11\n",
      "[2022-06-18 19:31:20] Score: -0.10259160153208254; Num features: 5; Features: pc21, pc20, pc26, pc12, pc24\n",
      "[2022-06-18 19:32:14] Score: -0.0982727533064369; Num features: 5; Features: pc21, pc20, pc26, pc12, pc31\n",
      "[2022-06-18 19:32:53] Score: -0.06999338262879032; Num features: 6; Features: pc21, pc20, pc26, pc12, pc15, pc5\n",
      "[2022-06-18 19:34:08] Score: -0.04510233589180601; Num features: 6; Features: pc21, pc20, pc26, pc12, pc15, pc3\n",
      "[2022-06-18 19:35:34] Score: -0.04026470919487586; Num features: 6; Features: pc21, pc20, pc26, pc12, pc15, pc0\n",
      "[2022-06-18 19:37:13] Score: -0.02283884343537909; Num features: 6; Features: pc21, pc20, pc26, pc12, pc15, pc2\n",
      "[2022-06-18 19:38:32] Score: -0.041584386112617534; Num features: 6; Features: pc21, pc20, pc26, pc12, pc15, pc22\n",
      "[2022-06-18 19:39:50] Score: -0.0306613192795153; Num features: 6; Features: pc21, pc20, pc26, pc12, pc15, pc16\n",
      "[2022-06-18 19:41:05] Score: -0.014563360429962726; Num features: 6; Features: pc21, pc20, pc26, pc12, pc15, pc40\n",
      "[2022-06-18 19:42:10] Score: -0.03590384899565811; Num features: 6; Features: pc21, pc20, pc26, pc12, pc15, pc39\n",
      "[2022-06-18 19:43:20] Score: -0.022568384464302822; Num features: 6; Features: pc21, pc20, pc26, pc12, pc15, pc13\n",
      "[2022-06-18 19:44:17] Score: -0.043398879606649246; Num features: 6; Features: pc21, pc20, pc26, pc12, pc15, pc17\n",
      "[2022-06-18 19:45:40] Score: -0.035167816315730814; Num features: 6; Features: pc21, pc20, pc26, pc12, pc15, pc38\n",
      "[2022-06-18 19:46:59] Score: -0.010196292241198874; Num features: 6; Features: pc21, pc20, pc26, pc12, pc15, pc1\n",
      "[2022-06-18 19:47:51] Score: -0.06084316540513849; Num features: 6; Features: pc21, pc20, pc26, pc12, pc15, pc11\n",
      "[2022-06-18 19:48:45] Score: -0.032807494797104514; Num features: 6; Features: pc21, pc20, pc26, pc12, pc15, pc24\n",
      "[2022-06-18 19:50:44] Score: -0.039069236434917345; Num features: 6; Features: pc21, pc20, pc26, pc12, pc15, pc31\n",
      "[2022-06-18 19:53:33] Score: -0.06199696630708795; Num features: 7; Features: pc21, pc20, pc26, pc12, pc15, pc5, pc3\n",
      "[2022-06-18 19:55:53] Score: -0.06153460888433191; Num features: 7; Features: pc21, pc20, pc26, pc12, pc15, pc5, pc0\n",
      "[2022-06-18 19:58:31] Score: -0.07012287861962943; Num features: 7; Features: pc21, pc20, pc26, pc12, pc15, pc5, pc2\n",
      "[2022-06-18 19:59:55] Score: -0.08856670222195492; Num features: 7; Features: pc21, pc20, pc26, pc12, pc15, pc5, pc22\n",
      "[2022-06-18 20:01:07] Score: -0.05930189965195504; Num features: 7; Features: pc21, pc20, pc26, pc12, pc15, pc5, pc16\n",
      "[2022-06-18 20:02:32] Score: -0.07103471284154775; Num features: 7; Features: pc21, pc20, pc26, pc12, pc15, pc5, pc40\n",
      "[2022-06-18 20:04:38] Score: -0.07904411825202229; Num features: 7; Features: pc21, pc20, pc26, pc12, pc15, pc5, pc39\n",
      "[2022-06-18 20:06:18] Score: -0.03904587647485414; Num features: 7; Features: pc21, pc20, pc26, pc12, pc15, pc5, pc13\n",
      "[2022-06-18 20:08:23] Score: -0.06692335960745964; Num features: 7; Features: pc21, pc20, pc26, pc12, pc15, pc5, pc17\n",
      "[2022-06-18 20:09:57] Score: -0.08107217171088808; Num features: 7; Features: pc21, pc20, pc26, pc12, pc15, pc5, pc38\n",
      "[2022-06-18 20:11:30] Score: -0.07243820881255827; Num features: 7; Features: pc21, pc20, pc26, pc12, pc15, pc5, pc1\n",
      "[2022-06-18 20:12:47] Score: -0.09370995967642436; Num features: 7; Features: pc21, pc20, pc26, pc12, pc15, pc5, pc11\n",
      "[2022-06-18 20:13:56] Score: -0.07957243558211172; Num features: 7; Features: pc21, pc20, pc26, pc12, pc15, pc5, pc24\n",
      "[2022-06-18 20:15:11] Score: -0.0863909188359285; Num features: 7; Features: pc21, pc20, pc26, pc12, pc15, pc5, pc31\n",
      "[2022-06-18 20:17:38] Score: -0.04084285803064107; Num features: 8; Features: pc21, pc20, pc26, pc12, pc15, pc5, pc11, pc3\n",
      "[2022-06-18 20:19:04] Score: -0.040318524035946955; Num features: 8; Features: pc21, pc20, pc26, pc12, pc15, pc5, pc11, pc0\n",
      "[2022-06-18 20:20:24] Score: -0.05238271229181719; Num features: 8; Features: pc21, pc20, pc26, pc12, pc15, pc5, pc11, pc2\n",
      "[2022-06-18 20:22:24] Score: -0.07132028643797808; Num features: 8; Features: pc21, pc20, pc26, pc12, pc15, pc5, pc11, pc22\n",
      "[2022-06-18 20:24:16] Score: -0.046365845895011026; Num features: 8; Features: pc21, pc20, pc26, pc12, pc15, pc5, pc11, pc16\n",
      "[2022-06-18 20:25:45] Score: -0.0402511292078115; Num features: 8; Features: pc21, pc20, pc26, pc12, pc15, pc5, pc11, pc40\n",
      "[2022-06-18 20:26:53] Score: -0.04412633598322306; Num features: 8; Features: pc21, pc20, pc26, pc12, pc15, pc5, pc11, pc39\n",
      "[2022-06-18 20:28:03] Score: -0.045936699003517996; Num features: 8; Features: pc21, pc20, pc26, pc12, pc15, pc5, pc11, pc13\n",
      "[2022-06-18 20:29:35] Score: -0.04952597367905531; Num features: 8; Features: pc21, pc20, pc26, pc12, pc15, pc5, pc11, pc17\n",
      "[2022-06-18 20:30:35] Score: -0.0507761399089951; Num features: 8; Features: pc21, pc20, pc26, pc12, pc15, pc5, pc11, pc38\n",
      "[2022-06-18 20:31:56] Score: -0.05971875724349872; Num features: 8; Features: pc21, pc20, pc26, pc12, pc15, pc5, pc11, pc1\n",
      "[2022-06-18 20:32:52] Score: -0.0597794011854987; Num features: 8; Features: pc21, pc20, pc26, pc12, pc15, pc5, pc11, pc24\n",
      "[2022-06-18 20:34:34] Score: -0.041244647700286755; Num features: 8; Features: pc21, pc20, pc26, pc12, pc15, pc5, pc11, pc31\n",
      "[2022-06-18 20:37:10] Score: -0.027880554749121676; Num features: 9; Features: pc21, pc20, pc26, pc12, pc15, pc5, pc11, pc22, pc3\n",
      "[2022-06-18 20:39:46] Score: -0.05177699842409548; Num features: 9; Features: pc21, pc20, pc26, pc12, pc15, pc5, pc11, pc22, pc0\n",
      "[2022-06-18 20:41:49] Score: -0.037575949494315315; Num features: 9; Features: pc21, pc20, pc26, pc12, pc15, pc5, pc11, pc22, pc2\n",
      "[2022-06-18 20:43:13] Score: -0.02617581275712421; Num features: 9; Features: pc21, pc20, pc26, pc12, pc15, pc5, pc11, pc22, pc16\n",
      "[2022-06-18 20:44:10] Score: -0.04060042698223828; Num features: 9; Features: pc21, pc20, pc26, pc12, pc15, pc5, pc11, pc22, pc40\n",
      "[2022-06-18 20:45:18] Score: -0.03741512317700679; Num features: 9; Features: pc21, pc20, pc26, pc12, pc15, pc5, pc11, pc22, pc39\n",
      "[2022-06-18 20:46:21] Score: -0.012784568500563262; Num features: 9; Features: pc21, pc20, pc26, pc12, pc15, pc5, pc11, pc22, pc13\n",
      "[2022-06-18 20:47:30] Score: -0.053187663393138594; Num features: 9; Features: pc21, pc20, pc26, pc12, pc15, pc5, pc11, pc22, pc17\n",
      "[2022-06-18 20:49:11] Score: -0.05438768527361284; Num features: 9; Features: pc21, pc20, pc26, pc12, pc15, pc5, pc11, pc22, pc38\n",
      "[2022-06-18 20:50:47] Score: -0.04263565461621584; Num features: 9; Features: pc21, pc20, pc26, pc12, pc15, pc5, pc11, pc22, pc1\n",
      "[2022-06-18 20:52:08] Score: -0.05035979427756367; Num features: 9; Features: pc21, pc20, pc26, pc12, pc15, pc5, pc11, pc22, pc24\n",
      "[2022-06-18 20:53:37] Score: -0.03963226429167036; Num features: 9; Features: pc21, pc20, pc26, pc12, pc15, pc5, pc11, pc22, pc31\n",
      "[2022-06-18 20:55:04] Score: -0.02590385455401144; Num features: 10; Features: pc21, pc20, pc26, pc12, pc15, pc5, pc11, pc22, pc38, pc3\n",
      "[2022-06-18 20:56:29] Score: -0.053966583005857195; Num features: 10; Features: pc21, pc20, pc26, pc12, pc15, pc5, pc11, pc22, pc38, pc0\n",
      "[2022-06-18 20:57:04] Score: -0.06809708846618945; Num features: 10; Features: pc21, pc20, pc26, pc12, pc15, pc5, pc11, pc22, pc38, pc2\n",
      "[2022-06-18 20:58:09] Score: -0.0367969818991694; Num features: 10; Features: pc21, pc20, pc26, pc12, pc15, pc5, pc11, pc22, pc38, pc16\n",
      "[2022-06-18 20:59:49] Score: -0.04152796404331181; Num features: 10; Features: pc21, pc20, pc26, pc12, pc15, pc5, pc11, pc22, pc38, pc40\n",
      "[2022-06-18 21:00:34] Score: -0.04636703938943418; Num features: 10; Features: pc21, pc20, pc26, pc12, pc15, pc5, pc11, pc22, pc38, pc39\n",
      "[2022-06-18 21:01:21] Score: -0.03786290709791572; Num features: 10; Features: pc21, pc20, pc26, pc12, pc15, pc5, pc11, pc22, pc38, pc13\n",
      "[2022-06-18 21:02:14] Score: -0.044439065594588475; Num features: 10; Features: pc21, pc20, pc26, pc12, pc15, pc5, pc11, pc22, pc38, pc17\n",
      "[2022-06-18 21:03:29] Score: -0.06539806699965428; Num features: 10; Features: pc21, pc20, pc26, pc12, pc15, pc5, pc11, pc22, pc38, pc1\n",
      "[2022-06-18 21:05:29] Score: -0.047115581994812104; Num features: 10; Features: pc21, pc20, pc26, pc12, pc15, pc5, pc11, pc22, pc38, pc24\n",
      "[2022-06-18 21:06:50] Score: -0.048649737348106833; Num features: 10; Features: pc21, pc20, pc26, pc12, pc15, pc5, pc11, pc22, pc38, pc31\n",
      "[2022-06-18 21:08:28] Score: -0.03705939329450893; Num features: 11; Features: pc21, pc20, pc26, pc12, pc15, pc5, pc11, pc22, pc38, pc2, pc3\n",
      "[2022-06-18 21:10:55] Score: -0.056359903729543734; Num features: 11; Features: pc21, pc20, pc26, pc12, pc15, pc5, pc11, pc22, pc38, pc2, pc0\n",
      "[2022-06-18 21:12:23] Score: -0.03347931275353146; Num features: 11; Features: pc21, pc20, pc26, pc12, pc15, pc5, pc11, pc22, pc38, pc2, pc16\n",
      "[2022-06-18 21:13:57] Score: -0.062079611654147916; Num features: 11; Features: pc21, pc20, pc26, pc12, pc15, pc5, pc11, pc22, pc38, pc2, pc40\n",
      "[2022-06-18 21:16:14] Score: -0.036243776639352424; Num features: 11; Features: pc21, pc20, pc26, pc12, pc15, pc5, pc11, pc22, pc38, pc2, pc39\n",
      "[2022-06-18 21:18:21] Score: -0.0320583399579564; Num features: 11; Features: pc21, pc20, pc26, pc12, pc15, pc5, pc11, pc22, pc38, pc2, pc13\n",
      "[2022-06-18 21:19:54] Score: -0.06302226972945932; Num features: 11; Features: pc21, pc20, pc26, pc12, pc15, pc5, pc11, pc22, pc38, pc2, pc17\n",
      "[2022-06-18 21:21:40] Score: -0.04470241869313781; Num features: 11; Features: pc21, pc20, pc26, pc12, pc15, pc5, pc11, pc22, pc38, pc2, pc1\n",
      "[2022-06-18 21:22:45] Score: -0.03598306899970806; Num features: 11; Features: pc21, pc20, pc26, pc12, pc15, pc5, pc11, pc22, pc38, pc2, pc24\n",
      "[2022-06-18 21:24:51] Score: -0.05848597697474693; Num features: 11; Features: pc21, pc20, pc26, pc12, pc15, pc5, pc11, pc22, pc38, pc2, pc31\n",
      "[2022-06-18 21:25:34] Score: -0.023955118032936866; Num features: 12; Features: pc21, pc20, pc26, pc12, pc15, pc5, pc11, pc22, pc38, pc2, pc17, pc3\n",
      "[2022-06-18 21:26:39] Score: -0.05373102496311923; Num features: 12; Features: pc21, pc20, pc26, pc12, pc15, pc5, pc11, pc22, pc38, pc2, pc17, pc0\n",
      "[2022-06-18 21:27:47] Score: -0.013868485156549551; Num features: 12; Features: pc21, pc20, pc26, pc12, pc15, pc5, pc11, pc22, pc38, pc2, pc17, pc16\n",
      "[2022-06-18 21:29:29] Score: -0.03540152282331596; Num features: 12; Features: pc21, pc20, pc26, pc12, pc15, pc5, pc11, pc22, pc38, pc2, pc17, pc40\n",
      "[2022-06-18 21:30:33] Score: -0.03125167130017845; Num features: 12; Features: pc21, pc20, pc26, pc12, pc15, pc5, pc11, pc22, pc38, pc2, pc17, pc39\n",
      "[2022-06-18 21:31:35] Score: -0.009405422132461688; Num features: 12; Features: pc21, pc20, pc26, pc12, pc15, pc5, pc11, pc22, pc38, pc2, pc17, pc13\n",
      "[2022-06-18 21:32:39] Score: -0.017231360922469734; Num features: 12; Features: pc21, pc20, pc26, pc12, pc15, pc5, pc11, pc22, pc38, pc2, pc17, pc1\n",
      "[2022-06-18 21:33:47] Score: -0.03366312723141453; Num features: 12; Features: pc21, pc20, pc26, pc12, pc15, pc5, pc11, pc22, pc38, pc2, pc17, pc24\n",
      "[2022-06-18 21:34:47] Score: -0.046804927168001456; Num features: 12; Features: pc21, pc20, pc26, pc12, pc15, pc5, pc11, pc22, pc38, pc2, pc17, pc31\n",
      "[2022-06-18 21:35:45] Score: -0.03727240656281302; Num features: 13; Features: pc21, pc20, pc26, pc12, pc15, pc5, pc11, pc22, pc38, pc2, pc17, pc0, pc3\n",
      "[2022-06-18 21:36:31] Score: -0.019602745859888256; Num features: 13; Features: pc21, pc20, pc26, pc12, pc15, pc5, pc11, pc22, pc38, pc2, pc17, pc0, pc16\n",
      "[2022-06-18 21:37:52] Score: -0.022084405057500534; Num features: 13; Features: pc21, pc20, pc26, pc12, pc15, pc5, pc11, pc22, pc38, pc2, pc17, pc0, pc40\n",
      "[2022-06-18 21:39:24] Score: -0.01300841930589455; Num features: 13; Features: pc21, pc20, pc26, pc12, pc15, pc5, pc11, pc22, pc38, pc2, pc17, pc0, pc39\n",
      "[2022-06-18 21:40:56] Score: -0.0009318111939779349; Num features: 13; Features: pc21, pc20, pc26, pc12, pc15, pc5, pc11, pc22, pc38, pc2, pc17, pc0, pc13\n",
      "[2022-06-18 21:41:41] Score: -0.026357217312842397; Num features: 13; Features: pc21, pc20, pc26, pc12, pc15, pc5, pc11, pc22, pc38, pc2, pc17, pc0, pc1\n",
      "[2022-06-18 21:42:41] Score: -0.036108093717891324; Num features: 13; Features: pc21, pc20, pc26, pc12, pc15, pc5, pc11, pc22, pc38, pc2, pc17, pc0, pc24\n",
      "[2022-06-18 21:44:07] Score: -0.023711751304776665; Num features: 13; Features: pc21, pc20, pc26, pc12, pc15, pc5, pc11, pc22, pc38, pc2, pc17, pc0, pc31\n",
      "[2022-06-18 21:45:29] Score: -0.015013326371047422; Num features: 14; Features: pc21, pc20, pc26, pc12, pc15, pc5, pc11, pc22, pc38, pc2, pc17, pc0, pc3, pc16\n",
      "[2022-06-18 21:47:20] Score: -0.030362880975228636; Num features: 14; Features: pc21, pc20, pc26, pc12, pc15, pc5, pc11, pc22, pc38, pc2, pc17, pc0, pc3, pc40\n",
      "[2022-06-18 21:48:30] Score: -0.026803364227974497; Num features: 14; Features: pc21, pc20, pc26, pc12, pc15, pc5, pc11, pc22, pc38, pc2, pc17, pc0, pc3, pc39\n",
      "[2022-06-18 21:50:04] Score: -0.007033187659251347; Num features: 14; Features: pc21, pc20, pc26, pc12, pc15, pc5, pc11, pc22, pc38, pc2, pc17, pc0, pc3, pc13\n",
      "[2022-06-18 21:51:15] Score: -0.03349243268970825; Num features: 14; Features: pc21, pc20, pc26, pc12, pc15, pc5, pc11, pc22, pc38, pc2, pc17, pc0, pc3, pc1\n",
      "[2022-06-18 21:52:29] Score: -0.029423250071626272; Num features: 14; Features: pc21, pc20, pc26, pc12, pc15, pc5, pc11, pc22, pc38, pc2, pc17, pc0, pc3, pc24\n",
      "[2022-06-18 21:53:45] Score: -0.024055827896010167; Num features: 14; Features: pc21, pc20, pc26, pc12, pc15, pc5, pc11, pc22, pc38, pc2, pc17, pc0, pc3, pc31\n",
      "[2022-06-18 21:54:33] Score: 0.01164932859585341; Num features: 15; Features: pc21, pc20, pc26, pc12, pc15, pc5, pc11, pc22, pc38, pc2, pc17, pc0, pc3, pc1, pc16\n",
      "[2022-06-18 21:55:36] Score: -0.014862638415978938; Num features: 15; Features: pc21, pc20, pc26, pc12, pc15, pc5, pc11, pc22, pc38, pc2, pc17, pc0, pc3, pc1, pc40\n",
      "[2022-06-18 21:56:37] Score: -0.0028093639021607455; Num features: 15; Features: pc21, pc20, pc26, pc12, pc15, pc5, pc11, pc22, pc38, pc2, pc17, pc0, pc3, pc1, pc39\n",
      "[2022-06-18 21:57:46] Score: 0.0068721697491470595; Num features: 15; Features: pc21, pc20, pc26, pc12, pc15, pc5, pc11, pc22, pc38, pc2, pc17, pc0, pc3, pc1, pc13\n",
      "[2022-06-18 21:59:55] Score: -0.0172446141075338; Num features: 15; Features: pc21, pc20, pc26, pc12, pc15, pc5, pc11, pc22, pc38, pc2, pc17, pc0, pc3, pc1, pc24\n",
      "[2022-06-18 22:00:52] Score: -0.009365846609804902; Num features: 15; Features: pc21, pc20, pc26, pc12, pc15, pc5, pc11, pc22, pc38, pc2, pc17, pc0, pc3, pc1, pc31\n",
      "[2022-06-18 22:01:45] Score: 0.008849088433518245; Num features: 16; Features: pc21, pc20, pc26, pc12, pc15, pc5, pc11, pc22, pc38, pc2, pc17, pc0, pc3, pc1, pc24, pc16\n",
      "[2022-06-18 22:03:14] Score: -0.008751332278776777; Num features: 16; Features: pc21, pc20, pc26, pc12, pc15, pc5, pc11, pc22, pc38, pc2, pc17, pc0, pc3, pc1, pc24, pc40\n",
      "[2022-06-18 22:04:27] Score: 0.0018542809567603778; Num features: 16; Features: pc21, pc20, pc26, pc12, pc15, pc5, pc11, pc22, pc38, pc2, pc17, pc0, pc3, pc1, pc24, pc39\n",
      "[2022-06-18 22:05:33] Score: 0.005623160442794312; Num features: 16; Features: pc21, pc20, pc26, pc12, pc15, pc5, pc11, pc22, pc38, pc2, pc17, pc0, pc3, pc1, pc24, pc13\n",
      "[2022-06-18 22:07:05] Score: -0.009991888676590576; Num features: 16; Features: pc21, pc20, pc26, pc12, pc15, pc5, pc11, pc22, pc38, pc2, pc17, pc0, pc3, pc1, pc24, pc31\n",
      "[2022-06-18 22:07:58] Score: 0.01041535574720858; Num features: 17; Features: pc21, pc20, pc26, pc12, pc15, pc5, pc11, pc22, pc38, pc2, pc17, pc0, pc3, pc1, pc24, pc31, pc16\n",
      "[2022-06-18 22:09:44] Score: -0.007121120243321552; Num features: 17; Features: pc21, pc20, pc26, pc12, pc15, pc5, pc11, pc22, pc38, pc2, pc17, pc0, pc3, pc1, pc24, pc31, pc40\n",
      "[2022-06-18 22:10:42] Score: -0.003388899586518765; Num features: 17; Features: pc21, pc20, pc26, pc12, pc15, pc5, pc11, pc22, pc38, pc2, pc17, pc0, pc3, pc1, pc24, pc31, pc39\n",
      "[2022-06-18 22:12:37] Score: 0.002841474554383122; Num features: 17; Features: pc21, pc20, pc26, pc12, pc15, pc5, pc11, pc22, pc38, pc2, pc17, pc0, pc3, pc1, pc24, pc31, pc13\n",
      "[2022-06-18 22:13:41] Score: 0.009870018694797852; Num features: 18; Features: pc21, pc20, pc26, pc12, pc15, pc5, pc11, pc22, pc38, pc2, pc17, pc0, pc3, pc1, pc24, pc31, pc40, pc16\n",
      "[2022-06-18 22:15:27] Score: 0.002621957669759632; Num features: 18; Features: pc21, pc20, pc26, pc12, pc15, pc5, pc11, pc22, pc38, pc2, pc17, pc0, pc3, pc1, pc24, pc31, pc40, pc39\n",
      "[2022-06-18 22:16:35] Score: 0.00959313135031356; Num features: 18; Features: pc21, pc20, pc26, pc12, pc15, pc5, pc11, pc22, pc38, pc2, pc17, pc0, pc3, pc1, pc24, pc31, pc40, pc13\n",
      "[2022-06-18 22:17:45] Score: -0.0030749723814851304; Num features: 19; Features: pc21, pc20, pc26, pc12, pc15, pc5, pc11, pc22, pc38, pc2, pc17, pc0, pc3, pc1, pc24, pc31, pc40, pc39, pc16\n",
      "[2022-06-18 22:19:15] Score: 0.01135552348775502; Num features: 19; Features: pc21, pc20, pc26, pc12, pc15, pc5, pc11, pc22, pc38, pc2, pc17, pc0, pc3, pc1, pc24, pc31, pc40, pc39, pc13\n",
      "[2022-06-18 22:20:09] Score: 0.009516085528389409; Num features: 20; Features: pc21, pc20, pc26, pc12, pc15, pc5, pc11, pc22, pc38, pc2, pc17, pc0, pc3, pc1, pc24, pc31, pc40, pc39, pc16, pc13\n"
     ]
    },
    {
     "data": {
      "text/html": [
       "<div>\n",
       "<style scoped>\n",
       "    .dataframe tbody tr th:only-of-type {\n",
       "        vertical-align: middle;\n",
       "    }\n",
       "\n",
       "    .dataframe tbody tr th {\n",
       "        vertical-align: top;\n",
       "    }\n",
       "\n",
       "    .dataframe thead th {\n",
       "        text-align: right;\n",
       "    }\n",
       "</style>\n",
       "<table border=\"1\" class=\"dataframe\">\n",
       "  <thead>\n",
       "    <tr style=\"text-align: right;\">\n",
       "      <th></th>\n",
       "      <th>score</th>\n",
       "      <th>len_feats</th>\n",
       "      <th>total_feats</th>\n",
       "    </tr>\n",
       "  </thead>\n",
       "  <tbody>\n",
       "    <tr>\n",
       "      <th>55</th>\n",
       "      <td>-0.142276</td>\n",
       "      <td>3</td>\n",
       "      <td>pc21, pc20, pc26</td>\n",
       "    </tr>\n",
       "  </tbody>\n",
       "</table>\n",
       "</div>"
      ],
      "text/plain": [
       "       score  len_feats       total_feats\n",
       "55 -0.142276          3  pc21, pc20, pc26"
      ]
     },
     "metadata": {},
     "output_type": "display_data"
    },
    {
     "name": "stdout",
     "output_type": "stream",
     "text": [
      "CPU times: user 15h 37min 13s, sys: 1min 4s, total: 15h 38min 17s\n",
      "Wall time: 4h 28min 35s\n"
     ]
    }
   ],
   "source": [
    "%%time\n",
    "'''\n",
    "Forward Selection\n",
    "'''\n",
    "if RUN_FS:\n",
    "    # run FS\n",
    "    fs_hist = forward_selection(feat_groups)\n",
    "    display(fs_hist.sort_values('score', ascending=True).head(1))\n",
    "    # output selected features\n",
    "    selected_feats = fs_hist.sort_values('score', ascending=True).total_feats.iloc[0].split(', ')\n",
    "\n",
    "else:\n",
    "    # if not running both IMP and FS, output pre-set selected_feats\n",
    "    if not RUN_IMP:\n",
    "        selected_feats = SELECTED_FEATS\n",
    "    # if ran IMP but not FS, output first N important features where N is pre-set\n",
    "    elif RUN_IMP:\n",
    "        selected_feats = [x[0] for x in feat_groups][:N_FEATS_FINAL]"
   ]
  },
  {
   "cell_type": "code",
   "execution_count": 15,
   "id": "45819e0f",
   "metadata": {
    "execution": {
     "iopub.execute_input": "2022-06-18T14:20:09.600853Z",
     "iopub.status.busy": "2022-06-18T14:20:09.599872Z",
     "iopub.status.idle": "2022-06-18T19:37:42.933442Z",
     "shell.execute_reply": "2022-06-18T19:37:42.934690Z",
     "shell.execute_reply.started": "2022-06-17T16:53:35.022550Z"
    },
    "papermill": {
     "duration": 19053.449823,
     "end_time": "2022-06-18T19:37:42.935967",
     "exception": false,
     "start_time": "2022-06-18T14:20:09.486144",
     "status": "completed"
    },
    "tags": []
   },
   "outputs": [
    {
     "name": "stderr",
     "output_type": "stream",
     "text": [
      "\u001b[32m[I 2022-06-18 14:20:09,601]\u001b[0m A new study created in memory with name: LGBM optimization\u001b[0m\n",
      "\u001b[32m[I 2022-06-18 14:20:30,976]\u001b[0m Trial 0 finished with value: 0.024506467056557808 and parameters: {'boosting_type': 'gbdt', 'max_depth': 14, 'num_leaves': 19, 'learning_rate': 0.05012532287449129, 'min_child_weight': 0.015952535064087895, 'subsample': 0.6690839259374003, 'subsample_freq': 4, 'colsample_bytree': 0.6202983679550564, 'reg_alpha': 11.066522968366002, 'reg_lambda': 5.614683522815592, 'objective': 'rank_xendcg', 'max_bin': 274}. Best is trial 0 with value: 0.024506467056557808.\u001b[0m\n",
      "\u001b[32m[I 2022-06-18 14:21:02,191]\u001b[0m Trial 1 finished with value: 0.055849186178715496 and parameters: {'boosting_type': 'gbdt', 'max_depth': 9, 'num_leaves': 59, 'learning_rate': 0.07668027708791533, 'min_child_weight': 1.488746098380775, 'subsample': 0.800920046187444, 'subsample_freq': 6, 'colsample_bytree': 0.5667221663969578, 'reg_alpha': 11.79393825316075, 'reg_lambda': 1.1120770405598952, 'objective': 'rank_xendcg', 'max_bin': 243}. Best is trial 0 with value: 0.024506467056557808.\u001b[0m\n",
      "\u001b[32m[I 2022-06-18 14:21:49,809]\u001b[0m Trial 2 finished with value: -0.11503737695545244 and parameters: {'boosting_type': 'gbdt', 'max_depth': 6, 'num_leaves': 41, 'learning_rate': 0.18940199249074705, 'min_child_weight': 0.3725055695706394, 'subsample': 0.9821974434904273, 'subsample_freq': 1, 'colsample_bytree': 0.7784961874380827, 'reg_alpha': 0.046724052100229375, 'reg_lambda': 4.1564729555415125, 'objective': 'lambdarank', 'max_bin': 309}. Best is trial 2 with value: -0.11503737695545244.\u001b[0m\n",
      "\u001b[32m[I 2022-06-18 14:23:05,649]\u001b[0m Trial 3 finished with value: -0.1299713278384552 and parameters: {'boosting_type': 'gbdt', 'max_depth': 11, 'num_leaves': 23, 'learning_rate': 0.012546513477287625, 'min_child_weight': 0.6397455865823626, 'subsample': 0.7373770047634108, 'subsample_freq': 4, 'colsample_bytree': 0.724788769161344, 'reg_alpha': 11.786869530354197, 'reg_lambda': 0.6161905220555974, 'objective': 'lambdarank', 'max_bin': 175}. Best is trial 3 with value: -0.1299713278384552.\u001b[0m\n",
      "\u001b[32m[I 2022-06-18 14:23:30,006]\u001b[0m Trial 4 finished with value: -0.07699841889872475 and parameters: {'boosting_type': 'gbdt', 'max_depth': 27, 'num_leaves': 45, 'learning_rate': 0.14618692777469017, 'min_child_weight': 0.827457946490024, 'subsample': 0.8644530115804814, 'subsample_freq': 8, 'colsample_bytree': 0.6614459919173761, 'reg_alpha': 0.014686194002884425, 'reg_lambda': 0.4923688592529263, 'objective': 'rank_xendcg', 'max_bin': 87}. Best is trial 3 with value: -0.1299713278384552.\u001b[0m\n",
      "\u001b[32m[I 2022-06-18 14:23:52,195]\u001b[0m Trial 5 finished with value: 0.010561851831117644 and parameters: {'boosting_type': 'gbdt', 'max_depth': 5, 'num_leaves': 53, 'learning_rate': 0.19518272260014874, 'min_child_weight': 0.0072580318384665304, 'subsample': 0.7897680120694077, 'subsample_freq': 4, 'colsample_bytree': 0.7745453365529437, 'reg_alpha': 11.275286126765597, 'reg_lambda': 0.0942516986939719, 'objective': 'rank_xendcg', 'max_bin': 404}. Best is trial 3 with value: -0.1299713278384552.\u001b[0m\n",
      "\u001b[32m[I 2022-06-18 14:24:43,690]\u001b[0m Trial 6 finished with value: -0.08630316443622985 and parameters: {'boosting_type': 'gbdt', 'max_depth': 18, 'num_leaves': 52, 'learning_rate': 0.19655151070835533, 'min_child_weight': 0.0013544770142345358, 'subsample': 0.777374508044339, 'subsample_freq': 2, 'colsample_bytree': 0.9456492825000413, 'reg_alpha': 0.04633674474213287, 'reg_lambda': 0.05066298494001565, 'objective': 'lambdarank', 'max_bin': 323}. Best is trial 3 with value: -0.1299713278384552.\u001b[0m\n",
      "\u001b[32m[I 2022-06-18 14:26:16,033]\u001b[0m Trial 7 finished with value: -0.12463573496300125 and parameters: {'boosting_type': 'gbdt', 'max_depth': 23, 'num_leaves': 16, 'learning_rate': 0.07793415561541908, 'min_child_weight': 0.11857145525600389, 'subsample': 0.7928431374224708, 'subsample_freq': 4, 'colsample_bytree': 0.938434490372236, 'reg_alpha': 5.070802766255745, 'reg_lambda': 0.09505111738028356, 'objective': 'lambdarank', 'max_bin': 83}. Best is trial 3 with value: -0.1299713278384552.\u001b[0m\n",
      "\u001b[32m[I 2022-06-18 19:37:40,338]\u001b[0m Trial 8 finished with value: -0.09341459406820543 and parameters: {'boosting_type': 'dart', 'max_depth': 7, 'num_leaves': 60, 'learning_rate': 0.04033903090330248, 'min_child_weight': 0.0021319561325333744, 'subsample': 0.5817248528987546, 'subsample_freq': 8, 'colsample_bytree': 0.9084075639273548, 'reg_alpha': 0.08945562765632352, 'reg_lambda': 0.2991031398951339, 'objective': 'lambdarank', 'max_bin': 150}. Best is trial 3 with value: -0.1299713278384552.\u001b[0m\n"
     ]
    },
    {
     "name": "stdout",
     "output_type": "stream",
     "text": [
      "[2022-06-19 03:37:40] {'boosting_type': 'gbdt', 'max_depth': 11, 'num_leaves': 23, 'learning_rate': 0.012546513477287625, 'min_child_weight': 0.6397455865823626, 'subsample': 0.7373770047634108, 'subsample_freq': 4, 'colsample_bytree': 0.724788769161344, 'reg_alpha': 11.786869530354197, 'reg_lambda': 0.6161905220555974, 'objective': 'lambdarank', 'max_bin': 175}\n",
      "[2022-06-19 03:37:40] Best score is -0.1299713278384552\n"
     ]
    },
    {
     "data": {
      "text/plain": [
       "<Figure size 432x288 with 0 Axes>"
      ]
     },
     "metadata": {},
     "output_type": "display_data"
    },
    {
     "data": {
      "image/png": "[encoded data removed]",
      "text/plain": [
       "<Figure size 432x288 with 1 Axes>"
      ]
     },
     "metadata": {
      "needs_background": "light"
     },
     "output_type": "display_data"
    },
    {
     "data": {
      "text/plain": [
       "<Figure size 432x288 with 0 Axes>"
      ]
     },
     "metadata": {},
     "output_type": "display_data"
    },
    {
     "data": {
      "image/png": "[encoded data removed]",
      "text/plain": [
       "<Figure size 432x288 with 1 Axes>"
      ]
     },
     "metadata": {
      "needs_background": "light"
     },
     "output_type": "display_data"
    },
    {
     "data": {
      "text/plain": [
       "<Figure size 432x288 with 0 Axes>"
      ]
     },
     "metadata": {},
     "output_type": "display_data"
    },
    {
     "data": {
      "image/png": "[encoded data removed]",
      "text/plain": [
       "<Figure size 432x288 with 1 Axes>"
      ]
     },
     "metadata": {
      "needs_background": "light"
     },
     "output_type": "display_data"
    },
    {
     "data": {
      "text/plain": [
       "<Figure size 432x288 with 0 Axes>"
      ]
     },
     "metadata": {},
     "output_type": "display_data"
    },
    {
     "data": {
      "image/png": "[encoded data removed]",
      "text/plain": [
       "<Figure size 432x288 with 1 Axes>"
      ]
     },
     "metadata": {
      "needs_background": "light"
     },
     "output_type": "display_data"
    },
    {
     "data": {
      "text/plain": [
       "<Figure size 432x288 with 0 Axes>"
      ]
     },
     "metadata": {},
     "output_type": "display_data"
    },
    {
     "data": {
      "image/png": "[encoded data removed]",
      "text/plain": [
       "<Figure size 432x288 with 1 Axes>"
      ]
     },
     "metadata": {
      "needs_background": "light"
     },
     "output_type": "display_data"
    },
    {
     "data": {
      "text/plain": [
       "<Figure size 432x288 with 0 Axes>"
      ]
     },
     "metadata": {},
     "output_type": "display_data"
    },
    {
     "data": {
      "image/png": "[encoded data removed]",
      "text/plain": [
       "<Figure size 432x288 with 1 Axes>"
      ]
     },
     "metadata": {
      "needs_background": "light"
     },
     "output_type": "display_data"
    },
    {
     "data": {
      "text/plain": [
       "<Figure size 432x288 with 0 Axes>"
      ]
     },
     "metadata": {},
     "output_type": "display_data"
    },
    {
     "data": {
      "image/png": "[encoded data removed]",
      "text/plain": [
       "<Figure size 432x288 with 1 Axes>"
      ]
     },
     "metadata": {
      "needs_background": "light"
     },
     "output_type": "display_data"
    },
    {
     "data": {
      "text/plain": [
       "<Figure size 432x288 with 0 Axes>"
      ]
     },
     "metadata": {},
     "output_type": "display_data"
    },
    {
     "data": {
      "image/png": "[encoded data removed]",
      "text/plain": [
       "<Figure size 432x288 with 1 Axes>"
      ]
     },
     "metadata": {
      "needs_background": "light"
     },
     "output_type": "display_data"
    },
    {
     "data": {
      "text/plain": [
       "<Figure size 432x288 with 0 Axes>"
      ]
     },
     "metadata": {},
     "output_type": "display_data"
    },
    {
     "data": {
      "image/png": "[encoded data removed]",
      "text/plain": [
       "<Figure size 432x288 with 1 Axes>"
      ]
     },
     "metadata": {
      "needs_background": "light"
     },
     "output_type": "display_data"
    },
    {
     "data": {
      "text/plain": [
       "<Figure size 432x288 with 0 Axes>"
      ]
     },
     "metadata": {},
     "output_type": "display_data"
    },
    {
     "data": {
      "image/png": "[encoded data removed]",
      "text/plain": [
       "<Figure size 432x288 with 1 Axes>"
      ]
     },
     "metadata": {
      "needs_background": "light"
     },
     "output_type": "display_data"
    },
    {
     "data": {
      "text/plain": [
       "<Figure size 432x288 with 0 Axes>"
      ]
     },
     "metadata": {},
     "output_type": "display_data"
    },
    {
     "data": {
      "image/png": "[encoded data removed]",
      "text/plain": [
       "<Figure size 432x288 with 1 Axes>"
      ]
     },
     "metadata": {
      "needs_background": "light"
     },
     "output_type": "display_data"
    },
    {
     "data": {
      "text/plain": [
       "<Figure size 432x288 with 0 Axes>"
      ]
     },
     "metadata": {},
     "output_type": "display_data"
    },
    {
     "data": {
      "image/png": "[encoded data removed]",
      "text/plain": [
       "<Figure size 432x288 with 1 Axes>"
      ]
     },
     "metadata": {
      "needs_background": "light"
     },
     "output_type": "display_data"
    },
    {
     "name": "stdout",
     "output_type": "stream",
     "text": [
      "CPU times: user 20h 44min 25s, sys: 1min 12s, total: 20h 45min 37s\n",
      "Wall time: 5h 17min 33s\n"
     ]
    }
   ],
   "source": [
    "%%time\n",
    "'''\n",
    "Hyperparameter tuning\n",
    "'''\n",
    "if RUN_HP:\n",
    "    # run optimization\n",
    "    best_params = optimize_hp()\n",
    "    \n",
    "else:\n",
    "    # if not running HP, use pre-set best parameters\n",
    "    best_params = BEST_PARAMS"
   ]
  },
  {
   "cell_type": "code",
   "execution_count": 16,
   "id": "ae0eb176",
   "metadata": {
    "execution": {
     "iopub.execute_input": "2022-06-18T19:37:43.209615Z",
     "iopub.status.busy": "2022-06-18T19:37:43.208933Z",
     "iopub.status.idle": "2022-06-18T19:39:43.596777Z",
     "shell.execute_reply": "2022-06-18T19:39:43.597385Z",
     "shell.execute_reply.started": "2022-06-17T16:55:13.972071Z"
    },
    "papermill": {
     "duration": 120.526068,
     "end_time": "2022-06-18T19:39:43.597656",
     "exception": false,
     "start_time": "2022-06-18T19:37:43.071588",
     "status": "completed"
    },
    "tags": []
   },
   "outputs": [
    {
     "name": "stdout",
     "output_type": "stream",
     "text": [
      "[2022-06-19 03:39:43] Folds best iterations: [7, 27, 9, 54, 261]\n",
      "[2022-06-19 03:39:43] Folds average num unique values in train: [74.1375, 88.32916666666667, 47.395833333333336, 233.34583333333333, 820.4375]\n",
      "[2022-06-19 03:39:43] Folds average num unique values in validation: [70.68333333333334, 110.4, 50.63333333333333, 264.6333333333333, 897.7166666666667]\n",
      "[2022-06-19 03:39:43] Folds scores: [0.5942228245332103, 0.5958010841037691, 0.5948881849660582, 0.6057798624733841, 0.6109589548418783]\n",
      "[2022-06-19 03:39:43] Folds sharpes: [0.15927459124019447, 0.12835770537588384, 0.13692083942456595, 0.1814933556681728, 0.043810147483458926]\n",
      "[2022-06-19 03:39:43] CV score: 0.6003301821836601\n",
      "[2022-06-19 03:39:43] CV sharpe: 0.1299713278384552\n"
     ]
    }
   ],
   "source": [
    "'''\n",
    "Re-fit best model\n",
    "'''\n",
    "params = {'selected_feats': selected_feats, \n",
    "          'lgbm_var_params': best_params.copy(), \n",
    "          'lgbm_fixed_params': LGBM_FIXED_PARAMS, \n",
    "          'n_estimators': N_ESTIMATORS_REFIT, \n",
    "          'early_stopping_rounds': EARLY_STOPPING_ROUNDS_REFIT}\n",
    "\n",
    "outputs = []\n",
    "for fold in range(N_FOLD):\n",
    "    outputs.append(train_model(fold, params, 'normal'))\n",
    "    \n",
    "cv_score = np.mean([x['best_score_'] for x in outputs])\n",
    "cv_sharpe = np.mean([x['sharpe']['val'] for x in outputs])\n",
    "log(f\"Folds best iterations: {[x['best_iteration_'] for x in outputs]}\")\n",
    "log(f\"Folds average num unique values in train: {[x['n_uniq_trn'] for x in outputs]}\")\n",
    "log(f\"Folds average num unique values in validation: {[x['n_uniq_val'] for x in outputs]}\")\n",
    "log(f\"Folds scores: {[x['best_score_'] for x in outputs]}\")\n",
    "log(f\"Folds sharpes: {[x['sharpe']['val'] for x in outputs]}\")\n",
    "log(f'CV score: {cv_score}')\n",
    "log(f'CV sharpe: {cv_sharpe}')"
   ]
  },
  {
   "cell_type": "code",
   "execution_count": 17,
   "id": "e0aa406d",
   "metadata": {
    "execution": {
     "iopub.execute_input": "2022-06-18T19:39:43.865344Z",
     "iopub.status.busy": "2022-06-18T19:39:43.864714Z",
     "iopub.status.idle": "2022-06-18T19:39:47.343478Z",
     "shell.execute_reply": "2022-06-18T19:39:47.342787Z",
     "shell.execute_reply.started": "2022-06-17T16:56:29.399841Z"
    },
    "papermill": {
     "duration": 3.613461,
     "end_time": "2022-06-18T19:39:47.343631",
     "exception": false,
     "start_time": "2022-06-18T19:39:43.730170",
     "status": "completed"
    },
    "tags": []
   },
   "outputs": [
    {
     "name": "stdout",
     "output_type": "stream",
     "text": [
      "[2022-06-19 03:39:45] Average % in top 200: 0.08124999999999996\n",
      "[2022-06-19 03:39:45] Average % in bottom 200: 0.1438166666666666\n",
      "[2022-06-19 03:39:46] Mean long returns: 0.06746672897928487\n",
      "[2022-06-19 03:39:46] Mean short returns: 0.08321207295225708\n",
      "[2022-06-19 03:39:46] Mean net returns: 0.15067880193154212\n",
      "[2022-06-19 03:39:46] Sharpe of long: 0.034661816669106074\n",
      "[2022-06-19 03:39:46] Sharpe of short: 0.030865470647886237\n",
      "[2022-06-19 03:39:46] Sharpe of net: 0.11849642969923091\n"
     ]
    },
    {
     "data": {
      "image/png": "[encoded data removed]",
      "text/plain": [
       "<Figure size 432x288 with 1 Axes>"
      ]
     },
     "metadata": {
      "needs_background": "light"
     },
     "output_type": "display_data"
    },
    {
     "data": {
      "image/png": "[encoded data removed]",
      "text/plain": [
       "<Figure size 432x288 with 1 Axes>"
      ]
     },
     "metadata": {
      "needs_background": "light"
     },
     "output_type": "display_data"
    },
    {
     "data": {
      "image/png": "[encoded data removed]",
      "text/plain": [
       "<Figure size 432x288 with 1 Axes>"
      ]
     },
     "metadata": {
      "needs_background": "light"
     },
     "output_type": "display_data"
    },
    {
     "data": {
      "image/png": "[encoded data removed]",
      "text/plain": [
       "<Figure size 432x288 with 1 Axes>"
      ]
     },
     "metadata": {
      "needs_background": "light"
     },
     "output_type": "display_data"
    }
   ],
   "source": [
    "'''\n",
    "Signal Analysis\n",
    "'''\n",
    "analyze_signal(outputs)"
   ]
  },
  {
   "cell_type": "markdown",
   "id": "59133f46",
   "metadata": {
    "papermill": {
     "duration": 0.139113,
     "end_time": "2022-06-18T19:39:47.622250",
     "exception": false,
     "start_time": "2022-06-18T19:39:47.483137",
     "status": "completed"
    },
    "tags": []
   },
   "source": [
    "# Debug"
   ]
  },
  {
   "cell_type": "code",
   "execution_count": null,
   "id": "00a23047",
   "metadata": {
    "papermill": {
     "duration": 0.149132,
     "end_time": "2022-06-18T19:39:47.910411",
     "exception": false,
     "start_time": "2022-06-18T19:39:47.761279",
     "status": "completed"
    },
    "tags": []
   },
   "outputs": [],
   "source": []
  },
  {
   "cell_type": "code",
   "execution_count": null,
   "id": "4ecc0b77",
   "metadata": {
    "papermill": {
     "duration": 0.138889,
     "end_time": "2022-06-18T19:39:48.203776",
     "exception": false,
     "start_time": "2022-06-18T19:39:48.064887",
     "status": "completed"
    },
    "tags": []
   },
   "outputs": [],
   "source": []
  },
  {
   "cell_type": "code",
   "execution_count": null,
   "id": "2b45291c",
   "metadata": {
    "papermill": {
     "duration": 0.138374,
     "end_time": "2022-06-18T19:39:48.481546",
     "exception": false,
     "start_time": "2022-06-18T19:39:48.343172",
     "status": "completed"
    },
    "tags": []
   },
   "outputs": [],
   "source": []
  }
 ],
 "metadata": {
  "kernelspec": {
   "display_name": "Python 3",
   "language": "python",
   "name": "python3"
  },
  "language_info": {
   "codemirror_mode": {
    "name": "ipython",
    "version": 3
   },
   "file_extension": ".py",
   "mimetype": "text/x-python",
   "name": "python",
   "nbconvert_exporter": "python",
   "pygments_lexer": "ipython3",
   "version": "3.7.12"
  },
  "papermill": {
   "default_parameters": {},
   "duration": 37280.238384,
   "end_time": "2022-06-18T19:39:51.202669",
   "environment_variables": {},
   "exception": null,
   "input_path": "__notebook__.ipynb",
   "output_path": "__notebook__.ipynb",
   "parameters": {},
   "start_time": "2022-06-18T09:18:30.964285",
   "version": "2.3.3"
  }
 },
 "nbformat": 4,
 "nbformat_minor": 5
}
