{
 "cells": [
  {
   "cell_type": "markdown",
   "id": "6ed6d56d",
   "metadata": {
    "papermill": {
     "duration": 0.021996,
     "end_time": "2022-06-18T09:15:51.117964",
     "exception": false,
     "start_time": "2022-06-18T09:15:51.095968",
     "status": "completed"
    },
    "tags": []
   },
   "source": [
    "# Version description\n",
    "- Added DART as HP option\n",
    "- Rank Ascending = False\n",
    "- Use selected feautres in v24"
   ]
  },
  {
   "cell_type": "code",
   "execution_count": 1,
   "id": "9c8931b1",
   "metadata": {
    "_cell_guid": "951f04b1-5acc-4336-aa05-ec2ddaf21e51",
    "_kg_hide-input": true,
    "_uuid": "16d6d48d-59d7-47d9-afff-641e8323e11e",
    "collapsed": false,
    "execution": {
     "iopub.execute_input": "2022-06-18T09:15:51.175026Z",
     "iopub.status.busy": "2022-06-18T09:15:51.174092Z",
     "iopub.status.idle": "2022-06-18T09:15:54.495795Z",
     "shell.execute_reply": "2022-06-18T09:15:54.496263Z",
     "shell.execute_reply.started": "2022-06-17T16:44:04.523113Z"
    },
    "jupyter": {
     "outputs_hidden": false
    },
    "papermill": {
     "duration": 3.357158,
     "end_time": "2022-06-18T09:15:54.496655",
     "exception": false,
     "start_time": "2022-06-18T09:15:51.139497",
     "status": "completed"
    },
    "tags": []
   },
   "outputs": [
    {
     "data": {
      "text/html": [
       "<style type='text/css'>\n",
       ".datatable table.frame { margin-bottom: 0; }\n",
       ".datatable table.frame thead { border-bottom: none; }\n",
       ".datatable table.frame tr.coltypes td {  color: #FFFFFF;  line-height: 6px;  padding: 0 0.5em;}\n",
       ".datatable .bool    { background: #DDDD99; }\n",
       ".datatable .object  { background: #565656; }\n",
       ".datatable .int     { background: #5D9E5D; }\n",
       ".datatable .float   { background: #4040CC; }\n",
       ".datatable .str     { background: #CC4040; }\n",
       ".datatable .time    { background: #40CC40; }\n",
       ".datatable .row_index {  background: var(--jp-border-color3);  border-right: 1px solid var(--jp-border-color0);  color: var(--jp-ui-font-color3);  font-size: 9px;}\n",
       ".datatable .frame tbody td { text-align: left; }\n",
       ".datatable .frame tr.coltypes .row_index {  background: var(--jp-border-color0);}\n",
       ".datatable th:nth-child(2) { padding-left: 12px; }\n",
       ".datatable .hellipsis {  color: var(--jp-cell-editor-border-color);}\n",
       ".datatable .vellipsis {  background: var(--jp-layout-color0);  color: var(--jp-cell-editor-border-color);}\n",
       ".datatable .na {  color: var(--jp-cell-editor-border-color);  font-size: 80%;}\n",
       ".datatable .sp {  opacity: 0.25;}\n",
       ".datatable .footer { font-size: 9px; }\n",
       ".datatable .frame_dimensions {  background: var(--jp-border-color3);  border-top: 1px solid var(--jp-border-color0);  color: var(--jp-ui-font-color3);  display: inline-block;  opacity: 0.6;  padding: 1px 10px 1px 5px;}\n",
       "</style>\n"
      ],
      "text/plain": [
       "<IPython.core.display.HTML object>"
      ]
     },
     "metadata": {},
     "output_type": "display_data"
    }
   ],
   "source": [
    "# import libraries\n",
    "import warnings\n",
    "warnings.filterwarnings(\"ignore\")\n",
    "warnings.simplefilter(action='ignore', category=FutureWarning)\n",
    "import os\n",
    "from os.path import isfile, isdir, join\n",
    "import numpy as np\n",
    "import pandas as pd\n",
    "from datetime import datetime, date\n",
    "from dateutil.relativedelta import relativedelta\n",
    "import re\n",
    "from IPython.display import display\n",
    "from zipfile import ZipFile\n",
    "import pickle\n",
    "import unicodedata\n",
    "import pytz\n",
    "from joblib import Parallel, delayed\n",
    "import shutil\n",
    "import difflib\n",
    "import random\n",
    "import math\n",
    "from shutil import copyfile\n",
    "import itertools\n",
    "import time\n",
    "from tqdm import tqdm\n",
    "import collections\n",
    "from collections import deque\n",
    "import gc\n",
    "\n",
    "from sklearn.decomposition import PCA\n",
    "from sklearn.linear_model import LinearRegression\n",
    "from sklearn.preprocessing import StandardScaler, MinMaxScaler, QuantileTransformer\n",
    "from sklearn.metrics import ndcg_score, accuracy_score, mean_squared_error\n",
    "\n",
    "import lightgbm as lgbm\n",
    "import optuna\n",
    "from optuna import Trial, visualization\n",
    "\n",
    "import matplotlib as mpl\n",
    "from matplotlib import pyplot as plt\n",
    "\n",
    "import jpx_tokyo_market_prediction\n",
    "\n",
    "from utility_script import *\n",
    "# from utility_script_jpx import *\n",
    "\n",
    "pd.set_option('display.max_columns', None)\n",
    "pd.set_option('display.max_colwidth', None)"
   ]
  },
  {
   "cell_type": "code",
   "execution_count": 2,
   "id": "789fd02a",
   "metadata": {
    "_cell_guid": "5f898435-79c2-4539-88cd-a0bb87b68f60",
    "_uuid": "52554abd-62a0-45ab-baf2-b8249732bbea",
    "collapsed": false,
    "execution": {
     "iopub.execute_input": "2022-06-18T09:15:54.556754Z",
     "iopub.status.busy": "2022-06-18T09:15:54.555674Z",
     "iopub.status.idle": "2022-06-18T09:15:54.563191Z",
     "shell.execute_reply": "2022-06-18T09:15:54.562697Z",
     "shell.execute_reply.started": "2022-06-17T16:44:07.959500Z"
    },
    "jupyter": {
     "outputs_hidden": false
    },
    "papermill": {
     "duration": 0.040549,
     "end_time": "2022-06-18T09:15:54.563372",
     "exception": false,
     "start_time": "2022-06-18T09:15:54.522823",
     "status": "completed"
    },
    "tags": []
   },
   "outputs": [],
   "source": [
    "'''\n",
    "Notebook Parameters\n",
    "'''\n",
    "# basic\n",
    "SEED = 0\n",
    "JPX_PATH = '../input/jpx-tokyo-stock-exchange-prediction'\n",
    "\n",
    "# data sacling\n",
    "SCALER = StandardScaler()\n",
    "SCALE_DAILY = False\n",
    "\n",
    "# PCA\n",
    "RUN_PCA = False\n",
    "N_COMP = 0.9\n",
    "\n",
    "# target definition\n",
    "RANK_ASCENDING = False # set this to False if model prediction is same direction of Target\n",
    "TARGET_POW = 0\n",
    "\n",
    "# data split\n",
    "N_FOLD = 5\n",
    "TRN_SIZE = 240\n",
    "VAL_SIZE = 60\n",
    "TRN_VAL_GAP = 14\n",
    "SPLIT_METHOD = 'trn_val_split_late_val'\n",
    "\n",
    "# model fixed params\n",
    "DEVICE_TYPE = 'CPU'\n",
    "EVAL_AT = 2000\n",
    "LABEL_GAIN = 1.01**np.arange(2000)\n",
    "EVAL_METRIC = f'ndcg@{EVAL_AT}'\n",
    "LGBM_VAR_PARAMS = dict(\n",
    "    boosting_type = 'gbdt',\n",
    "    max_depth = 32,\n",
    "    num_leaves = 32,\n",
    "    learning_rate = 0.01,\n",
    "    min_child_weight = 0.1,\n",
    "    min_child_samples = 1,\n",
    "    subsample = 0.65,\n",
    "    subsample_freq = 1,\n",
    "    colsample_bytree = 0.6,\n",
    "    reg_alpha = 1.5,\n",
    "    reg_lambda = 1.5,\n",
    "    max_bin = 255,\n",
    "    objective = 'lambdarank',\n",
    ")\n",
    "LGBM_FIXED_PARAMS = dict(\n",
    "    n_estimators = 5000,\n",
    "    label_gain = LABEL_GAIN,\n",
    "    n_jobs = -1,\n",
    "    random_state = SEED,\n",
    "    device_type = DEVICE_TYPE,\n",
    ")\n",
    "\n",
    "# feature importance\n",
    "RUN_IMP = False\n",
    "N_SHUFFLE = 12\n",
    "N_FEATS_IMP_TEST = 10\n",
    "N_ESTIMATORS_IMP = 50\n",
    "EARLY_STOPPING_ROUNDS_IMP = 9999\n",
    "FEAT_GROUPS = None # fixed output if not running IMP\n",
    "\n",
    "# forward selection\n",
    "RUN_FS = False\n",
    "N_ESTIMATORS_FS = 5000\n",
    "EARLY_STOPPING_ROUNDS_FS = 20\n",
    "N_FEATS_FS = 20 # top N features considered for FS based on importance\n",
    "N_FEATS_FINAL = None # top N features if skipping FS based on importance\n",
    "SELECTED_FEATS = 'OperatingProfit_pctg, ForecastOrdinaryProfit_pctg, BookValuePerShare_pctg, ForecastEarningsPerShare_pctg'.split(', ') # fixed features if skipping both IMP and FS\n",
    "\n",
    "# hyperparameters tuning\n",
    "RUN_HP = True\n",
    "N_ESTIMATORS_HP = 5000\n",
    "EARLY_STOPPING_ROUNDS_HP = 30\n",
    "HP_OPT_HRS = 4\n",
    "BEST_PARAMS = None\n",
    "\n",
    "# re-fit\n",
    "N_ESTIMATORS_REFIT = 5000\n",
    "EARLY_STOPPING_ROUNDS_REFIT = 30"
   ]
  },
  {
   "cell_type": "markdown",
   "id": "3470e790",
   "metadata": {
    "papermill": {
     "duration": 0.020718,
     "end_time": "2022-06-18T09:15:54.605567",
     "exception": false,
     "start_time": "2022-06-18T09:15:54.584849",
     "status": "completed"
    },
    "tags": []
   },
   "source": [
    "# Data preprocessing"
   ]
  },
  {
   "cell_type": "code",
   "execution_count": 3,
   "id": "92412c3f",
   "metadata": {
    "execution": {
     "iopub.execute_input": "2022-06-18T09:15:54.652236Z",
     "iopub.status.busy": "2022-06-18T09:15:54.651167Z",
     "iopub.status.idle": "2022-06-18T09:15:54.665781Z",
     "shell.execute_reply": "2022-06-18T09:15:54.666279Z",
     "shell.execute_reply.started": "2022-06-17T16:44:07.974773Z"
    },
    "papermill": {
     "duration": 0.039794,
     "end_time": "2022-06-18T09:15:54.666505",
     "exception": false,
     "start_time": "2022-06-18T09:15:54.626711",
     "status": "completed"
    },
    "tags": []
   },
   "outputs": [],
   "source": [
    "'''\n",
    "Train-Val split where validation periods are right after train period\n",
    "'''\n",
    "def trn_val_split_even_val(features, val_to_end):\n",
    "    # define start date of each fold\n",
    "    fold_dates = features.Date.drop_duplicates().reset_index(drop=True)\n",
    "    fold_dates = fold_dates.shift(TRN_SIZE + TRN_VAL_GAP + VAL_SIZE).loc[lambda x: x.notnull()].reset_index(drop=True)\n",
    "    fold_dates = fold_dates.loc[np.linspace(0, fold_dates.shape[0]-1, N_FOLD).astype(int)].reset_index(drop=True)\n",
    "\n",
    "    # create and append train + val data\n",
    "    full_dates = features.Date.drop_duplicates().reset_index(drop=True)\n",
    "    full_data = []\n",
    "    for i, date in enumerate(fold_dates):\n",
    "        dates_trn = full_dates.loc[lambda x: x>=date].head(TRN_SIZE)\n",
    "        if val_to_end==False:\n",
    "            dates_val = full_dates.loc[lambda x: x>=date].shift(-TRN_SIZE).shift(-TRN_VAL_GAP).head(VAL_SIZE)\n",
    "        else:\n",
    "            dates_val = full_dates.loc[lambda x: x>=date].shift(-TRN_SIZE).shift(-TRN_VAL_GAP).loc[lambda x: x.notnull()]\n",
    "        full_data.append(features.loc[lambda x: x.Date.isin(dates_trn)].assign(fold=i, trn_val='trn'))\n",
    "        full_data.append(features.loc[lambda x: x.Date.isin(dates_val)].assign(fold=i, trn_val='val'))\n",
    "    full_data = pd.concat(full_data).reset_index(drop=True)\n",
    "    return full_data\n",
    "\n",
    "\n",
    "'''\n",
    "Train-Val split where validation periods are farthest in future\n",
    "'''\n",
    "def trn_val_split_late_val(features, val_to_end):\n",
    "    # define start date of each fold\n",
    "    fold_dates = features.Date.drop_duplicates().reset_index(drop=True)\n",
    "    fold_dates = fold_dates.shift(TRN_SIZE + TRN_VAL_GAP + VAL_SIZE).loc[lambda x: x.notnull()].reset_index(drop=True)\n",
    "    fold_dates = fold_dates.loc[np.linspace(0, fold_dates.shape[0]-1, N_FOLD).astype(int)].reset_index(drop=True)\n",
    "\n",
    "    # create and append train + val data\n",
    "    full_dates = features.Date.drop_duplicates().reset_index(drop=True)\n",
    "    val_dates_list = full_dates.tail(VAL_SIZE * N_FOLD).values.reshape(N_FOLD, -1)\n",
    "    full_data = []\n",
    "    for i, date in enumerate(fold_dates):\n",
    "        dates_trn = full_dates.loc[lambda x: x>=date].head(TRN_SIZE)\n",
    "        if val_to_end==False:\n",
    "            dates_val = val_dates_list[i]\n",
    "        else:\n",
    "            dates_val = np.concatenate(val_dates_list[i:])\n",
    "        full_data.append(features.loc[lambda x: x.Date.isin(dates_trn)].assign(fold=i, trn_val='trn'))\n",
    "        full_data.append(features.loc[lambda x: x.Date.isin(dates_val)].assign(fold=i, trn_val='val'))\n",
    "    full_data = pd.concat(full_data).reset_index(drop=True)\n",
    "    return full_data"
   ]
  },
  {
   "cell_type": "code",
   "execution_count": 4,
   "id": "6c2ecf79",
   "metadata": {
    "execution": {
     "iopub.execute_input": "2022-06-18T09:15:54.712975Z",
     "iopub.status.busy": "2022-06-18T09:15:54.711977Z",
     "iopub.status.idle": "2022-06-18T09:15:54.723468Z",
     "shell.execute_reply": "2022-06-18T09:15:54.723958Z",
     "shell.execute_reply.started": "2022-06-17T16:44:07.999339Z"
    },
    "papermill": {
     "duration": 0.036587,
     "end_time": "2022-06-18T09:15:54.724149",
     "exception": false,
     "start_time": "2022-06-18T09:15:54.687562",
     "status": "completed"
    },
    "tags": []
   },
   "outputs": [],
   "source": [
    "'''\n",
    "Function to scale the features\n",
    "'''\n",
    "def jpx_data_scaling(full_data, scaler, daily):\n",
    "    feats = time_features + stock_features\n",
    "    \n",
    "    if daily==False:\n",
    "        data_scaled = []\n",
    "        for fold in range(N_FOLD):\n",
    "            # locate train and val datasets\n",
    "            data_trn = full_data.loc[lambda x: (x.fold==fold) & (x.trn_val=='trn')]\n",
    "            data_val = full_data.loc[lambda x: (x.fold==fold) & (x.trn_val=='val')]\n",
    "            # fit scaler\n",
    "            scaler = scaler.fit(data_trn[feats])\n",
    "            save_pkl(scaler, f'scaler{fold}')\n",
    "            # transform data\n",
    "            data_trn[feats] = scaler.transform(data_trn[feats]).astype(np.float32)\n",
    "            data_val[feats] = scaler.transform(data_val[feats]).astype(np.float32)\n",
    "            # store transformed data\n",
    "            data_scaled.append(data_trn)\n",
    "            data_scaled.append(data_val)\n",
    "        data_scaled = pd.concat(data_scaled).reset_index(drop=True)\n",
    "            \n",
    "    elif daily==True:\n",
    "        # scale stock features for each day\n",
    "        def transform_data(df, scaler, feats):\n",
    "            df[feats] = scaler.fit_transform(df[feats]).astype(np.float32)\n",
    "            return df\n",
    "        full_data = full_data.groupby(['fold','trn_val','Date']).apply(lambda df: transform_data(df, scaler, stock_features))\n",
    "        # then scale time features across days\n",
    "        data_scaled = []\n",
    "        for fold in range(N_FOLD):\n",
    "            # locate train and val datasets\n",
    "            data_trn = full_data.loc[lambda x: (x.fold==fold) & (x.trn_val=='trn')]\n",
    "            data_val = full_data.loc[lambda x: (x.fold==fold) & (x.trn_val=='val')]\n",
    "            # fit scaler\n",
    "            scaler = scaler.fit(data_trn[time_features])\n",
    "            save_pkl(scaler, f'scaler{fold}')\n",
    "            # transform data\n",
    "            data_trn[time_features] = scaler.transform(data_trn[time_features]).astype(np.float32)\n",
    "            data_val[time_features] = scaler.transform(data_val[time_features]).astype(np.float32)\n",
    "            # store transformed data\n",
    "            data_scaled.append(data_trn)\n",
    "            data_scaled.append(data_val)\n",
    "        data_scaled = pd.concat(data_scaled).reset_index(drop=True)\n",
    "        \n",
    "    return data_scaled"
   ]
  },
  {
   "cell_type": "code",
   "execution_count": 5,
   "id": "45b2197a",
   "metadata": {
    "execution": {
     "iopub.execute_input": "2022-06-18T09:15:54.770480Z",
     "iopub.status.busy": "2022-06-18T09:15:54.769450Z",
     "iopub.status.idle": "2022-06-18T09:15:54.779212Z",
     "shell.execute_reply": "2022-06-18T09:15:54.779817Z",
     "shell.execute_reply.started": "2022-06-17T16:44:08.019913Z"
    },
    "papermill": {
     "duration": 0.034623,
     "end_time": "2022-06-18T09:15:54.780010",
     "exception": false,
     "start_time": "2022-06-18T09:15:54.745387",
     "status": "completed"
    },
    "tags": []
   },
   "outputs": [],
   "source": [
    "'''\n",
    "PCA Compression\n",
    "'''\n",
    "def pca_compress(full_data):\n",
    "    # fit with one fold of traiing data\n",
    "    pca = PCA(n_components=N_COMP, random_state=SEED)\n",
    "    pca.fit(full_data.loc[lambda x: (x.fold==0) & (x.trn_val=='trn'), all_features])\n",
    "    print(f'PCA shape of components: {pca.components_.shape}')\n",
    "    \n",
    "    # tranform the full dataset\n",
    "    cols = [f'pc{x}' for x in range(pca.components_.shape[0])]\n",
    "    compressed_data = []\n",
    "    for fold in range(N_FOLD):\n",
    "        for trn_val in ['trn','val']:\n",
    "            X = pd.DataFrame(pca.transform(full_data.loc[lambda x: (x.fold==fold) & (x.trn_val==trn_val), all_features]), columns=cols)\n",
    "            header = full_data.loc[lambda x: (x.fold==fold) & (x.trn_val==trn_val), [c for c in full_data.columns if c not in all_features]].reset_index(drop=True)\n",
    "            new_df = pd.concat([header, X], axis=1)\n",
    "            compressed_data.append(new_df)\n",
    "    compressed_data = pd.concat(compressed_data, axis=0).reset_index(drop=True)\n",
    "    return compressed_data, cols"
   ]
  },
  {
   "cell_type": "markdown",
   "id": "8d3586a9",
   "metadata": {
    "papermill": {
     "duration": 0.021237,
     "end_time": "2022-06-18T09:15:54.823757",
     "exception": false,
     "start_time": "2022-06-18T09:15:54.802520",
     "status": "completed"
    },
    "tags": []
   },
   "source": [
    "# Model Training Functions"
   ]
  },
  {
   "cell_type": "code",
   "execution_count": 6,
   "id": "9fb11a5c",
   "metadata": {
    "execution": {
     "iopub.execute_input": "2022-06-18T09:15:54.874907Z",
     "iopub.status.busy": "2022-06-18T09:15:54.873909Z",
     "iopub.status.idle": "2022-06-18T09:15:54.893679Z",
     "shell.execute_reply": "2022-06-18T09:15:54.894185Z",
     "shell.execute_reply.started": "2022-06-17T16:44:08.037396Z"
    },
    "papermill": {
     "duration": 0.04669,
     "end_time": "2022-06-18T09:15:54.894402",
     "exception": false,
     "start_time": "2022-06-18T09:15:54.847712",
     "status": "completed"
    },
    "tags": []
   },
   "outputs": [],
   "source": [
    "'''\n",
    "Function to get sub-columns from table for model fitting\n",
    "'''\n",
    "def get_dataset(df, selected_feats, trn_val):\n",
    "    if trn_val=='val':\n",
    "        df = df.groupby('Date').sample(frac=1.0, random_state=SEED)\n",
    "    df = df.reset_index(drop=True)\n",
    "    grp = df.groupby('Date').size().tolist()\n",
    "    qid = df['Date']\n",
    "    X = df[selected_feats]\n",
    "    y = df['target_train']\n",
    "    target = df['Target']\n",
    "    header = df[id_cols]\n",
    "    return X, y, grp, qid, header, target\n",
    "\n",
    "'''\n",
    "Function to predict scores within groups\n",
    "'''\n",
    "def pred_score(model, X, qid):\n",
    "    X_ = X.assign(Date=qid)\n",
    "    score = []\n",
    "    for date in X_.Date.unique():\n",
    "        score += pd.Series(model.predict(X_.loc[lambda x: x.Date==date].drop('Date',axis=1))).tolist()\n",
    "    return pd.Series(score)\n",
    "\n",
    "'''\n",
    "Function to predict rankings within groups\n",
    "'''\n",
    "def pred_rank(model, X, qid):\n",
    "    X_ = X.assign(Date=qid)\n",
    "    rnk = []\n",
    "    for date in X_.Date.unique():\n",
    "        rnk += pd.Series(model.predict(X_.loc[lambda x: x.Date==date].drop('Date',axis=1))).rank(method='first').tolist()\n",
    "    return pd.Series(rnk)\n",
    "\n",
    "'''\n",
    "Function to transform model output to rank prediction table\n",
    "'''\n",
    "def get_pred_df(header, pred_model, y_true_train, y_true, rank_ascending):\n",
    "    df_pred = pd.concat([header[['RowId','Date','SecuritiesCode']].assign(Date=lambda x: x.Date.dt.strftime('%Y-%m-%d'), SecuritiesCode=lambda x: x.SecuritiesCode.astype(int)).reset_index(drop=True),\n",
    "                        pd.Series(pred_model).rename('pred_model').reset_index(drop=True),\n",
    "                        y_true_train.reset_index(drop=True),\n",
    "                        y_true.reset_index(drop=True)\n",
    "                        ], axis=1)\n",
    "    df_pred['Rank'] = df_pred.groupby('Date').pred_model.rank(method='first', ascending=rank_ascending).astype(int) - 1\n",
    "    return df_pred\n",
    "\n",
    "'''\n",
    "Official function to calculate Sharpe Ratio given a prediction\n",
    "'''\n",
    "def _calc_spread_return_per_day(df, portfolio_size, toprank_weight_ratio):\n",
    "    assert df['Rank'].min() == 0\n",
    "    assert df['Rank'].max() == len(df['Rank']) - 1\n",
    "    weights = np.linspace(start=toprank_weight_ratio, stop=1, num=portfolio_size)\n",
    "    purchase = (df.sort_values(by='Rank')['Target'][:portfolio_size] * weights).sum() / weights.mean()\n",
    "    short = (df.sort_values(by='Rank', ascending=False)['Target'][:portfolio_size] * weights).sum() / weights.mean()\n",
    "    return purchase - short\n",
    "\n",
    "def my_calc_spread_return_per_day(df, portfolio_size, toprank_weight_ratio):\n",
    "    assert df['Rank'].min() == 0\n",
    "    assert df['Rank'].max() == len(df['Rank']) - 1\n",
    "    weights = np.linspace(start=toprank_weight_ratio, stop=1, num=portfolio_size)\n",
    "    purchase = (df.sort_values(by='Rank')['Target'][:portfolio_size] * weights).sum() / weights.mean()\n",
    "    short = (df.sort_values(by='Rank', ascending=False)['Target'][:portfolio_size] * weights).sum() / weights.mean()\n",
    "    return pd.DataFrame({'long':[purchase],'short':[short],'net':[purchase - short]})\n",
    "\n",
    "def calc_spread_return_sharpe(df: pd.DataFrame, portfolio_size: int = 200, toprank_weight_ratio: float = 2) -> float:\n",
    "    buf = df.groupby('Date').apply(_calc_spread_return_per_day, portfolio_size, toprank_weight_ratio)\n",
    "    sharpe_ratio = buf.mean() / buf.std()\n",
    "    return sharpe_ratio"
   ]
  },
  {
   "cell_type": "code",
   "execution_count": 7,
   "id": "d0fc7232",
   "metadata": {
    "_cell_guid": "b4032fcf-3380-4782-8a11-7617c962a5d2",
    "_uuid": "23cc1ed3-aa0f-4e49-9749-dcf53ada723c",
    "collapsed": false,
    "execution": {
     "iopub.execute_input": "2022-06-18T09:15:54.941163Z",
     "iopub.status.busy": "2022-06-18T09:15:54.940086Z",
     "iopub.status.idle": "2022-06-18T09:15:54.958528Z",
     "shell.execute_reply": "2022-06-18T09:15:54.959056Z",
     "shell.execute_reply.started": "2022-06-17T16:44:08.067154Z"
    },
    "jupyter": {
     "outputs_hidden": false
    },
    "papermill": {
     "duration": 0.043697,
     "end_time": "2022-06-18T09:15:54.959253",
     "exception": false,
     "start_time": "2022-06-18T09:15:54.915556",
     "status": "completed"
    },
    "tags": []
   },
   "outputs": [],
   "source": [
    "'''\n",
    "Training function\n",
    "'''\n",
    "def train_model(fold, params, mode):\n",
    "    # unpack model params\n",
    "    selected_feats = params['selected_feats']\n",
    "    lgbm_var_params = params['lgbm_var_params']\n",
    "    lgbm_fixed_params = params['lgbm_fixed_params']\n",
    "    lgbm_fixed_params['n_estimators'] = params['n_estimators']\n",
    "    early_stopping_rounds = params['early_stopping_rounds']\n",
    "\n",
    "    # define dataset\n",
    "    data_trn = full_data.loc[lambda x: (x.fold==fold) & (x.trn_val=='trn')]\n",
    "    data_val = full_data.loc[lambda x: (x.fold==fold) & (x.trn_val=='val')]\n",
    "    X_trn, y_trn, grp_trn, qid_trn, header_trn, target_trn = get_dataset(data_trn, selected_feats, 'trn')\n",
    "    X_val, y_val, grp_val, qid_val, header_val, target_val = get_dataset(data_val, selected_feats, 'val')\n",
    "    # model fit\n",
    "    model = lgbm.LGBMRanker(**lgbm_fixed_params, **lgbm_var_params)\n",
    "    model.fit(\n",
    "        X = X_trn,\n",
    "        y = y_trn,\n",
    "        group = grp_trn,\n",
    "        eval_set = [(X_val, y_val)],\n",
    "        eval_group = [grp_val],\n",
    "        eval_names = ['Validation'],\n",
    "        eval_at = EVAL_AT,\n",
    "        verbose = False,\n",
    "        eval_metric = EVAL_METRIC,\n",
    "        early_stopping_rounds = early_stopping_rounds\n",
    "    )\n",
    "\n",
    "    # output\n",
    "    if mode == 'val_score_only':\n",
    "        output = model.best_score_['Validation'][EVAL_METRIC] * -1 # this score is for minimization problem\n",
    "        \n",
    "    if mode == 'val_sharpe_only':\n",
    "        pred_val = pred_rank(model, X_val, qid_val)\n",
    "        df_pred_val = get_pred_df(header_val, pred_val, y_val, target_val, RANK_ASCENDING)\n",
    "        sharpe_val = calc_spread_return_sharpe(df_pred_val)\n",
    "        output = sharpe_val * -1 # this score is for minimization problem\n",
    "        \n",
    "    if mode == 'feat_imp':\n",
    "        model.set_params(importance_type='gain')\n",
    "        imp_gain = model.feature_importances_\n",
    "        model.set_params(importance_type='split')\n",
    "        imp_split = model.feature_importances_\n",
    "        output = pd.concat([\n",
    "            pd.DataFrame({'feat':model.feature_name_, 'imp':imp_gain}).assign(imp_type='gain', imp=lambda x: x.imp.rank()),\n",
    "            pd.DataFrame({'feat':model.feature_name_, 'imp':imp_split}).assign(imp_type='split', imp=lambda x: x.imp.rank())\n",
    "        ], axis=0).assign(fold=fold)\n",
    "    \n",
    "    if mode == 'normal':\n",
    "        # save model\n",
    "        save_pkl(model, f\"model{fold}\")\n",
    "        # number of distinct predicted values\n",
    "#         n_uniq = pd.Series(model.predict(X_trn)).nunique()\n",
    "        n_uniq_trn = pd.concat([pred_score(model, X_trn, qid_trn).rename('score'), header_trn], axis=1).groupby('Date').score.nunique().mean()\n",
    "        n_uniq_val = pd.concat([pred_score(model, X_val, qid_val).rename('score'), header_val], axis=1).groupby('Date').score.nunique().mean()\n",
    "        # prediction\n",
    "        pred_trn = pred_rank(model, X_trn, qid_trn)\n",
    "        pred_val = pred_rank(model, X_val, qid_val)\n",
    "        # prediction df\n",
    "        df_pred_trn = get_pred_df(header_trn, pred_trn, y_trn, target_trn, RANK_ASCENDING)\n",
    "        df_pred_val = get_pred_df(header_val, pred_val, y_val, target_val, RANK_ASCENDING)\n",
    "        # sharpe\n",
    "        sharpe_trn = calc_spread_return_sharpe(df_pred_trn)\n",
    "        sharpe_val = calc_spread_return_sharpe(df_pred_val)\n",
    "        # output dict\n",
    "        output = dict(\n",
    "            fold = fold,\n",
    "            params = params,\n",
    "            best_iteration_ = model.best_iteration_,\n",
    "            best_score_ = model.best_score_['Validation'][EVAL_METRIC],\n",
    "            sharpe = {'trn': sharpe_trn, 'val': sharpe_val},\n",
    "            ann_sharpe = {'trn': sharpe_trn * np.sqrt(240), 'val': sharpe_val * np.sqrt(240)},\n",
    "            evals_result_ = model.evals_result_['Validation'][EVAL_METRIC],\n",
    "            feat_imp = pd.DataFrame(list(zip(model.feature_name_, model.feature_importances_)), columns=['feat','imp']),\n",
    "            df_pred_val = df_pred_val,\n",
    "            n_uniq_trn = n_uniq_trn,\n",
    "            n_uniq_val = n_uniq_val,\n",
    "        )\n",
    "    return output "
   ]
  },
  {
   "cell_type": "markdown",
   "id": "10d3214d",
   "metadata": {
    "papermill": {
     "duration": 0.020747,
     "end_time": "2022-06-18T09:15:55.002192",
     "exception": false,
     "start_time": "2022-06-18T09:15:54.981445",
     "status": "completed"
    },
    "tags": []
   },
   "source": [
    "# Feature Importance"
   ]
  },
  {
   "cell_type": "code",
   "execution_count": 8,
   "id": "2555879b",
   "metadata": {
    "execution": {
     "iopub.execute_input": "2022-06-18T09:15:55.057802Z",
     "iopub.status.busy": "2022-06-18T09:15:55.047890Z",
     "iopub.status.idle": "2022-06-18T09:15:55.059697Z",
     "shell.execute_reply": "2022-06-18T09:15:55.060244Z",
     "shell.execute_reply.started": "2022-06-17T16:44:08.094071Z"
    },
    "papermill": {
     "duration": 0.036862,
     "end_time": "2022-06-18T09:15:55.060478",
     "exception": false,
     "start_time": "2022-06-18T09:15:55.023616",
     "status": "completed"
    },
    "tags": []
   },
   "outputs": [],
   "source": [
    "def run_feature_importance():\n",
    "    # random sampling of features\n",
    "    all_feats = all_features.copy()\n",
    "    feat_groups = []\n",
    "    for i in range(N_SHUFFLE):\n",
    "        random.shuffle(all_feats)\n",
    "        n_groups = math.floor(len(all_feats)/N_FEATS_IMP_TEST)\n",
    "        feat_groups += np.array(all_feats[:N_FEATS_IMP_TEST*n_groups]).reshape(-1,N_FEATS_IMP_TEST).tolist()\n",
    "    log(f'Total number of run: {len(feat_groups)}')\n",
    "    \n",
    "    # calculate feature importance\n",
    "    df_imp = []\n",
    "    for i, group in enumerate(feat_groups):\n",
    "        for fold in range(N_FOLD):\n",
    "            params = {'selected_feats': group, \n",
    "                      'lgbm_var_params': LGBM_VAR_PARAMS,\n",
    "                      'lgbm_fixed_params': LGBM_FIXED_PARAMS, \n",
    "                      'n_estimators': N_ESTIMATORS_IMP,\n",
    "                      'early_stopping_rounds': EARLY_STOPPING_ROUNDS_IMP}\n",
    "            df_imp.append(train_model(fold, params, 'feat_imp'))\n",
    "        log(f'Completed running feature group {i}') if i%10==0 else None\n",
    "    df_imp = pd.concat(df_imp)\n",
    "    df_imp_agg = df_imp.groupby('feat').imp.mean().sort_values(ascending=False).reset_index()\n",
    "    df_imp_agg.to_csv('df_imp_agg.csv', index=False)\n",
    "    display(df_imp_agg.head(10))\n",
    "\n",
    "    # plotting feature importance\n",
    "    df_imp_agg.sort_values('imp', ascending=True).set_index('feat').plot.barh(figsize=(20, 20))\n",
    "    \n",
    "    # prepare feature list for forward selection\n",
    "    feat_groups = df_imp_agg.head(N_FEATS_FS)\n",
    "    feat_groups = [[x] for x in feat_groups.feat]\n",
    "    return feat_groups"
   ]
  },
  {
   "cell_type": "markdown",
   "id": "bf6bae61",
   "metadata": {
    "papermill": {
     "duration": 0.021804,
     "end_time": "2022-06-18T09:15:55.104605",
     "exception": false,
     "start_time": "2022-06-18T09:15:55.082801",
     "status": "completed"
    },
    "tags": []
   },
   "source": [
    "# Forward Selection"
   ]
  },
  {
   "cell_type": "code",
   "execution_count": 9,
   "id": "3c56561b",
   "metadata": {
    "execution": {
     "iopub.execute_input": "2022-06-18T09:15:55.156151Z",
     "iopub.status.busy": "2022-06-18T09:15:55.155219Z",
     "iopub.status.idle": "2022-06-18T09:15:55.157269Z",
     "shell.execute_reply": "2022-06-18T09:15:55.157835Z",
     "shell.execute_reply.started": "2022-06-17T16:44:08.112325Z"
    },
    "papermill": {
     "duration": 0.031645,
     "end_time": "2022-06-18T09:15:55.158008",
     "exception": false,
     "start_time": "2022-06-18T09:15:55.126363",
     "status": "completed"
    },
    "tags": []
   },
   "outputs": [],
   "source": [
    "'''\n",
    "Forward Selection function\n",
    "'''\n",
    "def forward_selection(feat_groups):\n",
    "    base_feats = []\n",
    "    hist = []\n",
    "    while len(feat_groups) > 0:\n",
    "        scores = []\n",
    "        for feats in feat_groups:\n",
    "            # calculate CV score\n",
    "            params = {'selected_feats': base_feats + feats, \n",
    "                      'lgbm_var_params': LGBM_VAR_PARAMS, \n",
    "                      'lgbm_fixed_params': LGBM_FIXED_PARAMS, \n",
    "                      'n_estimators': N_ESTIMATORS_FS, \n",
    "                      'early_stopping_rounds': EARLY_STOPPING_ROUNDS_FS}\n",
    "            mean_score = np.mean([train_model(fold, params, 'val_sharpe_only') for fold in range(N_FOLD)])\n",
    "            scores.append(mean_score)\n",
    "            hist.append((mean_score,\n",
    "                         len(base_feats + feats),\n",
    "                         ', '.join(base_feats + feats)\n",
    "                         ))\n",
    "            log(f'Score: {mean_score}; Num features: {len(base_feats + feats)}; Features: {\", \".join(base_feats + feats)}')\n",
    "        # add the new feature (group) which gives minimum score\n",
    "        base_feats += feat_groups[np.argmin(scores)]\n",
    "        # remove the added feature (group) from remaining candidate pool\n",
    "        del feat_groups[np.argmin(scores)]\n",
    "    hist = pd.DataFrame(hist, columns=['score','len_feats','total_feats'])\n",
    "    hist.to_csv('fs_hist.csv', index=False)\n",
    "    return hist"
   ]
  },
  {
   "cell_type": "markdown",
   "id": "9ffa660e",
   "metadata": {
    "papermill": {
     "duration": 0.02028,
     "end_time": "2022-06-18T09:15:55.198727",
     "exception": false,
     "start_time": "2022-06-18T09:15:55.178447",
     "status": "completed"
    },
    "tags": []
   },
   "source": [
    "# Hyperparameter Tuning"
   ]
  },
  {
   "cell_type": "code",
   "execution_count": 10,
   "id": "f32f512b",
   "metadata": {
    "execution": {
     "iopub.execute_input": "2022-06-18T09:15:55.243781Z",
     "iopub.status.busy": "2022-06-18T09:15:55.242853Z",
     "iopub.status.idle": "2022-06-18T09:15:55.254000Z",
     "shell.execute_reply": "2022-06-18T09:15:55.254517Z",
     "shell.execute_reply.started": "2022-06-17T16:44:08.133197Z"
    },
    "papermill": {
     "duration": 0.034896,
     "end_time": "2022-06-18T09:15:55.254677",
     "exception": false,
     "start_time": "2022-06-18T09:15:55.219781",
     "status": "completed"
    },
    "tags": []
   },
   "outputs": [],
   "source": [
    "'''\n",
    "Hyperparameter Optimization function\n",
    "'''\n",
    "def Objective(trial):\n",
    "    lgbm_var_params = dict(\n",
    "        boosting_type = trial.suggest_categorical(\"boosting_type\", ['gbdt','dart']),\n",
    "        max_depth = trial.suggest_int('max_depth', 2, 32, log=True),\n",
    "        num_leaves = trial.suggest_int('num_leaves', 16, 64, log=True),\n",
    "        learning_rate = trial.suggest_float(\"learning_rate\", 0.001, 0.2),\n",
    "        min_child_weight = trial.suggest_float(\"min_child_weight\", 1e-3, 4, log=True),\n",
    "        subsample = trial.suggest_float(\"subsample\", 0.5, 1),\n",
    "        subsample_freq = trial.suggest_categorical(\"subsample_freq\", [1,2,4,6,8]),\n",
    "        colsample_bytree = trial.suggest_float(\"colsample_bytree\", 0.5, 1),\n",
    "        reg_alpha = trial.suggest_float(\"reg_alpha\", 1e-2, 16, log=True),\n",
    "        reg_lambda = trial.suggest_float(\"reg_lambda\", 1e-2, 16, log=True),\n",
    "        objective = trial.suggest_categorical(\"objective\", ['rank_xendcg','lambdarank']),\n",
    "        max_bin = trial.suggest_int('max_bin', 50, 500),\n",
    "    )\n",
    "    \n",
    "    # pack all params\n",
    "    params = {'selected_feats': selected_feats, \n",
    "              'lgbm_var_params': lgbm_var_params, \n",
    "              'lgbm_fixed_params': LGBM_FIXED_PARAMS, \n",
    "              'n_estimators': N_ESTIMATORS_HP, \n",
    "              'early_stopping_rounds': EARLY_STOPPING_ROUNDS_HP}\n",
    "    # return average CV score\n",
    "    cv_score = np.mean([train_model(fold, params, 'val_sharpe_only') for fold in range(N_FOLD)])\n",
    "    return cv_score\n",
    "\n",
    "\n",
    "def optimize_hp():\n",
    "    # run optimization\n",
    "    study = optuna.create_study(direction=\"minimize\", study_name='LGBM optimization')\n",
    "    study.optimize(Objective, timeout=HP_OPT_HRS*60*60)\n",
    "    \n",
    "    # save results\n",
    "    best_params = study.best_params\n",
    "    best_score = study.best_value\n",
    "    log(best_params)\n",
    "    log(f'Best score is {best_score}')\n",
    "    trials = study.trials_dataframe()\n",
    "    trials.to_csv(f'trials.csv', index=False)\n",
    "    save_pkl(best_params, f'best_params')\n",
    "    save_pkl(study, f'study')\n",
    "    \n",
    "    # visualise relationship between parameter and CV score\n",
    "    for c in trials.columns:\n",
    "        if c[:7]=='params_':\n",
    "            new_plot()\n",
    "            trials.plot.scatter(c, 'value')\n",
    "            plt.grid()\n",
    "            plt.title(c)\n",
    "            plt.show()\n",
    "    return best_params"
   ]
  },
  {
   "cell_type": "markdown",
   "id": "0184b01c",
   "metadata": {
    "papermill": {
     "duration": 0.020356,
     "end_time": "2022-06-18T09:15:55.295385",
     "exception": false,
     "start_time": "2022-06-18T09:15:55.275029",
     "status": "completed"
    },
    "tags": []
   },
   "source": [
    "# Signal Analysis"
   ]
  },
  {
   "cell_type": "code",
   "execution_count": 11,
   "id": "39bbe464",
   "metadata": {
    "execution": {
     "iopub.execute_input": "2022-06-18T09:15:55.339961Z",
     "iopub.status.busy": "2022-06-18T09:15:55.339038Z",
     "iopub.status.idle": "2022-06-18T09:15:55.353553Z",
     "shell.execute_reply": "2022-06-18T09:15:55.353979Z",
     "shell.execute_reply.started": "2022-06-17T16:44:08.151306Z"
    },
    "papermill": {
     "duration": 0.038269,
     "end_time": "2022-06-18T09:15:55.354153",
     "exception": false,
     "start_time": "2022-06-18T09:15:55.315884",
     "status": "completed"
    },
    "tags": []
   },
   "outputs": [],
   "source": [
    "def analyze_signal(outputs):\n",
    "    df = pd.concat([x['df_pred_val'] for x in outputs])\n",
    "    df.Date = pd.to_datetime(df.Date)\n",
    "    df['rank_pred'] = df.groupby('Date').pred_model.rank(method='first',ascending=False)\n",
    "    df['rank_true'] = df.groupby('Date').target_train.rank(method='first',ascending=True)\n",
    "\n",
    "    # distribution of model prediction\n",
    "    new_plot()\n",
    "    df.pred_model.hist(bins=100)\n",
    "    plt.grid()\n",
    "    plt.title('Distribution of model prediction')\n",
    "\n",
    "    # percentage in correct region\n",
    "    new_plot()\n",
    "    n = 200\n",
    "    top = df.groupby('Date').apply(lambda df: df.loc[lambda x: (x.rank_true>=2000-n) & (x.rank_pred>=2000-n)].shape[0]).divide(n)\n",
    "    bottom = df.groupby('Date').apply(lambda df: df.loc[lambda x: (x.rank_true<=n) & (x.rank_pred<=n)].shape[0]).divide(n)\n",
    "    top.rolling(20).mean().plot(label='top')\n",
    "    bottom.rolling(20).mean().plot(label='bottom')\n",
    "    plt.legend(bbox_to_anchor=(1.1, 1.05))\n",
    "    plt.grid()\n",
    "    plt.title('% in correct region')\n",
    "    log(f'Average % in top 200: {top.mean()}')\n",
    "    log(f'Average % in bottom 200: {bottom.mean()}')\n",
    "\n",
    "    # portfolio return analysis\n",
    "    ret = df.groupby('Date').apply(my_calc_spread_return_per_day, 200, 2)\n",
    "    ret = ret.reset_index().set_index('Date') \\\n",
    "        .assign(short = lambda x: -1 * x.short)\n",
    "\n",
    "    # cumulative returns\n",
    "    new_plot()\n",
    "    ret.long.cumsum().plot(label='long')\n",
    "    ret.short.cumsum().plot(label='short')\n",
    "    ret.net.cumsum().plot(label='net')\n",
    "    plt.legend(bbox_to_anchor=(1.1, 1.05))\n",
    "    plt.grid()\n",
    "    plt.title('Cumulative Returns')\n",
    "    log(f'Mean long returns: {ret.long.mean()}')\n",
    "    log(f'Mean short returns: {ret.short.mean()}')\n",
    "    log(f'Mean net returns: {ret.net.mean()}')\n",
    "\n",
    "    # rolling sharpes\n",
    "    new_plot()\n",
    "    ret.long.rolling(60).apply(lambda s: s.mean()/s.std()).plot(label='long')\n",
    "    ret.short.rolling(60).apply(lambda s: s.mean()/s.std()).plot(label='short')\n",
    "    ret.net.rolling(60).apply(lambda s: s.mean()/s.std()).plot(label='net')\n",
    "    plt.legend(bbox_to_anchor=(1.1, 1.05))\n",
    "    plt.grid()\n",
    "    plt.title('Rolling Sharpes')\n",
    "    log(f'Sharpe of long: {ret.long.mean() / ret.long.std()}')\n",
    "    log(f'Sharpe of short: {ret.short.mean() / ret.short.std()}')\n",
    "    log(f'Sharpe of net: {ret.net.mean() / ret.net.std()}')"
   ]
  },
  {
   "cell_type": "markdown",
   "id": "9beb9c43",
   "metadata": {
    "papermill": {
     "duration": 0.020465,
     "end_time": "2022-06-18T09:15:55.395846",
     "exception": false,
     "start_time": "2022-06-18T09:15:55.375381",
     "status": "completed"
    },
    "tags": []
   },
   "source": [
    "# Execution"
   ]
  },
  {
   "cell_type": "code",
   "execution_count": 12,
   "id": "2970ba51",
   "metadata": {
    "execution": {
     "iopub.execute_input": "2022-06-18T09:15:55.440493Z",
     "iopub.status.busy": "2022-06-18T09:15:55.439551Z",
     "iopub.status.idle": "2022-06-18T09:16:38.759207Z",
     "shell.execute_reply": "2022-06-18T09:16:38.760022Z",
     "shell.execute_reply.started": "2022-06-17T16:44:08.173539Z"
    },
    "papermill": {
     "duration": 43.344118,
     "end_time": "2022-06-18T09:16:38.760484",
     "exception": false,
     "start_time": "2022-06-18T09:15:55.416366",
     "status": "completed"
    },
    "tags": []
   },
   "outputs": [
    {
     "data": {
      "text/html": [
       "<div>\n",
       "<style scoped>\n",
       "    .dataframe tbody tr th:only-of-type {\n",
       "        vertical-align: middle;\n",
       "    }\n",
       "\n",
       "    .dataframe tbody tr th {\n",
       "        vertical-align: top;\n",
       "    }\n",
       "\n",
       "    .dataframe thead tr th {\n",
       "        text-align: left;\n",
       "    }\n",
       "\n",
       "    .dataframe thead tr:last-of-type th {\n",
       "        text-align: right;\n",
       "    }\n",
       "</style>\n",
       "<table border=\"1\" class=\"dataframe\">\n",
       "  <thead>\n",
       "    <tr>\n",
       "      <th></th>\n",
       "      <th></th>\n",
       "      <th colspan=\"3\" halign=\"left\">Date</th>\n",
       "    </tr>\n",
       "    <tr>\n",
       "      <th></th>\n",
       "      <th></th>\n",
       "      <th>min</th>\n",
       "      <th>max</th>\n",
       "      <th>nunique</th>\n",
       "    </tr>\n",
       "    <tr>\n",
       "      <th>fold</th>\n",
       "      <th>trn_val</th>\n",
       "      <th></th>\n",
       "      <th></th>\n",
       "      <th></th>\n",
       "    </tr>\n",
       "  </thead>\n",
       "  <tbody>\n",
       "    <tr>\n",
       "      <th rowspan=\"2\" valign=\"top\">0</th>\n",
       "      <th>trn</th>\n",
       "      <td>2019-01-16</td>\n",
       "      <td>2020-01-14</td>\n",
       "      <td>240</td>\n",
       "    </tr>\n",
       "    <tr>\n",
       "      <th>val</th>\n",
       "      <td>2021-03-05</td>\n",
       "      <td>2021-06-02</td>\n",
       "      <td>60</td>\n",
       "    </tr>\n",
       "    <tr>\n",
       "      <th rowspan=\"2\" valign=\"top\">1</th>\n",
       "      <th>trn</th>\n",
       "      <td>2019-07-23</td>\n",
       "      <td>2020-07-16</td>\n",
       "      <td>240</td>\n",
       "    </tr>\n",
       "    <tr>\n",
       "      <th>val</th>\n",
       "      <td>2021-06-03</td>\n",
       "      <td>2021-08-30</td>\n",
       "      <td>60</td>\n",
       "    </tr>\n",
       "    <tr>\n",
       "      <th rowspan=\"2\" valign=\"top\">2</th>\n",
       "      <th>trn</th>\n",
       "      <td>2020-01-30</td>\n",
       "      <td>2021-01-22</td>\n",
       "      <td>240</td>\n",
       "    </tr>\n",
       "    <tr>\n",
       "      <th>val</th>\n",
       "      <td>2021-08-31</td>\n",
       "      <td>2021-11-26</td>\n",
       "      <td>60</td>\n",
       "    </tr>\n",
       "    <tr>\n",
       "      <th rowspan=\"2\" valign=\"top\">3</th>\n",
       "      <th>trn</th>\n",
       "      <td>2020-08-06</td>\n",
       "      <td>2021-07-29</td>\n",
       "      <td>240</td>\n",
       "    </tr>\n",
       "    <tr>\n",
       "      <th>val</th>\n",
       "      <td>2021-11-29</td>\n",
       "      <td>2022-02-25</td>\n",
       "      <td>60</td>\n",
       "    </tr>\n",
       "    <tr>\n",
       "      <th rowspan=\"2\" valign=\"top\">4</th>\n",
       "      <th>trn</th>\n",
       "      <td>2021-02-10</td>\n",
       "      <td>2022-02-02</td>\n",
       "      <td>240</td>\n",
       "    </tr>\n",
       "    <tr>\n",
       "      <th>val</th>\n",
       "      <td>2022-02-28</td>\n",
       "      <td>2022-05-27</td>\n",
       "      <td>60</td>\n",
       "    </tr>\n",
       "  </tbody>\n",
       "</table>\n",
       "</div>"
      ],
      "text/plain": [
       "                   Date                   \n",
       "                    min        max nunique\n",
       "fold trn_val                              \n",
       "0    trn     2019-01-16 2020-01-14     240\n",
       "     val     2021-03-05 2021-06-02      60\n",
       "1    trn     2019-07-23 2020-07-16     240\n",
       "     val     2021-06-03 2021-08-30      60\n",
       "2    trn     2020-01-30 2021-01-22     240\n",
       "     val     2021-08-31 2021-11-26      60\n",
       "3    trn     2020-08-06 2021-07-29     240\n",
       "     val     2021-11-29 2022-02-25      60\n",
       "4    trn     2021-02-10 2022-02-02     240\n",
       "     val     2022-02-28 2022-05-27      60"
      ]
     },
     "metadata": {},
     "output_type": "display_data"
    },
    {
     "name": "stdout",
     "output_type": "stream",
     "text": [
      "CPU times: user 29.4 s, sys: 7.29 s, total: 36.7 s\n",
      "Wall time: 43.3 s\n"
     ]
    }
   ],
   "source": [
    "%%time\n",
    "'''\n",
    "Preprocessing\n",
    "'''\n",
    "# load features\n",
    "path = '../input/jpx-feature-engineering/features'\n",
    "features = pd.concat([pd.concat(load_pkl(f'{path}/{filename}')) for filename in os.listdir(path)]).sort_values('RowId').reset_index(drop=True)\n",
    "\n",
    "# train-val split\n",
    "if SPLIT_METHOD == 'trn_val_split_late_val':\n",
    "    full_data = trn_val_split_late_val(features, val_to_end=False)\n",
    "elif SPLIT_METHOD == 'trn_val_split_even_val':\n",
    "    full_data = trn_val_split_even_val(features, val_to_end=False)\n",
    "display(full_data.groupby(['fold','trn_val']).agg({'Date':['min','max','nunique']}))\n",
    "\n",
    "# add targets\n",
    "targets = pd.concat([pd.read_csv(f'{JPX_PATH}/{folder}/stock_prices.csv', parse_dates=['Date']) for folder in ['train_files', 'supplemental_files']]) \\\n",
    "    .loc[:,['RowId','Target']] \\\n",
    "    .loc[lambda x: x.Target.notnull()] \\\n",
    "    .drop_duplicates() \\\n",
    "    .reset_index(drop=True)\n",
    "full_data = full_data.merge(targets, how='inner', on='RowId')\n",
    "\n",
    "# remove irregular data\n",
    "full_data = full_data.loc[lambda x: x.volatility_1w!=0].reset_index(drop=True)\n",
    "\n",
    "# derive training target\n",
    "full_data['target_train'] = full_data.Target.divide(full_data.volatility_1m.pow(TARGET_POW))\n",
    "full_data['target_train'] = (full_data.groupby(['Date','fold','trn_val']).target_train.rank(method='first', ascending=not(RANK_ASCENDING)) - 1).astype(int)\n",
    "\n",
    "# release memory\n",
    "del features\n",
    "gc.collect()\n",
    "\n",
    "# define column types\n",
    "id_cols = ['RowId','Date','SecuritiesCode','fold','trn_val']\n",
    "all_features = [c for c in list(full_data) if c not in id_cols and c not in ['target_train','Target']]\n",
    "cat_features = ['AdjustmentFactor','first_div']\n",
    "time_features = [c for c in all_features if '_mkt' in c] + \\\n",
    "                [c for c in all_features if c[:4]=='sec_'] + \\\n",
    "                [c for c in all_features if c[-4:] in ['_sin','_cos']]\n",
    "stock_features = [c for c in all_features if c not in cat_features + time_features]\n",
    "\n",
    "# scaling\n",
    "full_data = jpx_data_scaling(full_data=full_data, scaler=SCALER, daily=SCALE_DAILY)\n",
    "\n",
    "# PCA compression\n",
    "if RUN_PCA:\n",
    "    full_data, all_features = pca_compress(full_data)"
   ]
  },
  {
   "cell_type": "code",
   "execution_count": 13,
   "id": "78c88723",
   "metadata": {
    "execution": {
     "iopub.execute_input": "2022-06-18T09:16:38.814098Z",
     "iopub.status.busy": "2022-06-18T09:16:38.812105Z",
     "iopub.status.idle": "2022-06-18T09:16:38.818553Z",
     "shell.execute_reply": "2022-06-18T09:16:38.817538Z",
     "shell.execute_reply.started": "2022-06-17T16:45:12.838560Z"
    },
    "papermill": {
     "duration": 0.03516,
     "end_time": "2022-06-18T09:16:38.818776",
     "exception": false,
     "start_time": "2022-06-18T09:16:38.783616",
     "status": "completed"
    },
    "tags": []
   },
   "outputs": [
    {
     "name": "stdout",
     "output_type": "stream",
     "text": [
      "CPU times: user 5 µs, sys: 0 ns, total: 5 µs\n",
      "Wall time: 8.58 µs\n"
     ]
    }
   ],
   "source": [
    "%%time\n",
    "'''\n",
    "Feature importance\n",
    "'''\n",
    "if RUN_IMP:\n",
    "    feat_groups = run_feature_importance()\n",
    "else:\n",
    "    # if not running feature importance, use pre-set FEAT_GROUPS for forward selection\n",
    "    feat_groups = FEAT_GROUPS"
   ]
  },
  {
   "cell_type": "code",
   "execution_count": 14,
   "id": "816175d0",
   "metadata": {
    "execution": {
     "iopub.execute_input": "2022-06-18T09:16:38.886629Z",
     "iopub.status.busy": "2022-06-18T09:16:38.885598Z",
     "iopub.status.idle": "2022-06-18T09:16:38.892620Z",
     "shell.execute_reply": "2022-06-18T09:16:38.893405Z",
     "shell.execute_reply.started": "2022-06-17T16:47:52.774281Z"
    },
    "papermill": {
     "duration": 0.037239,
     "end_time": "2022-06-18T09:16:38.893689",
     "exception": false,
     "start_time": "2022-06-18T09:16:38.856450",
     "status": "completed"
    },
    "tags": []
   },
   "outputs": [
    {
     "name": "stdout",
     "output_type": "stream",
     "text": [
      "CPU times: user 6 µs, sys: 0 ns, total: 6 µs\n",
      "Wall time: 9.3 µs\n"
     ]
    }
   ],
   "source": [
    "%%time\n",
    "'''\n",
    "Forward Selection\n",
    "'''\n",
    "if RUN_FS:\n",
    "    # run FS\n",
    "    fs_hist = forward_selection(feat_groups)\n",
    "    display(fs_hist.sort_values('score', ascending=True).head(1))\n",
    "    # output selected features\n",
    "    selected_feats = fs_hist.sort_values('score', ascending=True).total_feats.iloc[0].split(', ')\n",
    "\n",
    "else:\n",
    "    # if not running both IMP and FS, output pre-set selected_feats\n",
    "    if not RUN_IMP:\n",
    "        selected_feats = SELECTED_FEATS\n",
    "    # if ran IMP but not FS, output first N important features where N is pre-set\n",
    "    elif RUN_IMP:\n",
    "        selected_feats = [x[0] for x in feat_groups][:N_FEATS_FINAL]"
   ]
  },
  {
   "cell_type": "code",
   "execution_count": 15,
   "id": "44fd2529",
   "metadata": {
    "execution": {
     "iopub.execute_input": "2022-06-18T09:16:38.947724Z",
     "iopub.status.busy": "2022-06-18T09:16:38.947036Z",
     "iopub.status.idle": "2022-06-18T15:10:57.285101Z",
     "shell.execute_reply": "2022-06-18T15:10:57.284038Z",
     "shell.execute_reply.started": "2022-06-17T16:53:35.022550Z"
    },
    "papermill": {
     "duration": 21258.36762,
     "end_time": "2022-06-18T15:10:57.285733",
     "exception": false,
     "start_time": "2022-06-18T09:16:38.918113",
     "status": "completed"
    },
    "tags": []
   },
   "outputs": [
    {
     "name": "stderr",
     "output_type": "stream",
     "text": [
      "\u001b[32m[I 2022-06-18 09:16:38,945]\u001b[0m A new study created in memory with name: LGBM optimization\u001b[0m\n",
      "\u001b[32m[I 2022-06-18 09:17:59,151]\u001b[0m Trial 0 finished with value: -0.12809325802184704 and parameters: {'boosting_type': 'gbdt', 'max_depth': 18, 'num_leaves': 56, 'learning_rate': 0.0688572596172678, 'min_child_weight': 0.015474294109088288, 'subsample': 0.6209435724988954, 'subsample_freq': 1, 'colsample_bytree': 0.5449494432170097, 'reg_alpha': 0.03513147451951828, 'reg_lambda': 1.2618045245475, 'objective': 'lambdarank', 'max_bin': 61}. Best is trial 0 with value: -0.12809325802184704.\u001b[0m\n",
      "\u001b[32m[I 2022-06-18 09:18:16,317]\u001b[0m Trial 1 finished with value: -0.09468032010837957 and parameters: {'boosting_type': 'gbdt', 'max_depth': 2, 'num_leaves': 19, 'learning_rate': 0.03293101731546194, 'min_child_weight': 0.2472327384497773, 'subsample': 0.5322597279000991, 'subsample_freq': 6, 'colsample_bytree': 0.711889473064063, 'reg_alpha': 0.03845334957366809, 'reg_lambda': 0.3307157333823563, 'objective': 'rank_xendcg', 'max_bin': 84}. Best is trial 0 with value: -0.12809325802184704.\u001b[0m\n",
      "\u001b[32m[I 2022-06-18 11:29:34,178]\u001b[0m Trial 2 finished with value: -0.07452263521891382 and parameters: {'boosting_type': 'dart', 'max_depth': 2, 'num_leaves': 28, 'learning_rate': 0.1822264480156764, 'min_child_weight': 0.003906732671816546, 'subsample': 0.5332887339003077, 'subsample_freq': 6, 'colsample_bytree': 0.6411932976053696, 'reg_alpha': 0.32539521416121375, 'reg_lambda': 0.10733025909089311, 'objective': 'lambdarank', 'max_bin': 120}. Best is trial 0 with value: -0.12809325802184704.\u001b[0m\n",
      "\u001b[32m[I 2022-06-18 15:10:54,723]\u001b[0m Trial 3 finished with value: -0.07464245849552342 and parameters: {'boosting_type': 'dart', 'max_depth': 25, 'num_leaves': 61, 'learning_rate': 0.10275590948075444, 'min_child_weight': 0.0038966924011213377, 'subsample': 0.5835139177556932, 'subsample_freq': 1, 'colsample_bytree': 0.552111760435018, 'reg_alpha': 5.23571859634441, 'reg_lambda': 5.94186529990267, 'objective': 'lambdarank', 'max_bin': 455}. Best is trial 0 with value: -0.12809325802184704.\u001b[0m\n"
     ]
    },
    {
     "name": "stdout",
     "output_type": "stream",
     "text": [
      "[2022-06-18 23:10:54] {'boosting_type': 'gbdt', 'max_depth': 18, 'num_leaves': 56, 'learning_rate': 0.0688572596172678, 'min_child_weight': 0.015474294109088288, 'subsample': 0.6209435724988954, 'subsample_freq': 1, 'colsample_bytree': 0.5449494432170097, 'reg_alpha': 0.03513147451951828, 'reg_lambda': 1.2618045245475, 'objective': 'lambdarank', 'max_bin': 61}\n",
      "[2022-06-18 23:10:54] Best score is -0.12809325802184704\n"
     ]
    },
    {
     "data": {
      "text/plain": [
       "<Figure size 432x288 with 0 Axes>"
      ]
     },
     "metadata": {},
     "output_type": "display_data"
    },
    {
     "data": {
      "image/png": "[encoded data removed]",
      "text/plain": [
       "<Figure size 432x288 with 1 Axes>"
      ]
     },
     "metadata": {
      "needs_background": "light"
     },
     "output_type": "display_data"
    },
    {
     "data": {
      "text/plain": [
       "<Figure size 432x288 with 0 Axes>"
      ]
     },
     "metadata": {},
     "output_type": "display_data"
    },
    {
     "data": {
      "image/png": "[encoded data removed]",
      "text/plain": [
       "<Figure size 432x288 with 1 Axes>"
      ]
     },
     "metadata": {
      "needs_background": "light"
     },
     "output_type": "display_data"
    },
    {
     "data": {
      "text/plain": [
       "<Figure size 432x288 with 0 Axes>"
      ]
     },
     "metadata": {},
     "output_type": "display_data"
    },
    {
     "data": {
      "image/png": "[encoded data removed]",
      "text/plain": [
       "<Figure size 432x288 with 1 Axes>"
      ]
     },
     "metadata": {
      "needs_background": "light"
     },
     "output_type": "display_data"
    },
    {
     "data": {
      "text/plain": [
       "<Figure size 432x288 with 0 Axes>"
      ]
     },
     "metadata": {},
     "output_type": "display_data"
    },
    {
     "data": {
      "image/png": "[encoded data removed]",
      "text/plain": [
       "<Figure size 432x288 with 1 Axes>"
      ]
     },
     "metadata": {
      "needs_background": "light"
     },
     "output_type": "display_data"
    },
    {
     "data": {
      "text/plain": [
       "<Figure size 432x288 with 0 Axes>"
      ]
     },
     "metadata": {},
     "output_type": "display_data"
    },
    {
     "data": {
      "image/png": "[encoded data removed]",
      "text/plain": [
       "<Figure size 432x288 with 1 Axes>"
      ]
     },
     "metadata": {
      "needs_background": "light"
     },
     "output_type": "display_data"
    },
    {
     "data": {
      "text/plain": [
       "<Figure size 432x288 with 0 Axes>"
      ]
     },
     "metadata": {},
     "output_type": "display_data"
    },
    {
     "data": {
      "image/png": "[encoded data removed]",
      "text/plain": [
       "<Figure size 432x288 with 1 Axes>"
      ]
     },
     "metadata": {
      "needs_background": "light"
     },
     "output_type": "display_data"
    },
    {
     "data": {
      "text/plain": [
       "<Figure size 432x288 with 0 Axes>"
      ]
     },
     "metadata": {},
     "output_type": "display_data"
    },
    {
     "data": {
      "image/png": "[encoded data removed]",
      "text/plain": [
       "<Figure size 432x288 with 1 Axes>"
      ]
     },
     "metadata": {
      "needs_background": "light"
     },
     "output_type": "display_data"
    },
    {
     "data": {
      "text/plain": [
       "<Figure size 432x288 with 0 Axes>"
      ]
     },
     "metadata": {},
     "output_type": "display_data"
    },
    {
     "data": {
      "image/png": "[encoded data removed]",
      "text/plain": [
       "<Figure size 432x288 with 1 Axes>"
      ]
     },
     "metadata": {
      "needs_background": "light"
     },
     "output_type": "display_data"
    },
    {
     "data": {
      "text/plain": [
       "<Figure size 432x288 with 0 Axes>"
      ]
     },
     "metadata": {},
     "output_type": "display_data"
    },
    {
     "data": {
      "image/png": "[encoded data removed]",
      "text/plain": [
       "<Figure size 432x288 with 1 Axes>"
      ]
     },
     "metadata": {
      "needs_background": "light"
     },
     "output_type": "display_data"
    },
    {
     "data": {
      "text/plain": [
       "<Figure size 432x288 with 0 Axes>"
      ]
     },
     "metadata": {},
     "output_type": "display_data"
    },
    {
     "data": {
      "image/png": "[encoded data removed]",
      "text/plain": [
       "<Figure size 432x288 with 1 Axes>"
      ]
     },
     "metadata": {
      "needs_background": "light"
     },
     "output_type": "display_data"
    },
    {
     "data": {
      "text/plain": [
       "<Figure size 432x288 with 0 Axes>"
      ]
     },
     "metadata": {},
     "output_type": "display_data"
    },
    {
     "data": {
      "image/png": "[encoded data removed]",
      "text/plain": [
       "<Figure size 432x288 with 1 Axes>"
      ]
     },
     "metadata": {
      "needs_background": "light"
     },
     "output_type": "display_data"
    },
    {
     "data": {
      "text/plain": [
       "<Figure size 432x288 with 0 Axes>"
      ]
     },
     "metadata": {},
     "output_type": "display_data"
    },
    {
     "data": {
      "image/png": "[encoded data removed]",
      "text/plain": [
       "<Figure size 432x288 with 1 Axes>"
      ]
     },
     "metadata": {
      "needs_background": "light"
     },
     "output_type": "display_data"
    },
    {
     "name": "stdout",
     "output_type": "stream",
     "text": [
      "CPU times: user 23h 11min 58s, sys: 1min 15s, total: 23h 13min 14s\n",
      "Wall time: 5h 54min 18s\n"
     ]
    }
   ],
   "source": [
    "%%time\n",
    "'''\n",
    "Hyperparameter tuning\n",
    "'''\n",
    "if RUN_HP:\n",
    "    # run optimization\n",
    "    best_params = optimize_hp()\n",
    "    \n",
    "else:\n",
    "    # if not running HP, use pre-set best parameters\n",
    "    best_params = BEST_PARAMS"
   ]
  },
  {
   "cell_type": "code",
   "execution_count": 16,
   "id": "7b2eda10",
   "metadata": {
    "execution": {
     "iopub.execute_input": "2022-06-18T15:10:57.368405Z",
     "iopub.status.busy": "2022-06-18T15:10:57.367710Z",
     "iopub.status.idle": "2022-06-18T15:13:05.079931Z",
     "shell.execute_reply": "2022-06-18T15:13:05.080685Z",
     "shell.execute_reply.started": "2022-06-17T16:55:13.972071Z"
    },
    "papermill": {
     "duration": 127.755562,
     "end_time": "2022-06-18T15:13:05.080957",
     "exception": false,
     "start_time": "2022-06-18T15:10:57.325395",
     "status": "completed"
    },
    "tags": []
   },
   "outputs": [
    {
     "name": "stdout",
     "output_type": "stream",
     "text": [
      "[2022-06-18 23:13:05] Folds best iterations: [32, 80, 9, 116, 143]\n",
      "[2022-06-18 23:13:05] Folds average num unique values in train: [1654.6791666666666, 1732.825, 1114.6875, 1806.8041666666666, 1861.0291666666667]\n",
      "[2022-06-18 23:13:05] Folds average num unique values in validation: [1570.4, 1835.4833333333333, 1534.3166666666666, 1858.2666666666667, 1882.95]\n",
      "[2022-06-18 23:13:05] Folds scores: [0.588413817722381, 0.5832997494304778, 0.5831073984999975, 0.5892221789691224, 0.5975328429368023]\n",
      "[2022-06-18 23:13:05] Folds sharpes: [0.17514129718978058, 0.07256727325426568, 0.31137484609027094, -0.012146277048605424, 0.0935291506235233]\n",
      "[2022-06-18 23:13:05] CV score: 0.5883151975117562\n",
      "[2022-06-18 23:13:05] CV sharpe: 0.12809325802184704\n"
     ]
    }
   ],
   "source": [
    "'''\n",
    "Re-fit best model\n",
    "'''\n",
    "params = {'selected_feats': selected_feats, \n",
    "          'lgbm_var_params': best_params.copy(), \n",
    "          'lgbm_fixed_params': LGBM_FIXED_PARAMS, \n",
    "          'n_estimators': N_ESTIMATORS_REFIT, \n",
    "          'early_stopping_rounds': EARLY_STOPPING_ROUNDS_REFIT}\n",
    "\n",
    "outputs = []\n",
    "for fold in range(N_FOLD):\n",
    "    outputs.append(train_model(fold, params, 'normal'))\n",
    "    \n",
    "cv_score = np.mean([x['best_score_'] for x in outputs])\n",
    "cv_sharpe = np.mean([x['sharpe']['val'] for x in outputs])\n",
    "log(f\"Folds best iterations: {[x['best_iteration_'] for x in outputs]}\")\n",
    "log(f\"Folds average num unique values in train: {[x['n_uniq_trn'] for x in outputs]}\")\n",
    "log(f\"Folds average num unique values in validation: {[x['n_uniq_val'] for x in outputs]}\")\n",
    "log(f\"Folds scores: {[x['best_score_'] for x in outputs]}\")\n",
    "log(f\"Folds sharpes: {[x['sharpe']['val'] for x in outputs]}\")\n",
    "log(f'CV score: {cv_score}')\n",
    "log(f'CV sharpe: {cv_sharpe}')"
   ]
  },
  {
   "cell_type": "code",
   "execution_count": 17,
   "id": "0a32fe5d",
   "metadata": {
    "execution": {
     "iopub.execute_input": "2022-06-18T15:13:05.163240Z",
     "iopub.status.busy": "2022-06-18T15:13:05.162322Z",
     "iopub.status.idle": "2022-06-18T15:13:09.031901Z",
     "shell.execute_reply": "2022-06-18T15:13:09.031325Z",
     "shell.execute_reply.started": "2022-06-17T16:56:29.399841Z"
    },
    "papermill": {
     "duration": 3.911897,
     "end_time": "2022-06-18T15:13:09.032039",
     "exception": false,
     "start_time": "2022-06-18T15:13:05.120142",
     "status": "completed"
    },
    "tags": []
   },
   "outputs": [
    {
     "name": "stdout",
     "output_type": "stream",
     "text": [
      "[2022-06-18 23:13:06] Average % in top 200: 0.07128333333333338\n",
      "[2022-06-18 23:13:06] Average % in bottom 200: 0.13254999999999992\n",
      "[2022-06-18 23:13:07] Mean long returns: 0.09610548850200074\n",
      "[2022-06-18 23:13:07] Mean short returns: 0.03537752133923862\n",
      "[2022-06-18 23:13:07] Mean net returns: 0.1314830098412393\n",
      "[2022-06-18 23:13:08] Sharpe of long: 0.035761254085736986\n",
      "[2022-06-18 23:13:08] Sharpe of short: 0.01943221900524751\n",
      "[2022-06-18 23:13:08] Sharpe of net: 0.09137999219972064\n"
     ]
    },
    {
     "data": {
      "image/png": "[encoded data removed]",
      "text/plain": [
       "<Figure size 432x288 with 1 Axes>"
      ]
     },
     "metadata": {
      "needs_background": "light"
     },
     "output_type": "display_data"
    },
    {
     "data": {
      "image/png": "[encoded data removed]",
      "text/plain": [
       "<Figure size 432x288 with 1 Axes>"
      ]
     },
     "metadata": {
      "needs_background": "light"
     },
     "output_type": "display_data"
    },
    {
     "data": {
      "image/png": "[encoded data removed]",
      "text/plain": [
       "<Figure size 432x288 with 1 Axes>"
      ]
     },
     "metadata": {
      "needs_background": "light"
     },
     "output_type": "display_data"
    },
    {
     "data": {
      "image/png": "[encoded data removed]",
      "text/plain": [
       "<Figure size 432x288 with 1 Axes>"
      ]
     },
     "metadata": {
      "needs_background": "light"
     },
     "output_type": "display_data"
    }
   ],
   "source": [
    "'''\n",
    "Signal Analysis\n",
    "'''\n",
    "analyze_signal(outputs)"
   ]
  },
  {
   "cell_type": "markdown",
   "id": "cc87feb4",
   "metadata": {
    "papermill": {
     "duration": 0.044037,
     "end_time": "2022-06-18T15:13:09.120612",
     "exception": false,
     "start_time": "2022-06-18T15:13:09.076575",
     "status": "completed"
    },
    "tags": []
   },
   "source": [
    "# Debug"
   ]
  },
  {
   "cell_type": "code",
   "execution_count": null,
   "id": "aaaf20ce",
   "metadata": {
    "papermill": {
     "duration": 0.043084,
     "end_time": "2022-06-18T15:13:09.207387",
     "exception": false,
     "start_time": "2022-06-18T15:13:09.164303",
     "status": "completed"
    },
    "tags": []
   },
   "outputs": [],
   "source": []
  },
  {
   "cell_type": "code",
   "execution_count": null,
   "id": "a779d361",
   "metadata": {
    "papermill": {
     "duration": 0.042866,
     "end_time": "2022-06-18T15:13:09.293412",
     "exception": false,
     "start_time": "2022-06-18T15:13:09.250546",
     "status": "completed"
    },
    "tags": []
   },
   "outputs": [],
   "source": []
  },
  {
   "cell_type": "code",
   "execution_count": null,
   "id": "17f67767",
   "metadata": {
    "papermill": {
     "duration": 0.042878,
     "end_time": "2022-06-18T15:13:09.379383",
     "exception": false,
     "start_time": "2022-06-18T15:13:09.336505",
     "status": "completed"
    },
    "tags": []
   },
   "outputs": [],
   "source": []
  }
 ],
 "metadata": {
  "kernelspec": {
   "display_name": "Python 3",
   "language": "python",
   "name": "python3"
  },
  "language_info": {
   "codemirror_mode": {
    "name": "ipython",
    "version": 3
   },
   "file_extension": ".py",
   "mimetype": "text/x-python",
   "name": "python",
   "nbconvert_exporter": "python",
   "pygments_lexer": "ipython3",
   "version": "3.7.12"
  },
  "papermill": {
   "default_parameters": {},
   "duration": 21449.00674,
   "end_time": "2022-06-18T15:13:11.532905",
   "environment_variables": {},
   "exception": null,
   "input_path": "__notebook__.ipynb",
   "output_path": "__notebook__.ipynb",
   "parameters": {},
   "start_time": "2022-06-18T09:15:42.526165",
   "version": "2.3.3"
  }
 },
 "nbformat": 4,
 "nbformat_minor": 5
}
