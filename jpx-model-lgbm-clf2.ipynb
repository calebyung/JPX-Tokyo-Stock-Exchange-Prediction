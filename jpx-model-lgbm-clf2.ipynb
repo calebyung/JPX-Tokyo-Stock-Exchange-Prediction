{
 "cells": [
  {
   "cell_type": "markdown",
   "id": "eb4eded8",
   "metadata": {
    "papermill": {
     "duration": 0.031393,
     "end_time": "2022-06-27T17:24:18.830426",
     "exception": false,
     "start_time": "2022-06-27T17:24:18.799033",
     "status": "completed"
    },
    "tags": []
   },
   "source": [
    "# Version description\n",
    "- Features & HP from v5\n",
    "- Multiple seeds\n",
    "- Cluster demean\n",
    "- Volatility penalty"
   ]
  },
  {
   "cell_type": "code",
   "execution_count": 1,
   "id": "c1ded7e0",
   "metadata": {
    "_cell_guid": "951f04b1-5acc-4336-aa05-ec2ddaf21e51",
    "_kg_hide-input": true,
    "_uuid": "16d6d48d-59d7-47d9-afff-641e8323e11e",
    "collapsed": false,
    "execution": {
     "iopub.execute_input": "2022-06-27T17:24:18.911640Z",
     "iopub.status.busy": "2022-06-27T17:24:18.906304Z",
     "iopub.status.idle": "2022-06-27T17:24:36.054452Z",
     "shell.execute_reply": "2022-06-27T17:24:36.053741Z",
     "shell.execute_reply.started": "2022-06-27T16:14:48.90231Z"
    },
    "jupyter": {
     "outputs_hidden": false
    },
    "papermill": {
     "duration": 17.193021,
     "end_time": "2022-06-27T17:24:36.054621",
     "exception": false,
     "start_time": "2022-06-27T17:24:18.861600",
     "status": "completed"
    },
    "tags": []
   },
   "outputs": [
    {
     "data": {
      "text/html": [
       "<style type='text/css'>\n",
       ".datatable table.frame { margin-bottom: 0; }\n",
       ".datatable table.frame thead { border-bottom: none; }\n",
       ".datatable table.frame tr.coltypes td {  color: #FFFFFF;  line-height: 6px;  padding: 0 0.5em;}\n",
       ".datatable .bool    { background: #DDDD99; }\n",
       ".datatable .object  { background: #565656; }\n",
       ".datatable .int     { background: #5D9E5D; }\n",
       ".datatable .float   { background: #4040CC; }\n",
       ".datatable .str     { background: #CC4040; }\n",
       ".datatable .time    { background: #40CC40; }\n",
       ".datatable .row_index {  background: var(--jp-border-color3);  border-right: 1px solid var(--jp-border-color0);  color: var(--jp-ui-font-color3);  font-size: 9px;}\n",
       ".datatable .frame tbody td { text-align: left; }\n",
       ".datatable .frame tr.coltypes .row_index {  background: var(--jp-border-color0);}\n",
       ".datatable th:nth-child(2) { padding-left: 12px; }\n",
       ".datatable .hellipsis {  color: var(--jp-cell-editor-border-color);}\n",
       ".datatable .vellipsis {  background: var(--jp-layout-color0);  color: var(--jp-cell-editor-border-color);}\n",
       ".datatable .na {  color: var(--jp-cell-editor-border-color);  font-size: 80%;}\n",
       ".datatable .sp {  opacity: 0.25;}\n",
       ".datatable .footer { font-size: 9px; }\n",
       ".datatable .frame_dimensions {  background: var(--jp-border-color3);  border-top: 1px solid var(--jp-border-color0);  color: var(--jp-ui-font-color3);  display: inline-block;  opacity: 0.6;  padding: 1px 10px 1px 5px;}\n",
       "</style>\n"
      ],
      "text/plain": [
       "<IPython.core.display.HTML object>"
      ]
     },
     "metadata": {},
     "output_type": "display_data"
    },
    {
     "name": "stdout",
     "output_type": "stream",
     "text": [
      "Collecting cvxpy\r\n",
      "  Downloading cvxpy-1.2.1-cp37-cp37m-manylinux_2_24_x86_64.whl (2.8 MB)\r\n",
      "     |████████████████████████████████| 2.8 MB 881 kB/s            \r\n",
      "\u001b[?25hRequirement already satisfied: ecos>=2 in /opt/conda/lib/python3.7/site-packages (from cvxpy) (2.0.10)\r\n",
      "Requirement already satisfied: scipy>=1.1.0 in /opt/conda/lib/python3.7/site-packages (from cvxpy) (1.7.3)\r\n",
      "Requirement already satisfied: numpy>=1.15 in /opt/conda/lib/python3.7/site-packages (from cvxpy) (1.20.3)\r\n",
      "Collecting scs>=1.1.6\r\n",
      "  Downloading scs-3.2.0-cp37-cp37m-manylinux_2_17_x86_64.manylinux2014_x86_64.whl (10.7 MB)\r\n",
      "     |████████████████████████████████| 10.7 MB 57.0 MB/s            \r\n",
      "\u001b[?25hCollecting osqp>=0.4.1\r\n",
      "  Downloading osqp-0.6.2.post5-cp37-cp37m-manylinux_2_5_x86_64.manylinux1_x86_64.manylinux_2_17_x86_64.manylinux2014_x86_64.whl (295 kB)\r\n",
      "     |████████████████████████████████| 295 kB 73.9 MB/s            \r\n",
      "\u001b[?25hCollecting qdldl\r\n",
      "  Downloading qdldl-0.1.5.post2-cp37-cp37m-manylinux_2_17_x86_64.manylinux2014_x86_64.whl (1.1 MB)\r\n",
      "     |████████████████████████████████| 1.1 MB 53.0 MB/s            \r\n",
      "\u001b[?25hInstalling collected packages: qdldl, scs, osqp, cvxpy\r\n",
      "Successfully installed cvxpy-1.2.1 osqp-0.6.2.post5 qdldl-0.1.5.post2 scs-3.2.0\r\n",
      "\u001b[33mWARNING: Running pip as the 'root' user can result in broken permissions and conflicting behaviour with the system package manager. It is recommended to use a virtual environment instead: https://pip.pypa.io/warnings/venv\u001b[0m\r\n"
     ]
    }
   ],
   "source": [
    "# import libraries\n",
    "import warnings\n",
    "warnings.filterwarnings(\"ignore\")\n",
    "warnings.simplefilter(action='ignore', category=FutureWarning)\n",
    "import os\n",
    "from os.path import isfile, isdir, join\n",
    "import numpy as np\n",
    "import pandas as pd\n",
    "from datetime import datetime, date\n",
    "from dateutil.relativedelta import relativedelta\n",
    "import re\n",
    "from IPython.display import display\n",
    "from zipfile import ZipFile\n",
    "import pickle\n",
    "import unicodedata\n",
    "import pytz\n",
    "from joblib import Parallel, delayed\n",
    "import shutil\n",
    "import difflib\n",
    "import random\n",
    "import math\n",
    "from shutil import copyfile\n",
    "import itertools\n",
    "import time\n",
    "from tqdm import tqdm\n",
    "import collections\n",
    "from collections import deque\n",
    "import gc\n",
    "import seaborn as sns\n",
    "import scipy.cluster.hierarchy as spc\n",
    "\n",
    "from sklearn.decomposition import PCA\n",
    "from sklearn.linear_model import LinearRegression\n",
    "from sklearn.preprocessing import StandardScaler, MinMaxScaler, QuantileTransformer\n",
    "from sklearn.metrics import ndcg_score, accuracy_score, mean_squared_error\n",
    "\n",
    "import lightgbm as lgbm\n",
    "import optuna\n",
    "from optuna import Trial, visualization\n",
    "\n",
    "import matplotlib as mpl\n",
    "from matplotlib import pyplot as plt\n",
    "\n",
    "import jpx_tokyo_market_prediction\n",
    "\n",
    "from utility_script import *\n",
    "# from utility_script_jpx import *\n",
    "\n",
    "!pip install cvxpy\n",
    "import cvxpy as cp\n",
    "\n",
    "pd.set_option('display.max_columns', None)\n",
    "pd.set_option('display.max_colwidth', None)"
   ]
  },
  {
   "cell_type": "code",
   "execution_count": 2,
   "id": "d3d8afac",
   "metadata": {
    "_cell_guid": "5f898435-79c2-4539-88cd-a0bb87b68f60",
    "_uuid": "52554abd-62a0-45ab-baf2-b8249732bbea",
    "collapsed": false,
    "execution": {
     "iopub.execute_input": "2022-06-27T17:24:36.157012Z",
     "iopub.status.busy": "2022-06-27T17:24:36.156261Z",
     "iopub.status.idle": "2022-06-27T17:24:36.159526Z",
     "shell.execute_reply": "2022-06-27T17:24:36.159017Z",
     "shell.execute_reply.started": "2022-06-27T17:14:36.189498Z"
    },
    "jupyter": {
     "outputs_hidden": false
    },
    "papermill": {
     "duration": 0.061738,
     "end_time": "2022-06-27T17:24:36.159657",
     "exception": false,
     "start_time": "2022-06-27T17:24:36.097919",
     "status": "completed"
    },
    "tags": []
   },
   "outputs": [],
   "source": [
    "'''\n",
    "Notebook Parameters\n",
    "'''\n",
    "# basic\n",
    "SEED = 0\n",
    "SEEDS = [1,2,3,4,5]\n",
    "JPX_PATH = '../input/jpx-tokyo-stock-exchange-prediction'\n",
    "\n",
    "# data sacling\n",
    "SCALER = StandardScaler()\n",
    "SCALE_DAILY = False\n",
    "\n",
    "# feature composition\n",
    "DROP_MARKET_FEATS = False\n",
    "\n",
    "# PCA\n",
    "RUN_PCA = False\n",
    "PCA_SPLIT = True\n",
    "N_COMP = 0.9\n",
    "\n",
    "# target definition\n",
    "RANK_ASCENDING = False # set this to False if model prediction is same direction of Target\n",
    "TARGET_POW = 0\n",
    "\n",
    "# data split\n",
    "N_FOLD = 5\n",
    "TRN_SIZE = 240\n",
    "VAL_SIZE = 60\n",
    "TRN_VAL_GAP = 14\n",
    "SPLIT_METHOD = 'trn_val_split_late_val'\n",
    "\n",
    "# model fixed params\n",
    "DEVICE_TYPE = 'CPU'\n",
    "EVAL_METRIC = f'binary_logloss'\n",
    "LGBM_VAR_PARAMS = dict(\n",
    "    max_depth = 32,\n",
    "    num_leaves = 32,\n",
    "    learning_rate = 0.01,\n",
    "    min_child_weight = 0.1,\n",
    "    min_child_samples = 1,\n",
    "    subsample = 0.65,\n",
    "    subsample_freq = 1,\n",
    "    colsample_bytree = 0.6,\n",
    "    reg_alpha = 1.5,\n",
    "    reg_lambda = 1.5,\n",
    "    max_bin = 255,\n",
    ")\n",
    "LGBM_FIXED_PARAMS = dict(\n",
    "    boosting_type = 'gbdt',\n",
    "    objective = 'binary',\n",
    "    n_estimators = 5000,\n",
    "    n_jobs = -1,\n",
    "    random_state = SEED,\n",
    "    device_type = DEVICE_TYPE,\n",
    ")\n",
    "\n",
    "# feature importance\n",
    "RUN_IMP = False\n",
    "N_SHUFFLE = 12\n",
    "N_FEATS_IMP_TEST = 10\n",
    "N_ESTIMATORS_IMP = 50\n",
    "EARLY_STOPPING_ROUNDS_IMP = 9999\n",
    "FEAT_GROUPS = None # fixed output if not running IMP\n",
    "\n",
    "# forward selection\n",
    "RUN_FS = False\n",
    "FS_SPLIT = {'n_stock_feats': 20, 'n_market_feats': 10}\n",
    "SELECTED_STOCK_FEATS = None\n",
    "N_ESTIMATORS_FS = 5000\n",
    "EARLY_STOPPING_ROUNDS_FS = 20\n",
    "N_FEATS_FS = None # top N features considered for FS based on importance\n",
    "N_FEATS_FINAL = None # top N features if skipping FS based on importance\n",
    "SELECTED_FEATS = 'div_ratio, ProfitoMarketRatio_diff, ProfitoMarketRatio_raw, days_since_last_fin, price_standard_dist_1m, BookToMarketRatio_raw, exret_3d, beta, RS_sqrt_vol, exret_1m, vol_mkt_3m, sec_volatility_3m'.split(', ') # fixed features if skipping both IMP and FS\n",
    "\n",
    "# hyperparameters tuning\n",
    "RUN_HP = False\n",
    "N_ESTIMATORS_HP = 5000\n",
    "EARLY_STOPPING_ROUNDS_HP = 30\n",
    "HP_OPT_HRS = 4\n",
    "BEST_PARAMS = {'max_depth': 25, 'num_leaves': 27, 'learning_rate': 0.17112853743903716, 'min_child_weight': 0.6820982357703465, 'subsample': 0.5508279309092046, 'subsample_freq': 8, 'colsample_bytree': 0.5163478827222779, 'reg_alpha': 3.8419364341056745, 'reg_lambda': 0.06873997199874361, 'max_bin': 250}\n",
    "\n",
    "# re-fit\n",
    "N_ESTIMATORS_REFIT = 5000\n",
    "EARLY_STOPPING_ROUNDS_REFIT = 30\n",
    "\n",
    "# optimization\n",
    "CLUSTER_DEMEAN = True\n",
    "CLUST_N_DAY = 60\n",
    "VOL_PENALTY = True\n",
    "VOL_N_DAY = 60\n",
    "VOL_POW = 1"
   ]
  },
  {
   "cell_type": "markdown",
   "id": "aab612b8",
   "metadata": {
    "papermill": {
     "duration": 0.041929,
     "end_time": "2022-06-27T17:24:36.244118",
     "exception": false,
     "start_time": "2022-06-27T17:24:36.202189",
     "status": "completed"
    },
    "tags": []
   },
   "source": [
    "# Data preprocessing"
   ]
  },
  {
   "cell_type": "code",
   "execution_count": 3,
   "id": "0afcc02f",
   "metadata": {
    "execution": {
     "iopub.execute_input": "2022-06-27T17:24:36.347066Z",
     "iopub.status.busy": "2022-06-27T17:24:36.346292Z",
     "iopub.status.idle": "2022-06-27T17:24:36.349105Z",
     "shell.execute_reply": "2022-06-27T17:24:36.348474Z",
     "shell.execute_reply.started": "2022-06-27T16:15:07.658407Z"
    },
    "papermill": {
     "duration": 0.06305,
     "end_time": "2022-06-27T17:24:36.349254",
     "exception": false,
     "start_time": "2022-06-27T17:24:36.286204",
     "status": "completed"
    },
    "tags": []
   },
   "outputs": [],
   "source": [
    "'''\n",
    "Train-Val split where validation periods are right after train period\n",
    "'''\n",
    "def trn_val_split_even_val(features, val_to_end):\n",
    "    # define start date of each fold\n",
    "    fold_dates = features.Date.drop_duplicates().reset_index(drop=True)\n",
    "    fold_dates = fold_dates.shift(TRN_SIZE + TRN_VAL_GAP + VAL_SIZE).loc[lambda x: x.notnull()].reset_index(drop=True)\n",
    "    fold_dates = fold_dates.loc[np.linspace(0, fold_dates.shape[0]-1, N_FOLD).astype(int)].reset_index(drop=True)\n",
    "\n",
    "    # create and append train + val data\n",
    "    full_dates = features.Date.drop_duplicates().reset_index(drop=True)\n",
    "    full_data = []\n",
    "    for i, date in enumerate(fold_dates):\n",
    "        dates_trn = full_dates.loc[lambda x: x>=date].head(TRN_SIZE)\n",
    "        if val_to_end==False:\n",
    "            dates_val = full_dates.loc[lambda x: x>=date].shift(-TRN_SIZE).shift(-TRN_VAL_GAP).head(VAL_SIZE)\n",
    "        else:\n",
    "            dates_val = full_dates.loc[lambda x: x>=date].shift(-TRN_SIZE).shift(-TRN_VAL_GAP).loc[lambda x: x.notnull()]\n",
    "        full_data.append(features.loc[lambda x: x.Date.isin(dates_trn)].assign(fold=i, trn_val='trn'))\n",
    "        full_data.append(features.loc[lambda x: x.Date.isin(dates_val)].assign(fold=i, trn_val='val'))\n",
    "    full_data = pd.concat(full_data).reset_index(drop=True)\n",
    "    return full_data\n",
    "\n",
    "\n",
    "'''\n",
    "Train-Val split where validation periods are farthest in future\n",
    "'''\n",
    "def trn_val_split_late_val(features, val_to_end):\n",
    "    # define start date of each fold\n",
    "    fold_dates = features.Date.drop_duplicates().reset_index(drop=True)\n",
    "    fold_dates = fold_dates.shift(TRN_SIZE + TRN_VAL_GAP + VAL_SIZE).loc[lambda x: x.notnull()].reset_index(drop=True)\n",
    "    fold_dates = fold_dates.loc[np.linspace(0, fold_dates.shape[0]-1, N_FOLD).astype(int)].reset_index(drop=True)\n",
    "\n",
    "    # create and append train + val data\n",
    "    full_dates = features.Date.drop_duplicates().reset_index(drop=True)\n",
    "    val_dates_list = full_dates.tail(VAL_SIZE * N_FOLD).values.reshape(N_FOLD, -1)\n",
    "    full_data = []\n",
    "    for i, date in enumerate(fold_dates):\n",
    "        dates_trn = full_dates.loc[lambda x: x>=date].head(TRN_SIZE)\n",
    "        if val_to_end==False:\n",
    "            dates_val = val_dates_list[i]\n",
    "        else:\n",
    "            dates_val = np.concatenate(val_dates_list[i:])\n",
    "        full_data.append(features.loc[lambda x: x.Date.isin(dates_trn)].assign(fold=i, trn_val='trn'))\n",
    "        full_data.append(features.loc[lambda x: x.Date.isin(dates_val)].assign(fold=i, trn_val='val'))\n",
    "    full_data = pd.concat(full_data).reset_index(drop=True)\n",
    "    return full_data"
   ]
  },
  {
   "cell_type": "code",
   "execution_count": 4,
   "id": "82fdf093",
   "metadata": {
    "execution": {
     "iopub.execute_input": "2022-06-27T17:24:36.450101Z",
     "iopub.status.busy": "2022-06-27T17:24:36.449392Z",
     "iopub.status.idle": "2022-06-27T17:24:36.451794Z",
     "shell.execute_reply": "2022-06-27T17:24:36.451155Z",
     "shell.execute_reply.started": "2022-06-27T16:15:07.68584Z"
    },
    "papermill": {
     "duration": 0.060768,
     "end_time": "2022-06-27T17:24:36.451934",
     "exception": false,
     "start_time": "2022-06-27T17:24:36.391166",
     "status": "completed"
    },
    "tags": []
   },
   "outputs": [],
   "source": [
    "'''\n",
    "Function to scale the features\n",
    "'''\n",
    "def jpx_data_scaling(full_data, scaler, daily):\n",
    "    feats = time_features + stock_features\n",
    "    \n",
    "    if daily==False:\n",
    "        data_scaled = []\n",
    "        for fold in range(N_FOLD):\n",
    "            # locate train and val datasets\n",
    "            data_trn = full_data.loc[lambda x: (x.fold==fold) & (x.trn_val=='trn')]\n",
    "            data_val = full_data.loc[lambda x: (x.fold==fold) & (x.trn_val=='val')]\n",
    "            # fit scaler\n",
    "            scaler = scaler.fit(data_trn[feats])\n",
    "            save_pkl(scaler, f'scaler{fold}')\n",
    "            # transform data\n",
    "            data_trn[feats] = scaler.transform(data_trn[feats]).astype(np.float32)\n",
    "            data_val[feats] = scaler.transform(data_val[feats]).astype(np.float32)\n",
    "            # store transformed data\n",
    "            data_scaled.append(data_trn)\n",
    "            data_scaled.append(data_val)\n",
    "        data_scaled = pd.concat(data_scaled).reset_index(drop=True)\n",
    "            \n",
    "    elif daily==True:\n",
    "        # scale stock features for each day\n",
    "        def transform_data(df, scaler, feats):\n",
    "            df[feats] = scaler.fit_transform(df[feats]).astype(np.float32)\n",
    "            return df\n",
    "        full_data = full_data.groupby(['fold','trn_val','Date']).apply(lambda df: transform_data(df, scaler, stock_features))\n",
    "        # then scale time features across days\n",
    "        data_scaled = []\n",
    "        for fold in range(N_FOLD):\n",
    "            # locate train and val datasets\n",
    "            data_trn = full_data.loc[lambda x: (x.fold==fold) & (x.trn_val=='trn')]\n",
    "            data_val = full_data.loc[lambda x: (x.fold==fold) & (x.trn_val=='val')]\n",
    "            # fit scaler\n",
    "            scaler = scaler.fit(data_trn[time_features])\n",
    "            save_pkl(scaler, f'scaler{fold}')\n",
    "            # transform data\n",
    "            data_trn[time_features] = scaler.transform(data_trn[time_features]).astype(np.float32)\n",
    "            data_val[time_features] = scaler.transform(data_val[time_features]).astype(np.float32)\n",
    "            # store transformed data\n",
    "            data_scaled.append(data_trn)\n",
    "            data_scaled.append(data_val)\n",
    "        data_scaled = pd.concat(data_scaled).reset_index(drop=True)\n",
    "        \n",
    "    return data_scaled"
   ]
  },
  {
   "cell_type": "code",
   "execution_count": 5,
   "id": "d1ece310",
   "metadata": {
    "execution": {
     "iopub.execute_input": "2022-06-27T17:24:36.558694Z",
     "iopub.status.busy": "2022-06-27T17:24:36.557985Z",
     "iopub.status.idle": "2022-06-27T17:24:36.560944Z",
     "shell.execute_reply": "2022-06-27T17:24:36.560327Z",
     "shell.execute_reply.started": "2022-06-27T16:15:07.704956Z"
    },
    "papermill": {
     "duration": 0.06752,
     "end_time": "2022-06-27T17:24:36.561081",
     "exception": false,
     "start_time": "2022-06-27T17:24:36.493561",
     "status": "completed"
    },
    "tags": []
   },
   "outputs": [],
   "source": [
    "'''\n",
    "PCA Compression\n",
    "'''\n",
    "def pca_compress(full_data):\n",
    "    \n",
    "    if PCA_SPLIT==False:\n",
    "        # fit with one fold of traiing data\n",
    "        pca = PCA(n_components=N_COMP, random_state=SEED)\n",
    "        pca.fit(full_data.loc[lambda x: (x.fold==0) & (x.trn_val=='trn'), all_features])\n",
    "        save_pkl(pca, 'pca')\n",
    "        log(f'PCA shape of components: {pca.components_.shape}')\n",
    "        \n",
    "        # tranform the full dataset\n",
    "        cols = [f'pc{x}' for x in range(pca.components_.shape[0])]\n",
    "        compressed_data = []\n",
    "        for fold in range(N_FOLD):\n",
    "            for trn_val in ['trn','val']:\n",
    "                X = pd.DataFrame(pca.transform(full_data.loc[lambda x: (x.fold==fold) & (x.trn_val==trn_val), all_features]), columns=cols)\n",
    "                header = full_data.loc[lambda x: (x.fold==fold) & (x.trn_val==trn_val), [c for c in full_data.columns if c not in all_features]].reset_index(drop=True)\n",
    "                new_df = pd.concat([header, X], axis=1)\n",
    "                compressed_data.append(new_df)\n",
    "        compressed_data = pd.concat(compressed_data, axis=0).reset_index(drop=True)\n",
    "        col_def = {'all_features': cols,\n",
    "                   'stock_features': None,\n",
    "                   'time_features': None}\n",
    "        \n",
    "    elif PCA_SPLIT==True:\n",
    "        # fit with one fold of traiing data\n",
    "        stock_feats = [c for c in all_features if c not in time_features]\n",
    "        market_feats = [c for c in all_features if c in time_features]\n",
    "        pca_stock = PCA(n_components=N_COMP, random_state=SEED)\n",
    "        pca_market = PCA(n_components=N_COMP, random_state=SEED)\n",
    "        pca_stock.fit(full_data.loc[lambda x: (x.fold==0) & (x.trn_val=='trn'), stock_feats])\n",
    "        pca_market.fit(full_data.loc[lambda x: (x.fold==0) & (x.trn_val=='trn'), market_feats])\n",
    "        save_pkl(pca_stock, 'pca_stock')\n",
    "        save_pkl(pca_market, 'pca_market')\n",
    "        log(f'Stock PCA shape of components: {pca_stock.components_.shape}')\n",
    "        log(f'Market PCA shape of components: {pca_market.components_.shape}')\n",
    "    \n",
    "        # tranform the full dataset\n",
    "        cols_stock = [f'pc_stock{x}' for x in range(pca_stock.components_.shape[0])]\n",
    "        cols_market = [f'pc_market{x}' for x in range(pca_market.components_.shape[0])]\n",
    "        compressed_data = []\n",
    "        for fold in range(N_FOLD):\n",
    "            for trn_val in ['trn','val']:\n",
    "                X_stock = pd.DataFrame(pca_stock.transform(full_data.loc[lambda x: (x.fold==fold) & (x.trn_val==trn_val), stock_feats]), columns=cols_stock)\n",
    "                X_market = pd.DataFrame(pca_market.transform(full_data.loc[lambda x: (x.fold==fold) & (x.trn_val==trn_val), market_feats]), columns=cols_market)\n",
    "                header = full_data.loc[lambda x: (x.fold==fold) & (x.trn_val==trn_val), [c for c in full_data.columns if c not in all_features]].reset_index(drop=True)\n",
    "                new_df = pd.concat([header, X_stock, X_market], axis=1)\n",
    "                compressed_data.append(new_df)\n",
    "        compressed_data = pd.concat(compressed_data, axis=0).reset_index(drop=True)\n",
    "        col_def = {'all_features': cols_stock + cols_market,\n",
    "                   'stock_features': cols_stock,\n",
    "                   'time_features': cols_market}\n",
    "    return compressed_data, col_def"
   ]
  },
  {
   "cell_type": "markdown",
   "id": "71cadc83",
   "metadata": {
    "papermill": {
     "duration": 0.041115,
     "end_time": "2022-06-27T17:24:36.644319",
     "exception": false,
     "start_time": "2022-06-27T17:24:36.603204",
     "status": "completed"
    },
    "tags": []
   },
   "source": [
    "# Model Training Functions"
   ]
  },
  {
   "cell_type": "code",
   "execution_count": 6,
   "id": "886ee519",
   "metadata": {
    "execution": {
     "iopub.execute_input": "2022-06-27T17:24:36.736776Z",
     "iopub.status.busy": "2022-06-27T17:24:36.736031Z",
     "iopub.status.idle": "2022-06-27T17:24:36.753538Z",
     "shell.execute_reply": "2022-06-27T17:24:36.754055Z",
     "shell.execute_reply.started": "2022-06-27T16:15:07.730682Z"
    },
    "papermill": {
     "duration": 0.068435,
     "end_time": "2022-06-27T17:24:36.754278",
     "exception": false,
     "start_time": "2022-06-27T17:24:36.685843",
     "status": "completed"
    },
    "tags": []
   },
   "outputs": [],
   "source": [
    "'''\n",
    "Function to get sub-columns from table for model fitting\n",
    "'''\n",
    "def get_dataset(df, selected_feats, trn_val):\n",
    "    if trn_val=='val':\n",
    "        df = df.groupby('Date').sample(frac=1.0, random_state=SEED)\n",
    "    df = df.reset_index(drop=True)\n",
    "    grp = df.groupby('Date').size().tolist()\n",
    "    qid = df['Date']\n",
    "    X = df[selected_feats]\n",
    "    y = df['target_train']\n",
    "    target = df['Target']\n",
    "    header = df[id_cols]\n",
    "    return X, y, grp, qid, header, target\n",
    "\n",
    "'''\n",
    "Function to predict scores within groups\n",
    "'''\n",
    "def pred_score(model, X):\n",
    "    return pd.Series(model.predict_proba(X)[:,1])\n",
    "\n",
    "'''\n",
    "Function to predict rankings within groups\n",
    "'''\n",
    "def pred_rank(model, X, qid):\n",
    "    X_ = X.assign(Date=qid)\n",
    "    rnk = []\n",
    "    for date in X_.Date.unique():\n",
    "        rnk += pd.Series(model.predict_proba(X_.loc[lambda x: x.Date==date].drop('Date',axis=1))[:,1]).rank(method='first').tolist()\n",
    "    return pd.Series(rnk)\n",
    "\n",
    "'''\n",
    "Function to transform model output to rank prediction table\n",
    "'''\n",
    "def get_pred_df(header, pred_model, y_true_train, y_true, rank_ascending):\n",
    "    df_pred = pd.concat([header[['RowId','Date','SecuritiesCode']].assign(Date=lambda x: x.Date.dt.strftime('%Y-%m-%d'), SecuritiesCode=lambda x: x.SecuritiesCode.astype(int)).reset_index(drop=True),\n",
    "                        pd.Series(pred_model).rename('pred_model').reset_index(drop=True),\n",
    "                        y_true_train.reset_index(drop=True),\n",
    "                        y_true.reset_index(drop=True)\n",
    "                        ], axis=1)\n",
    "    df_pred['Rank'] = df_pred.groupby('Date').pred_model.rank(method='first', ascending=rank_ascending).astype(int) - 1\n",
    "    return df_pred\n",
    "\n",
    "'''\n",
    "Official function to calculate Sharpe Ratio given a prediction\n",
    "'''\n",
    "def _calc_spread_return_per_day(df, portfolio_size, toprank_weight_ratio):\n",
    "    assert df['Rank'].min() == 0\n",
    "    assert df['Rank'].max() == len(df['Rank']) - 1\n",
    "    weights = np.linspace(start=toprank_weight_ratio, stop=1, num=portfolio_size)\n",
    "    purchase = (df.sort_values(by='Rank')['Target'][:portfolio_size] * weights).sum() / weights.mean()\n",
    "    short = (df.sort_values(by='Rank', ascending=False)['Target'][:portfolio_size] * weights).sum() / weights.mean()\n",
    "    return purchase - short\n",
    "\n",
    "def my_calc_spread_return_per_day(df, portfolio_size, toprank_weight_ratio):\n",
    "    assert df['Rank'].min() == 0\n",
    "    assert df['Rank'].max() == len(df['Rank']) - 1\n",
    "    weights = np.linspace(start=toprank_weight_ratio, stop=1, num=portfolio_size)\n",
    "    purchase = (df.sort_values(by='Rank')['Target'][:portfolio_size] * weights).sum() / weights.mean()\n",
    "    short = (df.sort_values(by='Rank', ascending=False)['Target'][:portfolio_size] * weights).sum() / weights.mean()\n",
    "    return pd.DataFrame({'long':[purchase],'short':[short],'net':[purchase - short]})\n",
    "\n",
    "def calc_spread_return_sharpe(df: pd.DataFrame, portfolio_size: int = 200, toprank_weight_ratio: float = 2) -> float:\n",
    "    buf = df.groupby('Date').apply(_calc_spread_return_per_day, portfolio_size, toprank_weight_ratio)\n",
    "    sharpe_ratio = buf.mean() / buf.std()\n",
    "    return sharpe_ratio"
   ]
  },
  {
   "cell_type": "code",
   "execution_count": 7,
   "id": "691477cb",
   "metadata": {
    "_cell_guid": "b4032fcf-3380-4782-8a11-7617c962a5d2",
    "_uuid": "23cc1ed3-aa0f-4e49-9749-dcf53ada723c",
    "collapsed": false,
    "execution": {
     "iopub.execute_input": "2022-06-27T17:24:36.859641Z",
     "iopub.status.busy": "2022-06-27T17:24:36.856118Z",
     "iopub.status.idle": "2022-06-27T17:24:36.863134Z",
     "shell.execute_reply": "2022-06-27T17:24:36.862539Z",
     "shell.execute_reply.started": "2022-06-27T16:15:07.759357Z"
    },
    "jupyter": {
     "outputs_hidden": false
    },
    "papermill": {
     "duration": 0.067497,
     "end_time": "2022-06-27T17:24:36.863292",
     "exception": false,
     "start_time": "2022-06-27T17:24:36.795795",
     "status": "completed"
    },
    "tags": []
   },
   "outputs": [],
   "source": [
    "'''\n",
    "Training function\n",
    "'''\n",
    "def train_model(fold, params, mode):\n",
    "    # unpack model params\n",
    "    selected_feats = params['selected_feats']\n",
    "    lgbm_var_params = params['lgbm_var_params']\n",
    "    lgbm_fixed_params = params['lgbm_fixed_params']\n",
    "    lgbm_fixed_params['n_estimators'] = params['n_estimators']\n",
    "    early_stopping_rounds = params['early_stopping_rounds']\n",
    "    \n",
    "    # define dataset\n",
    "    data_trn = full_data.loc[lambda x: (x.fold==fold) & (x.trn_val=='trn')]\n",
    "    data_val = full_data.loc[lambda x: (x.fold==fold) & (x.trn_val=='val')]\n",
    "    X_trn, y_trn, grp_trn, qid_trn, header_trn, target_trn = get_dataset(data_trn, selected_feats, 'trn')\n",
    "    X_val, y_val, grp_val, qid_val, header_val, target_val = get_dataset(data_val, selected_feats, 'val')\n",
    "    # model fit\n",
    "    model = lgbm.LGBMClassifier(**lgbm_fixed_params, **lgbm_var_params)\n",
    "    model.fit(\n",
    "        X = X_trn,\n",
    "        y = y_trn,\n",
    "        eval_set = [(X_val, y_val)],\n",
    "        eval_names = ['Validation'],\n",
    "        verbose = False,\n",
    "        eval_metric = EVAL_METRIC,\n",
    "        early_stopping_rounds = early_stopping_rounds\n",
    "    )\n",
    "\n",
    "    # output\n",
    "    if mode == 'val_score_only':\n",
    "        output = model.best_score_['Validation'][EVAL_METRIC] # this score is for minimization problem\n",
    "        \n",
    "    if mode == 'val_sharpe_only':\n",
    "        pred_val = pred_score(model, X_val)\n",
    "        df_pred_val = get_pred_df(header_val, pred_val, y_val, target_val, RANK_ASCENDING)\n",
    "        sharpe_val = calc_spread_return_sharpe(df_pred_val)\n",
    "        output = sharpe_val * -1 # this score is for minimization problem\n",
    "        \n",
    "    if mode == 'feat_imp':\n",
    "        model.set_params(importance_type='gain')\n",
    "        imp_gain = model.feature_importances_\n",
    "        model.set_params(importance_type='split')\n",
    "        imp_split = model.feature_importances_\n",
    "        output = pd.concat([\n",
    "            pd.DataFrame({'feat':model.feature_name_, 'imp':imp_gain}).assign(imp_type='gain', imp=lambda x: x.imp.rank()),\n",
    "            pd.DataFrame({'feat':model.feature_name_, 'imp':imp_split}).assign(imp_type='split', imp=lambda x: x.imp.rank())\n",
    "        ], axis=0).assign(fold=fold)\n",
    "    \n",
    "    if mode == 'normal':\n",
    "        # save model\n",
    "        save_pkl(model, f\"model{fold}_seed{SEED}\")\n",
    "        # number of distinct predicted values\n",
    "        n_uniq_trn = pd.concat([pred_score(model, X_trn).rename('score'), header_trn], axis=1).groupby('Date').score.nunique().mean()\n",
    "        n_uniq_val = pd.concat([pred_score(model, X_val).rename('score'), header_val], axis=1).groupby('Date').score.nunique().mean()\n",
    "        # prediction\n",
    "        pred_trn = pred_score(model, X_trn)\n",
    "        pred_val = pred_score(model, X_val)\n",
    "        # prediction df\n",
    "        df_pred_trn = get_pred_df(header_trn, pred_trn, y_trn, target_trn, RANK_ASCENDING)\n",
    "        df_pred_val = get_pred_df(header_val, pred_val, y_val, target_val, RANK_ASCENDING)\n",
    "        # sharpe\n",
    "        sharpe_trn = calc_spread_return_sharpe(df_pred_trn)\n",
    "        sharpe_val = calc_spread_return_sharpe(df_pred_val)\n",
    "        # output dict\n",
    "        output = dict(\n",
    "            fold = fold,\n",
    "            params = params,\n",
    "            best_iteration_ = model.best_iteration_,\n",
    "            best_score_ = model.best_score_['Validation'][EVAL_METRIC],\n",
    "            sharpe = {'trn': sharpe_trn, 'val': sharpe_val},\n",
    "            ann_sharpe = {'trn': sharpe_trn * np.sqrt(240), 'val': sharpe_val * np.sqrt(240)},\n",
    "            evals_result_ = model.evals_result_['Validation'][EVAL_METRIC],\n",
    "            feat_imp = pd.DataFrame(list(zip(model.feature_name_, model.feature_importances_)), columns=['feat','imp']),\n",
    "            df_pred_val = df_pred_val,\n",
    "            n_uniq_trn = n_uniq_trn,\n",
    "            n_uniq_val = n_uniq_val,\n",
    "        )\n",
    "    return output "
   ]
  },
  {
   "cell_type": "markdown",
   "id": "bc0eebe4",
   "metadata": {
    "papermill": {
     "duration": 0.042171,
     "end_time": "2022-06-27T17:24:36.947896",
     "exception": false,
     "start_time": "2022-06-27T17:24:36.905725",
     "status": "completed"
    },
    "tags": []
   },
   "source": [
    "# Feature Importance"
   ]
  },
  {
   "cell_type": "code",
   "execution_count": 8,
   "id": "dbee83f5",
   "metadata": {
    "execution": {
     "iopub.execute_input": "2022-06-27T17:24:37.044166Z",
     "iopub.status.busy": "2022-06-27T17:24:37.043269Z",
     "iopub.status.idle": "2022-06-27T17:24:37.046305Z",
     "shell.execute_reply": "2022-06-27T17:24:37.045646Z",
     "shell.execute_reply.started": "2022-06-27T16:15:07.785092Z"
    },
    "papermill": {
     "duration": 0.056757,
     "end_time": "2022-06-27T17:24:37.046444",
     "exception": false,
     "start_time": "2022-06-27T17:24:36.989687",
     "status": "completed"
    },
    "tags": []
   },
   "outputs": [],
   "source": [
    "def run_feature_importance():\n",
    "    # random sampling of features\n",
    "    all_feats = all_features.copy()\n",
    "    feat_groups = []\n",
    "    for i in range(N_SHUFFLE):\n",
    "        random.shuffle(all_feats)\n",
    "        n_groups = math.floor(len(all_feats)/N_FEATS_IMP_TEST)\n",
    "        feat_groups += np.array(all_feats[:N_FEATS_IMP_TEST*n_groups]).reshape(-1,N_FEATS_IMP_TEST).tolist()\n",
    "    log(f'Total number of run: {len(feat_groups)}')\n",
    "    \n",
    "    # calculate feature importance\n",
    "    df_imp = []\n",
    "    for i, group in enumerate(feat_groups):\n",
    "        for fold in range(N_FOLD):\n",
    "            params = {'selected_feats': group, \n",
    "                      'lgbm_var_params': LGBM_VAR_PARAMS,\n",
    "                      'lgbm_fixed_params': LGBM_FIXED_PARAMS, \n",
    "                      'n_estimators': N_ESTIMATORS_IMP,\n",
    "                      'early_stopping_rounds': EARLY_STOPPING_ROUNDS_IMP}\n",
    "            df_imp.append(train_model(fold, params, 'feat_imp'))\n",
    "        log(f'Completed running feature group {i}') if i%10==0 else None\n",
    "    df_imp = pd.concat(df_imp)\n",
    "    df_imp_agg = df_imp.groupby('feat').imp.mean().sort_values(ascending=False).reset_index()\n",
    "    df_imp_agg.to_csv('df_imp_agg.csv', index=False)\n",
    "    display(df_imp_agg.head(10))\n",
    "\n",
    "    # plotting feature importance\n",
    "    df_imp_agg.sort_values('imp', ascending=True).set_index('feat').plot.barh(figsize=(20, 20))\n",
    "    return df_imp_agg"
   ]
  },
  {
   "cell_type": "markdown",
   "id": "973af499",
   "metadata": {
    "papermill": {
     "duration": 0.041183,
     "end_time": "2022-06-27T17:24:37.129655",
     "exception": false,
     "start_time": "2022-06-27T17:24:37.088472",
     "status": "completed"
    },
    "tags": []
   },
   "source": [
    "# Forward Selection"
   ]
  },
  {
   "cell_type": "code",
   "execution_count": 9,
   "id": "6ca27810",
   "metadata": {
    "execution": {
     "iopub.execute_input": "2022-06-27T17:24:37.221802Z",
     "iopub.status.busy": "2022-06-27T17:24:37.221029Z",
     "iopub.status.idle": "2022-06-27T17:24:37.225618Z",
     "shell.execute_reply": "2022-06-27T17:24:37.225030Z",
     "shell.execute_reply.started": "2022-06-27T16:15:07.805247Z"
    },
    "papermill": {
     "duration": 0.05462,
     "end_time": "2022-06-27T17:24:37.225780",
     "exception": false,
     "start_time": "2022-06-27T17:24:37.171160",
     "status": "completed"
    },
    "tags": []
   },
   "outputs": [],
   "source": [
    "'''\n",
    "Forward Selection function\n",
    "'''\n",
    "def forward_selection(base_feats, feat_groups, name):\n",
    "    if base_feats==None:\n",
    "        base_feats = []\n",
    "    hist = []\n",
    "    while len(feat_groups) > 0:\n",
    "        scores = []\n",
    "        for feats in feat_groups:\n",
    "            # calculate CV score\n",
    "            params = {'selected_feats': base_feats + feats, \n",
    "                      'lgbm_var_params': LGBM_VAR_PARAMS, \n",
    "                      'lgbm_fixed_params': LGBM_FIXED_PARAMS, \n",
    "                      'n_estimators': N_ESTIMATORS_FS, \n",
    "                      'early_stopping_rounds': EARLY_STOPPING_ROUNDS_FS}\n",
    "            mean_score = np.mean([train_model(fold, params, 'val_sharpe_only') for fold in range(N_FOLD)])\n",
    "            scores.append(mean_score)\n",
    "            hist.append((mean_score,\n",
    "                         len(base_feats + feats),\n",
    "                         ', '.join(base_feats + feats)\n",
    "                         ))\n",
    "            log(f'Score: {mean_score}; Num features: {len(base_feats + feats)}; Features: {\", \".join(base_feats + feats)}')\n",
    "        # add the new feature (group) which gives minimum score\n",
    "        base_feats += feat_groups[np.argmin(scores)]\n",
    "        # remove the added feature (group) from remaining candidate pool\n",
    "        del feat_groups[np.argmin(scores)]\n",
    "    hist = pd.DataFrame(hist, columns=['score','len_feats','total_feats'])\n",
    "    hist.to_csv(f'fs_hist_{name}.csv', index=False)\n",
    "    return hist"
   ]
  },
  {
   "cell_type": "markdown",
   "id": "4c6c9631",
   "metadata": {
    "papermill": {
     "duration": 0.041698,
     "end_time": "2022-06-27T17:24:37.309279",
     "exception": false,
     "start_time": "2022-06-27T17:24:37.267581",
     "status": "completed"
    },
    "tags": []
   },
   "source": [
    "# Hyperparameter Tuning"
   ]
  },
  {
   "cell_type": "code",
   "execution_count": 10,
   "id": "1eaaa845",
   "metadata": {
    "execution": {
     "iopub.execute_input": "2022-06-27T17:24:37.396396Z",
     "iopub.status.busy": "2022-06-27T17:24:37.395676Z",
     "iopub.status.idle": "2022-06-27T17:24:37.409648Z",
     "shell.execute_reply": "2022-06-27T17:24:37.410182Z",
     "shell.execute_reply.started": "2022-06-27T16:15:07.825941Z"
    },
    "papermill": {
     "duration": 0.059373,
     "end_time": "2022-06-27T17:24:37.410360",
     "exception": false,
     "start_time": "2022-06-27T17:24:37.350987",
     "status": "completed"
    },
    "tags": []
   },
   "outputs": [],
   "source": [
    "'''\n",
    "Hyperparameter Optimization function\n",
    "'''\n",
    "def Objective(trial):\n",
    "    lgbm_var_params = dict(\n",
    "        max_depth = trial.suggest_int('max_depth', 2, 32, log=True),\n",
    "        num_leaves = trial.suggest_int('num_leaves', 16, 64, log=True),\n",
    "        learning_rate = trial.suggest_float(\"learning_rate\", 0.005, 0.2),\n",
    "        min_child_weight = trial.suggest_float(\"min_child_weight\", 1e-3, 4, log=True),\n",
    "        subsample = trial.suggest_float(\"subsample\", 0.5, 1),\n",
    "        subsample_freq = trial.suggest_categorical(\"subsample_freq\", [1,2,4,6,8]),\n",
    "        colsample_bytree = trial.suggest_float(\"colsample_bytree\", 0.5, 1),\n",
    "        reg_alpha = trial.suggest_float(\"reg_alpha\", 1e-2, 16, log=True),\n",
    "        reg_lambda = trial.suggest_float(\"reg_lambda\", 1e-2, 16, log=True),\n",
    "        max_bin = trial.suggest_int('max_bin', 50, 500),\n",
    "    )\n",
    "    \n",
    "    # pack all params\n",
    "    params = {'selected_feats': selected_feats, \n",
    "              'lgbm_var_params': lgbm_var_params, \n",
    "              'lgbm_fixed_params': LGBM_FIXED_PARAMS, \n",
    "              'n_estimators': N_ESTIMATORS_HP, \n",
    "              'early_stopping_rounds': EARLY_STOPPING_ROUNDS_HP}\n",
    "    # return average CV score\n",
    "    cv_score = np.mean([train_model(fold, params, 'val_sharpe_only') for fold in range(N_FOLD)])\n",
    "    return cv_score\n",
    "\n",
    "\n",
    "def optimize_hp():\n",
    "    # run optimization\n",
    "    study = optuna.create_study(direction=\"minimize\", study_name='LGBM optimization')\n",
    "    study.optimize(Objective, timeout=HP_OPT_HRS*60*60)\n",
    "    \n",
    "    # save results\n",
    "    best_params = study.best_params\n",
    "    best_score = study.best_value\n",
    "    log(best_params)\n",
    "    log(f'Best score is {best_score}')\n",
    "    trials = study.trials_dataframe()\n",
    "    trials.to_csv(f'trials.csv', index=False)\n",
    "    save_pkl(best_params, f'best_params')\n",
    "    save_pkl(study, f'study')\n",
    "    \n",
    "    # visualise relationship between parameter and CV score\n",
    "    for c in trials.columns:\n",
    "        if c[:7]=='params_':\n",
    "            new_plot()\n",
    "            trials.plot.scatter(c, 'value')\n",
    "            plt.grid()\n",
    "            plt.title(c)\n",
    "            plt.show()\n",
    "    return best_params"
   ]
  },
  {
   "cell_type": "markdown",
   "id": "25e9fb2b",
   "metadata": {
    "papermill": {
     "duration": 0.041562,
     "end_time": "2022-06-27T17:24:37.493573",
     "exception": false,
     "start_time": "2022-06-27T17:24:37.452011",
     "status": "completed"
    },
    "tags": []
   },
   "source": [
    "# Signal Analysis"
   ]
  },
  {
   "cell_type": "code",
   "execution_count": 11,
   "id": "2b1628a6",
   "metadata": {
    "execution": {
     "iopub.execute_input": "2022-06-27T17:24:37.580165Z",
     "iopub.status.busy": "2022-06-27T17:24:37.579472Z",
     "iopub.status.idle": "2022-06-27T17:24:37.598698Z",
     "shell.execute_reply": "2022-06-27T17:24:37.598134Z",
     "shell.execute_reply.started": "2022-06-27T16:15:07.846662Z"
    },
    "papermill": {
     "duration": 0.063795,
     "end_time": "2022-06-27T17:24:37.598873",
     "exception": false,
     "start_time": "2022-06-27T17:24:37.535078",
     "status": "completed"
    },
    "tags": []
   },
   "outputs": [],
   "source": [
    "def analyze_signal(df):\n",
    "    # preprocess\n",
    "    df.Date = pd.to_datetime(df.Date)\n",
    "    df['rank_pred'] = df.groupby('Date').pred_model.rank(method='first',ascending=True)\n",
    "    df['rank_true'] = df.groupby('Date').target_train.rank(method='first',ascending=True)\n",
    "\n",
    "    # distribution of model prediction\n",
    "    new_plot()\n",
    "    df.pred_model.hist(bins=100)\n",
    "    plt.grid()\n",
    "    plt.title('Distribution of model prediction')\n",
    "\n",
    "    # percentage in correct region\n",
    "    new_plot()\n",
    "    n = 200\n",
    "    top = df.groupby('Date').apply(lambda df: df.loc[lambda x: (x.rank_true>=2000-n) & (x.rank_pred>=2000-n)].shape[0]).divide(n)\n",
    "    bottom = df.groupby('Date').apply(lambda df: df.loc[lambda x: (x.rank_true<=n) & (x.rank_pred<=n)].shape[0]).divide(n)\n",
    "    top.rolling(20).mean().plot(label='top')\n",
    "    bottom.rolling(20).mean().plot(label='bottom')\n",
    "    plt.legend(bbox_to_anchor=(1.1, 1.05))\n",
    "    plt.grid()\n",
    "    plt.title('% in correct region')\n",
    "    log(f'Average % in top 200: {top.mean()}')\n",
    "    log(f'Average % in bottom 200: {bottom.mean()}')\n",
    "\n",
    "    # portfolio return analysis\n",
    "    ret = df.groupby('Date').apply(my_calc_spread_return_per_day, 200, 2)\n",
    "    ret = ret.reset_index().set_index('Date') \\\n",
    "        .assign(short = lambda x: -1 * x.short)\n",
    "\n",
    "    # cumulative returns\n",
    "    new_plot()\n",
    "    ret.long.cumsum().plot(label='long')\n",
    "    ret.short.cumsum().plot(label='short')\n",
    "    ret.net.cumsum().plot(label='net')\n",
    "    plt.legend(bbox_to_anchor=(1.1, 1.05))\n",
    "    plt.grid()\n",
    "    plt.title('Cumulative Returns')\n",
    "    log(f'Mean long returns: {ret.long.mean()}')\n",
    "    log(f'Mean short returns: {ret.short.mean()}')\n",
    "    log(f'Mean net returns: {ret.net.mean()}')\n",
    "\n",
    "    # rolling sharpes\n",
    "    new_plot()\n",
    "    ret.long.rolling(60).apply(lambda s: s.mean()/s.std()).plot(label='long')\n",
    "    ret.short.rolling(60).apply(lambda s: s.mean()/s.std()).plot(label='short')\n",
    "    ret.net.rolling(60).apply(lambda s: s.mean()/s.std()).plot(label='net')\n",
    "    plt.legend(bbox_to_anchor=(1.1, 1.05))\n",
    "    plt.grid()\n",
    "    plt.title('Rolling Sharpes')\n",
    "    log(f'Sharpe of long: {ret.long.mean() / ret.long.std()}')\n",
    "    log(f'Sharpe of short: {ret.short.mean() / ret.short.std()}')\n",
    "    log(f'Sharpe of net: {ret.net.mean() / ret.net.std()}')"
   ]
  },
  {
   "cell_type": "markdown",
   "id": "3390ddf9",
   "metadata": {
    "papermill": {
     "duration": 0.042667,
     "end_time": "2022-06-27T17:24:37.683949",
     "exception": false,
     "start_time": "2022-06-27T17:24:37.641282",
     "status": "completed"
    },
    "tags": []
   },
   "source": [
    "# Execution"
   ]
  },
  {
   "cell_type": "code",
   "execution_count": 12,
   "id": "dd943295",
   "metadata": {
    "execution": {
     "iopub.execute_input": "2022-06-27T17:24:37.772730Z",
     "iopub.status.busy": "2022-06-27T17:24:37.772059Z",
     "iopub.status.idle": "2022-06-27T17:25:30.656299Z",
     "shell.execute_reply": "2022-06-27T17:25:30.656928Z"
    },
    "papermill": {
     "duration": 52.929881,
     "end_time": "2022-06-27T17:25:30.657273",
     "exception": false,
     "start_time": "2022-06-27T17:24:37.727392",
     "status": "completed"
    },
    "tags": []
   },
   "outputs": [
    {
     "data": {
      "text/html": [
       "<div>\n",
       "<style scoped>\n",
       "    .dataframe tbody tr th:only-of-type {\n",
       "        vertical-align: middle;\n",
       "    }\n",
       "\n",
       "    .dataframe tbody tr th {\n",
       "        vertical-align: top;\n",
       "    }\n",
       "\n",
       "    .dataframe thead tr th {\n",
       "        text-align: left;\n",
       "    }\n",
       "\n",
       "    .dataframe thead tr:last-of-type th {\n",
       "        text-align: right;\n",
       "    }\n",
       "</style>\n",
       "<table border=\"1\" class=\"dataframe\">\n",
       "  <thead>\n",
       "    <tr>\n",
       "      <th></th>\n",
       "      <th></th>\n",
       "      <th colspan=\"3\" halign=\"left\">Date</th>\n",
       "    </tr>\n",
       "    <tr>\n",
       "      <th></th>\n",
       "      <th></th>\n",
       "      <th>min</th>\n",
       "      <th>max</th>\n",
       "      <th>nunique</th>\n",
       "    </tr>\n",
       "    <tr>\n",
       "      <th>fold</th>\n",
       "      <th>trn_val</th>\n",
       "      <th></th>\n",
       "      <th></th>\n",
       "      <th></th>\n",
       "    </tr>\n",
       "  </thead>\n",
       "  <tbody>\n",
       "    <tr>\n",
       "      <th rowspan=\"2\" valign=\"top\">0</th>\n",
       "      <th>trn</th>\n",
       "      <td>2019-01-16</td>\n",
       "      <td>2020-01-14</td>\n",
       "      <td>240</td>\n",
       "    </tr>\n",
       "    <tr>\n",
       "      <th>val</th>\n",
       "      <td>2021-03-05</td>\n",
       "      <td>2021-06-02</td>\n",
       "      <td>60</td>\n",
       "    </tr>\n",
       "    <tr>\n",
       "      <th rowspan=\"2\" valign=\"top\">1</th>\n",
       "      <th>trn</th>\n",
       "      <td>2019-07-23</td>\n",
       "      <td>2020-07-16</td>\n",
       "      <td>240</td>\n",
       "    </tr>\n",
       "    <tr>\n",
       "      <th>val</th>\n",
       "      <td>2021-06-03</td>\n",
       "      <td>2021-08-30</td>\n",
       "      <td>60</td>\n",
       "    </tr>\n",
       "    <tr>\n",
       "      <th rowspan=\"2\" valign=\"top\">2</th>\n",
       "      <th>trn</th>\n",
       "      <td>2020-01-30</td>\n",
       "      <td>2021-01-22</td>\n",
       "      <td>240</td>\n",
       "    </tr>\n",
       "    <tr>\n",
       "      <th>val</th>\n",
       "      <td>2021-08-31</td>\n",
       "      <td>2021-11-26</td>\n",
       "      <td>60</td>\n",
       "    </tr>\n",
       "    <tr>\n",
       "      <th rowspan=\"2\" valign=\"top\">3</th>\n",
       "      <th>trn</th>\n",
       "      <td>2020-08-06</td>\n",
       "      <td>2021-07-29</td>\n",
       "      <td>240</td>\n",
       "    </tr>\n",
       "    <tr>\n",
       "      <th>val</th>\n",
       "      <td>2021-11-29</td>\n",
       "      <td>2022-02-25</td>\n",
       "      <td>60</td>\n",
       "    </tr>\n",
       "    <tr>\n",
       "      <th rowspan=\"2\" valign=\"top\">4</th>\n",
       "      <th>trn</th>\n",
       "      <td>2021-02-10</td>\n",
       "      <td>2022-02-02</td>\n",
       "      <td>240</td>\n",
       "    </tr>\n",
       "    <tr>\n",
       "      <th>val</th>\n",
       "      <td>2022-02-28</td>\n",
       "      <td>2022-05-27</td>\n",
       "      <td>60</td>\n",
       "    </tr>\n",
       "  </tbody>\n",
       "</table>\n",
       "</div>"
      ],
      "text/plain": [
       "                   Date                   \n",
       "                    min        max nunique\n",
       "fold trn_val                              \n",
       "0    trn     2019-01-16 2020-01-14     240\n",
       "     val     2021-03-05 2021-06-02      60\n",
       "1    trn     2019-07-23 2020-07-16     240\n",
       "     val     2021-06-03 2021-08-30      60\n",
       "2    trn     2020-01-30 2021-01-22     240\n",
       "     val     2021-08-31 2021-11-26      60\n",
       "3    trn     2020-08-06 2021-07-29     240\n",
       "     val     2021-11-29 2022-02-25      60\n",
       "4    trn     2021-02-10 2022-02-02     240\n",
       "     val     2022-02-28 2022-05-27      60"
      ]
     },
     "metadata": {},
     "output_type": "display_data"
    },
    {
     "name": "stdout",
     "output_type": "stream",
     "text": [
      "CPU times: user 39.1 s, sys: 6.75 s, total: 45.9 s\n",
      "Wall time: 52.8 s\n"
     ]
    }
   ],
   "source": [
    "%%time\n",
    "'''\n",
    "Preprocessing\n",
    "'''\n",
    "# load features\n",
    "path = '../input/jpx-feature-engineering/features'\n",
    "features = pd.concat([pd.concat(load_pkl(f'{path}/{filename}')) for filename in os.listdir(path)]).sort_values('RowId').reset_index(drop=True)\n",
    "\n",
    "# train-val split\n",
    "if SPLIT_METHOD == 'trn_val_split_late_val':\n",
    "    full_data = trn_val_split_late_val(features, val_to_end=False)\n",
    "elif SPLIT_METHOD == 'trn_val_split_even_val':\n",
    "    full_data = trn_val_split_even_val(features, val_to_end=False)\n",
    "display(full_data.groupby(['fold','trn_val']).agg({'Date':['min','max','nunique']}))\n",
    "\n",
    "# add targets\n",
    "targets = pd.concat([pd.read_csv(f'{JPX_PATH}/{folder}/stock_prices.csv', parse_dates=['Date']) for folder in ['train_files', 'supplemental_files']]) \\\n",
    "    .loc[:,['RowId','Target']] \\\n",
    "    .loc[lambda x: x.Target.notnull()] \\\n",
    "    .drop_duplicates() \\\n",
    "    .reset_index(drop=True)\n",
    "full_data = full_data.merge(targets, how='inner', on='RowId')\n",
    "\n",
    "# remove irregular data\n",
    "full_data = full_data.loc[lambda x: x.volatility_1w!=0].reset_index(drop=True)\n",
    "\n",
    "# derive training target\n",
    "full_data['target_train'] = full_data.groupby(['fold','trn_val','Date']).Target.apply(lambda s: (s >= s.quantile(0.5)).astype(int))\n",
    "\n",
    "# release memory\n",
    "del features\n",
    "gc.collect()\n",
    "\n",
    "# define column types\n",
    "id_cols = ['RowId','Date','SecuritiesCode','fold','trn_val']\n",
    "all_features = [c for c in list(full_data) if c not in id_cols and c not in ['target_train','Target']]\n",
    "cat_features = ['AdjustmentFactor','first_div']\n",
    "time_features = [c for c in all_features if '_mkt' in c] + \\\n",
    "                [c for c in all_features if c[:4]=='sec_'] + \\\n",
    "                [c for c in all_features if c[-4:] in ['_sin','_cos']]\n",
    "stock_features = [c for c in all_features if c not in cat_features + time_features]\n",
    "\n",
    "# scaling\n",
    "full_data = jpx_data_scaling(full_data=full_data, scaler=SCALER, daily=SCALE_DAILY)\n",
    "\n",
    "# drop market features\n",
    "if DROP_MARKET_FEATS:\n",
    "    full_data = full_data.drop(time_features, axis=1)\n",
    "    all_features = [c for c in all_features if c not in time_features]\n",
    "\n",
    "# PCA compression\n",
    "if RUN_PCA:\n",
    "    full_data, col_def = pca_compress(full_data)\n",
    "    all_features = col_def['all_features']\n",
    "    stock_features = col_def['stock_features']\n",
    "    time_features = col_def['time_features']"
   ]
  },
  {
   "cell_type": "code",
   "execution_count": 13,
   "id": "362188e3",
   "metadata": {
    "execution": {
     "iopub.execute_input": "2022-06-27T17:25:30.748407Z",
     "iopub.status.busy": "2022-06-27T17:25:30.747346Z",
     "iopub.status.idle": "2022-06-27T17:25:30.754976Z",
     "shell.execute_reply": "2022-06-27T17:25:30.754150Z",
     "shell.execute_reply.started": "2022-06-27T02:11:05.629294Z"
    },
    "papermill": {
     "duration": 0.054678,
     "end_time": "2022-06-27T17:25:30.755183",
     "exception": false,
     "start_time": "2022-06-27T17:25:30.700505",
     "status": "completed"
    },
    "tags": []
   },
   "outputs": [
    {
     "name": "stdout",
     "output_type": "stream",
     "text": [
      "CPU times: user 4 µs, sys: 1 µs, total: 5 µs\n",
      "Wall time: 8.34 µs\n"
     ]
    }
   ],
   "source": [
    "%%time\n",
    "'''\n",
    "Feature importance\n",
    "'''\n",
    "if RUN_IMP:\n",
    "    df_imp_agg = run_feature_importance()"
   ]
  },
  {
   "cell_type": "code",
   "execution_count": 14,
   "id": "63459553",
   "metadata": {
    "execution": {
     "iopub.execute_input": "2022-06-27T17:25:30.847870Z",
     "iopub.status.busy": "2022-06-27T17:25:30.847159Z",
     "iopub.status.idle": "2022-06-27T17:25:30.857378Z",
     "shell.execute_reply": "2022-06-27T17:25:30.858625Z",
     "shell.execute_reply.started": "2022-06-27T02:11:05.63863Z"
    },
    "papermill": {
     "duration": 0.058866,
     "end_time": "2022-06-27T17:25:30.858988",
     "exception": false,
     "start_time": "2022-06-27T17:25:30.800122",
     "status": "completed"
    },
    "tags": []
   },
   "outputs": [
    {
     "name": "stdout",
     "output_type": "stream",
     "text": [
      "CPU times: user 6 µs, sys: 0 ns, total: 6 µs\n",
      "Wall time: 10.5 µs\n"
     ]
    }
   ],
   "source": [
    "%%time\n",
    "'''\n",
    "Forward Selection\n",
    "'''\n",
    "if RUN_FS:\n",
    "    \n",
    "    # normal run\n",
    "    if FS_SPLIT == None:\n",
    "        feat_groups = [[x] for x in df_imp_agg.head(N_FEATS_FS).feat]\n",
    "        fs_hist = forward_selection(base_feats=None, feat_groups=feat_groups, name='')\n",
    "    \n",
    "    # FS with splitting stock & market features\n",
    "    elif FS_SPLIT != None:\n",
    "        # running both stock & market feats\n",
    "        if SELECTED_STOCK_FEATS == None:\n",
    "            # FS for stock features\n",
    "            feat_groups = [[x] for x in df_imp_agg.loc[lambda x: ~x.feat.isin(time_features)].head(FS_SPLIT['n_stock_feats']).feat]\n",
    "            fs_hist_stock = forward_selection(base_feats=None, feat_groups=feat_groups, name='stock')\n",
    "            base_feats = fs_hist_stock.sort_values('score', ascending=True).total_feats.iloc[0].split(', ')\n",
    "        \n",
    "        # fixed stock feats and run market feats\n",
    "        else:\n",
    "            base_feats = SELECTED_STOCK_FEATS.copy()\n",
    "        # FS for market features\n",
    "        feat_groups = [[x] for x in df_imp_agg.loc[lambda x: x.feat.isin(time_features)].head(FS_SPLIT['n_market_feats']).feat]\n",
    "        fs_hist = forward_selection(base_feats=base_feats, feat_groups=feat_groups, name='market')\n",
    "        \n",
    "    # output selected features\n",
    "    display(fs_hist.sort_values('score', ascending=True).head(1))\n",
    "    selected_feats = fs_hist.sort_values('score', ascending=True).total_feats.iloc[0].split(', ')\n",
    "\n",
    "else:\n",
    "    # if not running both IMP and FS, output pre-set selected_feats\n",
    "    if not RUN_IMP:\n",
    "        selected_feats = SELECTED_FEATS\n",
    "    # if ran IMP but not FS, output first N important features where N is pre-set\n",
    "    elif RUN_IMP:\n",
    "        selected_feats = [x[0] for x in feat_groups][:N_FEATS_FINAL]"
   ]
  },
  {
   "cell_type": "code",
   "execution_count": 15,
   "id": "a1443f8d",
   "metadata": {
    "execution": {
     "iopub.execute_input": "2022-06-27T17:25:30.956368Z",
     "iopub.status.busy": "2022-06-27T17:25:30.955304Z",
     "iopub.status.idle": "2022-06-27T17:25:30.962239Z",
     "shell.execute_reply": "2022-06-27T17:25:30.963045Z",
     "shell.execute_reply.started": "2022-06-27T02:11:05.659244Z"
    },
    "papermill": {
     "duration": 0.057136,
     "end_time": "2022-06-27T17:25:30.963272",
     "exception": false,
     "start_time": "2022-06-27T17:25:30.906136",
     "status": "completed"
    },
    "tags": []
   },
   "outputs": [
    {
     "name": "stdout",
     "output_type": "stream",
     "text": [
      "CPU times: user 8 µs, sys: 1e+03 ns, total: 9 µs\n",
      "Wall time: 12.6 µs\n"
     ]
    }
   ],
   "source": [
    "%%time\n",
    "'''\n",
    "Hyperparameter tuning\n",
    "'''\n",
    "if RUN_HP:\n",
    "    # run optimization\n",
    "    best_params = optimize_hp()\n",
    "    \n",
    "else:\n",
    "    # if not running HP, use pre-set best parameters\n",
    "    best_params = BEST_PARAMS"
   ]
  },
  {
   "cell_type": "code",
   "execution_count": 16,
   "id": "55e6ee1e",
   "metadata": {
    "execution": {
     "iopub.execute_input": "2022-06-27T17:25:31.057240Z",
     "iopub.status.busy": "2022-06-27T17:25:31.056168Z",
     "iopub.status.idle": "2022-06-27T17:29:51.297983Z",
     "shell.execute_reply": "2022-06-27T17:29:51.298769Z",
     "shell.execute_reply.started": "2022-06-27T02:11:05.680037Z"
    },
    "papermill": {
     "duration": 260.29098,
     "end_time": "2022-06-27T17:29:51.299123",
     "exception": false,
     "start_time": "2022-06-27T17:25:31.008143",
     "status": "completed"
    },
    "tags": []
   },
   "outputs": [
    {
     "name": "stdout",
     "output_type": "stream",
     "text": [
      "[2022-06-28 01:29:51] Folds best iterations: [10, 7, 17, 8, 2, 20, 22, 32, 35, 2, 18, 24, 32, 25, 2, 10, 21, 29, 48, 7, 13, 29, 25, 24, 4]\n",
      "[2022-06-28 01:29:51] Folds average num unique values in train: [801.1833333333333, 540.4041666666667, 1237.0625, 491.97083333333336, 71.7, 1663.6875, 1623.9166666666667, 1792.7958333333333, 1841.2625, 81.32083333333334, 1461.525, 1817.3875, 1821.8, 1717.2041666666667, 94.0375, 977.7, 1531.3, 1866.3916666666667, 1978.8875, 658.9375, 1083.625, 1869.1875, 1686.2166666666667, 1613.4875, 223.89583333333334]\n",
      "[2022-06-28 01:29:51] Folds average num unique values in validation: [805.3166666666667, 530.4833333333333, 1004.0, 420.15, 66.85, 1730.2333333333333, 1615.4166666666667, 1575.8666666666666, 1744.05, 80.61666666666666, 1455.9833333333333, 1858.8666666666666, 1695.9, 1636.1166666666666, 104.08333333333333, 973.8166666666667, 1503.6333333333334, 1891.85, 1965.55, 631.9166666666666, 1070.3333333333333, 1900.0833333333333, 1599.75, 1615.3, 217.5]\n",
      "[2022-06-28 01:29:51] Folds scores: [0.6923540761546128, 0.69298115073671, 0.692465510617465, 0.692650087325728, 0.693512146986447, 0.6924207036125563, 0.6927570972881937, 0.6915567586299378, 0.6915793334610286, 0.6933670805873495, 0.6922036069138312, 0.6924572164985244, 0.691528511508532, 0.6922698552828038, 0.6936360339360058, 0.6926185715906474, 0.6929066798593997, 0.6918827999314527, 0.6921240716694351, 0.6931479123868234, 0.6924442484389217, 0.6924288771389147, 0.6921008558046159, 0.6923294448722445, 0.6934276448358542]\n",
      "[2022-06-28 01:29:51] Folds sharpes: [0.08728683996004392, 0.02863221013639873, 0.14371768634677104, 0.3762346651261732, -0.005210694163346363, 0.17502621817284897, 0.22953825768656705, 0.16453389261393314, 0.5134940057931504, 0.003322668156167864, 0.1825252369862496, 0.18765737250805137, 0.1697300863553515, 0.374737012039325, -0.0190021858292478, 0.05383804390136908, 0.08859205912740449, 0.17988473147355932, 0.3559955041470821, 0.04853360707938731, 0.069331548541809, 0.22656929694619288, 0.03627743971158469, 0.25858179292817085, -0.04011283341251737]\n",
      "[2022-06-28 01:29:51] CV score: 0.6925260110427215\n",
      "[2022-06-28 01:29:51] CV sharpe: 0.1555885784932992\n"
     ]
    }
   ],
   "source": [
    "'''\n",
    "Re-fit best model\n",
    "'''\n",
    "params = {'selected_feats': selected_feats, \n",
    "          'lgbm_var_params': best_params.copy(), \n",
    "          'lgbm_fixed_params': LGBM_FIXED_PARAMS, \n",
    "          'n_estimators': N_ESTIMATORS_REFIT, \n",
    "          'early_stopping_rounds': EARLY_STOPPING_ROUNDS_REFIT}\n",
    "\n",
    "outputs = []\n",
    "for seed in SEEDS:\n",
    "    SEED = int(seed)\n",
    "    full_data = full_data.groupby(['fold','trn_val']).sample(frac=1.0, random_state=SEED)\n",
    "    for fold in range(N_FOLD):\n",
    "        outputs.append(train_model(fold, params, 'normal'))\n",
    "    \n",
    "cv_score = np.mean([x['best_score_'] for x in outputs])\n",
    "cv_sharpe = np.mean([x['sharpe']['val'] for x in outputs])\n",
    "log(f\"Folds best iterations: {[x['best_iteration_'] for x in outputs]}\")\n",
    "log(f\"Folds average num unique values in train: {[x['n_uniq_trn'] for x in outputs]}\")\n",
    "log(f\"Folds average num unique values in validation: {[x['n_uniq_val'] for x in outputs]}\")\n",
    "log(f\"Folds scores: {[x['best_score_'] for x in outputs]}\")\n",
    "log(f\"Folds sharpes: {[x['sharpe']['val'] for x in outputs]}\")\n",
    "log(f'CV score: {cv_score}')\n",
    "log(f'CV sharpe: {cv_sharpe}')"
   ]
  },
  {
   "cell_type": "code",
   "execution_count": 17,
   "id": "65ef524c",
   "metadata": {
    "execution": {
     "iopub.execute_input": "2022-06-27T17:29:51.393534Z",
     "iopub.status.busy": "2022-06-27T17:29:51.392791Z",
     "iopub.status.idle": "2022-06-27T17:29:57.986432Z",
     "shell.execute_reply": "2022-06-27T17:29:57.986935Z",
     "shell.execute_reply.started": "2022-06-27T02:15:23.709678Z"
    },
    "papermill": {
     "duration": 6.642095,
     "end_time": "2022-06-27T17:29:57.987137",
     "exception": false,
     "start_time": "2022-06-27T17:29:51.345042",
     "status": "completed"
    },
    "tags": []
   },
   "outputs": [
    {
     "name": "stdout",
     "output_type": "stream",
     "text": [
      "[2022-06-28 01:29:55] Average % in top 200: 0.10703333333333336\n",
      "[2022-06-28 01:29:55] Average % in bottom 200: 0.10083333333333332\n",
      "[2022-06-28 01:29:56] Mean long returns: 0.1634426234544423\n",
      "[2022-06-28 01:29:56] Mean short returns: 0.201621025967992\n",
      "[2022-06-28 01:29:56] Mean net returns: 0.36506364942243424\n",
      "[2022-06-28 01:29:56] Sharpe of long: 0.06870406030689864\n",
      "[2022-06-28 01:29:56] Sharpe of short: 0.07760471405375041\n",
      "[2022-06-28 01:29:56] Sharpe of net: 0.1932572805017757\n"
     ]
    },
    {
     "data": {
      "image/png": "[encoded data removed]",
      "text/plain": [
       "<Figure size 432x288 with 1 Axes>"
      ]
     },
     "metadata": {
      "needs_background": "light"
     },
     "output_type": "display_data"
    },
    {
     "data": {
      "image/png": "[encoded data removed]",
      "text/plain": [
       "<Figure size 432x288 with 1 Axes>"
      ]
     },
     "metadata": {
      "needs_background": "light"
     },
     "output_type": "display_data"
    },
    {
     "data": {
      "image/png": "[encoded data removed]",
      "text/plain": [
       "<Figure size 432x288 with 1 Axes>"
      ]
     },
     "metadata": {
      "needs_background": "light"
     },
     "output_type": "display_data"
    },
    {
     "data": {
      "image/png": "[encoded data removed]",
      "text/plain": [
       "<Figure size 432x288 with 1 Axes>"
      ]
     },
     "metadata": {
      "needs_background": "light"
     },
     "output_type": "display_data"
    }
   ],
   "source": [
    "'''\n",
    "Signal Analysis (before optimization)\n",
    "'''\n",
    "df_pred_val = pd.concat([x['df_pred_val'] for x in outputs]).reset_index(drop=True)\n",
    "df_pred_val = df_pred_val.groupby(['RowId','Date','SecuritiesCode']).mean().reset_index()\n",
    "df_pred_val['Rank'] = df_pred_val.groupby('Date').pred_model.rank(method='first', ascending=False).astype(int) - 1\n",
    "analyze_signal(df_pred_val)"
   ]
  },
  {
   "cell_type": "code",
   "execution_count": 18,
   "id": "3a9265fb",
   "metadata": {
    "execution": {
     "iopub.execute_input": "2022-06-27T17:29:58.110317Z",
     "iopub.status.busy": "2022-06-27T17:29:58.102704Z",
     "iopub.status.idle": "2022-06-27T18:28:13.032428Z",
     "shell.execute_reply": "2022-06-27T18:28:13.031492Z",
     "shell.execute_reply.started": "2022-06-27T02:15:30.357266Z"
    },
    "papermill": {
     "duration": 3494.993818,
     "end_time": "2022-06-27T18:28:13.032637",
     "exception": false,
     "start_time": "2022-06-27T17:29:58.038819",
     "status": "completed"
    },
    "tags": []
   },
   "outputs": [
    {
     "name": "stdout",
     "output_type": "stream",
     "text": [
      "[2022-06-28 02:27:49] Sharpe after demean: 0.18430684579299275\n"
     ]
    },
    {
     "data": {
      "text/html": [
       "<div>\n",
       "<style scoped>\n",
       "    .dataframe tbody tr th:only-of-type {\n",
       "        vertical-align: middle;\n",
       "    }\n",
       "\n",
       "    .dataframe tbody tr th {\n",
       "        vertical-align: top;\n",
       "    }\n",
       "\n",
       "    .dataframe thead th {\n",
       "        text-align: right;\n",
       "    }\n",
       "</style>\n",
       "<table border=\"1\" class=\"dataframe\">\n",
       "  <thead>\n",
       "    <tr style=\"text-align: right;\">\n",
       "      <th></th>\n",
       "      <th>p</th>\n",
       "      <th>sharpe</th>\n",
       "    </tr>\n",
       "  </thead>\n",
       "  <tbody>\n",
       "    <tr>\n",
       "      <th>7</th>\n",
       "      <td>1.105263</td>\n",
       "      <td>0.240367</td>\n",
       "    </tr>\n",
       "    <tr>\n",
       "      <th>10</th>\n",
       "      <td>1.578947</td>\n",
       "      <td>0.238383</td>\n",
       "    </tr>\n",
       "    <tr>\n",
       "      <th>8</th>\n",
       "      <td>1.263158</td>\n",
       "      <td>0.238195</td>\n",
       "    </tr>\n",
       "    <tr>\n",
       "      <th>9</th>\n",
       "      <td>1.421053</td>\n",
       "      <td>0.237581</td>\n",
       "    </tr>\n",
       "    <tr>\n",
       "      <th>11</th>\n",
       "      <td>1.736842</td>\n",
       "      <td>0.232590</td>\n",
       "    </tr>\n",
       "    <tr>\n",
       "      <th>6</th>\n",
       "      <td>0.947368</td>\n",
       "      <td>0.232290</td>\n",
       "    </tr>\n",
       "    <tr>\n",
       "      <th>13</th>\n",
       "      <td>2.052632</td>\n",
       "      <td>0.231221</td>\n",
       "    </tr>\n",
       "    <tr>\n",
       "      <th>14</th>\n",
       "      <td>2.210526</td>\n",
       "      <td>0.229350</td>\n",
       "    </tr>\n",
       "    <tr>\n",
       "      <th>12</th>\n",
       "      <td>1.894737</td>\n",
       "      <td>0.227947</td>\n",
       "    </tr>\n",
       "    <tr>\n",
       "      <th>16</th>\n",
       "      <td>2.526316</td>\n",
       "      <td>0.227604</td>\n",
       "    </tr>\n",
       "    <tr>\n",
       "      <th>15</th>\n",
       "      <td>2.368421</td>\n",
       "      <td>0.227118</td>\n",
       "    </tr>\n",
       "    <tr>\n",
       "      <th>17</th>\n",
       "      <td>2.684211</td>\n",
       "      <td>0.221575</td>\n",
       "    </tr>\n",
       "    <tr>\n",
       "      <th>19</th>\n",
       "      <td>3.000000</td>\n",
       "      <td>0.221466</td>\n",
       "    </tr>\n",
       "    <tr>\n",
       "      <th>5</th>\n",
       "      <td>0.789474</td>\n",
       "      <td>0.221299</td>\n",
       "    </tr>\n",
       "    <tr>\n",
       "      <th>18</th>\n",
       "      <td>2.842105</td>\n",
       "      <td>0.221110</td>\n",
       "    </tr>\n",
       "    <tr>\n",
       "      <th>4</th>\n",
       "      <td>0.631579</td>\n",
       "      <td>0.215179</td>\n",
       "    </tr>\n",
       "    <tr>\n",
       "      <th>3</th>\n",
       "      <td>0.473684</td>\n",
       "      <td>0.210858</td>\n",
       "    </tr>\n",
       "    <tr>\n",
       "      <th>2</th>\n",
       "      <td>0.315789</td>\n",
       "      <td>0.201499</td>\n",
       "    </tr>\n",
       "    <tr>\n",
       "      <th>1</th>\n",
       "      <td>0.157895</td>\n",
       "      <td>0.188419</td>\n",
       "    </tr>\n",
       "    <tr>\n",
       "      <th>0</th>\n",
       "      <td>0.000000</td>\n",
       "      <td>0.184678</td>\n",
       "    </tr>\n",
       "  </tbody>\n",
       "</table>\n",
       "</div>"
      ],
      "text/plain": [
       "           p    sharpe\n",
       "7   1.105263  0.240367\n",
       "10  1.578947  0.238383\n",
       "8   1.263158  0.238195\n",
       "9   1.421053  0.237581\n",
       "11  1.736842  0.232590\n",
       "6   0.947368  0.232290\n",
       "13  2.052632  0.231221\n",
       "14  2.210526  0.229350\n",
       "12  1.894737  0.227947\n",
       "16  2.526316  0.227604\n",
       "15  2.368421  0.227118\n",
       "17  2.684211  0.221575\n",
       "19  3.000000  0.221466\n",
       "5   0.789474  0.221299\n",
       "18  2.842105  0.221110\n",
       "4   0.631579  0.215179\n",
       "3   0.473684  0.210858\n",
       "2   0.315789  0.201499\n",
       "1   0.157895  0.188419\n",
       "0   0.000000  0.184678"
      ]
     },
     "metadata": {},
     "output_type": "display_data"
    },
    {
     "name": "stdout",
     "output_type": "stream",
     "text": [
      "[2022-06-28 02:28:13] Sharpe after volatility penalty: 0.2403666310603278\n"
     ]
    }
   ],
   "source": [
    "# signal demean\n",
    "ret = pd.concat([pd.read_csv(f'{JPX_PATH}/train_files/stock_prices.csv'),\n",
    "                 pd.read_csv(f'{JPX_PATH}/supplemental_files/stock_prices.csv')]) \\\n",
    "    .sort_values(['Date','SecuritiesCode']) \\\n",
    "    .assign(ret = lambda x: x.groupby('SecuritiesCode').Close.pct_change()) \\\n",
    "    .loc[:, ['Date','SecuritiesCode','ret']] \\\n",
    "    .dropna() \\\n",
    "    .reset_index(drop=True)\n",
    "\n",
    "def get_stock_clust(ret, date, n_day, stock_list):\n",
    "    # raw correlation table\n",
    "    corr = ret.loc[lambda x: pd.to_datetime(x.Date)<=date].pivot(index='Date', columns='SecuritiesCode', values='ret').tail(n_day).corr()\n",
    "    corr = corr.reindex(index=stock_list, columns=stock_list)\n",
    "    cols = [c for c in corr if corr[c].notnull().sum()==0]\n",
    "    corr = corr.drop(cols, axis=0).drop(cols, axis=1)\n",
    "    stocks = corr.columns.tolist()\n",
    "\n",
    "    # clustering\n",
    "    pdist = spc.distance.pdist(corr.values)\n",
    "    linkage = spc.linkage(pdist, method='complete')\n",
    "    idx = spc.fcluster(linkage, 0.5 * pdist.max(), 'distance')\n",
    "    stock_corr_clust = pd.DataFrame({'SecuritiesCode':stocks, 'clust':idx}).assign(Date=date).sort_values('clust').reset_index(drop=True)\n",
    "#     clust_map = stock_corr_clust.assign(val=1).pivot('stocks','clust','val').fillna(0).astype(int)\n",
    "    return stock_corr_clust\n",
    "\n",
    "if CLUSTER_DEMEAN:\n",
    "    df_clust = []\n",
    "    for date in df_pred_val.Date.unique():\n",
    "        stock_list = df_pred_val.loc[lambda x: x.Date==date].SecuritiesCode.tolist()\n",
    "        df_clust.append(get_stock_clust(ret, date, CLUST_N_DAY, stock_list))\n",
    "    df_clust = pd.concat(df_clust)\n",
    "    df_pred_val = df_pred_val.merge(df_clust, how='inner', on=['Date','SecuritiesCode'])\n",
    "    clust_mean = df_pred_val.groupby(['Date','clust']).pred_model.mean().reset_index().rename(columns={'pred_model':'pred_model_mean'})\n",
    "    df_pred_val = df_pred_val.merge(clust_mean, how='inner', on=['Date','clust'])\n",
    "    df_pred_val['pred_model_demean'] = df_pred_val.pred_model - df_pred_val.pred_model_mean\n",
    "    df_pred_val['Rank'] = df_pred_val.groupby('Date').pred_model_demean.rank(method='first', ascending=False).astype(int) - 1\n",
    "    log(f'Sharpe after demean: {calc_spread_return_sharpe(df_pred_val)}')\n",
    "\n",
    "# volatility penalty\n",
    "if VOL_PENALTY:\n",
    "    std = ret.pivot(index='Date', columns='SecuritiesCode', values='ret') \\\n",
    "        .rolling(VOL_N_DAY).std() \\\n",
    "        .stack().reset_index() \\\n",
    "        .dropna() \\\n",
    "        .rename(columns={0:'std'}) \\\n",
    "        .assign(Date = lambda x: pd.to_datetime(x.Date))\n",
    "    df_pred_val = df_pred_val.merge(std, how='inner', on=['Date','SecuritiesCode'])\n",
    "    \n",
    "    p_result = []\n",
    "    for p in np.linspace(0,3,20):\n",
    "        df_pred_val['pred_model_vol_penalty'] = df_pred_val.pred_model_demean / df_pred_val['std'].pow(p)\n",
    "        df_pred_val['Rank'] = df_pred_val.groupby('Date').pred_model_vol_penalty.rank(method='first', ascending=False).astype(int) - 1\n",
    "        p_result.append((p, calc_spread_return_sharpe(df_pred_val)))\n",
    "    p_result = pd.DataFrame(p_result, columns=['p','sharpe']).sort_values('sharpe', ascending=False)\n",
    "    display(p_result)\n",
    "    # identify best power and apply\n",
    "    best_p = p_result.sort_values('sharpe', ascending=False).p.iloc[0]\n",
    "    df_pred_val.pred_model_vol_penalty = df_pred_val.pred_model_demean / df_pred_val['std'].pow(best_p)\n",
    "    df_pred_val['Rank'] = df_pred_val.groupby('Date').pred_model_vol_penalty.rank(method='first', ascending=False).astype(int) - 1\n",
    "    log(f'Sharpe after volatility penalty: {calc_spread_return_sharpe(df_pred_val)}')"
   ]
  },
  {
   "cell_type": "code",
   "execution_count": 19,
   "id": "1efb2e01",
   "metadata": {
    "execution": {
     "iopub.execute_input": "2022-06-27T18:28:13.159181Z",
     "iopub.status.busy": "2022-06-27T18:28:13.158179Z",
     "iopub.status.idle": "2022-06-27T18:28:16.555986Z",
     "shell.execute_reply": "2022-06-27T18:28:16.556474Z",
     "shell.execute_reply.started": "2022-06-27T02:16:36.02065Z"
    },
    "papermill": {
     "duration": 3.469501,
     "end_time": "2022-06-27T18:28:16.556634",
     "exception": false,
     "start_time": "2022-06-27T18:28:13.087133",
     "status": "completed"
    },
    "tags": []
   },
   "outputs": [
    {
     "name": "stdout",
     "output_type": "stream",
     "text": [
      "[2022-06-28 02:28:14] Average % in top 200: 0.14636666666666664\n",
      "[2022-06-28 02:28:14] Average % in bottom 200: 0.0875333333333333\n",
      "[2022-06-28 02:28:15] Mean long returns: 0.112625587126536\n",
      "[2022-06-28 02:28:15] Mean short returns: 0.17434956776383181\n",
      "[2022-06-28 02:28:15] Mean net returns: 0.286975154890368\n",
      "[2022-06-28 02:28:15] Sharpe of long: 0.07061064226938236\n",
      "[2022-06-28 02:28:15] Sharpe of short: 0.08446131380568746\n",
      "[2022-06-28 02:28:15] Sharpe of net: 0.2403666310603278\n"
     ]
    },
    {
     "data": {
      "image/png": "[encoded data removed]",
      "text/plain": [
       "<Figure size 432x288 with 1 Axes>"
      ]
     },
     "metadata": {
      "needs_background": "light"
     },
     "output_type": "display_data"
    },
    {
     "data": {
      "image/png": "[encoded data removed]",
      "text/plain": [
       "<Figure size 432x288 with 1 Axes>"
      ]
     },
     "metadata": {
      "needs_background": "light"
     },
     "output_type": "display_data"
    },
    {
     "data": {
      "image/png": "[encoded data removed]",
      "text/plain": [
       "<Figure size 432x288 with 1 Axes>"
      ]
     },
     "metadata": {
      "needs_background": "light"
     },
     "output_type": "display_data"
    },
    {
     "data": {
      "image/png": "[encoded data removed]",
      "text/plain": [
       "<Figure size 432x288 with 1 Axes>"
      ]
     },
     "metadata": {
      "needs_background": "light"
     },
     "output_type": "display_data"
    }
   ],
   "source": [
    "'''\n",
    "Signal Analysis (after optimization)\n",
    "'''\n",
    "analyze_signal(df_pred_val)"
   ]
  },
  {
   "cell_type": "code",
   "execution_count": 20,
   "id": "c8502159",
   "metadata": {
    "execution": {
     "iopub.execute_input": "2022-06-27T18:28:16.681324Z",
     "iopub.status.busy": "2022-06-27T18:28:16.680618Z",
     "iopub.status.idle": "2022-06-27T18:28:16.886862Z",
     "shell.execute_reply": "2022-06-27T18:28:16.886305Z"
    },
    "papermill": {
     "duration": 0.269818,
     "end_time": "2022-06-27T18:28:16.887015",
     "exception": false,
     "start_time": "2022-06-27T18:28:16.617197",
     "status": "completed"
    },
    "tags": []
   },
   "outputs": [],
   "source": [
    "# export validation df\n",
    "df_pred_val.to_feather('df_pred_val')"
   ]
  },
  {
   "cell_type": "markdown",
   "id": "7cbbb4c4",
   "metadata": {
    "papermill": {
     "duration": 0.060245,
     "end_time": "2022-06-27T18:28:17.007765",
     "exception": false,
     "start_time": "2022-06-27T18:28:16.947520",
     "status": "completed"
    },
    "tags": []
   },
   "source": [
    "# Debug"
   ]
  },
  {
   "cell_type": "code",
   "execution_count": null,
   "id": "db9d2197",
   "metadata": {
    "papermill": {
     "duration": 0.061791,
     "end_time": "2022-06-27T18:28:17.131021",
     "exception": false,
     "start_time": "2022-06-27T18:28:17.069230",
     "status": "completed"
    },
    "tags": []
   },
   "outputs": [],
   "source": []
  },
  {
   "cell_type": "code",
   "execution_count": null,
   "id": "1edb0b85",
   "metadata": {
    "papermill": {
     "duration": 0.060504,
     "end_time": "2022-06-27T18:28:17.252232",
     "exception": false,
     "start_time": "2022-06-27T18:28:17.191728",
     "status": "completed"
    },
    "tags": []
   },
   "outputs": [],
   "source": []
  }
 ],
 "metadata": {
  "kernelspec": {
   "display_name": "Python 3",
   "language": "python",
   "name": "python3"
  },
  "language_info": {
   "codemirror_mode": {
    "name": "ipython",
    "version": 3
   },
   "file_extension": ".py",
   "mimetype": "text/x-python",
   "name": "python",
   "nbconvert_exporter": "python",
   "pygments_lexer": "ipython3",
   "version": "3.7.12"
  },
  "papermill": {
   "default_parameters": {},
   "duration": 3851.000481,
   "end_time": "2022-06-27T18:28:19.137792",
   "environment_variables": {},
   "exception": null,
   "input_path": "__notebook__.ipynb",
   "output_path": "__notebook__.ipynb",
   "parameters": {},
   "start_time": "2022-06-27T17:24:08.137311",
   "version": "2.3.3"
  }
 },
 "nbformat": 4,
 "nbformat_minor": 5
}
