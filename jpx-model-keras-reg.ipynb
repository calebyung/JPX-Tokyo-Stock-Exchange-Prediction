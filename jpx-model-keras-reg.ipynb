{
 "cells": [
  {
   "cell_type": "markdown",
   "id": "13edc876",
   "metadata": {
    "papermill": {
     "duration": 0.026239,
     "end_time": "2022-06-23T03:25:27.078025",
     "exception": false,
     "start_time": "2022-06-23T03:25:27.051786",
     "status": "completed"
    },
    "tags": []
   },
   "source": [
    "# Version description\n",
    "- PCA & FS splitting between stock & market feats\n",
    "- Full Run"
   ]
  },
  {
   "cell_type": "code",
   "execution_count": 1,
   "id": "bf0bb85e",
   "metadata": {
    "_cell_guid": "951f04b1-5acc-4336-aa05-ec2ddaf21e51",
    "_kg_hide-input": true,
    "_uuid": "16d6d48d-59d7-47d9-afff-641e8323e11e",
    "collapsed": false,
    "execution": {
     "iopub.execute_input": "2022-06-23T03:25:27.144190Z",
     "iopub.status.busy": "2022-06-23T03:25:27.143309Z",
     "iopub.status.idle": "2022-06-23T03:25:36.394117Z",
     "shell.execute_reply": "2022-06-23T03:25:36.393111Z",
     "shell.execute_reply.started": "2022-06-22T18:18:14.437417Z"
    },
    "jupyter": {
     "outputs_hidden": false
    },
    "papermill": {
     "duration": 9.290639,
     "end_time": "2022-06-23T03:25:36.394277",
     "exception": false,
     "start_time": "2022-06-23T03:25:27.103638",
     "status": "completed"
    },
    "tags": []
   },
   "outputs": [
    {
     "data": {
      "text/html": [
       "<style type='text/css'>\n",
       ".datatable table.frame { margin-bottom: 0; }\n",
       ".datatable table.frame thead { border-bottom: none; }\n",
       ".datatable table.frame tr.coltypes td {  color: #FFFFFF;  line-height: 6px;  padding: 0 0.5em;}\n",
       ".datatable .bool    { background: #DDDD99; }\n",
       ".datatable .object  { background: #565656; }\n",
       ".datatable .int     { background: #5D9E5D; }\n",
       ".datatable .float   { background: #4040CC; }\n",
       ".datatable .str     { background: #CC4040; }\n",
       ".datatable .time    { background: #40CC40; }\n",
       ".datatable .row_index {  background: var(--jp-border-color3);  border-right: 1px solid var(--jp-border-color0);  color: var(--jp-ui-font-color3);  font-size: 9px;}\n",
       ".datatable .frame tbody td { text-align: left; }\n",
       ".datatable .frame tr.coltypes .row_index {  background: var(--jp-border-color0);}\n",
       ".datatable th:nth-child(2) { padding-left: 12px; }\n",
       ".datatable .hellipsis {  color: var(--jp-cell-editor-border-color);}\n",
       ".datatable .vellipsis {  background: var(--jp-layout-color0);  color: var(--jp-cell-editor-border-color);}\n",
       ".datatable .na {  color: var(--jp-cell-editor-border-color);  font-size: 80%;}\n",
       ".datatable .sp {  opacity: 0.25;}\n",
       ".datatable .footer { font-size: 9px; }\n",
       ".datatable .frame_dimensions {  background: var(--jp-border-color3);  border-top: 1px solid var(--jp-border-color0);  color: var(--jp-ui-font-color3);  display: inline-block;  opacity: 0.6;  padding: 1px 10px 1px 5px;}\n",
       "</style>\n"
      ],
      "text/plain": [
       "<IPython.core.display.HTML object>"
      ]
     },
     "metadata": {},
     "output_type": "display_data"
    }
   ],
   "source": [
    "# import libraries\n",
    "import warnings\n",
    "warnings.filterwarnings(\"ignore\")\n",
    "warnings.simplefilter(action='ignore', category=FutureWarning)\n",
    "import os\n",
    "from os.path import isfile, isdir, join\n",
    "import numpy as np\n",
    "import pandas as pd\n",
    "from datetime import datetime, date\n",
    "from dateutil.relativedelta import relativedelta\n",
    "import re\n",
    "from IPython.display import display\n",
    "from zipfile import ZipFile\n",
    "import pickle\n",
    "import unicodedata\n",
    "import pytz\n",
    "from joblib import Parallel, delayed\n",
    "import shutil\n",
    "import difflib\n",
    "import random\n",
    "import math\n",
    "from shutil import copyfile\n",
    "import itertools\n",
    "import time\n",
    "from tqdm import tqdm\n",
    "import collections\n",
    "from collections import deque\n",
    "import gc\n",
    "\n",
    "import tensorflow as tf\n",
    "from tensorflow import keras\n",
    "from tensorflow.keras.layers import Activation, Dense, BatchNormalization\n",
    "from tensorflow.keras.models import Sequential\n",
    "from tensorflow.keras import Input\n",
    "from tensorflow.keras.optimizers import Adam\n",
    "\n",
    "from sklearn.decomposition import PCA\n",
    "from sklearn.linear_model import LinearRegression\n",
    "from sklearn.preprocessing import StandardScaler, MinMaxScaler, QuantileTransformer\n",
    "from sklearn.metrics import ndcg_score, accuracy_score, mean_squared_error\n",
    "\n",
    "import lightgbm as lgbm\n",
    "import optuna\n",
    "from optuna import Trial, visualization\n",
    "\n",
    "import matplotlib as mpl\n",
    "from matplotlib import pyplot as plt\n",
    "\n",
    "import jpx_tokyo_market_prediction\n",
    "\n",
    "from utility_script import *\n",
    "# from utility_script_jpx import *\n",
    "\n",
    "pd.set_option('display.max_columns', None)\n",
    "pd.set_option('display.max_colwidth', None)"
   ]
  },
  {
   "cell_type": "code",
   "execution_count": 2,
   "id": "a7e578c9",
   "metadata": {
    "_cell_guid": "5f898435-79c2-4539-88cd-a0bb87b68f60",
    "_uuid": "52554abd-62a0-45ab-baf2-b8249732bbea",
    "collapsed": false,
    "execution": {
     "iopub.execute_input": "2022-06-23T03:25:36.454275Z",
     "iopub.status.busy": "2022-06-23T03:25:36.453411Z",
     "iopub.status.idle": "2022-06-23T03:25:37.822852Z",
     "shell.execute_reply": "2022-06-23T03:25:37.822330Z",
     "shell.execute_reply.started": "2022-06-22T18:18:24.450023Z"
    },
    "jupyter": {
     "outputs_hidden": false
    },
    "papermill": {
     "duration": 1.403822,
     "end_time": "2022-06-23T03:25:37.822979",
     "exception": false,
     "start_time": "2022-06-23T03:25:36.419157",
     "status": "completed"
    },
    "tags": []
   },
   "outputs": [],
   "source": [
    "'''\n",
    "Notebook Parameters\n",
    "'''\n",
    "# basic\n",
    "SEED = 0\n",
    "JPX_PATH = '../input/jpx-tokyo-stock-exchange-prediction'\n",
    "\n",
    "# data sacling\n",
    "SCALER = StandardScaler()\n",
    "SCALE_DAILY = False\n",
    "\n",
    "# feature composition\n",
    "DROP_MARKET_FEATS = False\n",
    "\n",
    "# PCA\n",
    "RUN_PCA = False\n",
    "PCA_SPLIT = True\n",
    "N_COMP = 0.9\n",
    "\n",
    "# target definition\n",
    "RANK_ASCENDING = False # set this to False if model prediction is same direction of Target\n",
    "TARGET_POW = 0\n",
    "\n",
    "# data split\n",
    "N_FOLD = 5\n",
    "TRN_SIZE = 240\n",
    "VAL_SIZE = 60\n",
    "TRN_VAL_GAP = 14\n",
    "SPLIT_METHOD = 'trn_val_split_late_val'\n",
    "\n",
    "# model default params\n",
    "PARAMS = {'var_create_model_params': dict(feature_frac = 0.2,\n",
    "                                        n_hidden_units = 3,\n",
    "                                        double_first = False,\n",
    "                                        learning_rate = 0.01,\n",
    "                                        dropout = 0.8,\n",
    "                                        activation = 'relu'), \n",
    "          'fixed_create_model_params': dict(n_unit_last = 8),\n",
    "          'var_fit_params': dict(batch_size = 1024),\n",
    "          'fixed_fit_params': dict(epochs = 20,\n",
    "                                   es_patience = 20,\n",
    "                                   reduce_patience = 7,\n",
    "                                   reduce_factor = 0.2),\n",
    "         }\n",
    "    \n",
    "# # feature importance\n",
    "# RUN_IMP = True\n",
    "# N_SHUFFLE = 12\n",
    "# N_FEATS_IMP_TEST = 10\n",
    "# N_ESTIMATORS_IMP = 50\n",
    "# EARLY_STOPPING_ROUNDS_IMP = 9999\n",
    "# FEAT_GROUPS = None # fixed output if not running IMP\n",
    "\n",
    "# # forward selection\n",
    "# RUN_FS = True\n",
    "# FS_SPLIT = {'n_stock_feats': 20, 'n_market_feats': 10}\n",
    "# SELECTED_STOCK_FEATS = None\n",
    "# N_ESTIMATORS_FS = 5000\n",
    "# EARLY_STOPPING_ROUNDS_FS = 20\n",
    "# N_FEATS_FS = None # top N features considered for FS based on importance\n",
    "# N_FEATS_FINAL = None # top N features if skipping FS based on importance\n",
    "# SELECTED_FEATS = ''.split(', ') # fixed features if skipping both IMP and FS\n",
    "\n",
    "# hyperparameters tuning\n",
    "RUN_HP = True\n",
    "# N_ESTIMATORS_HP = 5000\n",
    "# EARLY_STOPPING_ROUNDS_HP = 30\n",
    "HP_OPT_HRS = 8\n",
    "BEST_PARAMS = None\n",
    "\n",
    "# # re-fit\n",
    "# N_ESTIMATORS_REFIT = 5000\n",
    "# EARLY_STOPPING_ROUNDS_REFIT = 30\n",
    "\n",
    "# set seed\n",
    "import torch\n",
    "import random\n",
    "import os\n",
    "import numpy as np\n",
    "import tensorflow as tf\n",
    "def seed_everything(seed=SEED):\n",
    "    random.seed(seed)\n",
    "    os.environ['PYTHONHASHSEED'] = str(seed)\n",
    "    np.random.seed(seed)\n",
    "    torch.manual_seed(seed)\n",
    "    torch.cuda.manual_seed(seed)\n",
    "    torch.backends.cudnn.deterministic = True\n",
    "    tf.random.set_seed(SEED)\n",
    "seed_everything()"
   ]
  },
  {
   "cell_type": "markdown",
   "id": "fe18441b",
   "metadata": {
    "papermill": {
     "duration": 0.024117,
     "end_time": "2022-06-23T03:25:37.875105",
     "exception": false,
     "start_time": "2022-06-23T03:25:37.850988",
     "status": "completed"
    },
    "tags": []
   },
   "source": [
    "# Data preprocessing"
   ]
  },
  {
   "cell_type": "code",
   "execution_count": 3,
   "id": "72411c62",
   "metadata": {
    "execution": {
     "iopub.execute_input": "2022-06-23T03:25:37.949150Z",
     "iopub.status.busy": "2022-06-23T03:25:37.948380Z",
     "iopub.status.idle": "2022-06-23T03:25:37.950446Z",
     "shell.execute_reply": "2022-06-23T03:25:37.950868Z",
     "shell.execute_reply.started": "2022-06-22T18:18:25.914071Z"
    },
    "papermill": {
     "duration": 0.052021,
     "end_time": "2022-06-23T03:25:37.951071",
     "exception": false,
     "start_time": "2022-06-23T03:25:37.899050",
     "status": "completed"
    },
    "tags": []
   },
   "outputs": [],
   "source": [
    "'''\n",
    "Train-Val split where validation periods are right after train period\n",
    "'''\n",
    "def trn_val_split_even_val(features, val_to_end):\n",
    "    # define start date of each fold\n",
    "    fold_dates = features.Date.drop_duplicates().reset_index(drop=True)\n",
    "    fold_dates = fold_dates.shift(TRN_SIZE + TRN_VAL_GAP + VAL_SIZE).loc[lambda x: x.notnull()].reset_index(drop=True)\n",
    "    fold_dates = fold_dates.loc[np.linspace(0, fold_dates.shape[0]-1, N_FOLD).astype(int)].reset_index(drop=True)\n",
    "\n",
    "    # create and append train + val data\n",
    "    full_dates = features.Date.drop_duplicates().reset_index(drop=True)\n",
    "    full_data = []\n",
    "    for i, date in enumerate(fold_dates):\n",
    "        dates_trn = full_dates.loc[lambda x: x>=date].head(TRN_SIZE)\n",
    "        if val_to_end==False:\n",
    "            dates_val = full_dates.loc[lambda x: x>=date].shift(-TRN_SIZE).shift(-TRN_VAL_GAP).head(VAL_SIZE)\n",
    "        else:\n",
    "            dates_val = full_dates.loc[lambda x: x>=date].shift(-TRN_SIZE).shift(-TRN_VAL_GAP).loc[lambda x: x.notnull()]\n",
    "        full_data.append(features.loc[lambda x: x.Date.isin(dates_trn)].assign(fold=i, trn_val='trn'))\n",
    "        full_data.append(features.loc[lambda x: x.Date.isin(dates_val)].assign(fold=i, trn_val='val'))\n",
    "    full_data = pd.concat(full_data).reset_index(drop=True)\n",
    "    return full_data\n",
    "\n",
    "\n",
    "'''\n",
    "Train-Val split where validation periods are farthest in future\n",
    "'''\n",
    "def trn_val_split_late_val(features, val_to_end):\n",
    "    # define start date of each fold\n",
    "    fold_dates = features.Date.drop_duplicates().reset_index(drop=True)\n",
    "    fold_dates = fold_dates.shift(TRN_SIZE + TRN_VAL_GAP + VAL_SIZE).loc[lambda x: x.notnull()].reset_index(drop=True)\n",
    "    fold_dates = fold_dates.loc[np.linspace(0, fold_dates.shape[0]-1, N_FOLD).astype(int)].reset_index(drop=True)\n",
    "\n",
    "    # create and append train + val data\n",
    "    full_dates = features.Date.drop_duplicates().reset_index(drop=True)\n",
    "    val_dates_list = full_dates.tail(VAL_SIZE * N_FOLD).values.reshape(N_FOLD, -1)\n",
    "    full_data = []\n",
    "    for i, date in enumerate(fold_dates):\n",
    "        dates_trn = full_dates.loc[lambda x: x>=date].head(TRN_SIZE)\n",
    "        if val_to_end==False:\n",
    "            dates_val = val_dates_list[i]\n",
    "        else:\n",
    "            dates_val = np.concatenate(val_dates_list[i:])\n",
    "        full_data.append(features.loc[lambda x: x.Date.isin(dates_trn)].assign(fold=i, trn_val='trn'))\n",
    "        full_data.append(features.loc[lambda x: x.Date.isin(dates_val)].assign(fold=i, trn_val='val'))\n",
    "    full_data = pd.concat(full_data).reset_index(drop=True)\n",
    "    return full_data"
   ]
  },
  {
   "cell_type": "code",
   "execution_count": 4,
   "id": "2e8cc425",
   "metadata": {
    "execution": {
     "iopub.execute_input": "2022-06-23T03:25:38.012679Z",
     "iopub.status.busy": "2022-06-23T03:25:38.011874Z",
     "iopub.status.idle": "2022-06-23T03:25:38.013573Z",
     "shell.execute_reply": "2022-06-23T03:25:38.014405Z",
     "shell.execute_reply.started": "2022-06-22T18:18:25.933694Z"
    },
    "papermill": {
     "duration": 0.038514,
     "end_time": "2022-06-23T03:25:38.014531",
     "exception": false,
     "start_time": "2022-06-23T03:25:37.976017",
     "status": "completed"
    },
    "tags": []
   },
   "outputs": [],
   "source": [
    "'''\n",
    "Function to scale the features\n",
    "'''\n",
    "def jpx_data_scaling(full_data, scaler, daily):\n",
    "    feats = time_features + stock_features\n",
    "    \n",
    "    if daily==False:\n",
    "        data_scaled = []\n",
    "        for fold in range(N_FOLD):\n",
    "            # locate train and val datasets\n",
    "            data_trn = full_data.loc[lambda x: (x.fold==fold) & (x.trn_val=='trn')]\n",
    "            data_val = full_data.loc[lambda x: (x.fold==fold) & (x.trn_val=='val')]\n",
    "            # fit scaler\n",
    "            scaler = scaler.fit(data_trn[feats])\n",
    "            save_pkl(scaler, f'scaler{fold}')\n",
    "            # transform data\n",
    "            data_trn[feats] = scaler.transform(data_trn[feats]).astype(np.float32)\n",
    "            data_val[feats] = scaler.transform(data_val[feats]).astype(np.float32)\n",
    "            # store transformed data\n",
    "            data_scaled.append(data_trn)\n",
    "            data_scaled.append(data_val)\n",
    "        data_scaled = pd.concat(data_scaled).reset_index(drop=True)\n",
    "            \n",
    "    elif daily==True:\n",
    "        # scale stock features for each day\n",
    "        def transform_data(df, scaler, feats):\n",
    "            df[feats] = scaler.fit_transform(df[feats]).astype(np.float32)\n",
    "            return df\n",
    "        full_data = full_data.groupby(['fold','trn_val','Date']).apply(lambda df: transform_data(df, scaler, stock_features))\n",
    "        # then scale time features across days\n",
    "        data_scaled = []\n",
    "        for fold in range(N_FOLD):\n",
    "            # locate train and val datasets\n",
    "            data_trn = full_data.loc[lambda x: (x.fold==fold) & (x.trn_val=='trn')]\n",
    "            data_val = full_data.loc[lambda x: (x.fold==fold) & (x.trn_val=='val')]\n",
    "            # fit scaler\n",
    "            scaler = scaler.fit(data_trn[time_features])\n",
    "            save_pkl(scaler, f'scaler{fold}')\n",
    "            # transform data\n",
    "            data_trn[time_features] = scaler.transform(data_trn[time_features]).astype(np.float32)\n",
    "            data_val[time_features] = scaler.transform(data_val[time_features]).astype(np.float32)\n",
    "            # store transformed data\n",
    "            data_scaled.append(data_trn)\n",
    "            data_scaled.append(data_val)\n",
    "        data_scaled = pd.concat(data_scaled).reset_index(drop=True)\n",
    "        \n",
    "    return data_scaled"
   ]
  },
  {
   "cell_type": "code",
   "execution_count": 5,
   "id": "d92b75a5",
   "metadata": {
    "execution": {
     "iopub.execute_input": "2022-06-23T03:25:38.085639Z",
     "iopub.status.busy": "2022-06-23T03:25:38.084783Z",
     "iopub.status.idle": "2022-06-23T03:25:38.087139Z",
     "shell.execute_reply": "2022-06-23T03:25:38.086604Z",
     "shell.execute_reply.started": "2022-06-22T18:18:25.952721Z"
    },
    "papermill": {
     "duration": 0.047726,
     "end_time": "2022-06-23T03:25:38.087247",
     "exception": false,
     "start_time": "2022-06-23T03:25:38.039521",
     "status": "completed"
    },
    "tags": []
   },
   "outputs": [],
   "source": [
    "'''\n",
    "PCA Compression\n",
    "'''\n",
    "def pca_compress(full_data):\n",
    "    \n",
    "    if PCA_SPLIT==False:\n",
    "        # fit with one fold of traiing data\n",
    "        pca = PCA(n_components=N_COMP, random_state=SEED)\n",
    "        pca.fit(full_data.loc[lambda x: (x.fold==0) & (x.trn_val=='trn'), all_features])\n",
    "        save_pkl(pca, 'pca')\n",
    "        log(f'PCA shape of components: {pca.components_.shape}')\n",
    "        \n",
    "        # tranform the full dataset\n",
    "        cols = [f'pc{x}' for x in range(pca.components_.shape[0])]\n",
    "        compressed_data = []\n",
    "        for fold in range(N_FOLD):\n",
    "            for trn_val in ['trn','val']:\n",
    "                X = pd.DataFrame(pca.transform(full_data.loc[lambda x: (x.fold==fold) & (x.trn_val==trn_val), all_features]), columns=cols)\n",
    "                header = full_data.loc[lambda x: (x.fold==fold) & (x.trn_val==trn_val), [c for c in full_data.columns if c not in all_features]].reset_index(drop=True)\n",
    "                new_df = pd.concat([header, X], axis=1)\n",
    "                compressed_data.append(new_df)\n",
    "        compressed_data = pd.concat(compressed_data, axis=0).reset_index(drop=True)\n",
    "        col_def = {'all_features': cols,\n",
    "                   'stock_features': None,\n",
    "                   'time_features': None}\n",
    "        \n",
    "    elif PCA_SPLIT==True:\n",
    "        # fit with one fold of traiing data\n",
    "        stock_feats = [c for c in all_features if c not in time_features]\n",
    "        market_feats = [c for c in all_features if c in time_features]\n",
    "        pca_stock = PCA(n_components=N_COMP, random_state=SEED)\n",
    "        pca_market = PCA(n_components=N_COMP, random_state=SEED)\n",
    "        pca_stock.fit(full_data.loc[lambda x: (x.fold==0) & (x.trn_val=='trn'), stock_feats])\n",
    "        pca_market.fit(full_data.loc[lambda x: (x.fold==0) & (x.trn_val=='trn'), market_feats])\n",
    "        save_pkl(pca_stock, 'pca_stock')\n",
    "        save_pkl(pca_market, 'pca_market')\n",
    "        log(f'Stock PCA shape of components: {pca_stock.components_.shape}')\n",
    "        log(f'Market PCA shape of components: {pca_market.components_.shape}')\n",
    "    \n",
    "        # tranform the full dataset\n",
    "        cols_stock = [f'pc_stock{x}' for x in range(pca_stock.components_.shape[0])]\n",
    "        cols_market = [f'pc_market{x}' for x in range(pca_market.components_.shape[0])]\n",
    "        compressed_data = []\n",
    "        for fold in range(N_FOLD):\n",
    "            for trn_val in ['trn','val']:\n",
    "                X_stock = pd.DataFrame(pca_stock.transform(full_data.loc[lambda x: (x.fold==fold) & (x.trn_val==trn_val), stock_feats]), columns=cols_stock)\n",
    "                X_market = pd.DataFrame(pca_market.transform(full_data.loc[lambda x: (x.fold==fold) & (x.trn_val==trn_val), market_feats]), columns=cols_market)\n",
    "                header = full_data.loc[lambda x: (x.fold==fold) & (x.trn_val==trn_val), [c for c in full_data.columns if c not in all_features]].reset_index(drop=True)\n",
    "                new_df = pd.concat([header, X_stock, X_market], axis=1)\n",
    "                compressed_data.append(new_df)\n",
    "        compressed_data = pd.concat(compressed_data, axis=0).reset_index(drop=True)\n",
    "        col_def = {'all_features': cols_stock + cols_market,\n",
    "                   'stock_features': cols_stock,\n",
    "                   'time_features': cols_market}\n",
    "    return compressed_data, col_def"
   ]
  },
  {
   "cell_type": "markdown",
   "id": "8e40bb1b",
   "metadata": {
    "papermill": {
     "duration": 0.023806,
     "end_time": "2022-06-23T03:25:38.135325",
     "exception": false,
     "start_time": "2022-06-23T03:25:38.111519",
     "status": "completed"
    },
    "tags": []
   },
   "source": [
    "# Model Training Functions"
   ]
  },
  {
   "cell_type": "code",
   "execution_count": 6,
   "id": "788afeb2",
   "metadata": {
    "execution": {
     "iopub.execute_input": "2022-06-23T03:25:38.202687Z",
     "iopub.status.busy": "2022-06-23T03:25:38.201939Z",
     "iopub.status.idle": "2022-06-23T03:25:38.204009Z",
     "shell.execute_reply": "2022-06-23T03:25:38.204435Z",
     "shell.execute_reply.started": "2022-06-22T18:18:25.974217Z"
    },
    "papermill": {
     "duration": 0.04561,
     "end_time": "2022-06-23T03:25:38.204555",
     "exception": false,
     "start_time": "2022-06-23T03:25:38.158945",
     "status": "completed"
    },
    "tags": []
   },
   "outputs": [],
   "source": [
    "'''\n",
    "Function to get sub-columns from table for model fitting\n",
    "'''\n",
    "def get_dataset(df, selected_feats, trn_val):\n",
    "    if trn_val=='val':\n",
    "        df = df.groupby('Date').sample(frac=1.0, random_state=SEED)\n",
    "    df = df.reset_index(drop=True)\n",
    "    grp = df.groupby('Date').size().tolist()\n",
    "    qid = df['Date']\n",
    "    X = df[selected_feats]\n",
    "    y = df['target_train']\n",
    "    target = df['Target']\n",
    "    header = df[id_cols]\n",
    "    return X, y, grp, qid, header, target\n",
    "\n",
    "'''\n",
    "Function to predict scores within groups\n",
    "'''\n",
    "def pred_score(model, X):\n",
    "    return pd.Series(model.predict(X).reshape(-1))\n",
    "\n",
    "'''\n",
    "Function to predict rankings within groups\n",
    "'''\n",
    "def pred_rank(model, X, qid):\n",
    "    X_ = X.assign(Date=qid)\n",
    "    rnk = []\n",
    "    for date in X_.Date.unique():\n",
    "        rnk += pd.Series(model.predict_proba(X_.loc[lambda x: x.Date==date].drop('Date',axis=1))[:,1]).rank(method='first').tolist()\n",
    "    return pd.Series(rnk)\n",
    "\n",
    "'''\n",
    "Function to transform model output to rank prediction table\n",
    "'''\n",
    "def get_pred_df(header, pred_model, y_true_train, y_true, rank_ascending):\n",
    "    df_pred = pd.concat([header[['RowId','Date','SecuritiesCode']].assign(Date=lambda x: x.Date.dt.strftime('%Y-%m-%d'), SecuritiesCode=lambda x: x.SecuritiesCode.astype(int)).reset_index(drop=True),\n",
    "                        pd.Series(pred_model).rename('pred_model').reset_index(drop=True),\n",
    "                        y_true_train.reset_index(drop=True),\n",
    "                        y_true.reset_index(drop=True)\n",
    "                        ], axis=1)\n",
    "    df_pred['Rank'] = df_pred.groupby('Date').pred_model.rank(method='first', ascending=rank_ascending).astype(int) - 1\n",
    "    return df_pred\n",
    "\n",
    "'''\n",
    "Official function to calculate Sharpe Ratio given a prediction\n",
    "'''\n",
    "def _calc_spread_return_per_day(df, portfolio_size, toprank_weight_ratio):\n",
    "    assert df['Rank'].min() == 0\n",
    "    assert df['Rank'].max() == len(df['Rank']) - 1\n",
    "    weights = np.linspace(start=toprank_weight_ratio, stop=1, num=portfolio_size)\n",
    "    purchase = (df.sort_values(by='Rank')['Target'][:portfolio_size] * weights).sum() / weights.mean()\n",
    "    short = (df.sort_values(by='Rank', ascending=False)['Target'][:portfolio_size] * weights).sum() / weights.mean()\n",
    "    return purchase - short\n",
    "\n",
    "def my_calc_spread_return_per_day(df, portfolio_size, toprank_weight_ratio):\n",
    "    assert df['Rank'].min() == 0\n",
    "    assert df['Rank'].max() == len(df['Rank']) - 1\n",
    "    weights = np.linspace(start=toprank_weight_ratio, stop=1, num=portfolio_size)\n",
    "    purchase = (df.sort_values(by='Rank')['Target'][:portfolio_size] * weights).sum() / weights.mean()\n",
    "    short = (df.sort_values(by='Rank', ascending=False)['Target'][:portfolio_size] * weights).sum() / weights.mean()\n",
    "    return pd.DataFrame({'long':[purchase],'short':[short],'net':[purchase - short]})\n",
    "\n",
    "def calc_spread_return_sharpe(df: pd.DataFrame, portfolio_size: int = 200, toprank_weight_ratio: float = 2) -> float:\n",
    "    buf = df.groupby('Date').apply(_calc_spread_return_per_day, portfolio_size, toprank_weight_ratio)\n",
    "    sharpe_ratio = buf.mean() / buf.std()\n",
    "    return sharpe_ratio"
   ]
  },
  {
   "cell_type": "code",
   "execution_count": 7,
   "id": "45bc662f",
   "metadata": {
    "execution": {
     "iopub.execute_input": "2022-06-23T03:25:38.262926Z",
     "iopub.status.busy": "2022-06-23T03:25:38.262253Z",
     "iopub.status.idle": "2022-06-23T03:25:38.264763Z",
     "shell.execute_reply": "2022-06-23T03:25:38.264351Z",
     "shell.execute_reply.started": "2022-06-22T18:18:25.997933Z"
    },
    "papermill": {
     "duration": 0.036388,
     "end_time": "2022-06-23T03:25:38.264891",
     "exception": false,
     "start_time": "2022-06-23T03:25:38.228503",
     "status": "completed"
    },
    "tags": []
   },
   "outputs": [],
   "source": [
    "'''\n",
    "NN Model Creation\n",
    "'''\n",
    "def create_nn_model(feature_frac, n_hidden_units, n_unit_last, double_first, learning_rate, dropout, activation): \n",
    "    # input size\n",
    "    n_feats = math.ceil(len(stock_features_ranked) * feature_frac) + math.ceil(len(time_features_ranked) * feature_frac)\n",
    "    \n",
    "    # determine hidden units\n",
    "    if double_first==False:\n",
    "        r = (n_unit_last / n_feats)**(1/(n_hidden_units))\n",
    "        hidden_units = [int(n_feats*r**(i+1)) for i in range(n_hidden_units - 1)] + [n_unit_last]\n",
    "    else:\n",
    "        r = (n_unit_last / (n_feats * 2))**(1/(n_hidden_units - 1))\n",
    "        hidden_units = [int(n_feats*2*r**i) for i in range(n_hidden_units - 1)] + [n_unit_last]\n",
    "\n",
    "    # build model\n",
    "    inputs = keras.Input(shape=(n_feats,))\n",
    "    for i in range(len(hidden_units)):\n",
    "        if i==0:\n",
    "            x = keras.layers.Dense(hidden_units[i], activation=activation)(inputs)\n",
    "        else:\n",
    "            x = keras.layers.Dense(hidden_units[i], activation=activation)(x)\n",
    "        x = keras.layers.Dropout(dropout)(x)\n",
    "        x = keras.layers.BatchNormalization()(x)\n",
    "    outputs = keras.layers.Dense(1, activation='linear')(x)\n",
    "    model = keras.Model(inputs=inputs, outputs=outputs)\n",
    "    model.compile(optimizer=Adam(learning_rate=learning_rate), \n",
    "                  loss='mse', \n",
    "                  metrics=['mse'])\n",
    "    return model"
   ]
  },
  {
   "cell_type": "code",
   "execution_count": 8,
   "id": "b3435729",
   "metadata": {
    "_cell_guid": "b4032fcf-3380-4782-8a11-7617c962a5d2",
    "_uuid": "23cc1ed3-aa0f-4e49-9749-dcf53ada723c",
    "collapsed": false,
    "execution": {
     "iopub.execute_input": "2022-06-23T03:25:38.330263Z",
     "iopub.status.busy": "2022-06-23T03:25:38.329463Z",
     "iopub.status.idle": "2022-06-23T03:25:38.331393Z",
     "shell.execute_reply": "2022-06-23T03:25:38.331796Z",
     "shell.execute_reply.started": "2022-06-22T18:18:26.015289Z"
    },
    "jupyter": {
     "outputs_hidden": false
    },
    "papermill": {
     "duration": 0.042871,
     "end_time": "2022-06-23T03:25:38.331927",
     "exception": false,
     "start_time": "2022-06-23T03:25:38.289056",
     "status": "completed"
    },
    "tags": []
   },
   "outputs": [],
   "source": [
    "'''\n",
    "Training function\n",
    "'''\n",
    "def train_model(fold, params, mode):\n",
    "    \n",
    "    # define selected features\n",
    "    selected_feats = stock_features_ranked[:math.ceil(len(stock_features_ranked) * params['var_create_model_params']['feature_frac'])] + \\\n",
    "                     time_features_ranked[:math.ceil(len(time_features_ranked) * params['var_create_model_params']['feature_frac'])]\n",
    "    \n",
    "    # define dataset\n",
    "    data_trn = full_data.loc[lambda x: (x.fold==fold) & (x.trn_val=='trn')]\n",
    "    data_val = full_data.loc[lambda x: (x.fold==fold) & (x.trn_val=='val')]\n",
    "    X_trn, y_trn, grp_trn, qid_trn, header_trn, target_trn = get_dataset(data_trn, selected_feats, 'trn')\n",
    "    X_val, y_val, grp_val, qid_val, header_val, target_val = get_dataset(data_val, selected_feats, 'val')\n",
    "    \n",
    "    # model fit\n",
    "    es = tf.keras.callbacks.EarlyStopping(monitor = 'val_accuracy', \n",
    "                                          patience = PARAMS['fixed_fit_params']['es_patience'], \n",
    "                                          verbose = 0, \n",
    "                                          mode = 'max', \n",
    "                                          restore_best_weights=True)\n",
    "    plateau = tf.keras.callbacks.ReduceLROnPlateau(monitor = 'val_accuracy', \n",
    "                                                   factor = params['fixed_fit_params']['reduce_factor'], \n",
    "                                                   patience = params['fixed_fit_params']['reduce_patience'], \n",
    "                                                   verbose = 0, \n",
    "                                                   mode = 'max')\n",
    "    model = create_nn_model(**params['var_create_model_params'], **params['fixed_create_model_params'])\n",
    "    hist = model.fit(x = X_trn, \n",
    "              y = y_trn,               \n",
    "              batch_size = params['var_fit_params']['batch_size'],\n",
    "              epochs = params['fixed_fit_params']['epochs'],\n",
    "              validation_data = (X_val, y_val),\n",
    "              callbacks = [es, plateau],\n",
    "              validation_batch_size = y_val.shape[0],\n",
    "              shuffle = True,\n",
    "              verbose = 0)\n",
    "\n",
    "    # output\n",
    "    if mode == 'val_score_only':\n",
    "        output = min(hist.history['val_loss']) # this score is for minimization problem\n",
    "\n",
    "    if mode == 'val_sharpe_only':\n",
    "        pred_val = pred_score(model, X_val)\n",
    "        df_pred_val = get_pred_df(header_val, pred_val, y_val, target_val, RANK_ASCENDING)\n",
    "        sharpe_val = calc_spread_return_sharpe(df_pred_val)\n",
    "        output = sharpe_val * -1 # this score is for minimization problem\n",
    "\n",
    "    if mode == 'normal':\n",
    "        # save model\n",
    "        model.save(f\"./model{fold}.h5\")\n",
    "        # number of distinct predicted values\n",
    "        n_uniq_trn = pd.concat([pred_score(model, X_trn).rename('score'), header_trn], axis=1).groupby('Date').score.nunique().mean()\n",
    "        n_uniq_val = pd.concat([pred_score(model, X_val).rename('score'), header_val], axis=1).groupby('Date').score.nunique().mean()\n",
    "        # prediction\n",
    "        pred_trn = pred_score(model, X_trn)\n",
    "        pred_val = pred_score(model, X_val)\n",
    "        # prediction df\n",
    "        df_pred_trn = get_pred_df(header_trn, pred_trn, y_trn, target_trn, RANK_ASCENDING)\n",
    "        df_pred_val = get_pred_df(header_val, pred_val, y_val, target_val, RANK_ASCENDING)\n",
    "        # sharpe\n",
    "        sharpe_trn = calc_spread_return_sharpe(df_pred_trn)\n",
    "        sharpe_val = calc_spread_return_sharpe(df_pred_val)\n",
    "        # output dict\n",
    "        output = dict(\n",
    "            fold = fold,\n",
    "            params = params,\n",
    "            best_iteration_ = np.argmin(hist.history['val_loss']),\n",
    "            best_score_ = min(hist.history['val_loss']),\n",
    "            sharpe = {'trn': sharpe_trn, 'val': sharpe_val},\n",
    "            ann_sharpe = {'trn': sharpe_trn * np.sqrt(240), 'val': sharpe_val * np.sqrt(240)},\n",
    "            df_pred_val = df_pred_val,\n",
    "            n_uniq_trn = n_uniq_trn,\n",
    "            n_uniq_val = n_uniq_val,\n",
    "        )\n",
    "    return output "
   ]
  },
  {
   "cell_type": "markdown",
   "id": "5b1ffc61",
   "metadata": {
    "papermill": {
     "duration": 0.024667,
     "end_time": "2022-06-23T03:25:38.380397",
     "exception": false,
     "start_time": "2022-06-23T03:25:38.355730",
     "status": "completed"
    },
    "tags": []
   },
   "source": [
    "# Feature Importance"
   ]
  },
  {
   "cell_type": "code",
   "execution_count": 9,
   "id": "71237db5",
   "metadata": {
    "execution": {
     "iopub.execute_input": "2022-06-23T03:25:38.437034Z",
     "iopub.status.busy": "2022-06-23T03:25:38.436284Z",
     "iopub.status.idle": "2022-06-23T03:25:38.438584Z",
     "shell.execute_reply": "2022-06-23T03:25:38.438200Z",
     "shell.execute_reply.started": "2022-06-22T18:18:26.037622Z"
    },
    "papermill": {
     "duration": 0.034579,
     "end_time": "2022-06-23T03:25:38.438684",
     "exception": false,
     "start_time": "2022-06-23T03:25:38.404105",
     "status": "completed"
    },
    "tags": []
   },
   "outputs": [],
   "source": [
    "def run_feature_importance():\n",
    "    # random sampling of features\n",
    "    all_feats = all_features.copy()\n",
    "    feat_groups = []\n",
    "    for i in range(N_SHUFFLE):\n",
    "        random.shuffle(all_feats)\n",
    "        n_groups = math.floor(len(all_feats)/N_FEATS_IMP_TEST)\n",
    "        feat_groups += np.array(all_feats[:N_FEATS_IMP_TEST*n_groups]).reshape(-1,N_FEATS_IMP_TEST).tolist()\n",
    "    log(f'Total number of run: {len(feat_groups)}')\n",
    "    \n",
    "    # calculate feature importance\n",
    "    df_imp = []\n",
    "    for i, group in enumerate(feat_groups):\n",
    "        for fold in range(N_FOLD):\n",
    "            params = {'selected_feats': group, \n",
    "                      'lgbm_var_params': LGBM_VAR_PARAMS,\n",
    "                      'lgbm_fixed_params': LGBM_FIXED_PARAMS, \n",
    "                      'n_estimators': N_ESTIMATORS_IMP,\n",
    "                      'early_stopping_rounds': EARLY_STOPPING_ROUNDS_IMP}\n",
    "            df_imp.append(train_model(fold, params, 'feat_imp'))\n",
    "        log(f'Completed running feature group {i}') if i%10==0 else None\n",
    "    df_imp = pd.concat(df_imp)\n",
    "    df_imp_agg = df_imp.groupby('feat').imp.mean().sort_values(ascending=False).reset_index()\n",
    "    df_imp_agg.to_csv('df_imp_agg.csv', index=False)\n",
    "    display(df_imp_agg.head(10))\n",
    "\n",
    "    # plotting feature importance\n",
    "    df_imp_agg.sort_values('imp', ascending=True).set_index('feat').plot.barh(figsize=(20, 20))\n",
    "    return df_imp_agg"
   ]
  },
  {
   "cell_type": "markdown",
   "id": "b7932a93",
   "metadata": {
    "papermill": {
     "duration": 0.024,
     "end_time": "2022-06-23T03:25:38.486788",
     "exception": false,
     "start_time": "2022-06-23T03:25:38.462788",
     "status": "completed"
    },
    "tags": []
   },
   "source": [
    "# Forward Selection"
   ]
  },
  {
   "cell_type": "code",
   "execution_count": 10,
   "id": "66f7926a",
   "metadata": {
    "execution": {
     "iopub.execute_input": "2022-06-23T03:25:38.543108Z",
     "iopub.status.busy": "2022-06-23T03:25:38.542452Z",
     "iopub.status.idle": "2022-06-23T03:25:38.544672Z",
     "shell.execute_reply": "2022-06-23T03:25:38.545211Z",
     "shell.execute_reply.started": "2022-06-22T18:18:26.052595Z"
    },
    "papermill": {
     "duration": 0.034591,
     "end_time": "2022-06-23T03:25:38.545327",
     "exception": false,
     "start_time": "2022-06-23T03:25:38.510736",
     "status": "completed"
    },
    "tags": []
   },
   "outputs": [],
   "source": [
    "'''\n",
    "Forward Selection function\n",
    "'''\n",
    "def forward_selection(base_feats, feat_groups, name):\n",
    "    if base_feats==None:\n",
    "        base_feats = []\n",
    "    hist = []\n",
    "    while len(feat_groups) > 0:\n",
    "        scores = []\n",
    "        for feats in feat_groups:\n",
    "            # calculate CV score\n",
    "            params = {'selected_feats': base_feats + feats, \n",
    "                      'lgbm_var_params': LGBM_VAR_PARAMS, \n",
    "                      'lgbm_fixed_params': LGBM_FIXED_PARAMS, \n",
    "                      'n_estimators': N_ESTIMATORS_FS, \n",
    "                      'early_stopping_rounds': EARLY_STOPPING_ROUNDS_FS}\n",
    "            mean_score = np.mean([train_model(fold, params, 'val_sharpe_only') for fold in range(N_FOLD)])\n",
    "            scores.append(mean_score)\n",
    "            hist.append((mean_score,\n",
    "                         len(base_feats + feats),\n",
    "                         ', '.join(base_feats + feats)\n",
    "                         ))\n",
    "            log(f'Score: {mean_score}; Num features: {len(base_feats + feats)}; Features: {\", \".join(base_feats + feats)}')\n",
    "        # add the new feature (group) which gives minimum score\n",
    "        base_feats += feat_groups[np.argmin(scores)]\n",
    "        # remove the added feature (group) from remaining candidate pool\n",
    "        del feat_groups[np.argmin(scores)]\n",
    "    hist = pd.DataFrame(hist, columns=['score','len_feats','total_feats'])\n",
    "    hist.to_csv(f'fs_hist_{name}.csv', index=False)\n",
    "    return hist"
   ]
  },
  {
   "cell_type": "markdown",
   "id": "093634a5",
   "metadata": {
    "papermill": {
     "duration": 0.023976,
     "end_time": "2022-06-23T03:25:38.593396",
     "exception": false,
     "start_time": "2022-06-23T03:25:38.569420",
     "status": "completed"
    },
    "tags": []
   },
   "source": [
    "# Hyperparameter Tuning"
   ]
  },
  {
   "cell_type": "code",
   "execution_count": 11,
   "id": "3a15bd6b",
   "metadata": {
    "execution": {
     "iopub.execute_input": "2022-06-23T03:25:38.652418Z",
     "iopub.status.busy": "2022-06-23T03:25:38.651632Z",
     "iopub.status.idle": "2022-06-23T03:25:38.653990Z",
     "shell.execute_reply": "2022-06-23T03:25:38.653550Z",
     "shell.execute_reply.started": "2022-06-22T18:18:26.064917Z"
    },
    "papermill": {
     "duration": 0.037215,
     "end_time": "2022-06-23T03:25:38.654097",
     "exception": false,
     "start_time": "2022-06-23T03:25:38.616882",
     "status": "completed"
    },
    "tags": []
   },
   "outputs": [],
   "source": [
    "'''\n",
    "Hyperparameter Optimization function\n",
    "'''\n",
    "def Objective(trial):\n",
    "    # pack all params\n",
    "    params = {'var_create_model_params': dict(feature_frac = trial.suggest_categorical(\"feature_frac\", [0.2, 0.3, 0.4, 0.5]),\n",
    "                                            n_hidden_units = trial.suggest_categorical(\"n_hidden_units\", [2,3,4,5]),\n",
    "                                            double_first = trial.suggest_categorical(\"double_first\", [True, False]),\n",
    "                                            learning_rate = trial.suggest_float(\"learning_rate\", 0.001, 0.1),\n",
    "                                            dropout = trial.suggest_float(\"dropout\", 0.2, 0.999),\n",
    "                                            activation = trial.suggest_categorical(\"activation\", ['relu','elu','swish'])), \n",
    "              'fixed_create_model_params': PARAMS['fixed_create_model_params'],\n",
    "              'var_fit_params': dict(batch_size = trial.suggest_categorical(\"batch_size\", [512,1024,2048])),\n",
    "              'fixed_fit_params': PARAMS['fixed_fit_params'],\n",
    "             }\n",
    "    # return average CV score\n",
    "    cv_score = np.mean([train_model(fold, params, 'val_sharpe_only') for fold in range(N_FOLD)])\n",
    "    return cv_score\n",
    "\n",
    "\n",
    "def optimize_hp():\n",
    "    # run optimization\n",
    "    study = optuna.create_study(direction=\"minimize\", study_name='NN optimization')\n",
    "    study.optimize(Objective, timeout=HP_OPT_HRS*60*60)\n",
    "    \n",
    "    # save results\n",
    "    best_params = study.best_params\n",
    "    best_score = study.best_value\n",
    "    log(best_params)\n",
    "    log(f'Best score is {best_score}')\n",
    "    trials = study.trials_dataframe()\n",
    "    trials.to_csv(f'trials.csv', index=False)\n",
    "    save_pkl(best_params, f'best_params')\n",
    "    save_pkl(study, f'study')\n",
    "    \n",
    "    # visualise relationship between parameter and CV score\n",
    "    for c in trials.columns:\n",
    "        if c[:7]=='params_':\n",
    "            if trials.dtypes.loc[c]=='bool':\n",
    "                trials[c] = trials[c].astype(float)\n",
    "            new_plot()\n",
    "            print(c)\n",
    "            trials.plot.scatter(c, 'value')\n",
    "            plt.grid()\n",
    "            plt.title(c)\n",
    "            plt.show()\n",
    "    return best_params"
   ]
  },
  {
   "cell_type": "markdown",
   "id": "6b5d39de",
   "metadata": {
    "papermill": {
     "duration": 0.023686,
     "end_time": "2022-06-23T03:25:38.701198",
     "exception": false,
     "start_time": "2022-06-23T03:25:38.677512",
     "status": "completed"
    },
    "tags": []
   },
   "source": [
    "# Signal Analysis"
   ]
  },
  {
   "cell_type": "code",
   "execution_count": 12,
   "id": "c7e8525f",
   "metadata": {
    "execution": {
     "iopub.execute_input": "2022-06-23T03:25:38.765429Z",
     "iopub.status.busy": "2022-06-23T03:25:38.764672Z",
     "iopub.status.idle": "2022-06-23T03:25:38.767288Z",
     "shell.execute_reply": "2022-06-23T03:25:38.766863Z",
     "shell.execute_reply.started": "2022-06-22T18:18:26.080328Z"
    },
    "papermill": {
     "duration": 0.041999,
     "end_time": "2022-06-23T03:25:38.767386",
     "exception": false,
     "start_time": "2022-06-23T03:25:38.725387",
     "status": "completed"
    },
    "tags": []
   },
   "outputs": [],
   "source": [
    "def analyze_signal(outputs):\n",
    "    df = pd.concat([x['df_pred_val'] for x in outputs])\n",
    "    df.Date = pd.to_datetime(df.Date)\n",
    "    df['rank_pred'] = df.groupby('Date').pred_model.rank(method='first',ascending=False)\n",
    "    df['rank_true'] = df.groupby('Date').target_train.rank(method='first',ascending=True)\n",
    "\n",
    "    # distribution of model prediction\n",
    "    new_plot()\n",
    "    df.pred_model.hist(bins=100)\n",
    "    plt.grid()\n",
    "    plt.title('Distribution of model prediction')\n",
    "\n",
    "    # percentage in correct region\n",
    "    new_plot()\n",
    "    n = 200\n",
    "    top = df.groupby('Date').apply(lambda df: df.loc[lambda x: (x.rank_true>=2000-n) & (x.rank_pred>=2000-n)].shape[0]).divide(n)\n",
    "    bottom = df.groupby('Date').apply(lambda df: df.loc[lambda x: (x.rank_true<=n) & (x.rank_pred<=n)].shape[0]).divide(n)\n",
    "    top.rolling(20).mean().plot(label='top')\n",
    "    bottom.rolling(20).mean().plot(label='bottom')\n",
    "    plt.legend(bbox_to_anchor=(1.1, 1.05))\n",
    "    plt.grid()\n",
    "    plt.title('% in correct region')\n",
    "    log(f'Average % in top 200: {top.mean()}')\n",
    "    log(f'Average % in bottom 200: {bottom.mean()}')\n",
    "\n",
    "    # portfolio return analysis\n",
    "    ret = df.groupby('Date').apply(my_calc_spread_return_per_day, 200, 2)\n",
    "    ret = ret.reset_index().set_index('Date') \\\n",
    "        .assign(short = lambda x: -1 * x.short)\n",
    "\n",
    "    # cumulative returns\n",
    "    new_plot()\n",
    "    ret.long.cumsum().plot(label='long')\n",
    "    ret.short.cumsum().plot(label='short')\n",
    "    ret.net.cumsum().plot(label='net')\n",
    "    plt.legend(bbox_to_anchor=(1.1, 1.05))\n",
    "    plt.grid()\n",
    "    plt.title('Cumulative Returns')\n",
    "    log(f'Mean long returns: {ret.long.mean()}')\n",
    "    log(f'Mean short returns: {ret.short.mean()}')\n",
    "    log(f'Mean net returns: {ret.net.mean()}')\n",
    "\n",
    "    # rolling sharpes\n",
    "    new_plot()\n",
    "    ret.long.rolling(60).apply(lambda s: s.mean()/s.std()).plot(label='long')\n",
    "    ret.short.rolling(60).apply(lambda s: s.mean()/s.std()).plot(label='short')\n",
    "    ret.net.rolling(60).apply(lambda s: s.mean()/s.std()).plot(label='net')\n",
    "    plt.legend(bbox_to_anchor=(1.1, 1.05))\n",
    "    plt.grid()\n",
    "    plt.title('Rolling Sharpes')\n",
    "    log(f'Sharpe of long: {ret.long.mean() / ret.long.std()}')\n",
    "    log(f'Sharpe of short: {ret.short.mean() / ret.short.std()}')\n",
    "    log(f'Sharpe of net: {ret.net.mean() / ret.net.std()}')"
   ]
  },
  {
   "cell_type": "markdown",
   "id": "d912635b",
   "metadata": {
    "papermill": {
     "duration": 0.025082,
     "end_time": "2022-06-23T03:25:38.817910",
     "exception": false,
     "start_time": "2022-06-23T03:25:38.792828",
     "status": "completed"
    },
    "tags": []
   },
   "source": [
    "# Execution"
   ]
  },
  {
   "cell_type": "code",
   "execution_count": 13,
   "id": "b60d4e83",
   "metadata": {
    "execution": {
     "iopub.execute_input": "2022-06-23T03:25:38.877268Z",
     "iopub.status.busy": "2022-06-23T03:25:38.876631Z",
     "iopub.status.idle": "2022-06-23T03:26:22.397259Z",
     "shell.execute_reply": "2022-06-23T03:26:22.397937Z",
     "shell.execute_reply.started": "2022-06-22T18:18:26.10091Z"
    },
    "papermill": {
     "duration": 43.556054,
     "end_time": "2022-06-23T03:26:22.398135",
     "exception": false,
     "start_time": "2022-06-23T03:25:38.842081",
     "status": "completed"
    },
    "tags": []
   },
   "outputs": [
    {
     "data": {
      "text/html": [
       "<div>\n",
       "<style scoped>\n",
       "    .dataframe tbody tr th:only-of-type {\n",
       "        vertical-align: middle;\n",
       "    }\n",
       "\n",
       "    .dataframe tbody tr th {\n",
       "        vertical-align: top;\n",
       "    }\n",
       "\n",
       "    .dataframe thead tr th {\n",
       "        text-align: left;\n",
       "    }\n",
       "\n",
       "    .dataframe thead tr:last-of-type th {\n",
       "        text-align: right;\n",
       "    }\n",
       "</style>\n",
       "<table border=\"1\" class=\"dataframe\">\n",
       "  <thead>\n",
       "    <tr>\n",
       "      <th></th>\n",
       "      <th></th>\n",
       "      <th colspan=\"3\" halign=\"left\">Date</th>\n",
       "    </tr>\n",
       "    <tr>\n",
       "      <th></th>\n",
       "      <th></th>\n",
       "      <th>min</th>\n",
       "      <th>max</th>\n",
       "      <th>nunique</th>\n",
       "    </tr>\n",
       "    <tr>\n",
       "      <th>fold</th>\n",
       "      <th>trn_val</th>\n",
       "      <th></th>\n",
       "      <th></th>\n",
       "      <th></th>\n",
       "    </tr>\n",
       "  </thead>\n",
       "  <tbody>\n",
       "    <tr>\n",
       "      <th rowspan=\"2\" valign=\"top\">0</th>\n",
       "      <th>trn</th>\n",
       "      <td>2019-01-16</td>\n",
       "      <td>2020-01-14</td>\n",
       "      <td>240</td>\n",
       "    </tr>\n",
       "    <tr>\n",
       "      <th>val</th>\n",
       "      <td>2021-03-05</td>\n",
       "      <td>2021-06-02</td>\n",
       "      <td>60</td>\n",
       "    </tr>\n",
       "    <tr>\n",
       "      <th rowspan=\"2\" valign=\"top\">1</th>\n",
       "      <th>trn</th>\n",
       "      <td>2019-07-23</td>\n",
       "      <td>2020-07-16</td>\n",
       "      <td>240</td>\n",
       "    </tr>\n",
       "    <tr>\n",
       "      <th>val</th>\n",
       "      <td>2021-06-03</td>\n",
       "      <td>2021-08-30</td>\n",
       "      <td>60</td>\n",
       "    </tr>\n",
       "    <tr>\n",
       "      <th rowspan=\"2\" valign=\"top\">2</th>\n",
       "      <th>trn</th>\n",
       "      <td>2020-01-30</td>\n",
       "      <td>2021-01-22</td>\n",
       "      <td>240</td>\n",
       "    </tr>\n",
       "    <tr>\n",
       "      <th>val</th>\n",
       "      <td>2021-08-31</td>\n",
       "      <td>2021-11-26</td>\n",
       "      <td>60</td>\n",
       "    </tr>\n",
       "    <tr>\n",
       "      <th rowspan=\"2\" valign=\"top\">3</th>\n",
       "      <th>trn</th>\n",
       "      <td>2020-08-06</td>\n",
       "      <td>2021-07-29</td>\n",
       "      <td>240</td>\n",
       "    </tr>\n",
       "    <tr>\n",
       "      <th>val</th>\n",
       "      <td>2021-11-29</td>\n",
       "      <td>2022-02-25</td>\n",
       "      <td>60</td>\n",
       "    </tr>\n",
       "    <tr>\n",
       "      <th rowspan=\"2\" valign=\"top\">4</th>\n",
       "      <th>trn</th>\n",
       "      <td>2021-02-10</td>\n",
       "      <td>2022-02-02</td>\n",
       "      <td>240</td>\n",
       "    </tr>\n",
       "    <tr>\n",
       "      <th>val</th>\n",
       "      <td>2022-02-28</td>\n",
       "      <td>2022-05-27</td>\n",
       "      <td>60</td>\n",
       "    </tr>\n",
       "  </tbody>\n",
       "</table>\n",
       "</div>"
      ],
      "text/plain": [
       "                   Date                   \n",
       "                    min        max nunique\n",
       "fold trn_val                              \n",
       "0    trn     2019-01-16 2020-01-14     240\n",
       "     val     2021-03-05 2021-06-02      60\n",
       "1    trn     2019-07-23 2020-07-16     240\n",
       "     val     2021-06-03 2021-08-30      60\n",
       "2    trn     2020-01-30 2021-01-22     240\n",
       "     val     2021-08-31 2021-11-26      60\n",
       "3    trn     2020-08-06 2021-07-29     240\n",
       "     val     2021-11-29 2022-02-25      60\n",
       "4    trn     2021-02-10 2022-02-02     240\n",
       "     val     2022-02-28 2022-05-27      60"
      ]
     },
     "metadata": {},
     "output_type": "display_data"
    },
    {
     "name": "stdout",
     "output_type": "stream",
     "text": [
      "CPU times: user 32.1 s, sys: 5.08 s, total: 37.2 s\n",
      "Wall time: 43.5 s\n"
     ]
    }
   ],
   "source": [
    "%%time\n",
    "'''\n",
    "Preprocessing\n",
    "'''\n",
    "# load features\n",
    "path = '../input/jpx-feature-engineering/features'\n",
    "features = pd.concat([pd.concat(load_pkl(f'{path}/{filename}')) for filename in os.listdir(path)]).sort_values('RowId').reset_index(drop=True)\n",
    "\n",
    "# train-val split\n",
    "if SPLIT_METHOD == 'trn_val_split_late_val':\n",
    "    full_data = trn_val_split_late_val(features, val_to_end=False)\n",
    "elif SPLIT_METHOD == 'trn_val_split_even_val':\n",
    "    full_data = trn_val_split_even_val(features, val_to_end=False)\n",
    "display(full_data.groupby(['fold','trn_val']).agg({'Date':['min','max','nunique']}))\n",
    "\n",
    "# add targets\n",
    "targets = pd.concat([pd.read_csv(f'{JPX_PATH}/{folder}/stock_prices.csv', parse_dates=['Date']) for folder in ['train_files', 'supplemental_files']]) \\\n",
    "    .loc[:,['RowId','Target']] \\\n",
    "    .loc[lambda x: x.Target.notnull()] \\\n",
    "    .drop_duplicates() \\\n",
    "    .reset_index(drop=True)\n",
    "full_data = full_data.merge(targets, how='inner', on='RowId')\n",
    "\n",
    "# remove irregular data\n",
    "full_data = full_data.loc[lambda x: x.volatility_1w!=0].reset_index(drop=True)\n",
    "\n",
    "# derive training target\n",
    "full_data['target_train'] = full_data.groupby(['fold','trn_val','Date']).Target.apply(lambda s: (s - s.mean()) / s.std())\n",
    "full_data = full_data.loc[lambda x: x.target_train.notnull()].reset_index(drop=True)\n",
    "\n",
    "# release memory\n",
    "del features\n",
    "gc.collect()\n",
    "\n",
    "# define column types\n",
    "id_cols = ['RowId','Date','SecuritiesCode','fold','trn_val']\n",
    "all_features = [c for c in list(full_data) if c not in id_cols and c not in ['target_train','Target']]\n",
    "cat_features = ['AdjustmentFactor','first_div']\n",
    "time_features = [c for c in all_features if '_mkt' in c] + \\\n",
    "                [c for c in all_features if c[:4]=='sec_'] + \\\n",
    "                [c for c in all_features if c[-4:] in ['_sin','_cos']]\n",
    "stock_features = [c for c in all_features if c not in cat_features + time_features]\n",
    "\n",
    "# scaling\n",
    "full_data = jpx_data_scaling(full_data=full_data, scaler=SCALER, daily=SCALE_DAILY)\n",
    "\n",
    "# drop market features\n",
    "if DROP_MARKET_FEATS:\n",
    "    full_data = full_data.drop(time_features, axis=1)\n",
    "    all_features = [c for c in all_features if c not in time_features]\n",
    "\n",
    "# PCA compression\n",
    "if RUN_PCA:\n",
    "    full_data, col_def = pca_compress(full_data)\n",
    "    all_features = col_def['all_features']\n",
    "    stock_features = col_def['stock_features']\n",
    "    time_features = col_def['time_features']"
   ]
  },
  {
   "cell_type": "code",
   "execution_count": 14,
   "id": "5f503ada",
   "metadata": {
    "execution": {
     "iopub.execute_input": "2022-06-23T03:26:22.454967Z",
     "iopub.status.busy": "2022-06-23T03:26:22.454361Z",
     "iopub.status.idle": "2022-06-23T03:26:22.466905Z",
     "shell.execute_reply": "2022-06-23T03:26:22.466224Z",
     "shell.execute_reply.started": "2022-06-22T18:19:09.81964Z"
    },
    "papermill": {
     "duration": 0.04291,
     "end_time": "2022-06-23T03:26:22.467059",
     "exception": false,
     "start_time": "2022-06-23T03:26:22.424149",
     "status": "completed"
    },
    "tags": []
   },
   "outputs": [
    {
     "name": "stdout",
     "output_type": "stream",
     "text": [
      "CPU times: user 3.03 ms, sys: 164 µs, total: 3.19 ms\n",
      "Wall time: 8.41 ms\n"
     ]
    }
   ],
   "source": [
    "%%time\n",
    "'''\n",
    "Feature importance\n",
    "'''\n",
    "# if RUN_IMP:\n",
    "#     df_imp_agg = run_feature_importance()\n",
    "df_imp_agg = pd.read_csv('../input/df-imp-agg-jpx-model-lgbm-reg-v8/df_imp_agg_JPX_Model_LGBM_Reg_v8.csv')\n",
    "stock_features_ranked = [c for c in df_imp_agg.feat if c in stock_features]\n",
    "time_features_ranked = [c for c in df_imp_agg.feat if c in time_features]"
   ]
  },
  {
   "cell_type": "code",
   "execution_count": 15,
   "id": "59df2654",
   "metadata": {
    "execution": {
     "iopub.execute_input": "2022-06-23T03:26:22.526272Z",
     "iopub.status.busy": "2022-06-23T03:26:22.525541Z",
     "iopub.status.idle": "2022-06-23T03:26:22.528423Z",
     "shell.execute_reply": "2022-06-23T03:26:22.527916Z",
     "shell.execute_reply.started": "2022-06-22T18:19:09.837492Z"
    },
    "papermill": {
     "duration": 0.032964,
     "end_time": "2022-06-23T03:26:22.528540",
     "exception": false,
     "start_time": "2022-06-23T03:26:22.495576",
     "status": "completed"
    },
    "tags": []
   },
   "outputs": [],
   "source": [
    "# %%time\n",
    "# '''\n",
    "# Forward Selection\n",
    "# '''\n",
    "# if RUN_FS:\n",
    "    \n",
    "#     # normal run\n",
    "#     if FS_SPLIT == None:\n",
    "#         feat_groups = [[x] for x in df_imp_agg.head(N_FEATS_FS).feat]\n",
    "#         fs_hist = forward_selection(base_feats=None, feat_groups=feat_groups, name='')\n",
    "    \n",
    "#     # FS with splitting stock & market features\n",
    "#     elif FS_SPLIT != None:\n",
    "#         # running both stock & market feats\n",
    "#         if SELECTED_STOCK_FEATS == None:\n",
    "#             # FS for stock features\n",
    "#             feat_groups = [[x] for x in df_imp_agg.loc[lambda x: ~x.feat.isin(time_features)].head(FS_SPLIT['n_stock_feats']).feat]\n",
    "#             fs_hist_stock = forward_selection(base_feats=None, feat_groups=feat_groups, name='stock')\n",
    "#             base_feats = fs_hist_stock.sort_values('score', ascending=True).total_feats.iloc[0].split(', ')\n",
    "        \n",
    "#         # fixed stock feats and run market feats\n",
    "#         else:\n",
    "#             base_feats = SELECTED_STOCK_FEATS.copy()\n",
    "#         # FS for market features\n",
    "#         feat_groups = [[x] for x in df_imp_agg.loc[lambda x: x.feat.isin(time_features)].head(FS_SPLIT['n_market_feats']).feat]\n",
    "#         fs_hist = forward_selection(base_feats=base_feats, feat_groups=feat_groups, name='market')\n",
    "        \n",
    "#     # output selected features\n",
    "#     display(fs_hist.sort_values('score', ascending=True).head(1))\n",
    "#     selected_feats = fs_hist.sort_values('score', ascending=True).total_feats.iloc[0].split(', ')\n",
    "\n",
    "# else:\n",
    "#     # if not running both IMP and FS, output pre-set selected_feats\n",
    "#     if not RUN_IMP:\n",
    "#         selected_feats = SELECTED_FEATS\n",
    "#     # if ran IMP but not FS, output first N important features where N is pre-set\n",
    "#     elif RUN_IMP:\n",
    "#         selected_feats = [x[0] for x in feat_groups][:N_FEATS_FINAL]"
   ]
  },
  {
   "cell_type": "code",
   "execution_count": 16,
   "id": "736d47b2",
   "metadata": {
    "execution": {
     "iopub.execute_input": "2022-06-23T03:26:22.599953Z",
     "iopub.status.busy": "2022-06-23T03:26:22.599130Z",
     "iopub.status.idle": "2022-06-23T11:30:56.713504Z",
     "shell.execute_reply": "2022-06-23T11:30:56.713998Z"
    },
    "papermill": {
     "duration": 29074.159317,
     "end_time": "2022-06-23T11:30:56.714152",
     "exception": false,
     "start_time": "2022-06-23T03:26:22.554835",
     "status": "completed"
    },
    "tags": []
   },
   "outputs": [
    {
     "name": "stderr",
     "output_type": "stream",
     "text": [
      "\u001b[32m[I 2022-06-23 03:26:22,596]\u001b[0m A new study created in memory with name: NN optimization\u001b[0m\n",
      "2022-06-23 03:26:23.816783: I tensorflow/stream_executor/cuda/cuda_gpu_executor.cc:937] successful NUMA node read from SysFS had negative value (-1), but there must be at least one NUMA node, so returning NUMA node zero\n",
      "2022-06-23 03:26:23.818215: I tensorflow/stream_executor/cuda/cuda_gpu_executor.cc:937] successful NUMA node read from SysFS had negative value (-1), but there must be at least one NUMA node, so returning NUMA node zero\n",
      "2022-06-23 03:26:23.818951: I tensorflow/stream_executor/cuda/cuda_gpu_executor.cc:937] successful NUMA node read from SysFS had negative value (-1), but there must be at least one NUMA node, so returning NUMA node zero\n",
      "2022-06-23 03:26:23.819812: I tensorflow/core/platform/cpu_feature_guard.cc:142] This TensorFlow binary is optimized with oneAPI Deep Neural Network Library (oneDNN) to use the following CPU instructions in performance-critical operations:  AVX2 AVX512F FMA\n",
      "To enable them in other operations, rebuild TensorFlow with the appropriate compiler flags.\n",
      "2022-06-23 03:26:23.821021: I tensorflow/stream_executor/cuda/cuda_gpu_executor.cc:937] successful NUMA node read from SysFS had negative value (-1), but there must be at least one NUMA node, so returning NUMA node zero\n",
      "2022-06-23 03:26:23.821700: I tensorflow/stream_executor/cuda/cuda_gpu_executor.cc:937] successful NUMA node read from SysFS had negative value (-1), but there must be at least one NUMA node, so returning NUMA node zero\n",
      "2022-06-23 03:26:23.822503: I tensorflow/stream_executor/cuda/cuda_gpu_executor.cc:937] successful NUMA node read from SysFS had negative value (-1), but there must be at least one NUMA node, so returning NUMA node zero\n",
      "2022-06-23 03:26:28.944211: I tensorflow/stream_executor/cuda/cuda_gpu_executor.cc:937] successful NUMA node read from SysFS had negative value (-1), but there must be at least one NUMA node, so returning NUMA node zero\n",
      "2022-06-23 03:26:28.945108: I tensorflow/stream_executor/cuda/cuda_gpu_executor.cc:937] successful NUMA node read from SysFS had negative value (-1), but there must be at least one NUMA node, so returning NUMA node zero\n",
      "2022-06-23 03:26:28.945757: I tensorflow/stream_executor/cuda/cuda_gpu_executor.cc:937] successful NUMA node read from SysFS had negative value (-1), but there must be at least one NUMA node, so returning NUMA node zero\n",
      "2022-06-23 03:26:28.946361: I tensorflow/core/common_runtime/gpu/gpu_device.cc:1510] Created device /job:localhost/replica:0/task:0/device:GPU:0 with 14951 MB memory:  -> device: 0, name: Tesla P100-PCIE-16GB, pci bus id: 0000:00:04.0, compute capability: 6.0\n",
      "2022-06-23 03:26:29.537719: I tensorflow/compiler/mlir/mlir_graph_optimization_pass.cc:185] None of the MLIR Optimization Passes are enabled (registered 2)\n",
      "\u001b[32m[I 2022-06-23 03:37:05,631]\u001b[0m Trial 0 finished with value: -0.00608843597468011 and parameters: {'feature_frac': 0.2, 'n_hidden_units': 5, 'double_first': False, 'learning_rate': 0.07880042286468375, 'dropout': 0.7444377165662139, 'activation': 'elu', 'batch_size': 512}. Best is trial 0 with value: -0.00608843597468011.\u001b[0m\n",
      "\u001b[32m[I 2022-06-23 03:40:08,071]\u001b[0m Trial 1 finished with value: -0.14028660896677553 and parameters: {'feature_frac': 0.3, 'n_hidden_units': 5, 'double_first': True, 'learning_rate': 0.0116946772912918, 'dropout': 0.274897528867658, 'activation': 'swish', 'batch_size': 2048}. Best is trial 1 with value: -0.14028660896677553.\u001b[0m\n",
      "\u001b[32m[I 2022-06-23 03:47:18,030]\u001b[0m Trial 2 finished with value: 0.0705297818997923 and parameters: {'feature_frac': 0.4, 'n_hidden_units': 3, 'double_first': True, 'learning_rate': 0.07800541627291532, 'dropout': 0.7477705433433661, 'activation': 'relu', 'batch_size': 512}. Best is trial 1 with value: -0.14028660896677553.\u001b[0m\n",
      "\u001b[32m[I 2022-06-23 03:49:26,686]\u001b[0m Trial 3 finished with value: -0.09677625815743397 and parameters: {'feature_frac': 0.5, 'n_hidden_units': 2, 'double_first': True, 'learning_rate': 0.04430266519254106, 'dropout': 0.984628440291422, 'activation': 'swish', 'batch_size': 2048}. Best is trial 1 with value: -0.14028660896677553.\u001b[0m\n",
      "\u001b[32m[I 2022-06-23 03:53:21,550]\u001b[0m Trial 4 finished with value: -0.0807529450113128 and parameters: {'feature_frac': 0.2, 'n_hidden_units': 3, 'double_first': True, 'learning_rate': 0.011469429489858157, 'dropout': 0.34833035694971115, 'activation': 'swish', 'batch_size': 1024}. Best is trial 1 with value: -0.14028660896677553.\u001b[0m\n",
      "\u001b[32m[I 2022-06-23 03:57:19,395]\u001b[0m Trial 5 finished with value: -0.07155655265870704 and parameters: {'feature_frac': 0.5, 'n_hidden_units': 3, 'double_first': False, 'learning_rate': 0.051166209099796224, 'dropout': 0.982472528914792, 'activation': 'elu', 'batch_size': 1024}. Best is trial 1 with value: -0.14028660896677553.\u001b[0m\n",
      "\u001b[32m[I 2022-06-23 04:03:38,653]\u001b[0m Trial 6 finished with value: 0.011095133691583343 and parameters: {'feature_frac': 0.4, 'n_hidden_units': 5, 'double_first': True, 'learning_rate': 0.06438190283035831, 'dropout': 0.6043901736764441, 'activation': 'swish', 'batch_size': 1024}. Best is trial 1 with value: -0.14028660896677553.\u001b[0m\n",
      "\u001b[32m[I 2022-06-23 04:06:40,509]\u001b[0m Trial 7 finished with value: -0.0995493906497275 and parameters: {'feature_frac': 0.5, 'n_hidden_units': 5, 'double_first': False, 'learning_rate': 0.033936852725725004, 'dropout': 0.22869703780763803, 'activation': 'swish', 'batch_size': 2048}. Best is trial 1 with value: -0.14028660896677553.\u001b[0m\n",
      "\u001b[32m[I 2022-06-23 04:10:18,682]\u001b[0m Trial 8 finished with value: -0.20343675988978607 and parameters: {'feature_frac': 0.3, 'n_hidden_units': 2, 'double_first': True, 'learning_rate': 0.03126768135673176, 'dropout': 0.4417234058303855, 'activation': 'relu', 'batch_size': 1024}. Best is trial 8 with value: -0.20343675988978607.\u001b[0m\n",
      "\u001b[32m[I 2022-06-23 04:17:33,637]\u001b[0m Trial 9 finished with value: -0.06311449618500788 and parameters: {'feature_frac': 0.4, 'n_hidden_units': 4, 'double_first': True, 'learning_rate': 0.03317634620616955, 'dropout': 0.2654755632190911, 'activation': 'relu', 'batch_size': 512}. Best is trial 8 with value: -0.20343675988978607.\u001b[0m\n",
      "\u001b[32m[I 2022-06-23 04:21:23,291]\u001b[0m Trial 10 finished with value: -0.023933861283366407 and parameters: {'feature_frac': 0.3, 'n_hidden_units': 2, 'double_first': True, 'learning_rate': 0.09776645267545059, 'dropout': 0.45999839718538865, 'activation': 'relu', 'batch_size': 1024}. Best is trial 8 with value: -0.20343675988978607.\u001b[0m\n",
      "\u001b[32m[I 2022-06-23 04:23:28,711]\u001b[0m Trial 11 finished with value: -0.08507715863834894 and parameters: {'feature_frac': 0.3, 'n_hidden_units': 2, 'double_first': True, 'learning_rate': 0.004312735983517332, 'dropout': 0.4525877880921087, 'activation': 'relu', 'batch_size': 2048}. Best is trial 8 with value: -0.20343675988978607.\u001b[0m\n",
      "\u001b[32m[I 2022-06-23 04:26:31,919]\u001b[0m Trial 12 finished with value: -0.13387388777009232 and parameters: {'feature_frac': 0.3, 'n_hidden_units': 4, 'double_first': True, 'learning_rate': 0.01996024551261282, 'dropout': 0.40189493392837994, 'activation': 'swish', 'batch_size': 2048}. Best is trial 8 with value: -0.20343675988978607.\u001b[0m\n",
      "\u001b[32m[I 2022-06-23 04:28:34,662]\u001b[0m Trial 13 finished with value: -0.07373685049744663 and parameters: {'feature_frac': 0.3, 'n_hidden_units': 2, 'double_first': True, 'learning_rate': 0.02258455049291772, 'dropout': 0.5692778810790441, 'activation': 'relu', 'batch_size': 2048}. Best is trial 8 with value: -0.20343675988978607.\u001b[0m\n",
      "\u001b[32m[I 2022-06-23 04:35:29,766]\u001b[0m Trial 14 finished with value: -0.10524030039008447 and parameters: {'feature_frac': 0.3, 'n_hidden_units': 5, 'double_first': True, 'learning_rate': 0.021674776826504108, 'dropout': 0.20323114036105888, 'activation': 'elu', 'batch_size': 1024}. Best is trial 8 with value: -0.20343675988978607.\u001b[0m\n",
      "\u001b[32m[I 2022-06-23 04:39:03,097]\u001b[0m Trial 15 finished with value: -0.05586014053167757 and parameters: {'feature_frac': 0.3, 'n_hidden_units': 5, 'double_first': False, 'learning_rate': 0.03707959300835706, 'dropout': 0.33713888183954005, 'activation': 'swish', 'batch_size': 2048}. Best is trial 8 with value: -0.20343675988978607.\u001b[0m\n",
      "\u001b[32m[I 2022-06-23 04:42:24,566]\u001b[0m Trial 16 finished with value: -0.08441394695922248 and parameters: {'feature_frac': 0.3, 'n_hidden_units': 2, 'double_first': True, 'learning_rate': 0.004357568420362112, 'dropout': 0.5343923357779172, 'activation': 'relu', 'batch_size': 1024}. Best is trial 8 with value: -0.20343675988978607.\u001b[0m\n",
      "\u001b[32m[I 2022-06-23 04:46:29,496]\u001b[0m Trial 17 finished with value: -0.1148136712555297 and parameters: {'feature_frac': 0.3, 'n_hidden_units': 4, 'double_first': True, 'learning_rate': 0.054438577066063115, 'dropout': 0.3094487220340814, 'activation': 'swish', 'batch_size': 1024}. Best is trial 8 with value: -0.20343675988978607.\u001b[0m\n",
      "\u001b[32m[I 2022-06-23 04:50:19,095]\u001b[0m Trial 18 finished with value: 0.04157532015718552 and parameters: {'feature_frac': 0.2, 'n_hidden_units': 5, 'double_first': False, 'learning_rate': 0.018721393752013912, 'dropout': 0.6862615593771376, 'activation': 'relu', 'batch_size': 2048}. Best is trial 8 with value: -0.20343675988978607.\u001b[0m\n",
      "\u001b[32m[I 2022-06-23 04:56:48,142]\u001b[0m Trial 19 finished with value: -0.08951228442046319 and parameters: {'feature_frac': 0.3, 'n_hidden_units': 2, 'double_first': True, 'learning_rate': 0.02869937391638611, 'dropout': 0.45360928965348973, 'activation': 'elu', 'batch_size': 512}. Best is trial 8 with value: -0.20343675988978607.\u001b[0m\n",
      "\u001b[32m[I 2022-06-23 04:58:58,564]\u001b[0m Trial 20 finished with value: -0.09643137252095275 and parameters: {'feature_frac': 0.3, 'n_hidden_units': 2, 'double_first': True, 'learning_rate': 0.01108176210620641, 'dropout': 0.8674450193507893, 'activation': 'swish', 'batch_size': 2048}. Best is trial 8 with value: -0.20343675988978607.\u001b[0m\n",
      "\u001b[32m[I 2022-06-23 05:02:01,922]\u001b[0m Trial 21 finished with value: -0.11172525122180747 and parameters: {'feature_frac': 0.3, 'n_hidden_units': 4, 'double_first': True, 'learning_rate': 0.01568478614806436, 'dropout': 0.40169758673394823, 'activation': 'swish', 'batch_size': 2048}. Best is trial 8 with value: -0.20343675988978607.\u001b[0m\n",
      "\u001b[32m[I 2022-06-23 05:05:05,915]\u001b[0m Trial 22 finished with value: -0.07976338477039029 and parameters: {'feature_frac': 0.3, 'n_hidden_units': 4, 'double_first': True, 'learning_rate': 0.02509588260403659, 'dropout': 0.39854086066444266, 'activation': 'swish', 'batch_size': 2048}. Best is trial 8 with value: -0.20343675988978607.\u001b[0m\n",
      "\u001b[32m[I 2022-06-23 05:08:50,636]\u001b[0m Trial 23 finished with value: -0.07079356592030124 and parameters: {'feature_frac': 0.3, 'n_hidden_units': 4, 'double_first': True, 'learning_rate': 0.04270447933399342, 'dropout': 0.527891063185357, 'activation': 'swish', 'batch_size': 2048}. Best is trial 8 with value: -0.20343675988978607.\u001b[0m\n",
      "\u001b[32m[I 2022-06-23 05:12:17,583]\u001b[0m Trial 24 finished with value: -0.15099601785920352 and parameters: {'feature_frac': 0.3, 'n_hidden_units': 4, 'double_first': True, 'learning_rate': 0.0026158168558809165, 'dropout': 0.2998436402964347, 'activation': 'swish', 'batch_size': 2048}. Best is trial 8 with value: -0.20343675988978607.\u001b[0m\n",
      "\u001b[32m[I 2022-06-23 05:16:13,073]\u001b[0m Trial 25 finished with value: -0.1503748782302905 and parameters: {'feature_frac': 0.3, 'n_hidden_units': 4, 'double_first': True, 'learning_rate': 0.003996273150505144, 'dropout': 0.279149657172663, 'activation': 'relu', 'batch_size': 1024}. Best is trial 8 with value: -0.20343675988978607.\u001b[0m\n",
      "\u001b[32m[I 2022-06-23 05:20:10,037]\u001b[0m Trial 26 finished with value: -0.022937143379929473 and parameters: {'feature_frac': 0.2, 'n_hidden_units': 4, 'double_first': False, 'learning_rate': 0.008446517718069054, 'dropout': 0.3238182968148673, 'activation': 'relu', 'batch_size': 1024}. Best is trial 8 with value: -0.20343675988978607.\u001b[0m\n",
      "\u001b[32m[I 2022-06-23 05:24:09,639]\u001b[0m Trial 27 finished with value: -0.04960195537911811 and parameters: {'feature_frac': 0.5, 'n_hidden_units': 4, 'double_first': True, 'learning_rate': 0.06863913969439252, 'dropout': 0.26923142258069455, 'activation': 'relu', 'batch_size': 1024}. Best is trial 8 with value: -0.20343675988978607.\u001b[0m\n",
      "\u001b[32m[I 2022-06-23 05:28:04,969]\u001b[0m Trial 28 finished with value: -0.07344905328139449 and parameters: {'feature_frac': 0.4, 'n_hidden_units': 4, 'double_first': True, 'learning_rate': 0.0025413839104658042, 'dropout': 0.37239610351913877, 'activation': 'relu', 'batch_size': 1024}. Best is trial 8 with value: -0.20343675988978607.\u001b[0m\n",
      "\u001b[32m[I 2022-06-23 05:35:08,601]\u001b[0m Trial 29 finished with value: 0.007744849120158652 and parameters: {'feature_frac': 0.2, 'n_hidden_units': 4, 'double_first': False, 'learning_rate': 0.06014398688578672, 'dropout': 0.5008348366179358, 'activation': 'elu', 'batch_size': 512}. Best is trial 8 with value: -0.20343675988978607.\u001b[0m\n",
      "\u001b[32m[I 2022-06-23 05:38:55,285]\u001b[0m Trial 30 finished with value: -0.03665135195477544 and parameters: {'feature_frac': 0.3, 'n_hidden_units': 3, 'double_first': True, 'learning_rate': 0.0016365287409194898, 'dropout': 0.6235604571510793, 'activation': 'relu', 'batch_size': 1024}. Best is trial 8 with value: -0.20343675988978607.\u001b[0m\n",
      "\u001b[32m[I 2022-06-23 05:43:54,832]\u001b[0m Trial 31 finished with value: -0.06666870614227283 and parameters: {'feature_frac': 0.3, 'n_hidden_units': 5, 'double_first': True, 'learning_rate': 0.014653646571424053, 'dropout': 0.272027852835339, 'activation': 'relu', 'batch_size': 1024}. Best is trial 8 with value: -0.20343675988978607.\u001b[0m\n",
      "\u001b[32m[I 2022-06-23 05:53:48,862]\u001b[0m Trial 32 finished with value: -0.12354404029502172 and parameters: {'feature_frac': 0.3, 'n_hidden_units': 5, 'double_first': True, 'learning_rate': 0.008301922846544855, 'dropout': 0.20428613972058635, 'activation': 'swish', 'batch_size': 512}. Best is trial 8 with value: -0.20343675988978607.\u001b[0m\n",
      "\u001b[32m[I 2022-06-23 05:56:09,685]\u001b[0m Trial 33 finished with value: -0.09575098242363736 and parameters: {'feature_frac': 0.3, 'n_hidden_units': 4, 'double_first': True, 'learning_rate': 0.015065992280623938, 'dropout': 0.29440709613575133, 'activation': 'relu', 'batch_size': 2048}. Best is trial 8 with value: -0.20343675988978607.\u001b[0m\n",
      "\u001b[32m[I 2022-06-23 05:58:22,130]\u001b[0m Trial 34 finished with value: -0.11698980221465378 and parameters: {'feature_frac': 0.3, 'n_hidden_units': 3, 'double_first': True, 'learning_rate': 0.042149337055170225, 'dropout': 0.24780263849998252, 'activation': 'swish', 'batch_size': 2048}. Best is trial 8 with value: -0.20343675988978607.\u001b[0m\n",
      "\u001b[32m[I 2022-06-23 06:02:10,967]\u001b[0m Trial 35 finished with value: -0.15858960336519878 and parameters: {'feature_frac': 0.4, 'n_hidden_units': 2, 'double_first': True, 'learning_rate': 0.0253522267116751, 'dropout': 0.3653995256998653, 'activation': 'elu', 'batch_size': 1024}. Best is trial 8 with value: -0.20343675988978607.\u001b[0m\n",
      "\u001b[32m[I 2022-06-23 06:05:32,059]\u001b[0m Trial 36 finished with value: -0.20391987448207088 and parameters: {'feature_frac': 0.4, 'n_hidden_units': 2, 'double_first': True, 'learning_rate': 0.026985131385404745, 'dropout': 0.3678930552500291, 'activation': 'elu', 'batch_size': 1024}. Best is trial 36 with value: -0.20391987448207088.\u001b[0m\n",
      "\u001b[32m[I 2022-06-23 06:09:06,081]\u001b[0m Trial 37 finished with value: -0.1303077288074365 and parameters: {'feature_frac': 0.4, 'n_hidden_units': 2, 'double_first': True, 'learning_rate': 0.02844503328222623, 'dropout': 0.37359749318217794, 'activation': 'elu', 'batch_size': 1024}. Best is trial 36 with value: -0.20391987448207088.\u001b[0m\n",
      "\u001b[32m[I 2022-06-23 06:12:28,751]\u001b[0m Trial 38 finished with value: -0.07479378005755263 and parameters: {'feature_frac': 0.4, 'n_hidden_units': 2, 'double_first': False, 'learning_rate': 0.037812924694091456, 'dropout': 0.431960268713676, 'activation': 'elu', 'batch_size': 1024}. Best is trial 36 with value: -0.20391987448207088.\u001b[0m\n",
      "\u001b[32m[I 2022-06-23 06:15:47,428]\u001b[0m Trial 39 finished with value: -0.13526976484880737 and parameters: {'feature_frac': 0.4, 'n_hidden_units': 2, 'double_first': True, 'learning_rate': 0.049118772884217295, 'dropout': 0.48915113635649593, 'activation': 'elu', 'batch_size': 1024}. Best is trial 36 with value: -0.20391987448207088.\u001b[0m\n",
      "\u001b[32m[I 2022-06-23 06:18:53,589]\u001b[0m Trial 40 finished with value: -0.1174073044273668 and parameters: {'feature_frac': 0.4, 'n_hidden_units': 2, 'double_first': True, 'learning_rate': 0.029303907221910834, 'dropout': 0.3494616777211194, 'activation': 'elu', 'batch_size': 1024}. Best is trial 36 with value: -0.20391987448207088.\u001b[0m\n",
      "\u001b[32m[I 2022-06-23 06:22:24,692]\u001b[0m Trial 41 finished with value: -0.1309144366475475 and parameters: {'feature_frac': 0.4, 'n_hidden_units': 2, 'double_first': True, 'learning_rate': 0.008074784038155017, 'dropout': 0.3096797026945759, 'activation': 'elu', 'batch_size': 1024}. Best is trial 36 with value: -0.20391987448207088.\u001b[0m\n",
      "\u001b[32m[I 2022-06-23 06:25:34,682]\u001b[0m Trial 42 finished with value: -0.099143723087056 and parameters: {'feature_frac': 0.4, 'n_hidden_units': 2, 'double_first': True, 'learning_rate': 0.025831626282164066, 'dropout': 0.36538878713587253, 'activation': 'elu', 'batch_size': 1024}. Best is trial 36 with value: -0.20391987448207088.\u001b[0m\n",
      "\u001b[32m[I 2022-06-23 06:28:54,603]\u001b[0m Trial 43 finished with value: -0.12274128334116845 and parameters: {'feature_frac': 0.5, 'n_hidden_units': 2, 'double_first': True, 'learning_rate': 0.033631808812668904, 'dropout': 0.23324253212146354, 'activation': 'elu', 'batch_size': 1024}. Best is trial 36 with value: -0.20391987448207088.\u001b[0m\n",
      "\u001b[32m[I 2022-06-23 06:32:40,020]\u001b[0m Trial 44 finished with value: -0.05699787328125534 and parameters: {'feature_frac': 0.4, 'n_hidden_units': 3, 'double_first': True, 'learning_rate': 0.08912037778277862, 'dropout': 0.42813720759579976, 'activation': 'elu', 'batch_size': 1024}. Best is trial 36 with value: -0.20391987448207088.\u001b[0m\n",
      "\u001b[32m[I 2022-06-23 06:36:04,423]\u001b[0m Trial 45 finished with value: -0.09499921319594977 and parameters: {'feature_frac': 0.4, 'n_hidden_units': 2, 'double_first': True, 'learning_rate': 0.018940645578735406, 'dropout': 0.29473101042650757, 'activation': 'relu', 'batch_size': 1024}. Best is trial 36 with value: -0.20391987448207088.\u001b[0m\n",
      "\u001b[32m[I 2022-06-23 06:42:03,272]\u001b[0m Trial 46 finished with value: -0.20625401282717917 and parameters: {'feature_frac': 0.5, 'n_hidden_units': 2, 'double_first': True, 'learning_rate': 0.03838528354496962, 'dropout': 0.3402876121612417, 'activation': 'elu', 'batch_size': 512}. Best is trial 46 with value: -0.20625401282717917.\u001b[0m\n",
      "\u001b[32m[I 2022-06-23 06:48:57,808]\u001b[0m Trial 47 finished with value: 0.02433412758666695 and parameters: {'feature_frac': 0.5, 'n_hidden_units': 2, 'double_first': True, 'learning_rate': 0.04855822452347845, 'dropout': 0.7955578992880357, 'activation': 'elu', 'batch_size': 512}. Best is trial 46 with value: -0.20625401282717917.\u001b[0m\n",
      "\u001b[32m[I 2022-06-23 06:54:23,497]\u001b[0m Trial 48 finished with value: -0.04493037030390471 and parameters: {'feature_frac': 0.5, 'n_hidden_units': 2, 'double_first': False, 'learning_rate': 0.03851043937233478, 'dropout': 0.4935783433820863, 'activation': 'elu', 'batch_size': 512}. Best is trial 46 with value: -0.20625401282717917.\u001b[0m\n",
      "\u001b[32m[I 2022-06-23 07:00:22,690]\u001b[0m Trial 49 finished with value: -0.12758312908102123 and parameters: {'feature_frac': 0.5, 'n_hidden_units': 2, 'double_first': True, 'learning_rate': 0.03223320578378297, 'dropout': 0.41743830183474334, 'activation': 'elu', 'batch_size': 512}. Best is trial 46 with value: -0.20625401282717917.\u001b[0m\n",
      "\u001b[32m[I 2022-06-23 07:06:18,637]\u001b[0m Trial 50 finished with value: -0.10050216542521731 and parameters: {'feature_frac': 0.5, 'n_hidden_units': 2, 'double_first': True, 'learning_rate': 0.04394329594536983, 'dropout': 0.33870027186486845, 'activation': 'elu', 'batch_size': 512}. Best is trial 46 with value: -0.20625401282717917.\u001b[0m\n",
      "\u001b[32m[I 2022-06-23 07:10:18,561]\u001b[0m Trial 51 finished with value: -0.08510777978800928 and parameters: {'feature_frac': 0.4, 'n_hidden_units': 4, 'double_first': True, 'learning_rate': 0.022998526024224263, 'dropout': 0.38527220849047417, 'activation': 'relu', 'batch_size': 1024}. Best is trial 46 with value: -0.20625401282717917.\u001b[0m\n",
      "\u001b[32m[I 2022-06-23 07:16:46,702]\u001b[0m Trial 52 finished with value: -0.11148128952577871 and parameters: {'feature_frac': 0.2, 'n_hidden_units': 2, 'double_first': True, 'learning_rate': 0.053740553733388666, 'dropout': 0.3350327884342709, 'activation': 'elu', 'batch_size': 512}. Best is trial 46 with value: -0.20625401282717917.\u001b[0m\n",
      "\u001b[32m[I 2022-06-23 07:19:45,183]\u001b[0m Trial 53 finished with value: -0.1337511130386066 and parameters: {'feature_frac': 0.5, 'n_hidden_units': 2, 'double_first': True, 'learning_rate': 0.0119988328506569, 'dropout': 0.2585570087850374, 'activation': 'relu', 'batch_size': 1024}. Best is trial 46 with value: -0.20625401282717917.\u001b[0m\n",
      "\u001b[32m[I 2022-06-23 07:23:43,185]\u001b[0m Trial 54 finished with value: -0.026284415722094716 and parameters: {'feature_frac': 0.3, 'n_hidden_units': 4, 'double_first': True, 'learning_rate': 0.03617384770097823, 'dropout': 0.30314509497982184, 'activation': 'elu', 'batch_size': 1024}. Best is trial 46 with value: -0.20625401282717917.\u001b[0m\n",
      "\u001b[32m[I 2022-06-23 07:27:05,403]\u001b[0m Trial 55 finished with value: -0.14312612407127423 and parameters: {'feature_frac': 0.4, 'n_hidden_units': 2, 'double_first': True, 'learning_rate': 0.006129977233995641, 'dropout': 0.4656228783380294, 'activation': 'relu', 'batch_size': 1024}. Best is trial 46 with value: -0.20625401282717917.\u001b[0m\n",
      "\u001b[32m[I 2022-06-23 07:33:42,323]\u001b[0m Trial 56 finished with value: -0.10126612427067042 and parameters: {'feature_frac': 0.3, 'n_hidden_units': 3, 'double_first': True, 'learning_rate': 0.03056556959602568, 'dropout': 0.21326498274478994, 'activation': 'swish', 'batch_size': 512}. Best is trial 46 with value: -0.20625401282717917.\u001b[0m\n",
      "\u001b[32m[I 2022-06-23 07:36:04,643]\u001b[0m Trial 57 finished with value: -0.18757146684597792 and parameters: {'feature_frac': 0.3, 'n_hidden_units': 4, 'double_first': True, 'learning_rate': 0.016782977269905672, 'dropout': 0.36341914665394853, 'activation': 'elu', 'batch_size': 2048}. Best is trial 46 with value: -0.20625401282717917.\u001b[0m\n",
      "\u001b[32m[I 2022-06-23 07:38:01,858]\u001b[0m Trial 58 finished with value: -0.13781672766734732 and parameters: {'feature_frac': 0.5, 'n_hidden_units': 2, 'double_first': True, 'learning_rate': 0.0260367172182855, 'dropout': 0.43679497970235936, 'activation': 'elu', 'batch_size': 2048}. Best is trial 46 with value: -0.20625401282717917.\u001b[0m\n",
      "\u001b[32m[I 2022-06-23 07:40:21,406]\u001b[0m Trial 59 finished with value: -0.0018059926682762544 and parameters: {'feature_frac': 0.2, 'n_hidden_units': 4, 'double_first': False, 'learning_rate': 0.020207019491533192, 'dropout': 0.5526445156139407, 'activation': 'elu', 'batch_size': 2048}. Best is trial 46 with value: -0.20625401282717917.\u001b[0m\n",
      "\u001b[32m[I 2022-06-23 07:42:34,160]\u001b[0m Trial 60 finished with value: -0.082662561491441 and parameters: {'feature_frac': 0.3, 'n_hidden_units': 2, 'double_first': True, 'learning_rate': 0.040385806714327704, 'dropout': 0.3548821120836002, 'activation': 'elu', 'batch_size': 2048}. Best is trial 46 with value: -0.20625401282717917.\u001b[0m\n",
      "\u001b[32m[I 2022-06-23 07:44:55,207]\u001b[0m Trial 61 finished with value: -0.15231154212250647 and parameters: {'feature_frac': 0.3, 'n_hidden_units': 4, 'double_first': True, 'learning_rate': 0.012040287084306805, 'dropout': 0.2846991922265473, 'activation': 'elu', 'batch_size': 2048}. Best is trial 46 with value: -0.20625401282717917.\u001b[0m\n",
      "\u001b[32m[I 2022-06-23 07:47:57,242]\u001b[0m Trial 62 finished with value: -0.1937600783581944 and parameters: {'feature_frac': 0.3, 'n_hidden_units': 4, 'double_first': True, 'learning_rate': 0.016562946700966405, 'dropout': 0.40164453874682704, 'activation': 'elu', 'batch_size': 2048}. Best is trial 46 with value: -0.20625401282717917.\u001b[0m\n",
      "\u001b[32m[I 2022-06-23 07:50:41,834]\u001b[0m Trial 63 finished with value: -0.12770161529717355 and parameters: {'feature_frac': 0.3, 'n_hidden_units': 4, 'double_first': True, 'learning_rate': 0.016106281742432137, 'dropout': 0.38432759857277243, 'activation': 'elu', 'batch_size': 2048}. Best is trial 46 with value: -0.20625401282717917.\u001b[0m\n",
      "\u001b[32m[I 2022-06-23 07:53:45,164]\u001b[0m Trial 64 finished with value: -0.1492317268352839 and parameters: {'feature_frac': 0.3, 'n_hidden_units': 4, 'double_first': True, 'learning_rate': 0.02386633261180588, 'dropout': 0.4083763431767882, 'activation': 'elu', 'batch_size': 2048}. Best is trial 46 with value: -0.20625401282717917.\u001b[0m\n",
      "\u001b[32m[I 2022-06-23 07:56:05,373]\u001b[0m Trial 65 finished with value: -0.06388434798489706 and parameters: {'feature_frac': 0.3, 'n_hidden_units': 4, 'double_first': True, 'learning_rate': 0.01699650745355236, 'dropout': 0.4594105338658704, 'activation': 'elu', 'batch_size': 2048}. Best is trial 46 with value: -0.20625401282717917.\u001b[0m\n",
      "\u001b[32m[I 2022-06-23 07:58:47,112]\u001b[0m Trial 66 finished with value: -0.11977720630811521 and parameters: {'feature_frac': 0.3, 'n_hidden_units': 4, 'double_first': True, 'learning_rate': 0.012565074574767889, 'dropout': 0.3352288043815641, 'activation': 'elu', 'batch_size': 2048}. Best is trial 46 with value: -0.20625401282717917.\u001b[0m\n",
      "\u001b[32m[I 2022-06-23 08:02:19,121]\u001b[0m Trial 67 finished with value: -0.05407755784585122 and parameters: {'feature_frac': 0.4, 'n_hidden_units': 5, 'double_first': True, 'learning_rate': 0.027306778284367405, 'dropout': 0.6344595912109012, 'activation': 'elu', 'batch_size': 2048}. Best is trial 46 with value: -0.20625401282717917.\u001b[0m\n",
      "\u001b[32m[I 2022-06-23 08:04:40,886]\u001b[0m Trial 68 finished with value: -0.1305381827268182 and parameters: {'feature_frac': 0.3, 'n_hidden_units': 4, 'double_first': True, 'learning_rate': 0.01994967058849717, 'dropout': 0.3872608222286269, 'activation': 'elu', 'batch_size': 2048}. Best is trial 46 with value: -0.20625401282717917.\u001b[0m\n",
      "\u001b[32m[I 2022-06-23 08:06:37,925]\u001b[0m Trial 69 finished with value: 0.0004006242786421907 and parameters: {'feature_frac': 0.3, 'n_hidden_units': 2, 'double_first': False, 'learning_rate': 0.04633499319366728, 'dropout': 0.513285419650537, 'activation': 'elu', 'batch_size': 2048}. Best is trial 46 with value: -0.20625401282717917.\u001b[0m\n",
      "\u001b[32m[I 2022-06-23 08:13:46,794]\u001b[0m Trial 70 finished with value: -0.13840262759168084 and parameters: {'feature_frac': 0.4, 'n_hidden_units': 4, 'double_first': True, 'learning_rate': 0.031273799130810506, 'dropout': 0.47480361400077287, 'activation': 'elu', 'batch_size': 512}. Best is trial 46 with value: -0.20625401282717917.\u001b[0m\n",
      "\u001b[32m[I 2022-06-23 08:16:31,259]\u001b[0m Trial 71 finished with value: -0.13426187459464337 and parameters: {'feature_frac': 0.3, 'n_hidden_units': 4, 'double_first': True, 'learning_rate': 0.012586438942708673, 'dropout': 0.3224472115367019, 'activation': 'swish', 'batch_size': 2048}. Best is trial 46 with value: -0.20625401282717917.\u001b[0m\n",
      "\u001b[32m[I 2022-06-23 08:19:55,000]\u001b[0m Trial 72 finished with value: -0.060378330834900185 and parameters: {'feature_frac': 0.3, 'n_hidden_units': 4, 'double_first': True, 'learning_rate': 0.02188557126243016, 'dropout': 0.2897278264334954, 'activation': 'swish', 'batch_size': 2048}. Best is trial 46 with value: -0.20625401282717917.\u001b[0m\n",
      "\u001b[32m[I 2022-06-23 08:22:17,334]\u001b[0m Trial 73 finished with value: -0.13049379563219637 and parameters: {'feature_frac': 0.3, 'n_hidden_units': 4, 'double_first': True, 'learning_rate': 0.009423922314677442, 'dropout': 0.23755900302360658, 'activation': 'elu', 'batch_size': 2048}. Best is trial 46 with value: -0.20625401282717917.\u001b[0m\n",
      "\u001b[32m[I 2022-06-23 08:25:00,348]\u001b[0m Trial 74 finished with value: -0.13370037447778033 and parameters: {'feature_frac': 0.3, 'n_hidden_units': 4, 'double_first': True, 'learning_rate': 0.006469412463398296, 'dropout': 0.36384797998866875, 'activation': 'elu', 'batch_size': 2048}. Best is trial 46 with value: -0.20625401282717917.\u001b[0m\n",
      "\u001b[32m[I 2022-06-23 08:27:11,598]\u001b[0m Trial 75 finished with value: -0.054305888220012054 and parameters: {'feature_frac': 0.3, 'n_hidden_units': 3, 'double_first': True, 'learning_rate': 0.0015904768284394685, 'dropout': 0.2698625230468744, 'activation': 'elu', 'batch_size': 2048}. Best is trial 46 with value: -0.20625401282717917.\u001b[0m\n",
      "\u001b[32m[I 2022-06-23 08:29:14,356]\u001b[0m Trial 76 finished with value: -0.11945310316482709 and parameters: {'feature_frac': 0.2, 'n_hidden_units': 2, 'double_first': True, 'learning_rate': 0.017411542966491764, 'dropout': 0.32170393176914996, 'activation': 'swish', 'batch_size': 2048}. Best is trial 46 with value: -0.20625401282717917.\u001b[0m\n",
      "\u001b[32m[I 2022-06-23 08:33:11,982]\u001b[0m Trial 77 finished with value: -0.18908205525687183 and parameters: {'feature_frac': 0.3, 'n_hidden_units': 4, 'double_first': True, 'learning_rate': 0.013626587731204405, 'dropout': 0.4381369680048042, 'activation': 'elu', 'batch_size': 1024}. Best is trial 46 with value: -0.20625401282717917.\u001b[0m\n",
      "\u001b[32m[I 2022-06-23 08:38:50,679]\u001b[0m Trial 78 finished with value: -0.17278902486610886 and parameters: {'feature_frac': 0.3, 'n_hidden_units': 5, 'double_first': True, 'learning_rate': 0.02435336211665956, 'dropout': 0.4322254149266117, 'activation': 'elu', 'batch_size': 1024}. Best is trial 46 with value: -0.20625401282717917.\u001b[0m\n",
      "\u001b[32m[I 2022-06-23 08:45:08,450]\u001b[0m Trial 79 finished with value: -0.0474023937616069 and parameters: {'feature_frac': 0.5, 'n_hidden_units': 5, 'double_first': True, 'learning_rate': 0.03448800541153693, 'dropout': 0.44227657684405464, 'activation': 'elu', 'batch_size': 1024}. Best is trial 46 with value: -0.20625401282717917.\u001b[0m\n",
      "\u001b[32m[I 2022-06-23 08:50:45,793]\u001b[0m Trial 80 finished with value: -0.08452412084403439 and parameters: {'feature_frac': 0.4, 'n_hidden_units': 5, 'double_first': True, 'learning_rate': 0.024147165681437207, 'dropout': 0.40764629669239916, 'activation': 'elu', 'batch_size': 1024}. Best is trial 46 with value: -0.20625401282717917.\u001b[0m\n",
      "\u001b[32m[I 2022-06-23 08:57:38,990]\u001b[0m Trial 81 finished with value: -0.07772960322036102 and parameters: {'feature_frac': 0.3, 'n_hidden_units': 5, 'double_first': True, 'learning_rate': 0.014401643840912953, 'dropout': 0.5815354642869884, 'activation': 'elu', 'batch_size': 1024}. Best is trial 46 with value: -0.20625401282717917.\u001b[0m\n",
      "\u001b[32m[I 2022-06-23 09:03:16,300]\u001b[0m Trial 82 finished with value: -0.13694330072670344 and parameters: {'feature_frac': 0.3, 'n_hidden_units': 5, 'double_first': True, 'learning_rate': 0.02129250675124, 'dropout': 0.42419861613321236, 'activation': 'elu', 'batch_size': 1024}. Best is trial 46 with value: -0.20625401282717917.\u001b[0m\n",
      "\u001b[32m[I 2022-06-23 09:06:11,614]\u001b[0m Trial 83 finished with value: -0.17219418549273266 and parameters: {'feature_frac': 0.3, 'n_hidden_units': 2, 'double_first': True, 'learning_rate': 0.029138709317297423, 'dropout': 0.3966623680583685, 'activation': 'elu', 'batch_size': 1024}. Best is trial 46 with value: -0.20625401282717917.\u001b[0m\n",
      "\u001b[32m[I 2022-06-23 09:09:33,885]\u001b[0m Trial 84 finished with value: -0.061477259343156565 and parameters: {'feature_frac': 0.3, 'n_hidden_units': 2, 'double_first': True, 'learning_rate': 0.027313906630610417, 'dropout': 0.9562282979316048, 'activation': 'elu', 'batch_size': 1024}. Best is trial 46 with value: -0.20625401282717917.\u001b[0m\n",
      "\u001b[32m[I 2022-06-23 09:12:56,425]\u001b[0m Trial 85 finished with value: -0.07236814500106302 and parameters: {'feature_frac': 0.3, 'n_hidden_units': 2, 'double_first': True, 'learning_rate': 0.030692605574052734, 'dropout': 0.4796092558427282, 'activation': 'elu', 'batch_size': 1024}. Best is trial 46 with value: -0.20625401282717917.\u001b[0m\n",
      "\u001b[32m[I 2022-06-23 09:15:51,837]\u001b[0m Trial 86 finished with value: -0.1268783013050281 and parameters: {'feature_frac': 0.3, 'n_hidden_units': 2, 'double_first': False, 'learning_rate': 0.03392412363637584, 'dropout': 0.39730824828506656, 'activation': 'elu', 'batch_size': 1024}. Best is trial 46 with value: -0.20625401282717917.\u001b[0m\n",
      "\u001b[32m[I 2022-06-23 09:18:50,494]\u001b[0m Trial 87 finished with value: -0.042686044854397434 and parameters: {'feature_frac': 0.4, 'n_hidden_units': 2, 'double_first': True, 'learning_rate': 0.035455146332015804, 'dropout': 0.35465080337084653, 'activation': 'elu', 'batch_size': 1024}. Best is trial 46 with value: -0.20625401282717917.\u001b[0m\n",
      "\u001b[32m[I 2022-06-23 09:22:22,058]\u001b[0m Trial 88 finished with value: -0.14936681159552476 and parameters: {'feature_frac': 0.5, 'n_hidden_units': 2, 'double_first': True, 'learning_rate': 0.03964238628292169, 'dropout': 0.3768434814171136, 'activation': 'elu', 'batch_size': 1024}. Best is trial 46 with value: -0.20625401282717917.\u001b[0m\n",
      "\u001b[32m[I 2022-06-23 09:28:00,784]\u001b[0m Trial 89 finished with value: -0.14077045356449072 and parameters: {'feature_frac': 0.3, 'n_hidden_units': 5, 'double_first': True, 'learning_rate': 0.02771414341824925, 'dropout': 0.4453571994572301, 'activation': 'elu', 'batch_size': 1024}. Best is trial 46 with value: -0.20625401282717917.\u001b[0m\n",
      "\u001b[32m[I 2022-06-23 09:31:30,248]\u001b[0m Trial 90 finished with value: -0.15034966424295745 and parameters: {'feature_frac': 0.4, 'n_hidden_units': 2, 'double_first': True, 'learning_rate': 0.025091252067099883, 'dropout': 0.40950336516674274, 'activation': 'relu', 'batch_size': 1024}. Best is trial 46 with value: -0.20625401282717917.\u001b[0m\n",
      "\u001b[32m[I 2022-06-23 09:35:30,080]\u001b[0m Trial 91 finished with value: -0.12650576143095013 and parameters: {'feature_frac': 0.3, 'n_hidden_units': 4, 'double_first': True, 'learning_rate': 0.018071679362936823, 'dropout': 0.3522084421564097, 'activation': 'elu', 'batch_size': 1024}. Best is trial 46 with value: -0.20625401282717917.\u001b[0m\n",
      "\u001b[32m[I 2022-06-23 09:39:29,831]\u001b[0m Trial 92 finished with value: -0.12686488992449627 and parameters: {'feature_frac': 0.3, 'n_hidden_units': 4, 'double_first': True, 'learning_rate': 0.014815161773581925, 'dropout': 0.5158277131214865, 'activation': 'elu', 'batch_size': 1024}. Best is trial 46 with value: -0.20625401282717917.\u001b[0m\n",
      "\u001b[32m[I 2022-06-23 09:45:23,892]\u001b[0m Trial 93 finished with value: -0.17825033085655947 and parameters: {'feature_frac': 0.3, 'n_hidden_units': 2, 'double_first': True, 'learning_rate': 0.021389001744364367, 'dropout': 0.3196125727452059, 'activation': 'elu', 'batch_size': 512}. Best is trial 46 with value: -0.20625401282717917.\u001b[0m\n",
      "\u001b[32m[I 2022-06-23 09:51:48,095]\u001b[0m Trial 94 finished with value: -0.11886147949403034 and parameters: {'feature_frac': 0.3, 'n_hidden_units': 2, 'double_first': True, 'learning_rate': 0.02318573945143689, 'dropout': 0.3186154862385595, 'activation': 'elu', 'batch_size': 512}. Best is trial 46 with value: -0.20625401282717917.\u001b[0m\n",
      "\u001b[32m[I 2022-06-23 09:58:12,399]\u001b[0m Trial 95 finished with value: -0.10924621910164334 and parameters: {'feature_frac': 0.3, 'n_hidden_units': 2, 'double_first': True, 'learning_rate': 0.029584570327273515, 'dropout': 0.38916025012217775, 'activation': 'elu', 'batch_size': 512}. Best is trial 46 with value: -0.20625401282717917.\u001b[0m\n",
      "\u001b[32m[I 2022-06-23 10:04:39,988]\u001b[0m Trial 96 finished with value: -0.1154414321343551 and parameters: {'feature_frac': 0.2, 'n_hidden_units': 2, 'double_first': True, 'learning_rate': 0.020990702707990562, 'dropout': 0.3635267461389239, 'activation': 'elu', 'batch_size': 512}. Best is trial 46 with value: -0.20625401282717917.\u001b[0m\n",
      "\u001b[32m[I 2022-06-23 10:10:35,071]\u001b[0m Trial 97 finished with value: -0.09859964214885678 and parameters: {'feature_frac': 0.3, 'n_hidden_units': 2, 'double_first': True, 'learning_rate': 0.07153656817439102, 'dropout': 0.4532291863210707, 'activation': 'elu', 'batch_size': 512}. Best is trial 46 with value: -0.20625401282717917.\u001b[0m\n",
      "\u001b[32m[I 2022-06-23 10:16:34,683]\u001b[0m Trial 98 finished with value: -0.16288911251661806 and parameters: {'feature_frac': 0.5, 'n_hidden_units': 2, 'double_first': True, 'learning_rate': 0.03155439362468287, 'dropout': 0.4265748530481771, 'activation': 'elu', 'batch_size': 512}. Best is trial 46 with value: -0.20625401282717917.\u001b[0m\n",
      "\u001b[32m[I 2022-06-23 10:23:28,861]\u001b[0m Trial 99 finished with value: -0.031085223322253858 and parameters: {'feature_frac': 0.5, 'n_hidden_units': 3, 'double_first': True, 'learning_rate': 0.0324707028111854, 'dropout': 0.7368974096038046, 'activation': 'relu', 'batch_size': 512}. Best is trial 46 with value: -0.20625401282717917.\u001b[0m\n",
      "\u001b[32m[I 2022-06-23 10:29:22,505]\u001b[0m Trial 100 finished with value: -0.10404499667559168 and parameters: {'feature_frac': 0.5, 'n_hidden_units': 2, 'double_first': False, 'learning_rate': 0.036275883092846115, 'dropout': 0.42057294174630533, 'activation': 'elu', 'batch_size': 512}. Best is trial 46 with value: -0.20625401282717917.\u001b[0m\n",
      "\u001b[32m[I 2022-06-23 10:35:49,444]\u001b[0m Trial 101 finished with value: -0.17081134681647644 and parameters: {'feature_frac': 0.5, 'n_hidden_units': 2, 'double_first': True, 'learning_rate': 0.02854608803915888, 'dropout': 0.33991926631244024, 'activation': 'elu', 'batch_size': 512}. Best is trial 46 with value: -0.20625401282717917.\u001b[0m\n",
      "\u001b[32m[I 2022-06-23 10:42:47,183]\u001b[0m Trial 102 finished with value: -0.16456644141443846 and parameters: {'feature_frac': 0.5, 'n_hidden_units': 2, 'double_first': True, 'learning_rate': 0.02951527145488424, 'dropout': 0.43006945262426655, 'activation': 'elu', 'batch_size': 512}. Best is trial 46 with value: -0.20625401282717917.\u001b[0m\n",
      "\u001b[32m[I 2022-06-23 10:48:43,464]\u001b[0m Trial 103 finished with value: -0.13300707219060912 and parameters: {'feature_frac': 0.5, 'n_hidden_units': 2, 'double_first': True, 'learning_rate': 0.028749161927461683, 'dropout': 0.34002374655747664, 'activation': 'elu', 'batch_size': 512}. Best is trial 46 with value: -0.20625401282717917.\u001b[0m\n",
      "\u001b[32m[I 2022-06-23 10:55:41,826]\u001b[0m Trial 104 finished with value: -0.061722404335717164 and parameters: {'feature_frac': 0.5, 'n_hidden_units': 2, 'double_first': True, 'learning_rate': 0.01843486042751356, 'dropout': 0.400868246328739, 'activation': 'elu', 'batch_size': 512}. Best is trial 46 with value: -0.20625401282717917.\u001b[0m\n",
      "\u001b[32m[I 2022-06-23 11:01:42,162]\u001b[0m Trial 105 finished with value: -0.164803778687558 and parameters: {'feature_frac': 0.5, 'n_hidden_units': 2, 'double_first': True, 'learning_rate': 0.026871732866473454, 'dropout': 0.37736540465766794, 'activation': 'elu', 'batch_size': 512}. Best is trial 46 with value: -0.20625401282717917.\u001b[0m\n",
      "\u001b[32m[I 2022-06-23 11:07:42,768]\u001b[0m Trial 106 finished with value: -0.09567034058714106 and parameters: {'feature_frac': 0.5, 'n_hidden_units': 2, 'double_first': True, 'learning_rate': 0.025754640196292845, 'dropout': 0.3765170605524075, 'activation': 'elu', 'batch_size': 512}. Best is trial 46 with value: -0.20625401282717917.\u001b[0m\n",
      "\u001b[32m[I 2022-06-23 11:18:25,703]\u001b[0m Trial 107 finished with value: -0.04570638632969724 and parameters: {'feature_frac': 0.5, 'n_hidden_units': 5, 'double_first': True, 'learning_rate': 0.02214651028697333, 'dropout': 0.30685348954656694, 'activation': 'elu', 'batch_size': 512}. Best is trial 46 with value: -0.20625401282717917.\u001b[0m\n",
      "\u001b[32m[I 2022-06-23 11:24:22,953]\u001b[0m Trial 108 finished with value: -0.1366260073024512 and parameters: {'feature_frac': 0.3, 'n_hidden_units': 2, 'double_first': True, 'learning_rate': 0.019143916898977785, 'dropout': 0.4687017142339367, 'activation': 'relu', 'batch_size': 512}. Best is trial 46 with value: -0.20625401282717917.\u001b[0m\n",
      "\u001b[32m[I 2022-06-23 11:30:55,091]\u001b[0m Trial 109 finished with value: -0.12165210746973147 and parameters: {'feature_frac': 0.5, 'n_hidden_units': 2, 'double_first': True, 'learning_rate': 0.010133044390175778, 'dropout': 0.32581018005303625, 'activation': 'elu', 'batch_size': 512}. Best is trial 46 with value: -0.20625401282717917.\u001b[0m\n"
     ]
    },
    {
     "name": "stdout",
     "output_type": "stream",
     "text": [
      "[2022-06-23 19:30:55] {'feature_frac': 0.5, 'n_hidden_units': 2, 'double_first': True, 'learning_rate': 0.03838528354496962, 'dropout': 0.3402876121612417, 'activation': 'elu', 'batch_size': 512}\n",
      "[2022-06-23 19:30:55] Best score is -0.20625401282717917\n",
      "params_activation\n"
     ]
    },
    {
     "data": {
      "text/plain": [
       "<Figure size 432x288 with 0 Axes>"
      ]
     },
     "metadata": {},
     "output_type": "display_data"
    },
    {
     "data": {
      "image/png": "[encoded data removed]",
      "text/plain": [
       "<Figure size 432x288 with 1 Axes>"
      ]
     },
     "metadata": {
      "needs_background": "light"
     },
     "output_type": "display_data"
    },
    {
     "name": "stdout",
     "output_type": "stream",
     "text": [
      "params_batch_size\n"
     ]
    },
    {
     "data": {
      "text/plain": [
       "<Figure size 432x288 with 0 Axes>"
      ]
     },
     "metadata": {},
     "output_type": "display_data"
    },
    {
     "data": {
      "image/png": "[encoded data removed]",
      "text/plain": [
       "<Figure size 432x288 with 1 Axes>"
      ]
     },
     "metadata": {
      "needs_background": "light"
     },
     "output_type": "display_data"
    },
    {
     "name": "stdout",
     "output_type": "stream",
     "text": [
      "params_double_first\n"
     ]
    },
    {
     "data": {
      "text/plain": [
       "<Figure size 432x288 with 0 Axes>"
      ]
     },
     "metadata": {},
     "output_type": "display_data"
    },
    {
     "data": {
      "image/png": "[encoded data removed]",
      "text/plain": [
       "<Figure size 432x288 with 1 Axes>"
      ]
     },
     "metadata": {
      "needs_background": "light"
     },
     "output_type": "display_data"
    },
    {
     "name": "stdout",
     "output_type": "stream",
     "text": [
      "params_dropout\n"
     ]
    },
    {
     "data": {
      "text/plain": [
       "<Figure size 432x288 with 0 Axes>"
      ]
     },
     "metadata": {},
     "output_type": "display_data"
    },
    {
     "data": {
      "image/png": "[encoded data removed]",
      "text/plain": [
       "<Figure size 432x288 with 1 Axes>"
      ]
     },
     "metadata": {
      "needs_background": "light"
     },
     "output_type": "display_data"
    },
    {
     "name": "stdout",
     "output_type": "stream",
     "text": [
      "params_feature_frac\n"
     ]
    },
    {
     "data": {
      "text/plain": [
       "<Figure size 432x288 with 0 Axes>"
      ]
     },
     "metadata": {},
     "output_type": "display_data"
    },
    {
     "data": {
      "image/png": "[encoded data removed]",
      "text/plain": [
       "<Figure size 432x288 with 1 Axes>"
      ]
     },
     "metadata": {
      "needs_background": "light"
     },
     "output_type": "display_data"
    },
    {
     "name": "stdout",
     "output_type": "stream",
     "text": [
      "params_learning_rate\n"
     ]
    },
    {
     "data": {
      "text/plain": [
       "<Figure size 432x288 with 0 Axes>"
      ]
     },
     "metadata": {},
     "output_type": "display_data"
    },
    {
     "data": {
      "image/png": "[encoded data removed]",
      "text/plain": [
       "<Figure size 432x288 with 1 Axes>"
      ]
     },
     "metadata": {
      "needs_background": "light"
     },
     "output_type": "display_data"
    },
    {
     "name": "stdout",
     "output_type": "stream",
     "text": [
      "params_n_hidden_units\n"
     ]
    },
    {
     "data": {
      "text/plain": [
       "<Figure size 432x288 with 0 Axes>"
      ]
     },
     "metadata": {},
     "output_type": "display_data"
    },
    {
     "data": {
      "image/png": "[encoded data removed]",
      "text/plain": [
       "<Figure size 432x288 with 1 Axes>"
      ]
     },
     "metadata": {
      "needs_background": "light"
     },
     "output_type": "display_data"
    },
    {
     "name": "stdout",
     "output_type": "stream",
     "text": [
      "CPU times: user 8h 20min 46s, sys: 41min 47s, total: 9h 2min 34s\n",
      "Wall time: 8h 4min 34s\n"
     ]
    }
   ],
   "source": [
    "%%time\n",
    "'''\n",
    "Hyperparameter tuning\n",
    "'''\n",
    "if RUN_HP:\n",
    "    # run optimization\n",
    "    best_params = optimize_hp()\n",
    "    \n",
    "else:\n",
    "    # if not running HP, use pre-set best parameters\n",
    "    best_params = BEST_PARAMS"
   ]
  },
  {
   "cell_type": "code",
   "execution_count": 17,
   "id": "5562bb1c",
   "metadata": {
    "execution": {
     "iopub.execute_input": "2022-06-23T11:30:56.869437Z",
     "iopub.status.busy": "2022-06-23T11:30:56.863626Z",
     "iopub.status.idle": "2022-06-23T11:40:20.462225Z",
     "shell.execute_reply": "2022-06-23T11:40:20.462690Z"
    },
    "papermill": {
     "duration": 563.676559,
     "end_time": "2022-06-23T11:40:20.462879",
     "exception": false,
     "start_time": "2022-06-23T11:30:56.786320",
     "status": "completed"
    },
    "tags": []
   },
   "outputs": [
    {
     "name": "stdout",
     "output_type": "stream",
     "text": [
      "[2022-06-23 19:40:20] Folds best iterations: [11, 17, 7, 2, 3]\n",
      "[2022-06-23 19:40:20] Folds average num unique values in train: [1925.8625, 515.6, 1358.9707112970711, 959.0460251046026, 670.6458333333334]\n",
      "[2022-06-23 19:40:20] Folds average num unique values in validation: [1979.0166666666667, 9.383333333333333, 916.2666666666667, 1362.2, 750.5166666666667]\n",
      "[2022-06-23 19:40:20] Folds scores: [0.9971790313720703, 0.9979479908943176, 0.9974943995475769, 0.9987967014312744, 0.9978901147842407]\n",
      "[2022-06-23 19:40:20] Folds sharpes: [0.23169003602624302, 0.30854957711049474, 0.08965637209737223, 0.07546473613432135, 0.06039090676845957]\n",
      "[2022-06-23 19:40:20] CV score: 0.997861647605896\n",
      "[2022-06-23 19:40:20] CV sharpe: 0.15315032562737818\n"
     ]
    }
   ],
   "source": [
    "'''\n",
    "Re-fit best model\n",
    "'''\n",
    "params = {'var_create_model_params': dict(feature_frac = best_params['feature_frac'],\n",
    "                                        n_hidden_units = best_params['n_hidden_units'],\n",
    "                                        double_first = best_params['double_first'],\n",
    "                                        learning_rate = best_params['learning_rate'],\n",
    "                                        dropout = best_params['dropout'],\n",
    "                                        activation = best_params['activation'],), \n",
    "          'fixed_create_model_params': PARAMS['fixed_create_model_params'],\n",
    "          'var_fit_params': dict(batch_size = best_params['batch_size']),\n",
    "          'fixed_fit_params': PARAMS['fixed_fit_params'],\n",
    "         }\n",
    "\n",
    "outputs = []\n",
    "for fold in range(N_FOLD):\n",
    "    outputs.append(train_model(fold, params, 'normal'))\n",
    "    \n",
    "cv_score = np.mean([x['best_score_'] for x in outputs])\n",
    "cv_sharpe = np.mean([x['sharpe']['val'] for x in outputs])\n",
    "log(f\"Folds best iterations: {[x['best_iteration_'] for x in outputs]}\")\n",
    "log(f\"Folds average num unique values in train: {[x['n_uniq_trn'] for x in outputs]}\")\n",
    "log(f\"Folds average num unique values in validation: {[x['n_uniq_val'] for x in outputs]}\")\n",
    "log(f\"Folds scores: {[x['best_score_'] for x in outputs]}\")\n",
    "log(f\"Folds sharpes: {[x['sharpe']['val'] for x in outputs]}\")\n",
    "log(f'CV score: {cv_score}')\n",
    "log(f'CV sharpe: {cv_sharpe}')\n",
    "\n",
    "# export validation df\n",
    "df_pred_val = pd.concat([x['df_pred_val'] for x in outputs]).reset_index(drop=True)\n",
    "df_pred_val.to_feather('df_pred_val')"
   ]
  },
  {
   "cell_type": "code",
   "execution_count": 18,
   "id": "c20eefca",
   "metadata": {
    "execution": {
     "iopub.execute_input": "2022-06-23T11:40:20.612424Z",
     "iopub.status.busy": "2022-06-23T11:40:20.611695Z",
     "iopub.status.idle": "2022-06-23T11:40:23.611560Z",
     "shell.execute_reply": "2022-06-23T11:40:23.611973Z"
    },
    "papermill": {
     "duration": 3.077056,
     "end_time": "2022-06-23T11:40:23.612124",
     "exception": false,
     "start_time": "2022-06-23T11:40:20.535068",
     "status": "completed"
    },
    "tags": []
   },
   "outputs": [
    {
     "name": "stdout",
     "output_type": "stream",
     "text": [
      "[2022-06-23 19:40:21] Average % in top 200: 0.1069\n",
      "[2022-06-23 19:40:21] Average % in bottom 200: 0.1226333333333334\n",
      "[2022-06-23 19:40:22] Mean long returns: 0.11782449502236522\n",
      "[2022-06-23 19:40:22] Mean short returns: 0.11150806762648223\n",
      "[2022-06-23 19:40:22] Mean net returns: 0.22933256264884724\n",
      "[2022-06-23 19:40:22] Sharpe of long: 0.04418073513611794\n",
      "[2022-06-23 19:40:22] Sharpe of short: 0.045707026027462794\n",
      "[2022-06-23 19:40:22] Sharpe of net: 0.09504443019762261\n"
     ]
    },
    {
     "data": {
      "image/png": "[encoded data removed]",
      "text/plain": [
       "<Figure size 432x288 with 1 Axes>"
      ]
     },
     "metadata": {
      "needs_background": "light"
     },
     "output_type": "display_data"
    },
    {
     "data": {
      "image/png": "[encoded data removed]",
      "text/plain": [
       "<Figure size 432x288 with 1 Axes>"
      ]
     },
     "metadata": {
      "needs_background": "light"
     },
     "output_type": "display_data"
    },
    {
     "data": {
      "image/png": "[encoded data removed]",
      "text/plain": [
       "<Figure size 432x288 with 1 Axes>"
      ]
     },
     "metadata": {
      "needs_background": "light"
     },
     "output_type": "display_data"
    },
    {
     "data": {
      "image/png": "[encoded data removed]",
      "text/plain": [
       "<Figure size 432x288 with 1 Axes>"
      ]
     },
     "metadata": {
      "needs_background": "light"
     },
     "output_type": "display_data"
    }
   ],
   "source": [
    "'''\n",
    "Signal Analysis\n",
    "'''\n",
    "analyze_signal(outputs)"
   ]
  },
  {
   "cell_type": "markdown",
   "id": "56a37b7c",
   "metadata": {
    "papermill": {
     "duration": 0.077174,
     "end_time": "2022-06-23T11:40:23.767047",
     "exception": false,
     "start_time": "2022-06-23T11:40:23.689873",
     "status": "completed"
    },
    "tags": []
   },
   "source": [
    "# Debug"
   ]
  },
  {
   "cell_type": "code",
   "execution_count": null,
   "id": "ac08e5cc",
   "metadata": {
    "papermill": {
     "duration": 0.077434,
     "end_time": "2022-06-23T11:40:23.922364",
     "exception": false,
     "start_time": "2022-06-23T11:40:23.844930",
     "status": "completed"
    },
    "tags": []
   },
   "outputs": [],
   "source": []
  },
  {
   "cell_type": "code",
   "execution_count": null,
   "id": "eadf280e",
   "metadata": {
    "papermill": {
     "duration": 0.076913,
     "end_time": "2022-06-23T11:40:24.078013",
     "exception": false,
     "start_time": "2022-06-23T11:40:24.001100",
     "status": "completed"
    },
    "tags": []
   },
   "outputs": [],
   "source": []
  },
  {
   "cell_type": "code",
   "execution_count": null,
   "id": "0c34c8d4",
   "metadata": {
    "papermill": {
     "duration": 0.077953,
     "end_time": "2022-06-23T11:40:24.233398",
     "exception": false,
     "start_time": "2022-06-23T11:40:24.155445",
     "status": "completed"
    },
    "tags": []
   },
   "outputs": [],
   "source": []
  }
 ],
 "metadata": {
  "kernelspec": {
   "display_name": "Python 3",
   "language": "python",
   "name": "python3"
  },
  "language_info": {
   "codemirror_mode": {
    "name": "ipython",
    "version": 3
   },
   "file_extension": ".py",
   "mimetype": "text/x-python",
   "name": "python",
   "nbconvert_exporter": "python",
   "pygments_lexer": "ipython3",
   "version": "3.7.12"
  },
  "papermill": {
   "default_parameters": {},
   "duration": 29708.975418,
   "end_time": "2022-06-23T11:40:27.462676",
   "environment_variables": {},
   "exception": null,
   "input_path": "__notebook__.ipynb",
   "output_path": "__notebook__.ipynb",
   "parameters": {},
   "start_time": "2022-06-23T03:25:18.487258",
   "version": "2.3.3"
  }
 },
 "nbformat": 4,
 "nbformat_minor": 5
}
